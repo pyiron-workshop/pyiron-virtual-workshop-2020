{
 "cells": [
  {
   "cell_type": "markdown",
   "metadata": {},
   "source": [
    "# Exercise 1: Introduction to pyiron"
   ]
  },
  {
   "cell_type": "markdown",
   "metadata": {},
   "source": [
    "## Imports and and working with projects"
   ]
  },
  {
   "cell_type": "code",
   "execution_count": 1,
   "metadata": {
    "ExecuteTime": {
     "end_time": "2020-02-21T12:39:35.662902Z",
     "start_time": "2020-02-21T12:39:35.422425Z"
    }
   },
   "outputs": [],
   "source": [
    "import numpy as np\n",
    "import matplotlib.pylab as plt\n",
    "import pandas as pd"
   ]
  },
  {
   "cell_type": "code",
   "execution_count": 2,
   "metadata": {
    "ExecuteTime": {
     "end_time": "2020-02-21T12:39:46.781567Z",
     "start_time": "2020-02-21T12:39:44.865270Z"
    }
   },
   "outputs": [],
   "source": [
    "from pyiron import Project"
   ]
  },
  {
   "cell_type": "code",
   "execution_count": 16,
   "metadata": {
    "ExecuteTime": {
     "end_time": "2020-02-21T13:05:38.491431Z",
     "start_time": "2020-02-21T13:05:37.339476Z"
    }
   },
   "outputs": [],
   "source": [
    "pr = Project(\"demo\")\n",
    "\n",
    "# To delete all jobs and start from scratch, uncomment the next line\n",
    "#pr.remove_jobs(recursive=True)"
   ]
  },
  {
   "cell_type": "markdown",
   "metadata": {},
   "source": [
    "## Creating and manipulating structures"
   ]
  },
  {
   "cell_type": "code",
   "execution_count": 18,
   "metadata": {
    "ExecuteTime": {
     "end_time": "2020-02-21T13:05:43.326193Z",
     "start_time": "2020-02-21T13:05:43.205610Z"
    }
   },
   "outputs": [
    {
     "data": {
      "application/vnd.jupyter.widget-view+json": {
       "model_id": "5d307a67a4d840d3bc9595cf76b3da0b",
       "version_major": 2,
       "version_minor": 0
      },
      "text/plain": [
       "NGLWidget()"
      ]
     },
     "metadata": {},
     "output_type": "display_data"
    }
   ],
   "source": [
    "# atomistic structures\n",
    "Al_struct = pr.create_ase_bulk(\"Al\", cubic=True).repeat([2, 2, 4])\n",
    "Al_struct.plot3d()"
   ]
  },
  {
   "cell_type": "code",
   "execution_count": 19,
   "metadata": {},
   "outputs": [
    {
     "data": {
      "application/vnd.jupyter.widget-view+json": {
       "model_id": "2713bb2cf36d4d1b80fdbbc3f3567d21",
       "version_major": 2,
       "version_minor": 0
      },
      "text/plain": [
       "NGLWidget()"
      ]
     },
     "metadata": {},
     "output_type": "display_data"
    }
   ],
   "source": [
    "Al_struct[36] = \"Cu\"\n",
    "Al_struct.plot3d(particle_size=3)"
   ]
  },
  {
   "cell_type": "code",
   "execution_count": 20,
   "metadata": {},
   "outputs": [
    {
     "data": {
      "application/vnd.jupyter.widget-view+json": {
       "model_id": "212f490984af47858b1b532c0b5dac6c",
       "version_major": 2,
       "version_minor": 0
      },
      "text/plain": [
       "NGLWidget()"
      ]
     },
     "metadata": {},
     "output_type": "display_data"
    }
   ],
   "source": [
    "del Al_struct[17]\n",
    "Al_struct.plot3d(particle_size=3)"
   ]
  },
  {
   "cell_type": "markdown",
   "metadata": {},
   "source": [
    "### Creating bulk water consisting of several water molecules"
   ]
  },
  {
   "cell_type": "code",
   "execution_count": 21,
   "metadata": {},
   "outputs": [
    {
     "data": {
      "application/vnd.jupyter.widget-view+json": {
       "model_id": "b294c834e0f54d66a585e2d407809948",
       "version_major": 2,
       "version_minor": 0
      },
      "text/plain": [
       "NGLWidget()"
      ]
     },
     "metadata": {},
     "output_type": "display_data"
    }
   ],
   "source": [
    "cell = np.eye(3) * 10\n",
    "r_O = [0, 0, 0]\n",
    "r_H1 = [0.0, 0.7, 0.7]\n",
    "r_H2 = [0.0, 0.7, -0.7]\n",
    "water_molecule = pr.create_atoms(\"H2O\", positions=[r_H1, r_H2, r_O], cell=cell)\n",
    "water_molecule.center()\n",
    "water_molecule.set_cell(water_molecule.cell * water_molecule.get_density() ** (1/3), scale_atoms=False)\n",
    "water_molecule.get_density()\n",
    "water_box = water_molecule.repeat(3)\n",
    "water_box.center_coordinates_in_unit_cell()\n",
    "water_box.plot3d(spacefill=False)"
   ]
  },
  {
   "cell_type": "markdown",
   "metadata": {},
   "source": [
    "### Creating an Al supercell with interstitial H"
   ]
  },
  {
   "cell_type": "markdown",
   "metadata": {},
   "source": [
    "#### Create Al sublattice"
   ]
  },
  {
   "cell_type": "code",
   "execution_count": 22,
   "metadata": {},
   "outputs": [],
   "source": [
    "Al_struct = pr.create_ase_bulk(\"Al\", cubic=True)"
   ]
  },
  {
   "cell_type": "markdown",
   "metadata": {},
   "source": [
    "#### Create H interstitial sublattice"
   ]
  },
  {
   "cell_type": "code",
   "execution_count": 23,
   "metadata": {},
   "outputs": [],
   "source": [
    "H_int = Al_struct.copy()\n",
    "H_int[:] = \"H\"\n",
    "H_int.scaled_positions += 0.5"
   ]
  },
  {
   "cell_type": "markdown",
   "metadata": {},
   "source": [
    "#### Create a 2x2x4 supercell for both lattices"
   ]
  },
  {
   "cell_type": "code",
   "execution_count": 24,
   "metadata": {},
   "outputs": [],
   "source": [
    "Al_struct.set_repeat([2, 2, 4])\n",
    "H_int.set_repeat([2, 2, 4])"
   ]
  },
  {
   "cell_type": "markdown",
   "metadata": {},
   "source": [
    "#### Occupy the H sublattice randomly with 10 H atoms "
   ]
  },
  {
   "cell_type": "code",
   "execution_count": 25,
   "metadata": {},
   "outputs": [],
   "source": [
    "rand_int = np.arange(0, len(H_int))\n",
    "np.random.shuffle(rand_int)\n",
    "H_int = H_int[rand_int[:10]]"
   ]
  },
  {
   "cell_type": "markdown",
   "metadata": {},
   "source": [
    "#### Combine Al and H sublattice in same supercell"
   ]
  },
  {
   "cell_type": "code",
   "execution_count": 26,
   "metadata": {},
   "outputs": [
    {
     "data": {
      "application/vnd.jupyter.widget-view+json": {
       "model_id": "f502f389758b44dd8620a23682fda87e",
       "version_major": 2,
       "version_minor": 0
      },
      "text/plain": [
       "NGLWidget()"
      ]
     },
     "metadata": {},
     "output_type": "display_data"
    }
   ],
   "source": [
    "AlH_struct = Al_struct + H_int\n",
    "AlH_struct.plot3d(particle_size=3)"
   ]
  },
  {
   "cell_type": "markdown",
   "metadata": {},
   "source": [
    "## Perform a MD simulation of the AlH supercell using LAMMPS"
   ]
  },
  {
   "cell_type": "markdown",
   "metadata": {},
   "source": [
    "### Setup the Lammps calculation"
   ]
  },
  {
   "cell_type": "code",
   "execution_count": 38,
   "metadata": {},
   "outputs": [
    {
     "name": "stdout",
     "output_type": "stream",
     "text": [
      "['Al_H_Ni_Angelo_eam', '1995--Angelo-J-E--Ni-Al-H--LAMMPS--ipr1', '2018--Zhou-X-W--Al-Cu-H--LAMMPS--ipr1', 'EAM_Dynamo_AngeloMoodyBaskes_1995_NiAlH__MO_418978237058_005']\n"
     ]
    }
   ],
   "source": [
    "job_lammps = pr.create_job(job_type=pr.job_type.Lammps, job_name= \"AlH_lammps\")\n",
    "job_lammps.structure = AlH_struct\n",
    "print(job_lammps.list_potentials())\n",
    "job_lammps.potential =  'Al_H_Ni_Angelo_eam'\n",
    "job_lammps.calc_md(temperature=600, n_ionic_steps=10000)"
   ]
  },
  {
   "cell_type": "code",
   "execution_count": 39,
   "metadata": {},
   "outputs": [
    {
     "name": "stdout",
     "output_type": "stream",
     "text": [
      "The job AlH_lammps was saved and received the ID: 2\n"
     ]
    }
   ],
   "source": [
    "job_lammps.run()"
   ]
  },
  {
   "cell_type": "markdown",
   "metadata": {},
   "source": [
    "### Animate MD trajectories"
   ]
  },
  {
   "cell_type": "code",
   "execution_count": 92,
   "metadata": {},
   "outputs": [
    {
     "data": {
      "application/vnd.jupyter.widget-view+json": {
       "model_id": "cd1ce992572f449ba561a5a9406308b4",
       "version_major": 2,
       "version_minor": 0
      },
      "text/plain": [
       "NGLWidget(max_frame=100)"
      ]
     },
     "metadata": {},
     "output_type": "display_data"
    }
   ],
   "source": [
    "job_lammps.animate_structure(particle_size=1)"
   ]
  },
  {
   "cell_type": "markdown",
   "metadata": {},
   "source": [
    "### Analyze trajectories in more detail"
   ]
  },
  {
   "cell_type": "code",
   "execution_count": 41,
   "metadata": {},
   "outputs": [
    {
     "data": {
      "text/plain": [
       "array([64, 65, 66, 67, 68, 69, 70, 71, 72, 73])"
      ]
     },
     "execution_count": 41,
     "metadata": {},
     "output_type": "execute_result"
    }
   ],
   "source": [
    "H_indices = AlH_struct.select_index(\"H\")\n",
    "Al_indices = AlH_struct.select_index(\"Al\")\n",
    "H_indices"
   ]
  },
  {
   "cell_type": "markdown",
   "metadata": {},
   "source": [
    "#### Plot Al trajectories in grey, H ones in red"
   ]
  },
  {
   "cell_type": "code",
   "execution_count": 42,
   "metadata": {},
   "outputs": [
    {
     "data": {
      "image/png": "[encoded data removed]",
      "text/plain": [
       "<Figure size 432x288 with 1 Axes>"
      ]
     },
     "metadata": {
      "needs_background": "light"
     },
     "output_type": "display_data"
    }
   ],
   "source": [
    "plt.plot(job_lammps.output.unwrapped_positions[:, :, 2], color=\"grey\")\n",
    "plt.plot(job_lammps.output.unwrapped_positions[:, H_indices, 2], color=\"red\")\n",
    "plt.xlabel(\"time [fs]\")\n",
    "plt.ylabel(\"positions [$\\AA$]\");"
   ]
  },
  {
   "cell_type": "markdown",
   "metadata": {},
   "source": [
    "### Visualize the last MD configuration"
   ]
  },
  {
   "cell_type": "code",
   "execution_count": 43,
   "metadata": {},
   "outputs": [
    {
     "data": {
      "application/vnd.jupyter.widget-view+json": {
       "model_id": "ea454a779e19480a9392154c0f18067a",
       "version_major": 2,
       "version_minor": 0
      },
      "text/plain": [
       "NGLWidget()"
      ]
     },
     "metadata": {},
     "output_type": "display_data"
    }
   ],
   "source": [
    "md_struct = job_lammps.get_structure(iteration_step=-1)\n",
    "md_struct.plot3d(particle_size=2)"
   ]
  },
  {
   "cell_type": "markdown",
   "metadata": {},
   "source": [
    "### Take the last configuration and perform structure relaxation (including cell relaxation - pressure=0)"
   ]
  },
  {
   "cell_type": "code",
   "execution_count": 44,
   "metadata": {},
   "outputs": [],
   "source": [
    "job_lammps_minimize = pr.create_job(pr.job_type.Lammps, \"AlH_minimize\")\n",
    "job_lammps_minimize.structure = md_struct"
   ]
  },
  {
   "cell_type": "code",
   "execution_count": 45,
   "metadata": {},
   "outputs": [],
   "source": [
    "job_lammps_minimize.potential = job_lammps.potential.copy() # this looks not so nice, could we take a copy of job_lammps?"
   ]
  },
  {
   "cell_type": "code",
   "execution_count": 46,
   "metadata": {},
   "outputs": [
    {
     "name": "stdout",
     "output_type": "stream",
     "text": [
      "The job AlH_minimize was saved and received the ID: 3\n"
     ]
    }
   ],
   "source": [
    "job_lammps_minimize.calc_minimize(pressure=0)\n",
    "job_lammps_minimize.run()"
   ]
  },
  {
   "cell_type": "code",
   "execution_count": 47,
   "metadata": {},
   "outputs": [
    {
     "data": {
      "image/png": "[encoded data removed]",
      "text/plain": [
       "<Figure size 432x288 with 1 Axes>"
      ]
     },
     "metadata": {
      "needs_background": "light"
     },
     "output_type": "display_data"
    }
   ],
   "source": [
    "plt.plot(job_lammps_minimize.output.volume)\n",
    "plt.title('Volume vs iteration')\n",
    "plt.ylabel('Volume [$A^3$]');"
   ]
  },
  {
   "cell_type": "code",
   "execution_count": 48,
   "metadata": {},
   "outputs": [
    {
     "data": {
      "application/vnd.jupyter.widget-view+json": {
       "model_id": "7e029b1207f64c8bbfc7201cd9fb638f",
       "version_major": 2,
       "version_minor": 0
      },
      "text/plain": [
       "NGLWidget(max_frame=80)"
      ]
     },
     "metadata": {},
     "output_type": "display_data"
    }
   ],
   "source": [
    "job_lammps_minimize.animate_structure(particle_size=1)"
   ]
  },
  {
   "cell_type": "code",
   "execution_count": 49,
   "metadata": {},
   "outputs": [
    {
     "data": {
      "application/vnd.jupyter.widget-view+json": {
       "model_id": "6bae76b823974b2baa2f3fbc23aec5a8",
       "version_major": 2,
       "version_minor": 0
      },
      "text/plain": [
       "NGLWidget()"
      ]
     },
     "metadata": {},
     "output_type": "display_data"
    }
   ],
   "source": [
    "job_lammps_minimize.get_structure(-1).plot3d(particle_size=2)"
   ]
  },
  {
   "cell_type": "markdown",
   "metadata": {},
   "source": [
    "## Analysis"
   ]
  },
  {
   "cell_type": "markdown",
   "metadata": {},
   "source": [
    "### Plot Al-Al and H-H pair correlation function of the last MD structure\n",
    "\n",
    "This is done using the `get_neighbors()` function"
   ]
  },
  {
   "cell_type": "code",
   "execution_count": 50,
   "metadata": {},
   "outputs": [
    {
     "data": {
      "image/png": "[encoded data removed]",
      "text/plain": [
       "<Figure size 432x288 with 1 Axes>"
      ]
     },
     "metadata": {
      "needs_background": "light"
     },
     "output_type": "display_data"
    }
   ],
   "source": [
    "neighbors_md = md_struct[Al_indices].get_neighbors(num_neighbors=100)\n",
    "plt.hist(neighbors_md.distances.flatten(), bins=50, alpha=0.3, density=True, label=\"Al-Al\")\n",
    "neighbors_md = md_struct[H_indices].get_neighbors(num_neighbors=100)\n",
    "plt.hist(neighbors_md.distances.flatten(), bins=50, alpha=0.3, density=True, label=\"H-H\")\n",
    "plt.xlabel('distance [A]')\n",
    "plt.legend();"
   ]
  },
  {
   "cell_type": "markdown",
   "metadata": {},
   "source": [
    "### Plot Al-Al and H-H pair correlation function after structure and cell relaxation "
   ]
  },
  {
   "cell_type": "code",
   "execution_count": 51,
   "metadata": {},
   "outputs": [
    {
     "data": {
      "image/png": "[encoded data removed]",
      "text/plain": [
       "<Figure size 432x288 with 1 Axes>"
      ]
     },
     "metadata": {
      "needs_background": "light"
     },
     "output_type": "display_data"
    }
   ],
   "source": [
    "min_struct = job_lammps_minimize.get_structure(-1)\n",
    "neighbors_min = min_struct[Al_indices].get_neighbors(num_neighbors=100)\n",
    "plt.hist(neighbors_min.distances.flatten(), bins=50, alpha=0.3, density=True, label=\"Al-Al\")\n",
    "neighbors_min = min_struct[H_indices].get_neighbors(num_neighbors=100)\n",
    "plt.hist(neighbors_min.distances.flatten(), bins=50, alpha=0.3, density=True, label=\"H-H\")\n",
    "plt.xlabel('distance [A]')\n",
    "plt.legend();"
   ]
  },
  {
   "cell_type": "markdown",
   "metadata": {},
   "source": [
    "### Compare Al-Al pair correlation before and after relaxation"
   ]
  },
  {
   "cell_type": "code",
   "execution_count": 52,
   "metadata": {},
   "outputs": [
    {
     "data": {
      "image/png": "[encoded data removed]",
      "text/plain": [
       "<Figure size 432x288 with 1 Axes>"
      ]
     },
     "metadata": {
      "needs_background": "light"
     },
     "output_type": "display_data"
    }
   ],
   "source": [
    "neighbors_min = min_struct[Al_indices].get_neighbors(num_neighbors=100)\n",
    "plt.hist(neighbors_min.distances.flatten(), bins=50, alpha=0.3, density=True, label=\"Al-Al min\")\n",
    "neighbors_md = md_struct[Al_indices].get_neighbors(num_neighbors=100)\n",
    "plt.hist(neighbors_md.distances.flatten(), bins=50, alpha=0.3, density=True, label=\"Al-Al md\")\n",
    "plt.legend();"
   ]
  },
  {
   "cell_type": "markdown",
   "metadata": {},
   "source": [
    "### Utility functions"
   ]
  },
  {
   "cell_type": "code",
   "execution_count": 53,
   "metadata": {},
   "outputs": [
    {
     "data": {
      "text/html": [
       "<div>\n",
       "<style scoped>\n",
       "    .dataframe tbody tr th:only-of-type {\n",
       "        vertical-align: middle;\n",
       "    }\n",
       "\n",
       "    .dataframe tbody tr th {\n",
       "        vertical-align: top;\n",
       "    }\n",
       "\n",
       "    .dataframe thead th {\n",
       "        text-align: right;\n",
       "    }\n",
       "</style>\n",
       "<table border=\"1\" class=\"dataframe\">\n",
       "  <thead>\n",
       "    <tr style=\"text-align: right;\">\n",
       "      <th></th>\n",
       "      <th>id</th>\n",
       "      <th>status</th>\n",
       "      <th>chemicalformula</th>\n",
       "      <th>job</th>\n",
       "      <th>subjob</th>\n",
       "      <th>projectpath</th>\n",
       "      <th>project</th>\n",
       "      <th>timestart</th>\n",
       "      <th>timestop</th>\n",
       "      <th>totalcputime</th>\n",
       "      <th>computer</th>\n",
       "      <th>hamilton</th>\n",
       "      <th>hamversion</th>\n",
       "      <th>parentid</th>\n",
       "      <th>masterid</th>\n",
       "    </tr>\n",
       "  </thead>\n",
       "  <tbody>\n",
       "    <tr>\n",
       "      <th>0</th>\n",
       "      <td>2</td>\n",
       "      <td>finished</td>\n",
       "      <td>Al64H10</td>\n",
       "      <td>AlH_lammps</td>\n",
       "      <td>/AlH_lammps</td>\n",
       "      <td>/home/ponder/</td>\n",
       "      <td>science/phd/dev/pyiron-virtual-workshop-2020/tutorials/demo/</td>\n",
       "      <td>2020-05-06 18:14:44.557933</td>\n",
       "      <td>2020-05-06 18:14:46.379427</td>\n",
       "      <td>1.0</td>\n",
       "      <td>pyiron@susan#1</td>\n",
       "      <td>Lammps</td>\n",
       "      <td>0.1</td>\n",
       "      <td>None</td>\n",
       "      <td>None</td>\n",
       "    </tr>\n",
       "    <tr>\n",
       "      <th>1</th>\n",
       "      <td>3</td>\n",
       "      <td>finished</td>\n",
       "      <td>Al64H10</td>\n",
       "      <td>AlH_minimize</td>\n",
       "      <td>/AlH_minimize</td>\n",
       "      <td>/home/ponder/</td>\n",
       "      <td>science/phd/dev/pyiron-virtual-workshop-2020/tutorials/demo/</td>\n",
       "      <td>2020-05-06 18:14:59.097837</td>\n",
       "      <td>2020-05-06 18:15:00.715923</td>\n",
       "      <td>1.0</td>\n",
       "      <td>pyiron@susan#1</td>\n",
       "      <td>Lammps</td>\n",
       "      <td>0.1</td>\n",
       "      <td>None</td>\n",
       "      <td>None</td>\n",
       "    </tr>\n",
       "  </tbody>\n",
       "</table>\n",
       "</div>"
      ],
      "text/plain": [
       "   id    status chemicalformula           job         subjob    projectpath  \\\n",
       "0   2  finished         Al64H10    AlH_lammps    /AlH_lammps  /home/ponder/   \n",
       "1   3  finished         Al64H10  AlH_minimize  /AlH_minimize  /home/ponder/   \n",
       "\n",
       "                                                        project  \\\n",
       "0  science/phd/dev/pyiron-virtual-workshop-2020/tutorials/demo/   \n",
       "1  science/phd/dev/pyiron-virtual-workshop-2020/tutorials/demo/   \n",
       "\n",
       "                   timestart                   timestop  totalcputime  \\\n",
       "0 2020-05-06 18:14:44.557933 2020-05-06 18:14:46.379427           1.0   \n",
       "1 2020-05-06 18:14:59.097837 2020-05-06 18:15:00.715923           1.0   \n",
       "\n",
       "         computer hamilton hamversion parentid masterid  \n",
       "0  pyiron@susan#1   Lammps        0.1     None     None  \n",
       "1  pyiron@susan#1   Lammps        0.1     None     None  "
      ]
     },
     "execution_count": 53,
     "metadata": {},
     "output_type": "execute_result"
    }
   ],
   "source": [
    "pr.job_table()"
   ]
  },
  {
   "cell_type": "code",
   "execution_count": 54,
   "metadata": {},
   "outputs": [],
   "source": [
    "job_md_reloaded = pr.load(\"AlH_lammps\")"
   ]
  },
  {
   "cell_type": "code",
   "execution_count": 55,
   "metadata": {},
   "outputs": [],
   "source": [
    "job_min_reloaded = pr.load(\"AlH_minimize\")"
   ]
  },
  {
   "cell_type": "code",
   "execution_count": 59,
   "metadata": {},
   "outputs": [
    {
     "data": {
      "text/plain": [
       "pyiron.lammps.lammps.Lammps"
      ]
     },
     "execution_count": 59,
     "metadata": {},
     "output_type": "execute_result"
    }
   ],
   "source": [
    "type(job_min_reloaded)"
   ]
  },
  {
   "cell_type": "code",
   "execution_count": 60,
   "metadata": {},
   "outputs": [
    {
     "data": {
      "text/plain": [
       "{'groups': [], 'nodes': ['AlH_lammps', 'AlH_minimize']}"
      ]
     },
     "execution_count": 60,
     "metadata": {},
     "output_type": "execute_result"
    }
   ],
   "source": [
    "pr"
   ]
  },
  {
   "cell_type": "code",
   "execution_count": 61,
   "metadata": {},
   "outputs": [
    {
     "data": {
      "text/plain": [
       "{'groups': ['input', 'output'], 'nodes': ['NAME', 'TYPE', 'VERSION', 'server', 'status']}"
      ]
     },
     "execution_count": 61,
     "metadata": {},
     "output_type": "execute_result"
    }
   ],
   "source": [
    "pr[\"AlH_lammps\"]"
   ]
  },
  {
   "cell_type": "code",
   "execution_count": 62,
   "metadata": {},
   "outputs": [
    {
     "data": {
      "text/plain": [
       "{'groups': ['control_inp', 'generic', 'potential', 'potential_inp', 'structure'], 'nodes': ['generic_dict', 'interactive']}"
      ]
     },
     "execution_count": 62,
     "metadata": {},
     "output_type": "execute_result"
    }
   ],
   "source": [
    "pr[\"AlH_lammps/input\"]"
   ]
  },
  {
   "cell_type": "code",
   "execution_count": 63,
   "metadata": {},
   "outputs": [
    {
     "data": {
      "text/plain": [
       "((101, 74, 3), (101,))"
      ]
     },
     "execution_count": 63,
     "metadata": {},
     "output_type": "execute_result"
    }
   ],
   "source": [
    "pr[\"AlH_lammps/output/generic/forces\"].shape,  pr[\"AlH_lammps/output/generic/energy_tot\"].shape"
   ]
  },
  {
   "cell_type": "markdown",
   "metadata": {},
   "source": [
    "## Energy volume curves for Al"
   ]
  },
  {
   "cell_type": "markdown",
   "metadata": {},
   "source": [
    "### Manual setup and analysys"
   ]
  },
  {
   "cell_type": "code",
   "execution_count": 64,
   "metadata": {},
   "outputs": [],
   "source": [
    "pr = Project(\"demo/Al_murnaghan_manual\")"
   ]
  },
  {
   "cell_type": "code",
   "execution_count": 65,
   "metadata": {},
   "outputs": [
    {
     "name": "stdout",
     "output_type": "stream",
     "text": [
      "The job Al_a_3_9 was saved and received the ID: 4\n",
      "The job Al_a_3_92 was saved and received the ID: 5\n",
      "The job Al_a_3_94 was saved and received the ID: 6\n",
      "The job Al_a_3_96 was saved and received the ID: 7\n",
      "The job Al_a_3_98 was saved and received the ID: 8\n",
      "The job Al_a_4_0 was saved and received the ID: 9\n",
      "The job Al_a_4_02 was saved and received the ID: 10\n",
      "The job Al_a_4_04 was saved and received the ID: 11\n",
      "The job Al_a_4_06 was saved and received the ID: 12\n",
      "The job Al_a_4_08 was saved and received the ID: 13\n",
      "The job Al_a_4_1 was saved and received the ID: 14\n"
     ]
    }
   ],
   "source": [
    "a_list = np.linspace(3.9, 4.1, 11)\n",
    "for a in a_list:\n",
    "    job_name = \"Al_a_{}\".format(a).replace(\".\", \"_\")\n",
    "    job = pr.create_job(pr.job_type.Lammps, job_name)\n",
    "    job.structure = pr.create_ase_bulk(\"Al\", a=a, cubic=True)\n",
    "    job.potential = 'Al_H_Ni_Angelo_eam'\n",
    "    job.calc_minimize()\n",
    "    job.run()"
   ]
  },
  {
   "cell_type": "code",
   "execution_count": 68,
   "metadata": {},
   "outputs": [],
   "source": [
    "pr.job_table();"
   ]
  },
  {
   "cell_type": "markdown",
   "metadata": {},
   "source": [
    "### Analysis: Loading vs inspecting jobs\n",
    "\n",
    "The data from these calculations are retreived either by loading each of these jobs or by inspecting them (from their hdf5 files)."
   ]
  },
  {
   "cell_type": "code",
   "execution_count": 71,
   "metadata": {},
   "outputs": [
    {
     "data": {
      "text/plain": [
       "(array([-13.21258266, -13.21258266]),\n",
       " array([-13.21258266, -13.21258266]),\n",
       " pyiron.lammps.lammps.Lammps)"
      ]
     },
     "execution_count": 71,
     "metadata": {},
     "output_type": "execute_result"
    }
   ],
   "source": [
    "job_loaded = pr.load(\"Al_a_3_9\")\n",
    "struct = job_loaded.get_structure()\n",
    "job_loaded.output.energy_tot, job_loaded[\"output/generic/energy_tot\"], type(job_loaded)"
   ]
  },
  {
   "cell_type": "code",
   "execution_count": 72,
   "metadata": {},
   "outputs": [
    {
     "data": {
      "text/plain": [
       "(array([-13.21258266, -13.21258266]), pyiron.base.job.path.JobPath)"
      ]
     },
     "execution_count": 72,
     "metadata": {},
     "output_type": "execute_result"
    }
   ],
   "source": [
    "job_inspect = pr.inspect(\"Al_a_3_9\")\n",
    "job_loaded[\"output/generic/energy_tot\"], type(job_inspect)"
   ]
  },
  {
   "cell_type": "markdown",
   "metadata": {},
   "source": [
    "So why use the inspect mode if recreating the object gives access to all it's pyiron functions? The inspect mode is actually much faster if you only want to access certain values without recreating the entire job object."
   ]
  },
  {
   "cell_type": "code",
   "execution_count": 73,
   "metadata": {},
   "outputs": [
    {
     "name": "stdout",
     "output_type": "stream",
     "text": [
      "CPU times: user 97.3 ms, sys: 0 ns, total: 97.3 ms\n",
      "Wall time: 96.2 ms\n"
     ]
    },
    {
     "data": {
      "text/plain": [
       "pyiron.base.job.path.JobPath"
      ]
     },
     "execution_count": 73,
     "metadata": {},
     "output_type": "execute_result"
    },
    {
     "data": {
      "image/png": "[encoded data removed]",
      "text/plain": [
       "<Figure size 432x288 with 1 Axes>"
      ]
     },
     "metadata": {
      "needs_background": "light"
     },
     "output_type": "display_data"
    }
   ],
   "source": [
    "%%time\n",
    "convert_to_object = False # True to load the job\n",
    "vol_list = list()\n",
    "energy_list = list()\n",
    "# Set recursive=False to only go over the higher levels and not return jobs from subprojects\n",
    "for job in pr.iter_jobs(convert_to_object=convert_to_object, recursive=False):\n",
    "    if job.status == \"finished\":\n",
    "        vol_list.append(job[\"output/generic/volume\"][-1])\n",
    "        energy_list.append(job[\"output/generic/energy_tot\"][-1])\n",
    "plt.plot(vol_list, energy_list, \"-x\")\n",
    "type(job)"
   ]
  },
  {
   "cell_type": "markdown",
   "metadata": {},
   "source": [
    "## Energy-Volume curves using predefined modules\n",
    "\n",
    "We will now use the predefined Murnaghan module to compute equilibrium T=0K properties "
   ]
  },
  {
   "cell_type": "code",
   "execution_count": 74,
   "metadata": {},
   "outputs": [],
   "source": [
    "pr = Project(\"demo/murnaghan_automatic\")"
   ]
  },
  {
   "cell_type": "markdown",
   "metadata": {},
   "source": [
    "### Setup of the Murnaghan job and a reference calculation for the parameters"
   ]
  },
  {
   "cell_type": "code",
   "execution_count": 75,
   "metadata": {},
   "outputs": [],
   "source": [
    "# Initialize the Murnaghan \"job\"\n",
    "murn = pr.create_job(pr.job_type.Murnaghan, \"murn_test\")\n",
    "# Create a reference job which contains all simulation parameters\n",
    "job_ref = pr.create_job(pr.job_type.Lammps, \"Al_ref\")\n",
    "job_ref.structure = pr.create_ase_bulk(\"Al\", cubic=True)\n",
    "job_ref.potential = 'Al_H_Ni_Angelo_eam'\n",
    "job_ref.calc_minimize()\n",
    "murn.ref_job = job_ref"
   ]
  },
  {
   "cell_type": "markdown",
   "metadata": {},
   "source": [
    "The Murnaghan job creates individual LAMMPS calculations with a strained unitcell"
   ]
  },
  {
   "cell_type": "code",
   "execution_count": 76,
   "metadata": {},
   "outputs": [
    {
     "name": "stdout",
     "output_type": "stream",
     "text": [
      "The job murn_test was saved and received the ID: 15\n",
      "The job strain_0_9 was saved and received the ID: 16\n",
      "The job strain_0_92 was saved and received the ID: 17\n",
      "The job strain_0_94 was saved and received the ID: 18\n",
      "The job strain_0_96 was saved and received the ID: 19\n",
      "The job strain_0_98 was saved and received the ID: 20\n",
      "The job strain_1_0 was saved and received the ID: 21\n",
      "The job strain_1_02 was saved and received the ID: 22\n",
      "The job strain_1_04 was saved and received the ID: 23\n",
      "The job strain_1_06 was saved and received the ID: 24\n",
      "The job strain_1_08 was saved and received the ID: 25\n",
      "The job strain_1_1 was saved and received the ID: 26\n",
      "job_id:  16 finished\n",
      "job_id:  17 finished\n",
      "job_id:  18 finished\n",
      "job_id:  19 finished\n",
      "job_id:  20 finished\n",
      "job_id:  21 finished\n",
      "job_id:  22 finished\n",
      "job_id:  23 finished\n",
      "job_id:  24 finished\n",
      "job_id:  25 finished\n",
      "job_id:  26 finished\n"
     ]
    }
   ],
   "source": [
    "murn.run()"
   ]
  },
  {
   "cell_type": "code",
   "execution_count": 77,
   "metadata": {},
   "outputs": [
    {
     "data": {
      "text/html": [
       "<div>\n",
       "<style scoped>\n",
       "    .dataframe tbody tr th:only-of-type {\n",
       "        vertical-align: middle;\n",
       "    }\n",
       "\n",
       "    .dataframe tbody tr th {\n",
       "        vertical-align: top;\n",
       "    }\n",
       "\n",
       "    .dataframe thead th {\n",
       "        text-align: right;\n",
       "    }\n",
       "</style>\n",
       "<table border=\"1\" class=\"dataframe\">\n",
       "  <thead>\n",
       "    <tr style=\"text-align: right;\">\n",
       "      <th></th>\n",
       "      <th>id</th>\n",
       "      <th>status</th>\n",
       "      <th>chemicalformula</th>\n",
       "      <th>job</th>\n",
       "      <th>subjob</th>\n",
       "      <th>projectpath</th>\n",
       "      <th>project</th>\n",
       "      <th>timestart</th>\n",
       "      <th>timestop</th>\n",
       "      <th>totalcputime</th>\n",
       "      <th>computer</th>\n",
       "      <th>hamilton</th>\n",
       "      <th>hamversion</th>\n",
       "      <th>parentid</th>\n",
       "      <th>masterid</th>\n",
       "    </tr>\n",
       "  </thead>\n",
       "  <tbody>\n",
       "    <tr>\n",
       "      <th>0</th>\n",
       "      <td>15</td>\n",
       "      <td>finished</td>\n",
       "      <td>Al4</td>\n",
       "      <td>murn_test</td>\n",
       "      <td>/murn_test</td>\n",
       "      <td>/home/ponder/</td>\n",
       "      <td>science/phd/dev/pyiron-virtual-workshop-2020/tutorials/demo/murnaghan_automatic/</td>\n",
       "      <td>2020-05-06 18:16:27.037360</td>\n",
       "      <td>2020-05-06 18:16:37.802982</td>\n",
       "      <td>10.0</td>\n",
       "      <td>pyiron@susan#1#11/11</td>\n",
       "      <td>Murnaghan</td>\n",
       "      <td>0.3.0</td>\n",
       "      <td>None</td>\n",
       "      <td>NaN</td>\n",
       "    </tr>\n",
       "    <tr>\n",
       "      <th>1</th>\n",
       "      <td>16</td>\n",
       "      <td>finished</td>\n",
       "      <td>Al4</td>\n",
       "      <td>strain_0_9</td>\n",
       "      <td>/strain_0_9</td>\n",
       "      <td>/home/ponder/</td>\n",
       "      <td>science/phd/dev/pyiron-virtual-workshop-2020/tutorials/demo/murnaghan_automatic/murn_test_hdf5/</td>\n",
       "      <td>2020-05-06 18:16:27.545044</td>\n",
       "      <td>2020-05-06 18:16:27.826872</td>\n",
       "      <td>0.0</td>\n",
       "      <td>pyiron@susan#1</td>\n",
       "      <td>Lammps</td>\n",
       "      <td>0.1</td>\n",
       "      <td>None</td>\n",
       "      <td>15.0</td>\n",
       "    </tr>\n",
       "    <tr>\n",
       "      <th>2</th>\n",
       "      <td>17</td>\n",
       "      <td>finished</td>\n",
       "      <td>Al4</td>\n",
       "      <td>strain_0_92</td>\n",
       "      <td>/strain_0_92</td>\n",
       "      <td>/home/ponder/</td>\n",
       "      <td>science/phd/dev/pyiron-virtual-workshop-2020/tutorials/demo/murnaghan_automatic/murn_test_hdf5/</td>\n",
       "      <td>2020-05-06 18:16:28.511040</td>\n",
       "      <td>2020-05-06 18:16:28.851509</td>\n",
       "      <td>0.0</td>\n",
       "      <td>pyiron@susan#1</td>\n",
       "      <td>Lammps</td>\n",
       "      <td>0.1</td>\n",
       "      <td>None</td>\n",
       "      <td>15.0</td>\n",
       "    </tr>\n",
       "    <tr>\n",
       "      <th>3</th>\n",
       "      <td>18</td>\n",
       "      <td>finished</td>\n",
       "      <td>Al4</td>\n",
       "      <td>strain_0_94</td>\n",
       "      <td>/strain_0_94</td>\n",
       "      <td>/home/ponder/</td>\n",
       "      <td>science/phd/dev/pyiron-virtual-workshop-2020/tutorials/demo/murnaghan_automatic/murn_test_hdf5/</td>\n",
       "      <td>2020-05-06 18:16:29.480794</td>\n",
       "      <td>2020-05-06 18:16:29.836048</td>\n",
       "      <td>0.0</td>\n",
       "      <td>pyiron@susan#1</td>\n",
       "      <td>Lammps</td>\n",
       "      <td>0.1</td>\n",
       "      <td>None</td>\n",
       "      <td>15.0</td>\n",
       "    </tr>\n",
       "    <tr>\n",
       "      <th>4</th>\n",
       "      <td>19</td>\n",
       "      <td>finished</td>\n",
       "      <td>Al4</td>\n",
       "      <td>strain_0_96</td>\n",
       "      <td>/strain_0_96</td>\n",
       "      <td>/home/ponder/</td>\n",
       "      <td>science/phd/dev/pyiron-virtual-workshop-2020/tutorials/demo/murnaghan_automatic/murn_test_hdf5/</td>\n",
       "      <td>2020-05-06 18:16:30.465621</td>\n",
       "      <td>2020-05-06 18:16:30.734012</td>\n",
       "      <td>0.0</td>\n",
       "      <td>pyiron@susan#1</td>\n",
       "      <td>Lammps</td>\n",
       "      <td>0.1</td>\n",
       "      <td>None</td>\n",
       "      <td>15.0</td>\n",
       "    </tr>\n",
       "    <tr>\n",
       "      <th>5</th>\n",
       "      <td>20</td>\n",
       "      <td>finished</td>\n",
       "      <td>Al4</td>\n",
       "      <td>strain_0_98</td>\n",
       "      <td>/strain_0_98</td>\n",
       "      <td>/home/ponder/</td>\n",
       "      <td>science/phd/dev/pyiron-virtual-workshop-2020/tutorials/demo/murnaghan_automatic/murn_test_hdf5/</td>\n",
       "      <td>2020-05-06 18:16:31.378802</td>\n",
       "      <td>2020-05-06 18:16:31.709668</td>\n",
       "      <td>0.0</td>\n",
       "      <td>pyiron@susan#1</td>\n",
       "      <td>Lammps</td>\n",
       "      <td>0.1</td>\n",
       "      <td>None</td>\n",
       "      <td>15.0</td>\n",
       "    </tr>\n",
       "    <tr>\n",
       "      <th>6</th>\n",
       "      <td>21</td>\n",
       "      <td>finished</td>\n",
       "      <td>Al4</td>\n",
       "      <td>strain_1_0</td>\n",
       "      <td>/strain_1_0</td>\n",
       "      <td>/home/ponder/</td>\n",
       "      <td>science/phd/dev/pyiron-virtual-workshop-2020/tutorials/demo/murnaghan_automatic/murn_test_hdf5/</td>\n",
       "      <td>2020-05-06 18:16:32.379473</td>\n",
       "      <td>2020-05-06 18:16:32.674597</td>\n",
       "      <td>0.0</td>\n",
       "      <td>pyiron@susan#1</td>\n",
       "      <td>Lammps</td>\n",
       "      <td>0.1</td>\n",
       "      <td>None</td>\n",
       "      <td>15.0</td>\n",
       "    </tr>\n",
       "    <tr>\n",
       "      <th>7</th>\n",
       "      <td>22</td>\n",
       "      <td>finished</td>\n",
       "      <td>Al4</td>\n",
       "      <td>strain_1_02</td>\n",
       "      <td>/strain_1_02</td>\n",
       "      <td>/home/ponder/</td>\n",
       "      <td>science/phd/dev/pyiron-virtual-workshop-2020/tutorials/demo/murnaghan_automatic/murn_test_hdf5/</td>\n",
       "      <td>2020-05-06 18:16:33.267552</td>\n",
       "      <td>2020-05-06 18:16:33.593906</td>\n",
       "      <td>0.0</td>\n",
       "      <td>pyiron@susan#1</td>\n",
       "      <td>Lammps</td>\n",
       "      <td>0.1</td>\n",
       "      <td>None</td>\n",
       "      <td>15.0</td>\n",
       "    </tr>\n",
       "    <tr>\n",
       "      <th>8</th>\n",
       "      <td>23</td>\n",
       "      <td>finished</td>\n",
       "      <td>Al4</td>\n",
       "      <td>strain_1_04</td>\n",
       "      <td>/strain_1_04</td>\n",
       "      <td>/home/ponder/</td>\n",
       "      <td>science/phd/dev/pyiron-virtual-workshop-2020/tutorials/demo/murnaghan_automatic/murn_test_hdf5/</td>\n",
       "      <td>2020-05-06 18:16:34.225857</td>\n",
       "      <td>2020-05-06 18:16:34.607374</td>\n",
       "      <td>0.0</td>\n",
       "      <td>pyiron@susan#1</td>\n",
       "      <td>Lammps</td>\n",
       "      <td>0.1</td>\n",
       "      <td>None</td>\n",
       "      <td>15.0</td>\n",
       "    </tr>\n",
       "    <tr>\n",
       "      <th>9</th>\n",
       "      <td>24</td>\n",
       "      <td>finished</td>\n",
       "      <td>Al4</td>\n",
       "      <td>strain_1_06</td>\n",
       "      <td>/strain_1_06</td>\n",
       "      <td>/home/ponder/</td>\n",
       "      <td>science/phd/dev/pyiron-virtual-workshop-2020/tutorials/demo/murnaghan_automatic/murn_test_hdf5/</td>\n",
       "      <td>2020-05-06 18:16:35.169935</td>\n",
       "      <td>2020-05-06 18:16:35.512139</td>\n",
       "      <td>0.0</td>\n",
       "      <td>pyiron@susan#1</td>\n",
       "      <td>Lammps</td>\n",
       "      <td>0.1</td>\n",
       "      <td>None</td>\n",
       "      <td>15.0</td>\n",
       "    </tr>\n",
       "    <tr>\n",
       "      <th>10</th>\n",
       "      <td>25</td>\n",
       "      <td>finished</td>\n",
       "      <td>Al4</td>\n",
       "      <td>strain_1_08</td>\n",
       "      <td>/strain_1_08</td>\n",
       "      <td>/home/ponder/</td>\n",
       "      <td>science/phd/dev/pyiron-virtual-workshop-2020/tutorials/demo/murnaghan_automatic/murn_test_hdf5/</td>\n",
       "      <td>2020-05-06 18:16:36.157121</td>\n",
       "      <td>2020-05-06 18:16:36.508932</td>\n",
       "      <td>0.0</td>\n",
       "      <td>pyiron@susan#1</td>\n",
       "      <td>Lammps</td>\n",
       "      <td>0.1</td>\n",
       "      <td>None</td>\n",
       "      <td>15.0</td>\n",
       "    </tr>\n",
       "    <tr>\n",
       "      <th>11</th>\n",
       "      <td>26</td>\n",
       "      <td>finished</td>\n",
       "      <td>Al4</td>\n",
       "      <td>strain_1_1</td>\n",
       "      <td>/strain_1_1</td>\n",
       "      <td>/home/ponder/</td>\n",
       "      <td>science/phd/dev/pyiron-virtual-workshop-2020/tutorials/demo/murnaghan_automatic/murn_test_hdf5/</td>\n",
       "      <td>2020-05-06 18:16:37.124710</td>\n",
       "      <td>2020-05-06 18:16:37.450040</td>\n",
       "      <td>0.0</td>\n",
       "      <td>pyiron@susan#1</td>\n",
       "      <td>Lammps</td>\n",
       "      <td>0.1</td>\n",
       "      <td>None</td>\n",
       "      <td>15.0</td>\n",
       "    </tr>\n",
       "  </tbody>\n",
       "</table>\n",
       "</div>"
      ],
      "text/plain": [
       "    id    status chemicalformula          job        subjob    projectpath  \\\n",
       "0   15  finished             Al4    murn_test    /murn_test  /home/ponder/   \n",
       "1   16  finished             Al4   strain_0_9   /strain_0_9  /home/ponder/   \n",
       "2   17  finished             Al4  strain_0_92  /strain_0_92  /home/ponder/   \n",
       "3   18  finished             Al4  strain_0_94  /strain_0_94  /home/ponder/   \n",
       "4   19  finished             Al4  strain_0_96  /strain_0_96  /home/ponder/   \n",
       "5   20  finished             Al4  strain_0_98  /strain_0_98  /home/ponder/   \n",
       "6   21  finished             Al4   strain_1_0   /strain_1_0  /home/ponder/   \n",
       "7   22  finished             Al4  strain_1_02  /strain_1_02  /home/ponder/   \n",
       "8   23  finished             Al4  strain_1_04  /strain_1_04  /home/ponder/   \n",
       "9   24  finished             Al4  strain_1_06  /strain_1_06  /home/ponder/   \n",
       "10  25  finished             Al4  strain_1_08  /strain_1_08  /home/ponder/   \n",
       "11  26  finished             Al4   strain_1_1   /strain_1_1  /home/ponder/   \n",
       "\n",
       "                                                                                            project  \\\n",
       "0                  science/phd/dev/pyiron-virtual-workshop-2020/tutorials/demo/murnaghan_automatic/   \n",
       "1   science/phd/dev/pyiron-virtual-workshop-2020/tutorials/demo/murnaghan_automatic/murn_test_hdf5/   \n",
       "2   science/phd/dev/pyiron-virtual-workshop-2020/tutorials/demo/murnaghan_automatic/murn_test_hdf5/   \n",
       "3   science/phd/dev/pyiron-virtual-workshop-2020/tutorials/demo/murnaghan_automatic/murn_test_hdf5/   \n",
       "4   science/phd/dev/pyiron-virtual-workshop-2020/tutorials/demo/murnaghan_automatic/murn_test_hdf5/   \n",
       "5   science/phd/dev/pyiron-virtual-workshop-2020/tutorials/demo/murnaghan_automatic/murn_test_hdf5/   \n",
       "6   science/phd/dev/pyiron-virtual-workshop-2020/tutorials/demo/murnaghan_automatic/murn_test_hdf5/   \n",
       "7   science/phd/dev/pyiron-virtual-workshop-2020/tutorials/demo/murnaghan_automatic/murn_test_hdf5/   \n",
       "8   science/phd/dev/pyiron-virtual-workshop-2020/tutorials/demo/murnaghan_automatic/murn_test_hdf5/   \n",
       "9   science/phd/dev/pyiron-virtual-workshop-2020/tutorials/demo/murnaghan_automatic/murn_test_hdf5/   \n",
       "10  science/phd/dev/pyiron-virtual-workshop-2020/tutorials/demo/murnaghan_automatic/murn_test_hdf5/   \n",
       "11  science/phd/dev/pyiron-virtual-workshop-2020/tutorials/demo/murnaghan_automatic/murn_test_hdf5/   \n",
       "\n",
       "                    timestart                   timestop  totalcputime  \\\n",
       "0  2020-05-06 18:16:27.037360 2020-05-06 18:16:37.802982          10.0   \n",
       "1  2020-05-06 18:16:27.545044 2020-05-06 18:16:27.826872           0.0   \n",
       "2  2020-05-06 18:16:28.511040 2020-05-06 18:16:28.851509           0.0   \n",
       "3  2020-05-06 18:16:29.480794 2020-05-06 18:16:29.836048           0.0   \n",
       "4  2020-05-06 18:16:30.465621 2020-05-06 18:16:30.734012           0.0   \n",
       "5  2020-05-06 18:16:31.378802 2020-05-06 18:16:31.709668           0.0   \n",
       "6  2020-05-06 18:16:32.379473 2020-05-06 18:16:32.674597           0.0   \n",
       "7  2020-05-06 18:16:33.267552 2020-05-06 18:16:33.593906           0.0   \n",
       "8  2020-05-06 18:16:34.225857 2020-05-06 18:16:34.607374           0.0   \n",
       "9  2020-05-06 18:16:35.169935 2020-05-06 18:16:35.512139           0.0   \n",
       "10 2020-05-06 18:16:36.157121 2020-05-06 18:16:36.508932           0.0   \n",
       "11 2020-05-06 18:16:37.124710 2020-05-06 18:16:37.450040           0.0   \n",
       "\n",
       "                computer   hamilton hamversion parentid  masterid  \n",
       "0   pyiron@susan#1#11/11  Murnaghan      0.3.0     None       NaN  \n",
       "1         pyiron@susan#1     Lammps        0.1     None      15.0  \n",
       "2         pyiron@susan#1     Lammps        0.1     None      15.0  \n",
       "3         pyiron@susan#1     Lammps        0.1     None      15.0  \n",
       "4         pyiron@susan#1     Lammps        0.1     None      15.0  \n",
       "5         pyiron@susan#1     Lammps        0.1     None      15.0  \n",
       "6         pyiron@susan#1     Lammps        0.1     None      15.0  \n",
       "7         pyiron@susan#1     Lammps        0.1     None      15.0  \n",
       "8         pyiron@susan#1     Lammps        0.1     None      15.0  \n",
       "9         pyiron@susan#1     Lammps        0.1     None      15.0  \n",
       "10        pyiron@susan#1     Lammps        0.1     None      15.0  \n",
       "11        pyiron@susan#1     Lammps        0.1     None      15.0  "
      ]
     },
     "execution_count": 77,
     "metadata": {},
     "output_type": "execute_result"
    }
   ],
   "source": [
    "pr.job_table()"
   ]
  },
  {
   "cell_type": "markdown",
   "metadata": {},
   "source": [
    "### Plotting and inspecting the murnaghan output"
   ]
  },
  {
   "cell_type": "code",
   "execution_count": 78,
   "metadata": {},
   "outputs": [
    {
     "data": {
      "image/png": "[encoded data removed]",
      "text/plain": [
       "<Figure size 432x288 with 1 Axes>"
      ]
     },
     "metadata": {
      "needs_background": "light"
     },
     "output_type": "display_data"
    }
   ],
   "source": [
    "murn.plot()"
   ]
  },
  {
   "cell_type": "code",
   "execution_count": 79,
   "metadata": {},
   "outputs": [
    {
     "data": {
      "text/plain": [
       "{'groups': ['structure'], 'nodes': ['energy', 'equilibrium_b_prime', 'equilibrium_bulk_modulus', 'equilibrium_energy', 'equilibrium_volume', 'error', 'id', 'volume']}"
      ]
     },
     "execution_count": 79,
     "metadata": {},
     "output_type": "execute_result"
    }
   ],
   "source": [
    "murn[\"output\"]"
   ]
  },
  {
   "cell_type": "code",
   "execution_count": 80,
   "metadata": {},
   "outputs": [
    {
     "data": {
      "text/plain": [
       "(4.049953713580581, 81.04044546403244)"
      ]
     },
     "execution_count": 80,
     "metadata": {},
     "output_type": "execute_result"
    }
   ],
   "source": [
    "murn[\"output/equilibrium_volume\"] ** (1/3), murn[\"output/equilibrium_bulk_modulus\"]"
   ]
  },
  {
   "cell_type": "code",
   "execution_count": 81,
   "metadata": {},
   "outputs": [
    {
     "data": {
      "text/plain": [
       "{'poly_fit': array([-9.56553731e-05,  2.28697903e-02, -1.77209828e+00,  3.13985247e+01]),\n",
       " 'fit_type': 'polynomial',\n",
       " 'fit_order': 3,\n",
       " 'volume_eq': 66.42784738704691,\n",
       " 'energy_eq': -13.440396614411757,\n",
       " 'bulkmodul_eq': 81.04044546403244,\n",
       " 'b_prime_eq': 4.006907327556677,\n",
       " 'least_square_error': 1.1456196778462988e-07}"
      ]
     },
     "execution_count": 81,
     "metadata": {},
     "output_type": "execute_result"
    }
   ],
   "source": [
    "murn.fit_dict"
   ]
  },
  {
   "cell_type": "code",
   "execution_count": 82,
   "metadata": {},
   "outputs": [],
   "source": [
    "job_child = murn[0]"
   ]
  },
  {
   "cell_type": "markdown",
   "metadata": {},
   "source": [
    "## Energy-volume curves for a variety of Al potentials\n",
    "\n",
    "Since an E-V curve can be calculated quite easily, we can now do this for a range of available Al potentials (keep in mind that some of these potentials might fail)"
   ]
  },
  {
   "cell_type": "code",
   "execution_count": 83,
   "metadata": {},
   "outputs": [],
   "source": [
    "pr = Project(\"demo/potential_scan\")\n",
    "###pr.remove_jobs()"
   ]
  },
  {
   "cell_type": "markdown",
   "metadata": {},
   "source": [
    "### Looping over available potenitals"
   ]
  },
  {
   "cell_type": "code",
   "execution_count": 84,
   "metadata": {},
   "outputs": [],
   "source": [
    "#Chosing only a few potentials since there are lots of Al potentials\n",
    "\n",
    "potential_list = job_child.list_potentials()[0:10]"
   ]
  },
  {
   "cell_type": "code",
   "execution_count": 85,
   "metadata": {},
   "outputs": [
    {
     "name": "stdout",
     "output_type": "stream",
     "text": [
      "The job murn_Al was saved and received the ID: 27\n",
      "The job strain_0_9 was saved and received the ID: 28\n",
      "The job strain_0_92 was saved and received the ID: 29\n",
      "The job strain_0_94 was saved and received the ID: 30\n",
      "The job strain_0_96 was saved and received the ID: 31\n",
      "The job strain_0_98 was saved and received the ID: 32\n",
      "The job strain_1_0 was saved and received the ID: 33\n",
      "The job strain_1_02 was saved and received the ID: 34\n",
      "The job strain_1_04 was saved and received the ID: 35\n",
      "The job strain_1_06 was saved and received the ID: 36\n",
      "The job strain_1_08 was saved and received the ID: 37\n",
      "The job strain_1_1 was saved and received the ID: 38\n",
      "job_id:  28 finished\n",
      "job_id:  29 finished\n",
      "job_id:  30 finished\n",
      "job_id:  31 finished\n",
      "job_id:  32 finished\n",
      "job_id:  33 finished\n",
      "job_id:  34 finished\n",
      "job_id:  35 finished\n",
      "job_id:  36 finished\n",
      "job_id:  37 finished\n",
      "job_id:  38 finished\n",
      "The job murn_Al was saved and received the ID: 39\n",
      "The job strain_0_9 was saved and received the ID: 40\n",
      "The job strain_0_92 was saved and received the ID: 41\n",
      "The job strain_0_94 was saved and received the ID: 42\n",
      "The job strain_0_96 was saved and received the ID: 43\n",
      "The job strain_0_98 was saved and received the ID: 44\n",
      "The job strain_1_0 was saved and received the ID: 45\n",
      "The job strain_1_02 was saved and received the ID: 46\n",
      "The job strain_1_04 was saved and received the ID: 47\n",
      "The job strain_1_06 was saved and received the ID: 48\n",
      "The job strain_1_08 was saved and received the ID: 49\n",
      "The job strain_1_1 was saved and received the ID: 50\n",
      "job_id:  40 finished\n",
      "job_id:  41 finished\n",
      "job_id:  42 finished\n",
      "job_id:  43 finished\n",
      "job_id:  44 finished\n",
      "job_id:  45 finished\n",
      "job_id:  46 finished\n",
      "job_id:  47 finished\n",
      "job_id:  48 finished\n",
      "job_id:  49 finished\n",
      "job_id:  50 finished\n",
      "The job murn_Al was saved and received the ID: 51\n",
      "The job strain_0_9 was saved and received the ID: 52\n",
      "The job strain_0_92 was saved and received the ID: 53\n",
      "The job strain_0_94 was saved and received the ID: 54\n",
      "The job strain_0_96 was saved and received the ID: 55\n",
      "The job strain_0_98 was saved and received the ID: 56\n",
      "The job strain_1_0 was saved and received the ID: 57\n",
      "The job strain_1_02 was saved and received the ID: 58\n",
      "The job strain_1_04 was saved and received the ID: 59\n",
      "The job strain_1_06 was saved and received the ID: 60\n",
      "The job strain_1_08 was saved and received the ID: 61\n",
      "The job strain_1_1 was saved and received the ID: 62\n",
      "job_id:  52 finished\n",
      "job_id:  53 finished\n",
      "job_id:  54 finished\n",
      "job_id:  55 finished\n",
      "job_id:  56 finished\n",
      "job_id:  57 finished\n",
      "job_id:  58 finished\n",
      "job_id:  59 finished\n",
      "job_id:  60 finished\n",
      "job_id:  61 finished\n",
      "job_id:  62 finished\n",
      "The job murn_Al was saved and received the ID: 63\n"
     ]
    },
    {
     "name": "stderr",
     "output_type": "stream",
     "text": [
      "2020-05-06 18:18:10,489 - pyiron_log - WARNING - Job aborted\n",
      "2020-05-06 18:18:10,491 - pyiron_log - WARNING - LAMMPS (5 May 2020)\n",
      "OMP_NUM_THREADS environment is not set. Defaulting to 1 thread. (src/comm.cpp:94)\n",
      "  using 1 OpenMP thread(s) per MPI task\n",
      "Reading data file ...\n",
      "  orthogonal box = (0 0 0) to (3.91023 3.91023 3.91023)\n",
      "  1 by 1 by 1 MPI processor grid\n",
      "  reading atoms ...\n",
      "  4 atoms\n",
      "  read_data CPU = 0.000797738 secs\n",
      "ERROR: Error in MEAM parameter file: keyword Cmax has out of range element index (src/USER-MEAMC/pair_meamc.cpp:605)\n",
      "Last command: pair_coeff * * MgAlZn.library.meam Mg Al MgAlZn.parameter.meam Mg Al Zn\n",
      "\n"
     ]
    },
    {
     "name": "stdout",
     "output_type": "stream",
     "text": [
      "The job strain_0_9 was saved and received the ID: 64\n",
      "The job murn_Al was saved and received the ID: 65\n",
      "The job strain_0_9 was saved and received the ID: 66\n",
      "The job strain_0_92 was saved and received the ID: 67\n",
      "The job strain_0_94 was saved and received the ID: 68\n",
      "The job strain_0_96 was saved and received the ID: 69\n",
      "The job strain_0_98 was saved and received the ID: 70\n",
      "The job strain_1_0 was saved and received the ID: 71\n",
      "The job strain_1_02 was saved and received the ID: 72\n",
      "The job strain_1_04 was saved and received the ID: 73\n",
      "The job strain_1_06 was saved and received the ID: 74\n",
      "The job strain_1_08 was saved and received the ID: 75\n",
      "The job strain_1_1 was saved and received the ID: 76\n",
      "job_id:  66 finished\n",
      "job_id:  67 finished\n",
      "job_id:  68 finished\n",
      "job_id:  69 finished\n",
      "job_id:  70 finished\n",
      "job_id:  71 finished\n",
      "job_id:  72 finished\n",
      "job_id:  73 finished\n",
      "job_id:  74 finished\n",
      "job_id:  75 finished\n",
      "job_id:  76 finished\n",
      "The job murn_Al was saved and received the ID: 77\n",
      "The job strain_0_9 was saved and received the ID: 78\n",
      "The job strain_0_92 was saved and received the ID: 79\n",
      "The job strain_0_94 was saved and received the ID: 80\n",
      "The job strain_0_96 was saved and received the ID: 81\n",
      "The job strain_0_98 was saved and received the ID: 82\n",
      "The job strain_1_0 was saved and received the ID: 83\n",
      "The job strain_1_02 was saved and received the ID: 84\n",
      "The job strain_1_04 was saved and received the ID: 85\n",
      "The job strain_1_06 was saved and received the ID: 86\n",
      "The job strain_1_08 was saved and received the ID: 87\n",
      "The job strain_1_1 was saved and received the ID: 88\n",
      "job_id:  78 finished\n",
      "job_id:  79 finished\n",
      "job_id:  80 finished\n",
      "job_id:  81 finished\n",
      "job_id:  82 finished\n",
      "job_id:  83 finished\n",
      "job_id:  84 finished\n",
      "job_id:  85 finished\n",
      "job_id:  86 finished\n",
      "job_id:  87 finished\n",
      "job_id:  88 finished\n",
      "The job murn_Al was saved and received the ID: 89\n",
      "The job strain_0_9 was saved and received the ID: 90\n",
      "The job strain_0_92 was saved and received the ID: 91\n",
      "The job strain_0_94 was saved and received the ID: 92\n",
      "The job strain_0_96 was saved and received the ID: 93\n",
      "The job strain_0_98 was saved and received the ID: 94\n",
      "The job strain_1_0 was saved and received the ID: 95\n",
      "The job strain_1_02 was saved and received the ID: 96\n",
      "The job strain_1_04 was saved and received the ID: 97\n",
      "The job strain_1_06 was saved and received the ID: 98\n",
      "The job strain_1_08 was saved and received the ID: 99\n",
      "The job strain_1_1 was saved and received the ID: 100\n",
      "job_id:  90 finished\n",
      "job_id:  91 finished\n",
      "job_id:  92 finished\n",
      "job_id:  93 finished\n",
      "job_id:  94 finished\n",
      "job_id:  95 finished\n",
      "job_id:  96 finished\n",
      "job_id:  97 finished\n",
      "job_id:  98 finished\n",
      "job_id:  99 finished\n",
      "job_id:  100 finished\n",
      "The job murn_Al was saved and received the ID: 101\n",
      "The job strain_0_9 was saved and received the ID: 102\n",
      "The job strain_0_92 was saved and received the ID: 103\n",
      "The job strain_0_94 was saved and received the ID: 104\n",
      "The job strain_0_96 was saved and received the ID: 105\n",
      "The job strain_0_98 was saved and received the ID: 106\n",
      "The job strain_1_0 was saved and received the ID: 107\n",
      "The job strain_1_02 was saved and received the ID: 108\n",
      "The job strain_1_04 was saved and received the ID: 109\n",
      "The job strain_1_06 was saved and received the ID: 110\n",
      "The job strain_1_08 was saved and received the ID: 111\n",
      "The job strain_1_1 was saved and received the ID: 112\n",
      "job_id:  102 finished\n",
      "job_id:  103 finished\n",
      "job_id:  104 finished\n",
      "job_id:  105 finished\n",
      "job_id:  106 finished\n",
      "job_id:  107 finished\n",
      "job_id:  108 finished\n",
      "job_id:  109 finished\n",
      "job_id:  110 finished\n",
      "job_id:  111 finished\n",
      "job_id:  112 finished\n",
      "The job murn_Al was saved and received the ID: 113\n",
      "The job strain_0_9 was saved and received the ID: 114\n",
      "The job strain_0_92 was saved and received the ID: 115\n",
      "The job strain_0_94 was saved and received the ID: 116\n",
      "The job strain_0_96 was saved and received the ID: 117\n",
      "The job strain_0_98 was saved and received the ID: 118\n",
      "The job strain_1_0 was saved and received the ID: 119\n",
      "The job strain_1_02 was saved and received the ID: 120\n",
      "The job strain_1_04 was saved and received the ID: 121\n",
      "The job strain_1_06 was saved and received the ID: 122\n",
      "The job strain_1_08 was saved and received the ID: 123\n",
      "The job strain_1_1 was saved and received the ID: 124\n",
      "job_id:  114 finished\n",
      "job_id:  115 finished\n",
      "job_id:  116 finished\n",
      "job_id:  117 finished\n",
      "job_id:  118 finished\n",
      "job_id:  119 finished\n",
      "job_id:  120 finished\n",
      "job_id:  121 finished\n",
      "job_id:  122 finished\n",
      "job_id:  123 finished\n",
      "job_id:  124 finished\n",
      "The job murn_Al was saved and received the ID: 125\n",
      "The job strain_0_9 was saved and received the ID: 126\n",
      "The job strain_0_92 was saved and received the ID: 127\n",
      "The job strain_0_94 was saved and received the ID: 128\n",
      "The job strain_0_96 was saved and received the ID: 129\n",
      "The job strain_0_98 was saved and received the ID: 130\n",
      "The job strain_1_0 was saved and received the ID: 131\n",
      "The job strain_1_02 was saved and received the ID: 132\n",
      "The job strain_1_04 was saved and received the ID: 133\n",
      "The job strain_1_06 was saved and received the ID: 134\n",
      "The job strain_1_08 was saved and received the ID: 135\n",
      "The job strain_1_1 was saved and received the ID: 136\n",
      "job_id:  126 finished\n",
      "job_id:  127 finished\n",
      "job_id:  128 finished\n",
      "job_id:  129 finished\n",
      "job_id:  130 finished\n",
      "job_id:  131 finished\n",
      "job_id:  132 finished\n",
      "job_id:  133 finished\n",
      "job_id:  134 finished\n",
      "job_id:  135 finished\n",
      "job_id:  136 finished\n"
     ]
    }
   ],
   "source": [
    "for pot in potential_list:\n",
    "    pot_str = pot.replace(\"-\", \"_\")\n",
    "    # open a subproject within a project\n",
    "    with pr.open(pot_str) as pr_sub:\n",
    "        # no need for unique job name if in different subprojects \n",
    "        job_name = \"murn_Al\"\n",
    "        # Use the subproject to create the jobs\n",
    "        murn = pr_sub.create_job(pr.job_type.Murnaghan, job_name)\n",
    "        job_ref = pr_sub.create_job(pr.job_type.Lammps, \"Al_ref\")\n",
    "        job_ref.structure = pr.create_ase_bulk(\"Al\", cubic=True)\n",
    "        job_ref.potential = pot\n",
    "        job_ref.calc_minimize()\n",
    "        murn.ref_job = job_ref\n",
    "        try:\n",
    "            murn.run()\n",
    "        except RuntimeError:\n",
    "            pass"
   ]
  },
  {
   "cell_type": "code",
   "execution_count": 88,
   "metadata": {},
   "outputs": [
    {
     "data": {
      "text/html": [
       "<div>\n",
       "<style scoped>\n",
       "    .dataframe tbody tr th:only-of-type {\n",
       "        vertical-align: middle;\n",
       "    }\n",
       "\n",
       "    .dataframe tbody tr th {\n",
       "        vertical-align: top;\n",
       "    }\n",
       "\n",
       "    .dataframe thead th {\n",
       "        text-align: right;\n",
       "    }\n",
       "</style>\n",
       "<table border=\"1\" class=\"dataframe\">\n",
       "  <thead>\n",
       "    <tr style=\"text-align: right;\">\n",
       "      <th></th>\n",
       "      <th>id</th>\n",
       "      <th>status</th>\n",
       "      <th>chemicalformula</th>\n",
       "      <th>job</th>\n",
       "      <th>subjob</th>\n",
       "      <th>projectpath</th>\n",
       "      <th>project</th>\n",
       "      <th>timestart</th>\n",
       "      <th>timestop</th>\n",
       "      <th>totalcputime</th>\n",
       "      <th>computer</th>\n",
       "      <th>hamilton</th>\n",
       "      <th>hamversion</th>\n",
       "      <th>parentid</th>\n",
       "      <th>masterid</th>\n",
       "    </tr>\n",
       "  </thead>\n",
       "  <tbody>\n",
       "    <tr>\n",
       "      <th>0</th>\n",
       "      <td>65</td>\n",
       "      <td>finished</td>\n",
       "      <td>Al4</td>\n",
       "      <td>murn_Al</td>\n",
       "      <td>/murn_Al</td>\n",
       "      <td>/home/ponder/</td>\n",
       "      <td>science/phd/dev/pyiron-virtual-workshop-2020/tutorials/demo/potential_scan/2000__Landa_A__Al_Pb__LAMMPS__ipr1/</td>\n",
       "      <td>2020-05-06 18:18:10.733344</td>\n",
       "      <td>2020-05-06 18:18:21.695710</td>\n",
       "      <td>10.0</td>\n",
       "      <td>pyiron@susan#1#11/11</td>\n",
       "      <td>Murnaghan</td>\n",
       "      <td>0.3.0</td>\n",
       "      <td>None</td>\n",
       "      <td>NaN</td>\n",
       "    </tr>\n",
       "    <tr>\n",
       "      <th>1</th>\n",
       "      <td>66</td>\n",
       "      <td>finished</td>\n",
       "      <td>Al4</td>\n",
       "      <td>strain_0_9</td>\n",
       "      <td>/strain_0_9</td>\n",
       "      <td>/home/ponder/</td>\n",
       "      <td>science/phd/dev/pyiron-virtual-workshop-2020/tutorials/demo/potential_scan/2000__Landa_A__Al_Pb__LAMMPS__ipr1/murn_Al_hdf5/</td>\n",
       "      <td>2020-05-06 18:18:11.404280</td>\n",
       "      <td>2020-05-06 18:18:11.754662</td>\n",
       "      <td>0.0</td>\n",
       "      <td>pyiron@susan#1</td>\n",
       "      <td>Lammps</td>\n",
       "      <td>0.1</td>\n",
       "      <td>None</td>\n",
       "      <td>65.0</td>\n",
       "    </tr>\n",
       "    <tr>\n",
       "      <th>2</th>\n",
       "      <td>67</td>\n",
       "      <td>finished</td>\n",
       "      <td>Al4</td>\n",
       "      <td>strain_0_92</td>\n",
       "      <td>/strain_0_92</td>\n",
       "      <td>/home/ponder/</td>\n",
       "      <td>science/phd/dev/pyiron-virtual-workshop-2020/tutorials/demo/potential_scan/2000__Landa_A__Al_Pb__LAMMPS__ipr1/murn_Al_hdf5/</td>\n",
       "      <td>2020-05-06 18:18:12.336272</td>\n",
       "      <td>2020-05-06 18:18:12.808701</td>\n",
       "      <td>0.0</td>\n",
       "      <td>pyiron@susan#1</td>\n",
       "      <td>Lammps</td>\n",
       "      <td>0.1</td>\n",
       "      <td>None</td>\n",
       "      <td>65.0</td>\n",
       "    </tr>\n",
       "    <tr>\n",
       "      <th>3</th>\n",
       "      <td>68</td>\n",
       "      <td>finished</td>\n",
       "      <td>Al4</td>\n",
       "      <td>strain_0_94</td>\n",
       "      <td>/strain_0_94</td>\n",
       "      <td>/home/ponder/</td>\n",
       "      <td>science/phd/dev/pyiron-virtual-workshop-2020/tutorials/demo/potential_scan/2000__Landa_A__Al_Pb__LAMMPS__ipr1/murn_Al_hdf5/</td>\n",
       "      <td>2020-05-06 18:18:13.671402</td>\n",
       "      <td>2020-05-06 18:18:14.028506</td>\n",
       "      <td>0.0</td>\n",
       "      <td>pyiron@susan#1</td>\n",
       "      <td>Lammps</td>\n",
       "      <td>0.1</td>\n",
       "      <td>None</td>\n",
       "      <td>65.0</td>\n",
       "    </tr>\n",
       "    <tr>\n",
       "      <th>4</th>\n",
       "      <td>69</td>\n",
       "      <td>finished</td>\n",
       "      <td>Al4</td>\n",
       "      <td>strain_0_96</td>\n",
       "      <td>/strain_0_96</td>\n",
       "      <td>/home/ponder/</td>\n",
       "      <td>science/phd/dev/pyiron-virtual-workshop-2020/tutorials/demo/potential_scan/2000__Landa_A__Al_Pb__LAMMPS__ipr1/murn_Al_hdf5/</td>\n",
       "      <td>2020-05-06 18:18:14.607086</td>\n",
       "      <td>2020-05-06 18:18:14.945059</td>\n",
       "      <td>0.0</td>\n",
       "      <td>pyiron@susan#1</td>\n",
       "      <td>Lammps</td>\n",
       "      <td>0.1</td>\n",
       "      <td>None</td>\n",
       "      <td>65.0</td>\n",
       "    </tr>\n",
       "    <tr>\n",
       "      <th>5</th>\n",
       "      <td>70</td>\n",
       "      <td>finished</td>\n",
       "      <td>Al4</td>\n",
       "      <td>strain_0_98</td>\n",
       "      <td>/strain_0_98</td>\n",
       "      <td>/home/ponder/</td>\n",
       "      <td>science/phd/dev/pyiron-virtual-workshop-2020/tutorials/demo/potential_scan/2000__Landa_A__Al_Pb__LAMMPS__ipr1/murn_Al_hdf5/</td>\n",
       "      <td>2020-05-06 18:18:15.519737</td>\n",
       "      <td>2020-05-06 18:18:15.868672</td>\n",
       "      <td>0.0</td>\n",
       "      <td>pyiron@susan#1</td>\n",
       "      <td>Lammps</td>\n",
       "      <td>0.1</td>\n",
       "      <td>None</td>\n",
       "      <td>65.0</td>\n",
       "    </tr>\n",
       "    <tr>\n",
       "      <th>6</th>\n",
       "      <td>71</td>\n",
       "      <td>finished</td>\n",
       "      <td>Al4</td>\n",
       "      <td>strain_1_0</td>\n",
       "      <td>/strain_1_0</td>\n",
       "      <td>/home/ponder/</td>\n",
       "      <td>science/phd/dev/pyiron-virtual-workshop-2020/tutorials/demo/potential_scan/2000__Landa_A__Al_Pb__LAMMPS__ipr1/murn_Al_hdf5/</td>\n",
       "      <td>2020-05-06 18:18:16.444659</td>\n",
       "      <td>2020-05-06 18:18:16.781381</td>\n",
       "      <td>0.0</td>\n",
       "      <td>pyiron@susan#1</td>\n",
       "      <td>Lammps</td>\n",
       "      <td>0.1</td>\n",
       "      <td>None</td>\n",
       "      <td>65.0</td>\n",
       "    </tr>\n",
       "    <tr>\n",
       "      <th>7</th>\n",
       "      <td>72</td>\n",
       "      <td>finished</td>\n",
       "      <td>Al4</td>\n",
       "      <td>strain_1_02</td>\n",
       "      <td>/strain_1_02</td>\n",
       "      <td>/home/ponder/</td>\n",
       "      <td>science/phd/dev/pyiron-virtual-workshop-2020/tutorials/demo/potential_scan/2000__Landa_A__Al_Pb__LAMMPS__ipr1/murn_Al_hdf5/</td>\n",
       "      <td>2020-05-06 18:18:17.314036</td>\n",
       "      <td>2020-05-06 18:18:17.679891</td>\n",
       "      <td>0.0</td>\n",
       "      <td>pyiron@susan#1</td>\n",
       "      <td>Lammps</td>\n",
       "      <td>0.1</td>\n",
       "      <td>None</td>\n",
       "      <td>65.0</td>\n",
       "    </tr>\n",
       "    <tr>\n",
       "      <th>8</th>\n",
       "      <td>73</td>\n",
       "      <td>finished</td>\n",
       "      <td>Al4</td>\n",
       "      <td>strain_1_04</td>\n",
       "      <td>/strain_1_04</td>\n",
       "      <td>/home/ponder/</td>\n",
       "      <td>science/phd/dev/pyiron-virtual-workshop-2020/tutorials/demo/potential_scan/2000__Landa_A__Al_Pb__LAMMPS__ipr1/murn_Al_hdf5/</td>\n",
       "      <td>2020-05-06 18:18:18.252056</td>\n",
       "      <td>2020-05-06 18:18:18.525868</td>\n",
       "      <td>0.0</td>\n",
       "      <td>pyiron@susan#1</td>\n",
       "      <td>Lammps</td>\n",
       "      <td>0.1</td>\n",
       "      <td>None</td>\n",
       "      <td>65.0</td>\n",
       "    </tr>\n",
       "    <tr>\n",
       "      <th>9</th>\n",
       "      <td>74</td>\n",
       "      <td>finished</td>\n",
       "      <td>Al4</td>\n",
       "      <td>strain_1_06</td>\n",
       "      <td>/strain_1_06</td>\n",
       "      <td>/home/ponder/</td>\n",
       "      <td>science/phd/dev/pyiron-virtual-workshop-2020/tutorials/demo/potential_scan/2000__Landa_A__Al_Pb__LAMMPS__ipr1/murn_Al_hdf5/</td>\n",
       "      <td>2020-05-06 18:18:19.012527</td>\n",
       "      <td>2020-05-06 18:18:19.363636</td>\n",
       "      <td>0.0</td>\n",
       "      <td>pyiron@susan#1</td>\n",
       "      <td>Lammps</td>\n",
       "      <td>0.1</td>\n",
       "      <td>None</td>\n",
       "      <td>65.0</td>\n",
       "    </tr>\n",
       "    <tr>\n",
       "      <th>10</th>\n",
       "      <td>75</td>\n",
       "      <td>finished</td>\n",
       "      <td>Al4</td>\n",
       "      <td>strain_1_08</td>\n",
       "      <td>/strain_1_08</td>\n",
       "      <td>/home/ponder/</td>\n",
       "      <td>science/phd/dev/pyiron-virtual-workshop-2020/tutorials/demo/potential_scan/2000__Landa_A__Al_Pb__LAMMPS__ipr1/murn_Al_hdf5/</td>\n",
       "      <td>2020-05-06 18:18:20.062549</td>\n",
       "      <td>2020-05-06 18:18:20.453352</td>\n",
       "      <td>0.0</td>\n",
       "      <td>pyiron@susan#1</td>\n",
       "      <td>Lammps</td>\n",
       "      <td>0.1</td>\n",
       "      <td>None</td>\n",
       "      <td>65.0</td>\n",
       "    </tr>\n",
       "    <tr>\n",
       "      <th>11</th>\n",
       "      <td>76</td>\n",
       "      <td>finished</td>\n",
       "      <td>Al4</td>\n",
       "      <td>strain_1_1</td>\n",
       "      <td>/strain_1_1</td>\n",
       "      <td>/home/ponder/</td>\n",
       "      <td>science/phd/dev/pyiron-virtual-workshop-2020/tutorials/demo/potential_scan/2000__Landa_A__Al_Pb__LAMMPS__ipr1/murn_Al_hdf5/</td>\n",
       "      <td>2020-05-06 18:18:21.050395</td>\n",
       "      <td>2020-05-06 18:18:21.419237</td>\n",
       "      <td>0.0</td>\n",
       "      <td>pyiron@susan#1</td>\n",
       "      <td>Lammps</td>\n",
       "      <td>0.1</td>\n",
       "      <td>None</td>\n",
       "      <td>65.0</td>\n",
       "    </tr>\n",
       "  </tbody>\n",
       "</table>\n",
       "</div>"
      ],
      "text/plain": [
       "    id    status chemicalformula          job        subjob    projectpath  \\\n",
       "0   65  finished             Al4      murn_Al      /murn_Al  /home/ponder/   \n",
       "1   66  finished             Al4   strain_0_9   /strain_0_9  /home/ponder/   \n",
       "2   67  finished             Al4  strain_0_92  /strain_0_92  /home/ponder/   \n",
       "3   68  finished             Al4  strain_0_94  /strain_0_94  /home/ponder/   \n",
       "4   69  finished             Al4  strain_0_96  /strain_0_96  /home/ponder/   \n",
       "5   70  finished             Al4  strain_0_98  /strain_0_98  /home/ponder/   \n",
       "6   71  finished             Al4   strain_1_0   /strain_1_0  /home/ponder/   \n",
       "7   72  finished             Al4  strain_1_02  /strain_1_02  /home/ponder/   \n",
       "8   73  finished             Al4  strain_1_04  /strain_1_04  /home/ponder/   \n",
       "9   74  finished             Al4  strain_1_06  /strain_1_06  /home/ponder/   \n",
       "10  75  finished             Al4  strain_1_08  /strain_1_08  /home/ponder/   \n",
       "11  76  finished             Al4   strain_1_1   /strain_1_1  /home/ponder/   \n",
       "\n",
       "                                                                                                                        project  \\\n",
       "0                science/phd/dev/pyiron-virtual-workshop-2020/tutorials/demo/potential_scan/2000__Landa_A__Al_Pb__LAMMPS__ipr1/   \n",
       "1   science/phd/dev/pyiron-virtual-workshop-2020/tutorials/demo/potential_scan/2000__Landa_A__Al_Pb__LAMMPS__ipr1/murn_Al_hdf5/   \n",
       "2   science/phd/dev/pyiron-virtual-workshop-2020/tutorials/demo/potential_scan/2000__Landa_A__Al_Pb__LAMMPS__ipr1/murn_Al_hdf5/   \n",
       "3   science/phd/dev/pyiron-virtual-workshop-2020/tutorials/demo/potential_scan/2000__Landa_A__Al_Pb__LAMMPS__ipr1/murn_Al_hdf5/   \n",
       "4   science/phd/dev/pyiron-virtual-workshop-2020/tutorials/demo/potential_scan/2000__Landa_A__Al_Pb__LAMMPS__ipr1/murn_Al_hdf5/   \n",
       "5   science/phd/dev/pyiron-virtual-workshop-2020/tutorials/demo/potential_scan/2000__Landa_A__Al_Pb__LAMMPS__ipr1/murn_Al_hdf5/   \n",
       "6   science/phd/dev/pyiron-virtual-workshop-2020/tutorials/demo/potential_scan/2000__Landa_A__Al_Pb__LAMMPS__ipr1/murn_Al_hdf5/   \n",
       "7   science/phd/dev/pyiron-virtual-workshop-2020/tutorials/demo/potential_scan/2000__Landa_A__Al_Pb__LAMMPS__ipr1/murn_Al_hdf5/   \n",
       "8   science/phd/dev/pyiron-virtual-workshop-2020/tutorials/demo/potential_scan/2000__Landa_A__Al_Pb__LAMMPS__ipr1/murn_Al_hdf5/   \n",
       "9   science/phd/dev/pyiron-virtual-workshop-2020/tutorials/demo/potential_scan/2000__Landa_A__Al_Pb__LAMMPS__ipr1/murn_Al_hdf5/   \n",
       "10  science/phd/dev/pyiron-virtual-workshop-2020/tutorials/demo/potential_scan/2000__Landa_A__Al_Pb__LAMMPS__ipr1/murn_Al_hdf5/   \n",
       "11  science/phd/dev/pyiron-virtual-workshop-2020/tutorials/demo/potential_scan/2000__Landa_A__Al_Pb__LAMMPS__ipr1/murn_Al_hdf5/   \n",
       "\n",
       "                    timestart                   timestop  totalcputime  \\\n",
       "0  2020-05-06 18:18:10.733344 2020-05-06 18:18:21.695710          10.0   \n",
       "1  2020-05-06 18:18:11.404280 2020-05-06 18:18:11.754662           0.0   \n",
       "2  2020-05-06 18:18:12.336272 2020-05-06 18:18:12.808701           0.0   \n",
       "3  2020-05-06 18:18:13.671402 2020-05-06 18:18:14.028506           0.0   \n",
       "4  2020-05-06 18:18:14.607086 2020-05-06 18:18:14.945059           0.0   \n",
       "5  2020-05-06 18:18:15.519737 2020-05-06 18:18:15.868672           0.0   \n",
       "6  2020-05-06 18:18:16.444659 2020-05-06 18:18:16.781381           0.0   \n",
       "7  2020-05-06 18:18:17.314036 2020-05-06 18:18:17.679891           0.0   \n",
       "8  2020-05-06 18:18:18.252056 2020-05-06 18:18:18.525868           0.0   \n",
       "9  2020-05-06 18:18:19.012527 2020-05-06 18:18:19.363636           0.0   \n",
       "10 2020-05-06 18:18:20.062549 2020-05-06 18:18:20.453352           0.0   \n",
       "11 2020-05-06 18:18:21.050395 2020-05-06 18:18:21.419237           0.0   \n",
       "\n",
       "                computer   hamilton hamversion parentid  masterid  \n",
       "0   pyiron@susan#1#11/11  Murnaghan      0.3.0     None       NaN  \n",
       "1         pyiron@susan#1     Lammps        0.1     None      65.0  \n",
       "2         pyiron@susan#1     Lammps        0.1     None      65.0  \n",
       "3         pyiron@susan#1     Lammps        0.1     None      65.0  \n",
       "4         pyiron@susan#1     Lammps        0.1     None      65.0  \n",
       "5         pyiron@susan#1     Lammps        0.1     None      65.0  \n",
       "6         pyiron@susan#1     Lammps        0.1     None      65.0  \n",
       "7         pyiron@susan#1     Lammps        0.1     None      65.0  \n",
       "8         pyiron@susan#1     Lammps        0.1     None      65.0  \n",
       "9         pyiron@susan#1     Lammps        0.1     None      65.0  \n",
       "10        pyiron@susan#1     Lammps        0.1     None      65.0  \n",
       "11        pyiron@susan#1     Lammps        0.1     None      65.0  "
      ]
     },
     "execution_count": 88,
     "metadata": {},
     "output_type": "execute_result"
    }
   ],
   "source": [
    "pr['2000__Landa_A__Al_Pb__LAMMPS__ipr1'].job_table()"
   ]
  },
  {
   "cell_type": "code",
   "execution_count": 89,
   "metadata": {},
   "outputs": [],
   "source": [
    "pr.job_table();"
   ]
  },
  {
   "cell_type": "markdown",
   "metadata": {},
   "source": [
    "### Analysing over all potentials"
   ]
  },
  {
   "cell_type": "code",
   "execution_count": 90,
   "metadata": {},
   "outputs": [
    {
     "name": "stdout",
     "output_type": "stream",
     "text": [
      "CPU times: user 101 ms, sys: 7.01 ms, total: 108 ms\n",
      "Wall time: 106 ms\n"
     ]
    }
   ],
   "source": [
    "%%time\n",
    "eq_dict = dict()\n",
    "convert_to_object = False\n",
    "for group in pr.list_groups():\n",
    "    if convert_to_object:\n",
    "        murn = pr[group+\"/murn_Al\"]\n",
    "    else:\n",
    "        murn = pr[group].inspect(\"murn_Al\")\n",
    "    if murn.status == \"finished\":\n",
    "        eq_dict[group] = dict()\n",
    "        eq_dict[group][\"a\"] = murn[\"output/equilibrium_volume\"] ** (1/3)\n",
    "        eq_dict[group][\"bulk_modulus\"] = murn[\"output/equilibrium_bulk_modulus\"]"
   ]
  },
  {
   "cell_type": "code",
   "execution_count": 91,
   "metadata": {},
   "outputs": [
    {
     "data": {
      "text/html": [
       "<div>\n",
       "<style scoped>\n",
       "    .dataframe tbody tr th:only-of-type {\n",
       "        vertical-align: middle;\n",
       "    }\n",
       "\n",
       "    .dataframe tbody tr th {\n",
       "        vertical-align: top;\n",
       "    }\n",
       "\n",
       "    .dataframe thead th {\n",
       "        text-align: right;\n",
       "    }\n",
       "</style>\n",
       "<table border=\"1\" class=\"dataframe\">\n",
       "  <thead>\n",
       "    <tr style=\"text-align: right;\">\n",
       "      <th></th>\n",
       "      <th>a</th>\n",
       "      <th>bulk_modulus</th>\n",
       "    </tr>\n",
       "  </thead>\n",
       "  <tbody>\n",
       "    <tr>\n",
       "      <th>1997__Liu_X_Y__Al_Mg__LAMMPS__ipr1</th>\n",
       "      <td>4.032659</td>\n",
       "      <td>83.498560</td>\n",
       "    </tr>\n",
       "    <tr>\n",
       "      <th>2000__Landa_A__Al_Pb__LAMMPS__ipr1</th>\n",
       "      <td>4.031246</td>\n",
       "      <td>78.213776</td>\n",
       "    </tr>\n",
       "    <tr>\n",
       "      <th>2003__Zope_R_R__Al__LAMMPS__ipr1</th>\n",
       "      <td>4.049946</td>\n",
       "      <td>80.836777</td>\n",
       "    </tr>\n",
       "    <tr>\n",
       "      <th>2004__Zhou_X_W__Al__LAMMPS__ipr1</th>\n",
       "      <td>4.050315</td>\n",
       "      <td>71.546946</td>\n",
       "    </tr>\n",
       "    <tr>\n",
       "      <th>2004__Zhou_X_W__Al__LAMMPS__ipr2</th>\n",
       "      <td>4.050316</td>\n",
       "      <td>71.546634</td>\n",
       "    </tr>\n",
       "    <tr>\n",
       "      <th>2015__Mendelev_M_I__Al_Sm__LAMMPS__ipr1</th>\n",
       "      <td>4.041196</td>\n",
       "      <td>85.017411</td>\n",
       "    </tr>\n",
       "    <tr>\n",
       "      <th>Al_H_Ni_Angelo_eam</th>\n",
       "      <td>4.049954</td>\n",
       "      <td>81.040445</td>\n",
       "    </tr>\n",
       "    <tr>\n",
       "      <th>Al_Mg_Mendelev_eam</th>\n",
       "      <td>4.045415</td>\n",
       "      <td>89.015487</td>\n",
       "    </tr>\n",
       "    <tr>\n",
       "      <th>Zope_Ti_Al_2003_eam</th>\n",
       "      <td>4.049946</td>\n",
       "      <td>80.836779</td>\n",
       "    </tr>\n",
       "  </tbody>\n",
       "</table>\n",
       "</div>"
      ],
      "text/plain": [
       "                                                a  bulk_modulus\n",
       "1997__Liu_X_Y__Al_Mg__LAMMPS__ipr1       4.032659     83.498560\n",
       "2000__Landa_A__Al_Pb__LAMMPS__ipr1       4.031246     78.213776\n",
       "2003__Zope_R_R__Al__LAMMPS__ipr1         4.049946     80.836777\n",
       "2004__Zhou_X_W__Al__LAMMPS__ipr1         4.050315     71.546946\n",
       "2004__Zhou_X_W__Al__LAMMPS__ipr2         4.050316     71.546634\n",
       "2015__Mendelev_M_I__Al_Sm__LAMMPS__ipr1  4.041196     85.017411\n",
       "Al_H_Ni_Angelo_eam                       4.049954     81.040445\n",
       "Al_Mg_Mendelev_eam                       4.045415     89.015487\n",
       "Zope_Ti_Al_2003_eam                      4.049946     80.836779"
      ]
     },
     "execution_count": 91,
     "metadata": {},
     "output_type": "execute_result"
    }
   ],
   "source": [
    "pd.DataFrame(eq_dict).T"
   ]
  },
  {
   "cell_type": "code",
   "execution_count": null,
   "metadata": {},
   "outputs": [],
   "source": []
  },
  {
   "cell_type": "code",
   "execution_count": null,
   "metadata": {},
   "outputs": [],
   "source": []
  }
 ],
 "metadata": {
  "kernelspec": {
   "display_name": "Python 3",
   "language": "python",
   "name": "python3"
  },
  "language_info": {
   "codemirror_mode": {
    "name": "ipython",
    "version": 3
   },
   "file_extension": ".py",
   "mimetype": "text/x-python",
   "name": "python",
   "nbconvert_exporter": "python",
   "pygments_lexer": "ipython3",
   "version": "3.8.2"
  },
  "toc": {
   "base_numbering": 1,
   "nav_menu": {},
   "number_sections": true,
   "sideBar": true,
   "skip_h1_title": false,
   "title_cell": "Table of Contents",
   "title_sidebar": "Contents",
   "toc_cell": false,
   "toc_position": {},
   "toc_section_display": true,
   "toc_window_display": false
  },
  "toc-autonumbering": true,
  "toc-showcode": false,
  "toc-showmarkdowntxt": false,
  "toc-showtags": false
 },
 "nbformat": 4,
 "nbformat_minor": 4
}
