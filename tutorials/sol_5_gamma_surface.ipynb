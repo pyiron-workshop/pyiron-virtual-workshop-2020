{
 "cells": [
  {
   "cell_type": "markdown",
   "metadata": {},
   "source": [
    "# Exercise 5: Development of our own mudule for Gamma surface calculations"
   ]
  },
  {
   "cell_type": "code",
   "execution_count": 1,
   "metadata": {},
   "outputs": [],
   "source": [
    "# This is necessary for higher levels of \n",
    "%config Completer.use_jedi = False"
   ]
  },
  {
   "cell_type": "code",
   "execution_count": 2,
   "metadata": {},
   "outputs": [],
   "source": [
    "import numpy as np\n",
    "import matplotlib.pylab as plt"
   ]
  },
  {
   "cell_type": "code",
   "execution_count": 3,
   "metadata": {},
   "outputs": [],
   "source": [
    "from pyiron import Project"
   ]
  },
  {
   "cell_type": "code",
   "execution_count": 6,
   "metadata": {},
   "outputs": [],
   "source": [
    "pr = Project(\"Gamma\")\n",
    "### pr.remove_jobs()"
   ]
  },
  {
   "cell_type": "code",
   "execution_count": 7,
   "metadata": {},
   "outputs": [],
   "source": [
    "class GammaSurface:\n",
    "    def __init__(self, ref_job, potential=None, n_mesh=(10,10)):\n",
    "        self._project = ref_job.project\n",
    "        self._mesh_x = n_mesh[0]\n",
    "        self._mesh_y = n_mesh[1]\n",
    "        self._ref_job = ref_job\n",
    "        self.surface = ref_job.structure\n",
    "        self._potential = potential\n",
    "        \n",
    "    def get_structure(self, x, y):\n",
    "        Al = self.surface.copy()\n",
    "        z = Al.positions[:, 2]\n",
    "        z_0 = np.mean(z)\n",
    "        Al.positions[z < z_0, 0] += x\n",
    "        Al.positions[z < z_0, 1] += y\n",
    "        Al.add_tag(selective_dynamics=[False, False, True])\n",
    "        Al.pbc[2] = True\n",
    "        return Al   \n",
    "    \n",
    "    def run_gamma(self):\n",
    "        ref = self.get_structure(0,0)\n",
    "        x_max = ref.cell[0, 0]\n",
    "        y_max = ref.cell[1, 1]\n",
    "        x_vec = np.linspace(0, x_max, self._mesh_x)\n",
    "        y_vec = np.linspace(0, y_max, self._mesh_y)\n",
    "        for x in x_vec:\n",
    "            for y in y_vec:\n",
    "                job_name = 'x_{:.4}_y_{:.4}'.format(x, y).replace('.', '_')\n",
    "                if job_name not in self._project.list_nodes():    \n",
    "                    job = self._project.create_job(self._project.job_type.Lammps, job_name)\n",
    "                    job.structure = self.get_structure(x, y)\n",
    "                    if self._potential is not None:\n",
    "                        job.potential = self._potential\n",
    "                    job.calc_minimize()\n",
    "                    job.run()    \n",
    "\n",
    "    def _collect(self):\n",
    "        x_lst, y_lst, e_lst = [], [], []\n",
    "        ref = self.get_structure(0,0)\n",
    "        x_max = ref.cell[0, 0]\n",
    "        y_max = ref.cell[1, 1]\n",
    "        x_vec = np.linspace(0, x_max, self._mesh_x)\n",
    "        y_vec = np.linspace(0, y_max, self._mesh_y)\n",
    "        for x in x_vec:\n",
    "            for y in y_vec:\n",
    "                job_name = 'x_{:.4}_y_{:.4}'.format(x, y).replace('.', '_')\n",
    "                job = self._project.inspect(job_name)\n",
    "                e_lst.append(job['output/generic/energy_tot'][-1])\n",
    "                x_lst.append(x)\n",
    "                y_lst.append(y)\n",
    "        self.x_lst = np.array(x_lst)  \n",
    "        self.y_lst = np.array(y_lst)\n",
    "        self.e_lst = np.array(e_lst)\n",
    "        \n",
    "    def plot(self):\n",
    "        plt.plot(self.y_lst, self.e_lst, 'x-'); \n",
    "        \n",
    "    def plot2d(self):\n",
    "        plt.imshow(np.reshape(self.e_lst, (self._mesh_x,-1)))"
   ]
  },
  {
   "cell_type": "code",
   "execution_count": 16,
   "metadata": {},
   "outputs": [
    {
     "data": {
      "image/png": "[encoded data removed]",
      "text/plain": [
       "<Figure size 432x288 with 2 Axes>"
      ]
     },
     "metadata": {
      "needs_background": "light"
     },
     "output_type": "display_data"
    }
   ],
   "source": [
    "surface_list = ['fcc111', 'fcc100']\n",
    "fig, ax_list = plt.subplots(ncols=2, nrows=1, sharex=True)\n",
    "\n",
    "potential = 'Al_Mg_Mendelev_eam'\n",
    "for i, surf in enumerate(surface_list):\n",
    "    with pr.open(surf) as pr_test:\n",
    "        ax= ax_list[i]\n",
    "        Al = pr_test.create_surface('Al', surf, (1,2,12), vacuum=10, orthogonal=True)\n",
    "        ref_job = pr_test.create_job(pr_test.job_type.Lammps, 'ref_job')\n",
    "        ref_job.structure = Al\n",
    "        ref_job.potential = potential\n",
    "        ref_job.calc_minimize()\n",
    "        gs = GammaSurface(ref_job, potential, n_mesh=(5,19))\n",
    "        gs.run_gamma()\n",
    "        gs._collect()\n",
    "        ax.contourf(np.reshape(gs.e_lst, (gs._mesh_x,-1)))\n"
   ]
  },
  {
   "cell_type": "code",
   "execution_count": null,
   "metadata": {},
   "outputs": [],
   "source": []
  }
 ],
 "metadata": {
  "kernelspec": {
   "display_name": "Python 3",
   "language": "python",
   "name": "python3"
  },
  "language_info": {
   "codemirror_mode": {
    "name": "ipython",
    "version": 3
   },
   "file_extension": ".py",
   "mimetype": "text/x-python",
   "name": "python",
   "nbconvert_exporter": "python",
   "pygments_lexer": "ipython3",
   "version": "3.8.2"
  }
 },
 "nbformat": 4,
 "nbformat_minor": 4
}
