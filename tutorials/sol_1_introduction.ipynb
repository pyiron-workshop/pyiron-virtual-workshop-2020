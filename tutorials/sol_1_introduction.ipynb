{
 "cells": [
  {
   "cell_type": "markdown",
   "metadata": {},
   "source": [
    "# Exercise 1: Introduction to pyiron"
   ]
  },
  {
   "cell_type": "markdown",
   "metadata": {},
   "source": [
    "## Imports and and working with projects"
   ]
  },
  {
   "cell_type": "code",
   "execution_count": 1,
   "metadata": {
    "ExecuteTime": {
     "end_time": "2020-02-21T12:39:35.662902Z",
     "start_time": "2020-02-21T12:39:35.422425Z"
    }
   },
   "outputs": [],
   "source": [
    "import numpy as np\n",
    "import matplotlib.pylab as plt\n",
    "import pandas as pd"
   ]
  },
  {
   "cell_type": "code",
   "execution_count": 2,
   "metadata": {
    "ExecuteTime": {
     "end_time": "2020-02-21T12:39:46.781567Z",
     "start_time": "2020-02-21T12:39:44.865270Z"
    }
   },
   "outputs": [],
   "source": [
    "from pyiron import Project"
   ]
  },
  {
   "cell_type": "code",
   "execution_count": 3,
   "metadata": {
    "ExecuteTime": {
     "end_time": "2020-02-21T13:05:38.491431Z",
     "start_time": "2020-02-21T13:05:37.339476Z"
    }
   },
   "outputs": [],
   "source": [
    "pr = Project(\"demo\")\n",
    "\n",
    "# To delete all jobs and start from scratch, uncomment the next line\n",
    "#pr.remove_jobs(recursive=True)"
   ]
  },
  {
   "cell_type": "markdown",
   "metadata": {},
   "source": [
    "## Creating and manipulating structures"
   ]
  },
  {
   "cell_type": "code",
   "execution_count": 4,
   "metadata": {
    "ExecuteTime": {
     "end_time": "2020-02-21T13:05:43.326193Z",
     "start_time": "2020-02-21T13:05:43.205610Z"
    }
   },
   "outputs": [
    {
     "data": {
      "application/vnd.jupyter.widget-view+json": {
       "model_id": "f2b2cbee01f74962830870eaf5051c93",
       "version_major": 2,
       "version_minor": 0
      },
      "text/plain": [
       "_ColormakerRegistry()"
      ]
     },
     "metadata": {},
     "output_type": "display_data"
    },
    {
     "data": {
      "application/vnd.jupyter.widget-view+json": {
       "model_id": "1421c98998034a07a15d0167d0af589b",
       "version_major": 2,
       "version_minor": 0
      },
      "text/plain": [
       "NGLWidget()"
      ]
     },
     "metadata": {},
     "output_type": "display_data"
    }
   ],
   "source": [
    "# atomistic structures\n",
    "Al_struct = pr.create_ase_bulk(\"Al\", cubic=True).repeat([2, 2, 4])\n",
    "Al_struct.plot3d()"
   ]
  },
  {
   "cell_type": "code",
   "execution_count": 5,
   "metadata": {},
   "outputs": [
    {
     "data": {
      "application/vnd.jupyter.widget-view+json": {
       "model_id": "1febca2ec71d447c927c302188aa4d81",
       "version_major": 2,
       "version_minor": 0
      },
      "text/plain": [
       "NGLWidget()"
      ]
     },
     "metadata": {},
     "output_type": "display_data"
    }
   ],
   "source": [
    "Al_struct[36] = \"Cu\"\n",
    "Al_struct.plot3d(particle_size=3)"
   ]
  },
  {
   "cell_type": "code",
   "execution_count": 6,
   "metadata": {},
   "outputs": [
    {
     "data": {
      "application/vnd.jupyter.widget-view+json": {
       "model_id": "2e56a680166e4e27802e0c2d266d371f",
       "version_major": 2,
       "version_minor": 0
      },
      "text/plain": [
       "NGLWidget()"
      ]
     },
     "metadata": {},
     "output_type": "display_data"
    }
   ],
   "source": [
    "del Al_struct[17]\n",
    "Al_struct.plot3d(particle_size=3)"
   ]
  },
  {
   "cell_type": "markdown",
   "metadata": {},
   "source": [
    "### Creating bulk water consisting of several water molecules"
   ]
  },
  {
   "cell_type": "code",
   "execution_count": 7,
   "metadata": {},
   "outputs": [
    {
     "data": {
      "application/vnd.jupyter.widget-view+json": {
       "model_id": "e679c8f7cec8403aa243404ce8fdc234",
       "version_major": 2,
       "version_minor": 0
      },
      "text/plain": [
       "NGLWidget()"
      ]
     },
     "metadata": {},
     "output_type": "display_data"
    }
   ],
   "source": [
    "cell = np.eye(3) * 10\n",
    "r_O = [0, 0, 0]\n",
    "r_H1 = [0.0, 0.7, 0.7]\n",
    "r_H2 = [0.0, 0.7, -0.7]\n",
    "water_molecule = pr.create_atoms(\"H2O\", positions=[r_H1, r_H2, r_O], cell=cell)\n",
    "water_molecule.center()\n",
    "water_molecule.set_cell(water_molecule.cell * water_molecule.get_density() ** (1/3), scale_atoms=False)\n",
    "water_molecule.get_density()\n",
    "water_box = water_molecule.repeat(3)\n",
    "water_box.center_coordinates_in_unit_cell()\n",
    "water_box.plot3d(spacefill=False)"
   ]
  },
  {
   "cell_type": "markdown",
   "metadata": {},
   "source": [
    "### Creating an Al supercell with interstitial H"
   ]
  },
  {
   "cell_type": "markdown",
   "metadata": {},
   "source": [
    "#### Create Al sublattice"
   ]
  },
  {
   "cell_type": "code",
   "execution_count": 8,
   "metadata": {},
   "outputs": [],
   "source": [
    "Al_struct = pr.create_ase_bulk(\"Al\", cubic=True)"
   ]
  },
  {
   "cell_type": "markdown",
   "metadata": {},
   "source": [
    "#### Create H interstitial sublattice"
   ]
  },
  {
   "cell_type": "code",
   "execution_count": 9,
   "metadata": {},
   "outputs": [],
   "source": [
    "H_int = Al_struct.copy()\n",
    "H_int[:] = \"H\"\n",
    "H_int.scaled_positions += 0.5"
   ]
  },
  {
   "cell_type": "markdown",
   "metadata": {},
   "source": [
    "#### Create a 2x2x4 supercell for both lattices"
   ]
  },
  {
   "cell_type": "code",
   "execution_count": 10,
   "metadata": {},
   "outputs": [],
   "source": [
    "Al_struct.set_repeat([2, 2, 4])\n",
    "H_int.set_repeat([2, 2, 4])"
   ]
  },
  {
   "cell_type": "markdown",
   "metadata": {},
   "source": [
    "#### Occupy the H sublattice randomly with 10 H atoms "
   ]
  },
  {
   "cell_type": "code",
   "execution_count": 11,
   "metadata": {},
   "outputs": [],
   "source": [
    "rand_int = np.arange(0, len(H_int))\n",
    "np.random.shuffle(rand_int)\n",
    "H_int = H_int[rand_int[:10]]"
   ]
  },
  {
   "cell_type": "markdown",
   "metadata": {},
   "source": [
    "#### Combine Al and H sublattice in same supercell"
   ]
  },
  {
   "cell_type": "code",
   "execution_count": 12,
   "metadata": {},
   "outputs": [
    {
     "data": {
      "application/vnd.jupyter.widget-view+json": {
       "model_id": "dd19a69a556447e4afea1fe31ece18a2",
       "version_major": 2,
       "version_minor": 0
      },
      "text/plain": [
       "NGLWidget()"
      ]
     },
     "metadata": {},
     "output_type": "display_data"
    }
   ],
   "source": [
    "AlH_struct = Al_struct + H_int\n",
    "AlH_struct.plot3d(particle_size=3)"
   ]
  },
  {
   "cell_type": "markdown",
   "metadata": {},
   "source": [
    "## Perform a MD simulation of the AlH supercell using LAMMPS"
   ]
  },
  {
   "cell_type": "markdown",
   "metadata": {},
   "source": [
    "### Setup the Lammps calculation"
   ]
  },
  {
   "cell_type": "code",
   "execution_count": 13,
   "metadata": {},
   "outputs": [
    {
     "name": "stdout",
     "output_type": "stream",
     "text": [
      "['Al_H_Ni_Angelo_eam', '1995--Angelo-J-E--Ni-Al-H--LAMMPS--ipr1', '2018--Zhou-X-W--Al-Cu-H--LAMMPS--ipr1', 'EAM_Dynamo_AngeloMoodyBaskes_1995_NiAlH__MO_418978237058_005']\n"
     ]
    }
   ],
   "source": [
    "job_lammps = pr.create_job(job_type=pr.job_type.Lammps, job_name= \"AlH_lammps\")\n",
    "job_lammps.structure = AlH_struct\n",
    "print(job_lammps.list_potentials())\n",
    "job_lammps.potential =  'Al_H_Ni_Angelo_eam'\n",
    "job_lammps.calc_md(temperature=600, n_ionic_steps=10000)"
   ]
  },
  {
   "cell_type": "code",
   "execution_count": 14,
   "metadata": {},
   "outputs": [
    {
     "name": "stderr",
     "output_type": "stream",
     "text": [
      "2020-04-17 12:14:21,559 - pyiron_log - WARNING - The job AlH_lammps is being loaded instead of running. To re-run use the argument 'run_again=True'\n"
     ]
    }
   ],
   "source": [
    "job_lammps.run()"
   ]
  },
  {
   "cell_type": "markdown",
   "metadata": {},
   "source": [
    "### Animate MD trajectories"
   ]
  },
  {
   "cell_type": "code",
   "execution_count": 15,
   "metadata": {},
   "outputs": [
    {
     "data": {
      "application/vnd.jupyter.widget-view+json": {
       "model_id": "25a5931c2f15417b83ad23aa6b2aea52",
       "version_major": 2,
       "version_minor": 0
      },
      "text/plain": [
       "NGLWidget(max_frame=100)"
      ]
     },
     "metadata": {},
     "output_type": "display_data"
    }
   ],
   "source": [
    "job_lammps.animate_structure(particle_size=1)"
   ]
  },
  {
   "cell_type": "markdown",
   "metadata": {},
   "source": [
    "### Analyze trajectories in more detail"
   ]
  },
  {
   "cell_type": "code",
   "execution_count": 16,
   "metadata": {},
   "outputs": [
    {
     "data": {
      "text/plain": [
       "array([64, 65, 66, 67, 68, 69, 70, 71, 72, 73])"
      ]
     },
     "execution_count": 16,
     "metadata": {},
     "output_type": "execute_result"
    }
   ],
   "source": [
    "H_indices = AlH_struct.select_index(\"H\")\n",
    "Al_indices = AlH_struct.select_index(\"Al\")\n",
    "H_indices"
   ]
  },
  {
   "cell_type": "markdown",
   "metadata": {},
   "source": [
    "#### Plot Al trajectories in grey, H ones in red"
   ]
  },
  {
   "cell_type": "code",
   "execution_count": 17,
   "metadata": {},
   "outputs": [
    {
     "data": {
      "image/png": "[encoded data removed]",
      "text/plain": [
       "<Figure size 432x288 with 1 Axes>"
      ]
     },
     "metadata": {
      "needs_background": "light"
     },
     "output_type": "display_data"
    }
   ],
   "source": [
    "plt.plot(job_lammps.output.unwrapped_positions[:, :, 2], color=\"grey\")\n",
    "plt.plot(job_lammps.output.unwrapped_positions[:, H_indices, 2], color=\"red\")\n",
    "plt.xlabel(\"time [fs]\")\n",
    "plt.ylabel(\"positions [$\\AA$]\");"
   ]
  },
  {
   "cell_type": "markdown",
   "metadata": {},
   "source": [
    "### Visualize the last MD configuration"
   ]
  },
  {
   "cell_type": "code",
   "execution_count": 18,
   "metadata": {},
   "outputs": [
    {
     "data": {
      "application/vnd.jupyter.widget-view+json": {
       "model_id": "ae791f2f7aab44aab98e739fb52245da",
       "version_major": 2,
       "version_minor": 0
      },
      "text/plain": [
       "NGLWidget()"
      ]
     },
     "metadata": {},
     "output_type": "display_data"
    }
   ],
   "source": [
    "md_struct = job_lammps.get_structure(iteration_step=-1)\n",
    "md_struct.plot3d(particle_size=2)"
   ]
  },
  {
   "cell_type": "markdown",
   "metadata": {},
   "source": [
    "### Take the last configuration and perform structure relaxation (including cell relaxation - pressure=0)"
   ]
  },
  {
   "cell_type": "code",
   "execution_count": 19,
   "metadata": {},
   "outputs": [],
   "source": [
    "job_lammps_minimize = pr.create_job(pr.job_type.Lammps, \"AlH_minimize\")\n",
    "job_lammps_minimize.structure = md_struct"
   ]
  },
  {
   "cell_type": "code",
   "execution_count": 20,
   "metadata": {},
   "outputs": [],
   "source": [
    "job_lammps_minimize.potential = job_lammps.potential.copy() # this looks not so nice, could we take a copy of job_lammps?"
   ]
  },
  {
   "cell_type": "code",
   "execution_count": 21,
   "metadata": {},
   "outputs": [
    {
     "name": "stderr",
     "output_type": "stream",
     "text": [
      "2020-04-17 12:14:25,848 - pyiron_log - WARNING - The job AlH_minimize is being loaded instead of running. To re-run use the argument 'run_again=True'\n"
     ]
    }
   ],
   "source": [
    "job_lammps_minimize.calc_minimize(pressure=0)\n",
    "job_lammps_minimize.run()"
   ]
  },
  {
   "cell_type": "code",
   "execution_count": 22,
   "metadata": {},
   "outputs": [
    {
     "data": {
      "image/png": "[encoded data removed]",
      "text/plain": [
       "<Figure size 432x288 with 1 Axes>"
      ]
     },
     "metadata": {
      "needs_background": "light"
     },
     "output_type": "display_data"
    }
   ],
   "source": [
    "plt.plot(job_lammps_minimize.output.volume)\n",
    "plt.title('Volume vs iteration')\n",
    "plt.ylabel('Volume [$A^3$]');"
   ]
  },
  {
   "cell_type": "code",
   "execution_count": 23,
   "metadata": {},
   "outputs": [
    {
     "data": {
      "application/vnd.jupyter.widget-view+json": {
       "model_id": "3e95e15a894945c888f1ee81fd2f069a",
       "version_major": 2,
       "version_minor": 0
      },
      "text/plain": [
       "NGLWidget(max_frame=85)"
      ]
     },
     "metadata": {},
     "output_type": "display_data"
    }
   ],
   "source": [
    "job_lammps_minimize.animate_structure(particle_size=1)"
   ]
  },
  {
   "cell_type": "code",
   "execution_count": 24,
   "metadata": {},
   "outputs": [
    {
     "data": {
      "application/vnd.jupyter.widget-view+json": {
       "model_id": "0daf7e55e41348559e94f9df53aedc50",
       "version_major": 2,
       "version_minor": 0
      },
      "text/plain": [
       "NGLWidget()"
      ]
     },
     "metadata": {},
     "output_type": "display_data"
    }
   ],
   "source": [
    "job_lammps_minimize.get_structure(-1).plot3d(particle_size=2)"
   ]
  },
  {
   "cell_type": "markdown",
   "metadata": {},
   "source": [
    "## Analysis"
   ]
  },
  {
   "cell_type": "markdown",
   "metadata": {},
   "source": [
    "### Plot Al-Al and H-H pair correlation function of the last MD structure\n",
    "\n",
    "This is done using the `get_neighbors()` function"
   ]
  },
  {
   "cell_type": "code",
   "execution_count": 25,
   "metadata": {},
   "outputs": [
    {
     "data": {
      "image/png": "[encoded data removed]",
      "text/plain": [
       "<Figure size 432x288 with 1 Axes>"
      ]
     },
     "metadata": {
      "needs_background": "light"
     },
     "output_type": "display_data"
    }
   ],
   "source": [
    "neighbors_md = md_struct[Al_indices].get_neighbors(num_neighbors=100)\n",
    "plt.hist(neighbors_md.distances.flatten(), bins=50, alpha=0.3, density=True, label=\"Al-Al\")\n",
    "neighbors_md = md_struct[H_indices].get_neighbors(num_neighbors=100)\n",
    "plt.hist(neighbors_md.distances.flatten(), bins=50, alpha=0.3, density=True, label=\"H-H\")\n",
    "plt.xlabel('distance [A]')\n",
    "plt.legend();"
   ]
  },
  {
   "cell_type": "markdown",
   "metadata": {},
   "source": [
    "### Plot Al-Al and H-H pair correlation function after structure and cell relaxation "
   ]
  },
  {
   "cell_type": "code",
   "execution_count": 26,
   "metadata": {},
   "outputs": [
    {
     "data": {
      "image/png": "[encoded data removed]",
      "text/plain": [
       "<Figure size 432x288 with 1 Axes>"
      ]
     },
     "metadata": {
      "needs_background": "light"
     },
     "output_type": "display_data"
    }
   ],
   "source": [
    "min_struct = job_lammps_minimize.get_structure(-1)\n",
    "neighbors_min = min_struct[Al_indices].get_neighbors(num_neighbors=100)\n",
    "plt.hist(neighbors_min.distances.flatten(), bins=50, alpha=0.3, density=True, label=\"Al-Al\")\n",
    "neighbors_min = min_struct[H_indices].get_neighbors(num_neighbors=100)\n",
    "plt.hist(neighbors_min.distances.flatten(), bins=50, alpha=0.3, density=True, label=\"H-H\")\n",
    "plt.xlabel('distance [A]')\n",
    "plt.legend();"
   ]
  },
  {
   "cell_type": "markdown",
   "metadata": {},
   "source": [
    "### Compare Al-Al pair correlation before and after relaxation"
   ]
  },
  {
   "cell_type": "code",
   "execution_count": 27,
   "metadata": {},
   "outputs": [
    {
     "data": {
      "image/png": "[encoded data removed]",
      "text/plain": [
       "<Figure size 432x288 with 1 Axes>"
      ]
     },
     "metadata": {
      "needs_background": "light"
     },
     "output_type": "display_data"
    }
   ],
   "source": [
    "neighbors_min = min_struct[Al_indices].get_neighbors(num_neighbors=100)\n",
    "plt.hist(neighbors_min.distances.flatten(), bins=50, alpha=0.3, density=True, label=\"Al-Al min\")\n",
    "neighbors_md = md_struct[Al_indices].get_neighbors(num_neighbors=100)\n",
    "plt.hist(neighbors_md.distances.flatten(), bins=50, alpha=0.3, density=True, label=\"Al-Al md\")\n",
    "plt.legend();"
   ]
  },
  {
   "cell_type": "markdown",
   "metadata": {},
   "source": [
    "### Utility functions"
   ]
  },
  {
   "cell_type": "code",
   "execution_count": 28,
   "metadata": {},
   "outputs": [
    {
     "data": {
      "text/html": [
       "<div>\n",
       "<style scoped>\n",
       "    .dataframe tbody tr th:only-of-type {\n",
       "        vertical-align: middle;\n",
       "    }\n",
       "\n",
       "    .dataframe tbody tr th {\n",
       "        vertical-align: top;\n",
       "    }\n",
       "\n",
       "    .dataframe thead th {\n",
       "        text-align: right;\n",
       "    }\n",
       "</style>\n",
       "<table border=\"1\" class=\"dataframe\">\n",
       "  <thead>\n",
       "    <tr style=\"text-align: right;\">\n",
       "      <th></th>\n",
       "      <th>id</th>\n",
       "      <th>status</th>\n",
       "      <th>chemicalformula</th>\n",
       "      <th>job</th>\n",
       "      <th>subjob</th>\n",
       "      <th>projectpath</th>\n",
       "      <th>project</th>\n",
       "      <th>timestart</th>\n",
       "      <th>timestop</th>\n",
       "      <th>totalcputime</th>\n",
       "      <th>computer</th>\n",
       "      <th>hamilton</th>\n",
       "      <th>hamversion</th>\n",
       "      <th>parentid</th>\n",
       "      <th>masterid</th>\n",
       "    </tr>\n",
       "  </thead>\n",
       "  <tbody>\n",
       "    <tr>\n",
       "      <th>0</th>\n",
       "      <td>1491</td>\n",
       "      <td>finished</td>\n",
       "      <td>Al64H10</td>\n",
       "      <td>AlH_lammps</td>\n",
       "      <td>/AlH_lammps</td>\n",
       "      <td>/home/surendralal/</td>\n",
       "      <td>notebooks/pyiron-virtual-workshop-2020/tutorials/demo/</td>\n",
       "      <td>2020-04-17 11:50:02.094918</td>\n",
       "      <td>2020-04-17 11:50:06.136120</td>\n",
       "      <td>4.0</td>\n",
       "      <td>pyiron@cmdell17#1</td>\n",
       "      <td>Lammps</td>\n",
       "      <td>0.1</td>\n",
       "      <td>None</td>\n",
       "      <td>NaN</td>\n",
       "    </tr>\n",
       "    <tr>\n",
       "      <th>1</th>\n",
       "      <td>1492</td>\n",
       "      <td>finished</td>\n",
       "      <td>Al64H10</td>\n",
       "      <td>AlH_minimize</td>\n",
       "      <td>/AlH_minimize</td>\n",
       "      <td>/home/surendralal/</td>\n",
       "      <td>notebooks/pyiron-virtual-workshop-2020/tutorials/demo/</td>\n",
       "      <td>2020-04-17 11:50:08.942298</td>\n",
       "      <td>2020-04-17 11:50:12.974839</td>\n",
       "      <td>4.0</td>\n",
       "      <td>pyiron@cmdell17#1</td>\n",
       "      <td>Lammps</td>\n",
       "      <td>0.1</td>\n",
       "      <td>None</td>\n",
       "      <td>NaN</td>\n",
       "    </tr>\n",
       "    <tr>\n",
       "      <th>2</th>\n",
       "      <td>1493</td>\n",
       "      <td>finished</td>\n",
       "      <td>Al4</td>\n",
       "      <td>Al_a_3_9</td>\n",
       "      <td>/Al_a_3_9</td>\n",
       "      <td>/home/surendralal/</td>\n",
       "      <td>notebooks/pyiron-virtual-workshop-2020/tutorials/demo/Al_murnaghan_manual/</td>\n",
       "      <td>2020-04-17 11:50:22.689141</td>\n",
       "      <td>2020-04-17 11:50:23.516998</td>\n",
       "      <td>0.0</td>\n",
       "      <td>pyiron@cmdell17#1</td>\n",
       "      <td>Lammps</td>\n",
       "      <td>0.1</td>\n",
       "      <td>None</td>\n",
       "      <td>NaN</td>\n",
       "    </tr>\n",
       "    <tr>\n",
       "      <th>3</th>\n",
       "      <td>1494</td>\n",
       "      <td>finished</td>\n",
       "      <td>Al4</td>\n",
       "      <td>Al_a_3_92</td>\n",
       "      <td>/Al_a_3_92</td>\n",
       "      <td>/home/surendralal/</td>\n",
       "      <td>notebooks/pyiron-virtual-workshop-2020/tutorials/demo/Al_murnaghan_manual/</td>\n",
       "      <td>2020-04-17 11:50:24.083709</td>\n",
       "      <td>2020-04-17 11:50:24.818895</td>\n",
       "      <td>0.0</td>\n",
       "      <td>pyiron@cmdell17#1</td>\n",
       "      <td>Lammps</td>\n",
       "      <td>0.1</td>\n",
       "      <td>None</td>\n",
       "      <td>NaN</td>\n",
       "    </tr>\n",
       "    <tr>\n",
       "      <th>4</th>\n",
       "      <td>1495</td>\n",
       "      <td>finished</td>\n",
       "      <td>Al4</td>\n",
       "      <td>Al_a_3_94</td>\n",
       "      <td>/Al_a_3_94</td>\n",
       "      <td>/home/surendralal/</td>\n",
       "      <td>notebooks/pyiron-virtual-workshop-2020/tutorials/demo/Al_murnaghan_manual/</td>\n",
       "      <td>2020-04-17 11:50:25.363148</td>\n",
       "      <td>2020-04-17 11:50:26.061825</td>\n",
       "      <td>0.0</td>\n",
       "      <td>pyiron@cmdell17#1</td>\n",
       "      <td>Lammps</td>\n",
       "      <td>0.1</td>\n",
       "      <td>None</td>\n",
       "      <td>NaN</td>\n",
       "    </tr>\n",
       "    <tr>\n",
       "      <th>...</th>\n",
       "      <td>...</td>\n",
       "      <td>...</td>\n",
       "      <td>...</td>\n",
       "      <td>...</td>\n",
       "      <td>...</td>\n",
       "      <td>...</td>\n",
       "      <td>...</td>\n",
       "      <td>...</td>\n",
       "      <td>...</td>\n",
       "      <td>...</td>\n",
       "      <td>...</td>\n",
       "      <td>...</td>\n",
       "      <td>...</td>\n",
       "      <td>...</td>\n",
       "      <td>...</td>\n",
       "    </tr>\n",
       "    <tr>\n",
       "      <th>130</th>\n",
       "      <td>1621</td>\n",
       "      <td>finished</td>\n",
       "      <td>Al4</td>\n",
       "      <td>strain_1_02</td>\n",
       "      <td>/strain_1_02</td>\n",
       "      <td>/home/surendralal/</td>\n",
       "      <td>notebooks/pyiron-virtual-workshop-2020/tutorials/demo/potential_scan/2004__Zhou_X_W__Al__LAMMPS__ipr1/murn_Al_hdf5/</td>\n",
       "      <td>2020-04-17 11:55:46.292930</td>\n",
       "      <td>2020-04-17 11:55:47.158251</td>\n",
       "      <td>0.0</td>\n",
       "      <td>pyiron@cmdell17#1</td>\n",
       "      <td>Lammps</td>\n",
       "      <td>0.1</td>\n",
       "      <td>None</td>\n",
       "      <td>1614.0</td>\n",
       "    </tr>\n",
       "    <tr>\n",
       "      <th>131</th>\n",
       "      <td>1622</td>\n",
       "      <td>finished</td>\n",
       "      <td>Al4</td>\n",
       "      <td>strain_1_04</td>\n",
       "      <td>/strain_1_04</td>\n",
       "      <td>/home/surendralal/</td>\n",
       "      <td>notebooks/pyiron-virtual-workshop-2020/tutorials/demo/potential_scan/2004__Zhou_X_W__Al__LAMMPS__ipr1/murn_Al_hdf5/</td>\n",
       "      <td>2020-04-17 11:55:48.465062</td>\n",
       "      <td>2020-04-17 11:55:49.263164</td>\n",
       "      <td>0.0</td>\n",
       "      <td>pyiron@cmdell17#1</td>\n",
       "      <td>Lammps</td>\n",
       "      <td>0.1</td>\n",
       "      <td>None</td>\n",
       "      <td>1614.0</td>\n",
       "    </tr>\n",
       "    <tr>\n",
       "      <th>132</th>\n",
       "      <td>1623</td>\n",
       "      <td>finished</td>\n",
       "      <td>Al4</td>\n",
       "      <td>strain_1_06</td>\n",
       "      <td>/strain_1_06</td>\n",
       "      <td>/home/surendralal/</td>\n",
       "      <td>notebooks/pyiron-virtual-workshop-2020/tutorials/demo/potential_scan/2004__Zhou_X_W__Al__LAMMPS__ipr1/murn_Al_hdf5/</td>\n",
       "      <td>2020-04-17 11:55:50.518689</td>\n",
       "      <td>2020-04-17 11:55:51.442598</td>\n",
       "      <td>0.0</td>\n",
       "      <td>pyiron@cmdell17#1</td>\n",
       "      <td>Lammps</td>\n",
       "      <td>0.1</td>\n",
       "      <td>None</td>\n",
       "      <td>1614.0</td>\n",
       "    </tr>\n",
       "    <tr>\n",
       "      <th>133</th>\n",
       "      <td>1624</td>\n",
       "      <td>finished</td>\n",
       "      <td>Al4</td>\n",
       "      <td>strain_1_08</td>\n",
       "      <td>/strain_1_08</td>\n",
       "      <td>/home/surendralal/</td>\n",
       "      <td>notebooks/pyiron-virtual-workshop-2020/tutorials/demo/potential_scan/2004__Zhou_X_W__Al__LAMMPS__ipr1/murn_Al_hdf5/</td>\n",
       "      <td>2020-04-17 11:55:52.782326</td>\n",
       "      <td>2020-04-17 11:55:53.660888</td>\n",
       "      <td>0.0</td>\n",
       "      <td>pyiron@cmdell17#1</td>\n",
       "      <td>Lammps</td>\n",
       "      <td>0.1</td>\n",
       "      <td>None</td>\n",
       "      <td>1614.0</td>\n",
       "    </tr>\n",
       "    <tr>\n",
       "      <th>134</th>\n",
       "      <td>1625</td>\n",
       "      <td>finished</td>\n",
       "      <td>Al4</td>\n",
       "      <td>strain_1_1</td>\n",
       "      <td>/strain_1_1</td>\n",
       "      <td>/home/surendralal/</td>\n",
       "      <td>notebooks/pyiron-virtual-workshop-2020/tutorials/demo/potential_scan/2004__Zhou_X_W__Al__LAMMPS__ipr1/murn_Al_hdf5/</td>\n",
       "      <td>2020-04-17 11:55:54.975960</td>\n",
       "      <td>2020-04-17 11:55:55.839561</td>\n",
       "      <td>0.0</td>\n",
       "      <td>pyiron@cmdell17#1</td>\n",
       "      <td>Lammps</td>\n",
       "      <td>0.1</td>\n",
       "      <td>None</td>\n",
       "      <td>1614.0</td>\n",
       "    </tr>\n",
       "  </tbody>\n",
       "</table>\n",
       "<p>135 rows × 15 columns</p>\n",
       "</div>"
      ],
      "text/plain": [
       "       id    status chemicalformula           job         subjob  \\\n",
       "0    1491  finished         Al64H10    AlH_lammps    /AlH_lammps   \n",
       "1    1492  finished         Al64H10  AlH_minimize  /AlH_minimize   \n",
       "2    1493  finished             Al4      Al_a_3_9      /Al_a_3_9   \n",
       "3    1494  finished             Al4     Al_a_3_92     /Al_a_3_92   \n",
       "4    1495  finished             Al4     Al_a_3_94     /Al_a_3_94   \n",
       "..    ...       ...             ...           ...            ...   \n",
       "130  1621  finished             Al4   strain_1_02   /strain_1_02   \n",
       "131  1622  finished             Al4   strain_1_04   /strain_1_04   \n",
       "132  1623  finished             Al4   strain_1_06   /strain_1_06   \n",
       "133  1624  finished             Al4   strain_1_08   /strain_1_08   \n",
       "134  1625  finished             Al4    strain_1_1    /strain_1_1   \n",
       "\n",
       "            projectpath  \\\n",
       "0    /home/surendralal/   \n",
       "1    /home/surendralal/   \n",
       "2    /home/surendralal/   \n",
       "3    /home/surendralal/   \n",
       "4    /home/surendralal/   \n",
       "..                  ...   \n",
       "130  /home/surendralal/   \n",
       "131  /home/surendralal/   \n",
       "132  /home/surendralal/   \n",
       "133  /home/surendralal/   \n",
       "134  /home/surendralal/   \n",
       "\n",
       "                                                                                                                 project  \\\n",
       "0                                                                 notebooks/pyiron-virtual-workshop-2020/tutorials/demo/   \n",
       "1                                                                 notebooks/pyiron-virtual-workshop-2020/tutorials/demo/   \n",
       "2                                             notebooks/pyiron-virtual-workshop-2020/tutorials/demo/Al_murnaghan_manual/   \n",
       "3                                             notebooks/pyiron-virtual-workshop-2020/tutorials/demo/Al_murnaghan_manual/   \n",
       "4                                             notebooks/pyiron-virtual-workshop-2020/tutorials/demo/Al_murnaghan_manual/   \n",
       "..                                                                                                                   ...   \n",
       "130  notebooks/pyiron-virtual-workshop-2020/tutorials/demo/potential_scan/2004__Zhou_X_W__Al__LAMMPS__ipr1/murn_Al_hdf5/   \n",
       "131  notebooks/pyiron-virtual-workshop-2020/tutorials/demo/potential_scan/2004__Zhou_X_W__Al__LAMMPS__ipr1/murn_Al_hdf5/   \n",
       "132  notebooks/pyiron-virtual-workshop-2020/tutorials/demo/potential_scan/2004__Zhou_X_W__Al__LAMMPS__ipr1/murn_Al_hdf5/   \n",
       "133  notebooks/pyiron-virtual-workshop-2020/tutorials/demo/potential_scan/2004__Zhou_X_W__Al__LAMMPS__ipr1/murn_Al_hdf5/   \n",
       "134  notebooks/pyiron-virtual-workshop-2020/tutorials/demo/potential_scan/2004__Zhou_X_W__Al__LAMMPS__ipr1/murn_Al_hdf5/   \n",
       "\n",
       "                     timestart                   timestop  totalcputime  \\\n",
       "0   2020-04-17 11:50:02.094918 2020-04-17 11:50:06.136120           4.0   \n",
       "1   2020-04-17 11:50:08.942298 2020-04-17 11:50:12.974839           4.0   \n",
       "2   2020-04-17 11:50:22.689141 2020-04-17 11:50:23.516998           0.0   \n",
       "3   2020-04-17 11:50:24.083709 2020-04-17 11:50:24.818895           0.0   \n",
       "4   2020-04-17 11:50:25.363148 2020-04-17 11:50:26.061825           0.0   \n",
       "..                         ...                        ...           ...   \n",
       "130 2020-04-17 11:55:46.292930 2020-04-17 11:55:47.158251           0.0   \n",
       "131 2020-04-17 11:55:48.465062 2020-04-17 11:55:49.263164           0.0   \n",
       "132 2020-04-17 11:55:50.518689 2020-04-17 11:55:51.442598           0.0   \n",
       "133 2020-04-17 11:55:52.782326 2020-04-17 11:55:53.660888           0.0   \n",
       "134 2020-04-17 11:55:54.975960 2020-04-17 11:55:55.839561           0.0   \n",
       "\n",
       "              computer hamilton hamversion parentid  masterid  \n",
       "0    pyiron@cmdell17#1   Lammps        0.1     None       NaN  \n",
       "1    pyiron@cmdell17#1   Lammps        0.1     None       NaN  \n",
       "2    pyiron@cmdell17#1   Lammps        0.1     None       NaN  \n",
       "3    pyiron@cmdell17#1   Lammps        0.1     None       NaN  \n",
       "4    pyiron@cmdell17#1   Lammps        0.1     None       NaN  \n",
       "..                 ...      ...        ...      ...       ...  \n",
       "130  pyiron@cmdell17#1   Lammps        0.1     None    1614.0  \n",
       "131  pyiron@cmdell17#1   Lammps        0.1     None    1614.0  \n",
       "132  pyiron@cmdell17#1   Lammps        0.1     None    1614.0  \n",
       "133  pyiron@cmdell17#1   Lammps        0.1     None    1614.0  \n",
       "134  pyiron@cmdell17#1   Lammps        0.1     None    1614.0  \n",
       "\n",
       "[135 rows x 15 columns]"
      ]
     },
     "execution_count": 28,
     "metadata": {},
     "output_type": "execute_result"
    }
   ],
   "source": [
    "pr.job_table()"
   ]
  },
  {
   "cell_type": "code",
   "execution_count": 29,
   "metadata": {},
   "outputs": [],
   "source": [
    "job_md_reloaded = pr.load(\"AlH_lammps\")"
   ]
  },
  {
   "cell_type": "code",
   "execution_count": 30,
   "metadata": {},
   "outputs": [],
   "source": [
    "job_min_reloaded = pr.load(\"AlH_minimize\")"
   ]
  },
  {
   "cell_type": "code",
   "execution_count": 31,
   "metadata": {},
   "outputs": [
    {
     "data": {
      "text/plain": [
       "pyiron.lammps.lammps.Lammps"
      ]
     },
     "execution_count": 31,
     "metadata": {},
     "output_type": "execute_result"
    }
   ],
   "source": [
    "type(job_min_reloaded)"
   ]
  },
  {
   "cell_type": "code",
   "execution_count": 32,
   "metadata": {},
   "outputs": [
    {
     "data": {
      "text/plain": [
       "{'groups': ['Al_murnaghan_manual', 'band_structure', 'murnaghan_Al_dft', 'murnaghan_automatic', 'potential_scan', 'sphinx_demo'], 'nodes': ['AlH_lammps', 'AlH_minimize']}"
      ]
     },
     "execution_count": 32,
     "metadata": {},
     "output_type": "execute_result"
    }
   ],
   "source": [
    "pr"
   ]
  },
  {
   "cell_type": "code",
   "execution_count": 33,
   "metadata": {},
   "outputs": [
    {
     "data": {
      "text/plain": [
       "{'groups': ['input', 'output'], 'nodes': ['NAME', 'TYPE', 'VERSION', 'server', 'status']}"
      ]
     },
     "execution_count": 33,
     "metadata": {},
     "output_type": "execute_result"
    }
   ],
   "source": [
    "pr[\"AlH_lammps\"]"
   ]
  },
  {
   "cell_type": "code",
   "execution_count": 34,
   "metadata": {},
   "outputs": [
    {
     "data": {
      "text/plain": [
       "{'groups': ['control_inp', 'generic', 'potential', 'potential_inp', 'structure'], 'nodes': ['generic_dict', 'interactive']}"
      ]
     },
     "execution_count": 34,
     "metadata": {},
     "output_type": "execute_result"
    }
   ],
   "source": [
    "pr[\"AlH_lammps/input\"]"
   ]
  },
  {
   "cell_type": "code",
   "execution_count": 35,
   "metadata": {},
   "outputs": [
    {
     "data": {
      "text/plain": [
       "((101, 74, 3), (101,))"
      ]
     },
     "execution_count": 35,
     "metadata": {},
     "output_type": "execute_result"
    }
   ],
   "source": [
    "pr[\"AlH_lammps/output/generic/forces\"].shape,  pr[\"AlH_lammps/output/generic/energy_tot\"].shape"
   ]
  },
  {
   "cell_type": "markdown",
   "metadata": {},
   "source": [
    "## Energy volume curves for Al"
   ]
  },
  {
   "cell_type": "markdown",
   "metadata": {},
   "source": [
    "### Manual setup and analysys"
   ]
  },
  {
   "cell_type": "code",
   "execution_count": 36,
   "metadata": {},
   "outputs": [],
   "source": [
    "pr = Project(\"demo/Al_murnaghan_manual\")"
   ]
  },
  {
   "cell_type": "code",
   "execution_count": 37,
   "metadata": {},
   "outputs": [
    {
     "name": "stderr",
     "output_type": "stream",
     "text": [
      "2020-04-17 12:14:37,797 - pyiron_log - WARNING - The job Al_a_3_9 is being loaded instead of running. To re-run use the argument 'run_again=True'\n",
      "2020-04-17 12:14:40,296 - pyiron_log - WARNING - The job Al_a_3_92 is being loaded instead of running. To re-run use the argument 'run_again=True'\n",
      "2020-04-17 12:14:44,419 - pyiron_log - WARNING - The job Al_a_3_94 is being loaded instead of running. To re-run use the argument 'run_again=True'\n",
      "2020-04-17 12:14:47,396 - pyiron_log - WARNING - The job Al_a_3_96 is being loaded instead of running. To re-run use the argument 'run_again=True'\n",
      "2020-04-17 12:14:50,397 - pyiron_log - WARNING - The job Al_a_3_98 is being loaded instead of running. To re-run use the argument 'run_again=True'\n",
      "2020-04-17 12:14:53,179 - pyiron_log - WARNING - The job Al_a_4_0 is being loaded instead of running. To re-run use the argument 'run_again=True'\n",
      "2020-04-17 12:14:55,681 - pyiron_log - WARNING - The job Al_a_4_02 is being loaded instead of running. To re-run use the argument 'run_again=True'\n",
      "2020-04-17 12:14:59,032 - pyiron_log - WARNING - The job Al_a_4_04 is being loaded instead of running. To re-run use the argument 'run_again=True'\n",
      "2020-04-17 12:15:02,321 - pyiron_log - WARNING - The job Al_a_4_06 is being loaded instead of running. To re-run use the argument 'run_again=True'\n",
      "2020-04-17 12:15:05,058 - pyiron_log - WARNING - The job Al_a_4_08 is being loaded instead of running. To re-run use the argument 'run_again=True'\n",
      "2020-04-17 12:15:07,937 - pyiron_log - WARNING - The job Al_a_4_1 is being loaded instead of running. To re-run use the argument 'run_again=True'\n"
     ]
    }
   ],
   "source": [
    "a_list = np.linspace(3.9, 4.1, 11)\n",
    "for a in a_list:\n",
    "    job_name = \"Al_a_{}\".format(a).replace(\".\", \"_\")\n",
    "    job = pr.create_job(pr.job_type.Lammps, job_name)\n",
    "    job.structure = pr.create_ase_bulk(\"Al\", a=a, cubic=True)\n",
    "    job.potential = 'Al_H_Ni_Angelo_eam'\n",
    "    job.calc_minimize()\n",
    "    job.run()"
   ]
  },
  {
   "cell_type": "code",
   "execution_count": 38,
   "metadata": {},
   "outputs": [],
   "source": [
    "pr.job_table();"
   ]
  },
  {
   "cell_type": "markdown",
   "metadata": {},
   "source": [
    "### Analysis: Loading vs inspecting jobs\n",
    "\n",
    "The data from these calculations are retreived either by loading each of these jobs or by inspecting them (from their hdf5 files)."
   ]
  },
  {
   "cell_type": "code",
   "execution_count": 39,
   "metadata": {},
   "outputs": [
    {
     "data": {
      "text/plain": [
       "(array([-13.21258266, -13.21258266]),\n",
       " array([-13.21258266, -13.21258266]),\n",
       " pyiron.lammps.lammps.Lammps)"
      ]
     },
     "execution_count": 39,
     "metadata": {},
     "output_type": "execute_result"
    }
   ],
   "source": [
    "job_loaded = pr.load(\"Al_a_3_9\")\n",
    "struct = job_loaded.get_structure()\n",
    "job_loaded.output.energy_tot, job_loaded[\"output/generic/energy_tot\"], type(job_loaded)"
   ]
  },
  {
   "cell_type": "code",
   "execution_count": 40,
   "metadata": {},
   "outputs": [
    {
     "data": {
      "text/plain": [
       "(array([-13.21258266, -13.21258266]), pyiron.base.job.path.JobPath)"
      ]
     },
     "execution_count": 40,
     "metadata": {},
     "output_type": "execute_result"
    }
   ],
   "source": [
    "job_inspect = pr.inspect(\"Al_a_3_9\")\n",
    "job_loaded[\"output/generic/energy_tot\"], type(job_inspect)"
   ]
  },
  {
   "cell_type": "markdown",
   "metadata": {},
   "source": [
    "So why use the inspect mode if recreating the object gives access to all it's pyiron functions? The inspect mode is actually much faster if you only want to access certain values without recreating the entire job object."
   ]
  },
  {
   "cell_type": "code",
   "execution_count": 41,
   "metadata": {},
   "outputs": [
    {
     "name": "stdout",
     "output_type": "stream",
     "text": [
      "CPU times: user 297 ms, sys: 31.2 ms, total: 328 ms\n",
      "Wall time: 392 ms\n"
     ]
    },
    {
     "data": {
      "text/plain": [
       "pyiron.base.job.path.JobPath"
      ]
     },
     "execution_count": 41,
     "metadata": {},
     "output_type": "execute_result"
    },
    {
     "data": {
      "image/png": "[encoded data removed]",
      "text/plain": [
       "<Figure size 432x288 with 1 Axes>"
      ]
     },
     "metadata": {
      "needs_background": "light"
     },
     "output_type": "display_data"
    }
   ],
   "source": [
    "%%time\n",
    "convert_to_object = False # True to load the job\n",
    "vol_list = list()\n",
    "energy_list = list()\n",
    "# Set recursive=False to only go over the higher levels and not return jobs from subprojects\n",
    "for job in pr.iter_jobs(convert_to_object=convert_to_object, recursive=False):\n",
    "    if job.status == \"finished\":\n",
    "        vol_list.append(job[\"output/generic/volume\"][-1])\n",
    "        energy_list.append(job[\"output/generic/energy_tot\"][-1])\n",
    "plt.plot(vol_list, energy_list, \"-x\")\n",
    "type(job)"
   ]
  },
  {
   "cell_type": "markdown",
   "metadata": {},
   "source": [
    "## Energy-Volume curves using predefined modules\n",
    "\n",
    "We will now use the predefined Murnaghan module to compute equilibrium T=0K properties "
   ]
  },
  {
   "cell_type": "code",
   "execution_count": 42,
   "metadata": {},
   "outputs": [],
   "source": [
    "pr = Project(\"demo/murnaghan_automatic\")"
   ]
  },
  {
   "cell_type": "markdown",
   "metadata": {},
   "source": [
    "### Setup of the Murnaghan job and a reference calculation for the parameters"
   ]
  },
  {
   "cell_type": "code",
   "execution_count": 43,
   "metadata": {},
   "outputs": [],
   "source": [
    "# Initialize the Murnaghan \"job\"\n",
    "murn = pr.create_job(pr.job_type.Murnaghan, \"murn_test\")\n",
    "# Create a reference job which contains all simulation parameters\n",
    "job_ref = pr.create_job(pr.job_type.Lammps, \"Al_ref\")\n",
    "job_ref.structure = pr.create_ase_bulk(\"Al\", cubic=True)\n",
    "job_ref.potential = 'Al_H_Ni_Angelo_eam'\n",
    "job_ref.calc_minimize()\n",
    "murn.ref_job = job_ref"
   ]
  },
  {
   "cell_type": "markdown",
   "metadata": {},
   "source": [
    "The Murnaghan job creates individual LAMMPS calculations with a strained unitcell"
   ]
  },
  {
   "cell_type": "code",
   "execution_count": 44,
   "metadata": {},
   "outputs": [
    {
     "name": "stderr",
     "output_type": "stream",
     "text": [
      "2020-04-17 12:15:13,923 - pyiron_log - WARNING - The job murn_test is being loaded instead of running. To re-run use the argument 'run_again=True'\n"
     ]
    }
   ],
   "source": [
    "murn.run()"
   ]
  },
  {
   "cell_type": "code",
   "execution_count": 45,
   "metadata": {},
   "outputs": [
    {
     "data": {
      "text/html": [
       "<div>\n",
       "<style scoped>\n",
       "    .dataframe tbody tr th:only-of-type {\n",
       "        vertical-align: middle;\n",
       "    }\n",
       "\n",
       "    .dataframe tbody tr th {\n",
       "        vertical-align: top;\n",
       "    }\n",
       "\n",
       "    .dataframe thead th {\n",
       "        text-align: right;\n",
       "    }\n",
       "</style>\n",
       "<table border=\"1\" class=\"dataframe\">\n",
       "  <thead>\n",
       "    <tr style=\"text-align: right;\">\n",
       "      <th></th>\n",
       "      <th>id</th>\n",
       "      <th>status</th>\n",
       "      <th>chemicalformula</th>\n",
       "      <th>job</th>\n",
       "      <th>subjob</th>\n",
       "      <th>projectpath</th>\n",
       "      <th>project</th>\n",
       "      <th>timestart</th>\n",
       "      <th>timestop</th>\n",
       "      <th>totalcputime</th>\n",
       "      <th>computer</th>\n",
       "      <th>hamilton</th>\n",
       "      <th>hamversion</th>\n",
       "      <th>parentid</th>\n",
       "      <th>masterid</th>\n",
       "    </tr>\n",
       "  </thead>\n",
       "  <tbody>\n",
       "    <tr>\n",
       "      <th>0</th>\n",
       "      <td>1504</td>\n",
       "      <td>finished</td>\n",
       "      <td>Al4</td>\n",
       "      <td>murn_test</td>\n",
       "      <td>/murn_test</td>\n",
       "      <td>/home/surendralal/</td>\n",
       "      <td>notebooks/pyiron-virtual-workshop-2020/tutorials/demo/murnaghan_automatic/</td>\n",
       "      <td>2020-04-17 11:50:38.699814</td>\n",
       "      <td>2020-04-17 11:51:02.556537</td>\n",
       "      <td>23.0</td>\n",
       "      <td>pyiron@cmdell17#1#11/11</td>\n",
       "      <td>Murnaghan</td>\n",
       "      <td>0.3.0</td>\n",
       "      <td>None</td>\n",
       "      <td>NaN</td>\n",
       "    </tr>\n",
       "    <tr>\n",
       "      <th>1</th>\n",
       "      <td>1505</td>\n",
       "      <td>finished</td>\n",
       "      <td>Al4</td>\n",
       "      <td>strain_0_9</td>\n",
       "      <td>/strain_0_9</td>\n",
       "      <td>/home/surendralal/</td>\n",
       "      <td>notebooks/pyiron-virtual-workshop-2020/tutorials/demo/murnaghan_automatic/murn_test_hdf5/</td>\n",
       "      <td>2020-04-17 11:50:40.062027</td>\n",
       "      <td>2020-04-17 11:50:40.850802</td>\n",
       "      <td>0.0</td>\n",
       "      <td>pyiron@cmdell17#1</td>\n",
       "      <td>Lammps</td>\n",
       "      <td>0.1</td>\n",
       "      <td>None</td>\n",
       "      <td>1504.0</td>\n",
       "    </tr>\n",
       "    <tr>\n",
       "      <th>2</th>\n",
       "      <td>1506</td>\n",
       "      <td>finished</td>\n",
       "      <td>Al4</td>\n",
       "      <td>strain_0_92</td>\n",
       "      <td>/strain_0_92</td>\n",
       "      <td>/home/surendralal/</td>\n",
       "      <td>notebooks/pyiron-virtual-workshop-2020/tutorials/demo/murnaghan_automatic/murn_test_hdf5/</td>\n",
       "      <td>2020-04-17 11:50:42.125409</td>\n",
       "      <td>2020-04-17 11:50:42.885062</td>\n",
       "      <td>0.0</td>\n",
       "      <td>pyiron@cmdell17#1</td>\n",
       "      <td>Lammps</td>\n",
       "      <td>0.1</td>\n",
       "      <td>None</td>\n",
       "      <td>1504.0</td>\n",
       "    </tr>\n",
       "    <tr>\n",
       "      <th>3</th>\n",
       "      <td>1507</td>\n",
       "      <td>finished</td>\n",
       "      <td>Al4</td>\n",
       "      <td>strain_0_94</td>\n",
       "      <td>/strain_0_94</td>\n",
       "      <td>/home/surendralal/</td>\n",
       "      <td>notebooks/pyiron-virtual-workshop-2020/tutorials/demo/murnaghan_automatic/murn_test_hdf5/</td>\n",
       "      <td>2020-04-17 11:50:44.289825</td>\n",
       "      <td>2020-04-17 11:50:45.176686</td>\n",
       "      <td>0.0</td>\n",
       "      <td>pyiron@cmdell17#1</td>\n",
       "      <td>Lammps</td>\n",
       "      <td>0.1</td>\n",
       "      <td>None</td>\n",
       "      <td>1504.0</td>\n",
       "    </tr>\n",
       "    <tr>\n",
       "      <th>4</th>\n",
       "      <td>1508</td>\n",
       "      <td>finished</td>\n",
       "      <td>Al4</td>\n",
       "      <td>strain_0_96</td>\n",
       "      <td>/strain_0_96</td>\n",
       "      <td>/home/surendralal/</td>\n",
       "      <td>notebooks/pyiron-virtual-workshop-2020/tutorials/demo/murnaghan_automatic/murn_test_hdf5/</td>\n",
       "      <td>2020-04-17 11:50:46.688354</td>\n",
       "      <td>2020-04-17 11:50:47.598676</td>\n",
       "      <td>0.0</td>\n",
       "      <td>pyiron@cmdell17#1</td>\n",
       "      <td>Lammps</td>\n",
       "      <td>0.1</td>\n",
       "      <td>None</td>\n",
       "      <td>1504.0</td>\n",
       "    </tr>\n",
       "    <tr>\n",
       "      <th>5</th>\n",
       "      <td>1509</td>\n",
       "      <td>finished</td>\n",
       "      <td>Al4</td>\n",
       "      <td>strain_0_98</td>\n",
       "      <td>/strain_0_98</td>\n",
       "      <td>/home/surendralal/</td>\n",
       "      <td>notebooks/pyiron-virtual-workshop-2020/tutorials/demo/murnaghan_automatic/murn_test_hdf5/</td>\n",
       "      <td>2020-04-17 11:50:48.755947</td>\n",
       "      <td>2020-04-17 11:50:49.634160</td>\n",
       "      <td>0.0</td>\n",
       "      <td>pyiron@cmdell17#1</td>\n",
       "      <td>Lammps</td>\n",
       "      <td>0.1</td>\n",
       "      <td>None</td>\n",
       "      <td>1504.0</td>\n",
       "    </tr>\n",
       "    <tr>\n",
       "      <th>6</th>\n",
       "      <td>1510</td>\n",
       "      <td>finished</td>\n",
       "      <td>Al4</td>\n",
       "      <td>strain_1_0</td>\n",
       "      <td>/strain_1_0</td>\n",
       "      <td>/home/surendralal/</td>\n",
       "      <td>notebooks/pyiron-virtual-workshop-2020/tutorials/demo/murnaghan_automatic/murn_test_hdf5/</td>\n",
       "      <td>2020-04-17 11:50:50.913039</td>\n",
       "      <td>2020-04-17 11:50:51.648389</td>\n",
       "      <td>0.0</td>\n",
       "      <td>pyiron@cmdell17#1</td>\n",
       "      <td>Lammps</td>\n",
       "      <td>0.1</td>\n",
       "      <td>None</td>\n",
       "      <td>1504.0</td>\n",
       "    </tr>\n",
       "    <tr>\n",
       "      <th>7</th>\n",
       "      <td>1511</td>\n",
       "      <td>finished</td>\n",
       "      <td>Al4</td>\n",
       "      <td>strain_1_02</td>\n",
       "      <td>/strain_1_02</td>\n",
       "      <td>/home/surendralal/</td>\n",
       "      <td>notebooks/pyiron-virtual-workshop-2020/tutorials/demo/murnaghan_automatic/murn_test_hdf5/</td>\n",
       "      <td>2020-04-17 11:50:53.035373</td>\n",
       "      <td>2020-04-17 11:50:53.854134</td>\n",
       "      <td>0.0</td>\n",
       "      <td>pyiron@cmdell17#1</td>\n",
       "      <td>Lammps</td>\n",
       "      <td>0.1</td>\n",
       "      <td>None</td>\n",
       "      <td>1504.0</td>\n",
       "    </tr>\n",
       "    <tr>\n",
       "      <th>8</th>\n",
       "      <td>1512</td>\n",
       "      <td>finished</td>\n",
       "      <td>Al4</td>\n",
       "      <td>strain_1_04</td>\n",
       "      <td>/strain_1_04</td>\n",
       "      <td>/home/surendralal/</td>\n",
       "      <td>notebooks/pyiron-virtual-workshop-2020/tutorials/demo/murnaghan_automatic/murn_test_hdf5/</td>\n",
       "      <td>2020-04-17 11:50:55.112082</td>\n",
       "      <td>2020-04-17 11:50:55.868434</td>\n",
       "      <td>0.0</td>\n",
       "      <td>pyiron@cmdell17#1</td>\n",
       "      <td>Lammps</td>\n",
       "      <td>0.1</td>\n",
       "      <td>None</td>\n",
       "      <td>1504.0</td>\n",
       "    </tr>\n",
       "    <tr>\n",
       "      <th>9</th>\n",
       "      <td>1513</td>\n",
       "      <td>finished</td>\n",
       "      <td>Al4</td>\n",
       "      <td>strain_1_06</td>\n",
       "      <td>/strain_1_06</td>\n",
       "      <td>/home/surendralal/</td>\n",
       "      <td>notebooks/pyiron-virtual-workshop-2020/tutorials/demo/murnaghan_automatic/murn_test_hdf5/</td>\n",
       "      <td>2020-04-17 11:50:57.118693</td>\n",
       "      <td>2020-04-17 11:50:57.872790</td>\n",
       "      <td>0.0</td>\n",
       "      <td>pyiron@cmdell17#1</td>\n",
       "      <td>Lammps</td>\n",
       "      <td>0.1</td>\n",
       "      <td>None</td>\n",
       "      <td>1504.0</td>\n",
       "    </tr>\n",
       "    <tr>\n",
       "      <th>10</th>\n",
       "      <td>1514</td>\n",
       "      <td>finished</td>\n",
       "      <td>Al4</td>\n",
       "      <td>strain_1_08</td>\n",
       "      <td>/strain_1_08</td>\n",
       "      <td>/home/surendralal/</td>\n",
       "      <td>notebooks/pyiron-virtual-workshop-2020/tutorials/demo/murnaghan_automatic/murn_test_hdf5/</td>\n",
       "      <td>2020-04-17 11:50:59.073472</td>\n",
       "      <td>2020-04-17 11:50:59.824581</td>\n",
       "      <td>0.0</td>\n",
       "      <td>pyiron@cmdell17#1</td>\n",
       "      <td>Lammps</td>\n",
       "      <td>0.1</td>\n",
       "      <td>None</td>\n",
       "      <td>1504.0</td>\n",
       "    </tr>\n",
       "    <tr>\n",
       "      <th>11</th>\n",
       "      <td>1515</td>\n",
       "      <td>finished</td>\n",
       "      <td>Al4</td>\n",
       "      <td>strain_1_1</td>\n",
       "      <td>/strain_1_1</td>\n",
       "      <td>/home/surendralal/</td>\n",
       "      <td>notebooks/pyiron-virtual-workshop-2020/tutorials/demo/murnaghan_automatic/murn_test_hdf5/</td>\n",
       "      <td>2020-04-17 11:51:01.152188</td>\n",
       "      <td>2020-04-17 11:51:01.907100</td>\n",
       "      <td>0.0</td>\n",
       "      <td>pyiron@cmdell17#1</td>\n",
       "      <td>Lammps</td>\n",
       "      <td>0.1</td>\n",
       "      <td>None</td>\n",
       "      <td>1504.0</td>\n",
       "    </tr>\n",
       "  </tbody>\n",
       "</table>\n",
       "</div>"
      ],
      "text/plain": [
       "      id    status chemicalformula          job        subjob  \\\n",
       "0   1504  finished             Al4    murn_test    /murn_test   \n",
       "1   1505  finished             Al4   strain_0_9   /strain_0_9   \n",
       "2   1506  finished             Al4  strain_0_92  /strain_0_92   \n",
       "3   1507  finished             Al4  strain_0_94  /strain_0_94   \n",
       "4   1508  finished             Al4  strain_0_96  /strain_0_96   \n",
       "5   1509  finished             Al4  strain_0_98  /strain_0_98   \n",
       "6   1510  finished             Al4   strain_1_0   /strain_1_0   \n",
       "7   1511  finished             Al4  strain_1_02  /strain_1_02   \n",
       "8   1512  finished             Al4  strain_1_04  /strain_1_04   \n",
       "9   1513  finished             Al4  strain_1_06  /strain_1_06   \n",
       "10  1514  finished             Al4  strain_1_08  /strain_1_08   \n",
       "11  1515  finished             Al4   strain_1_1   /strain_1_1   \n",
       "\n",
       "           projectpath  \\\n",
       "0   /home/surendralal/   \n",
       "1   /home/surendralal/   \n",
       "2   /home/surendralal/   \n",
       "3   /home/surendralal/   \n",
       "4   /home/surendralal/   \n",
       "5   /home/surendralal/   \n",
       "6   /home/surendralal/   \n",
       "7   /home/surendralal/   \n",
       "8   /home/surendralal/   \n",
       "9   /home/surendralal/   \n",
       "10  /home/surendralal/   \n",
       "11  /home/surendralal/   \n",
       "\n",
       "                                                                                      project  \\\n",
       "0                  notebooks/pyiron-virtual-workshop-2020/tutorials/demo/murnaghan_automatic/   \n",
       "1   notebooks/pyiron-virtual-workshop-2020/tutorials/demo/murnaghan_automatic/murn_test_hdf5/   \n",
       "2   notebooks/pyiron-virtual-workshop-2020/tutorials/demo/murnaghan_automatic/murn_test_hdf5/   \n",
       "3   notebooks/pyiron-virtual-workshop-2020/tutorials/demo/murnaghan_automatic/murn_test_hdf5/   \n",
       "4   notebooks/pyiron-virtual-workshop-2020/tutorials/demo/murnaghan_automatic/murn_test_hdf5/   \n",
       "5   notebooks/pyiron-virtual-workshop-2020/tutorials/demo/murnaghan_automatic/murn_test_hdf5/   \n",
       "6   notebooks/pyiron-virtual-workshop-2020/tutorials/demo/murnaghan_automatic/murn_test_hdf5/   \n",
       "7   notebooks/pyiron-virtual-workshop-2020/tutorials/demo/murnaghan_automatic/murn_test_hdf5/   \n",
       "8   notebooks/pyiron-virtual-workshop-2020/tutorials/demo/murnaghan_automatic/murn_test_hdf5/   \n",
       "9   notebooks/pyiron-virtual-workshop-2020/tutorials/demo/murnaghan_automatic/murn_test_hdf5/   \n",
       "10  notebooks/pyiron-virtual-workshop-2020/tutorials/demo/murnaghan_automatic/murn_test_hdf5/   \n",
       "11  notebooks/pyiron-virtual-workshop-2020/tutorials/demo/murnaghan_automatic/murn_test_hdf5/   \n",
       "\n",
       "                    timestart                   timestop  totalcputime  \\\n",
       "0  2020-04-17 11:50:38.699814 2020-04-17 11:51:02.556537          23.0   \n",
       "1  2020-04-17 11:50:40.062027 2020-04-17 11:50:40.850802           0.0   \n",
       "2  2020-04-17 11:50:42.125409 2020-04-17 11:50:42.885062           0.0   \n",
       "3  2020-04-17 11:50:44.289825 2020-04-17 11:50:45.176686           0.0   \n",
       "4  2020-04-17 11:50:46.688354 2020-04-17 11:50:47.598676           0.0   \n",
       "5  2020-04-17 11:50:48.755947 2020-04-17 11:50:49.634160           0.0   \n",
       "6  2020-04-17 11:50:50.913039 2020-04-17 11:50:51.648389           0.0   \n",
       "7  2020-04-17 11:50:53.035373 2020-04-17 11:50:53.854134           0.0   \n",
       "8  2020-04-17 11:50:55.112082 2020-04-17 11:50:55.868434           0.0   \n",
       "9  2020-04-17 11:50:57.118693 2020-04-17 11:50:57.872790           0.0   \n",
       "10 2020-04-17 11:50:59.073472 2020-04-17 11:50:59.824581           0.0   \n",
       "11 2020-04-17 11:51:01.152188 2020-04-17 11:51:01.907100           0.0   \n",
       "\n",
       "                   computer   hamilton hamversion parentid  masterid  \n",
       "0   pyiron@cmdell17#1#11/11  Murnaghan      0.3.0     None       NaN  \n",
       "1         pyiron@cmdell17#1     Lammps        0.1     None    1504.0  \n",
       "2         pyiron@cmdell17#1     Lammps        0.1     None    1504.0  \n",
       "3         pyiron@cmdell17#1     Lammps        0.1     None    1504.0  \n",
       "4         pyiron@cmdell17#1     Lammps        0.1     None    1504.0  \n",
       "5         pyiron@cmdell17#1     Lammps        0.1     None    1504.0  \n",
       "6         pyiron@cmdell17#1     Lammps        0.1     None    1504.0  \n",
       "7         pyiron@cmdell17#1     Lammps        0.1     None    1504.0  \n",
       "8         pyiron@cmdell17#1     Lammps        0.1     None    1504.0  \n",
       "9         pyiron@cmdell17#1     Lammps        0.1     None    1504.0  \n",
       "10        pyiron@cmdell17#1     Lammps        0.1     None    1504.0  \n",
       "11        pyiron@cmdell17#1     Lammps        0.1     None    1504.0  "
      ]
     },
     "execution_count": 45,
     "metadata": {},
     "output_type": "execute_result"
    }
   ],
   "source": [
    "pr.job_table()"
   ]
  },
  {
   "cell_type": "markdown",
   "metadata": {},
   "source": [
    "### Plotting and inspecting the murnaghan output"
   ]
  },
  {
   "cell_type": "code",
   "execution_count": 46,
   "metadata": {},
   "outputs": [
    {
     "data": {
      "image/png": "[encoded data removed]",
      "text/plain": [
       "<Figure size 432x288 with 1 Axes>"
      ]
     },
     "metadata": {
      "needs_background": "light"
     },
     "output_type": "display_data"
    }
   ],
   "source": [
    "murn.plot()"
   ]
  },
  {
   "cell_type": "code",
   "execution_count": 47,
   "metadata": {},
   "outputs": [
    {
     "data": {
      "text/plain": [
       "{'groups': ['structure'], 'nodes': ['energy', 'equilibrium_b_prime', 'equilibrium_bulk_modulus', 'equilibrium_energy', 'equilibrium_volume', 'error', 'id', 'volume']}"
      ]
     },
     "execution_count": 47,
     "metadata": {},
     "output_type": "execute_result"
    }
   ],
   "source": [
    "murn[\"output\"]"
   ]
  },
  {
   "cell_type": "code",
   "execution_count": 48,
   "metadata": {},
   "outputs": [
    {
     "data": {
      "text/plain": [
       "(4.049953713580603, 81.04044546401586)"
      ]
     },
     "execution_count": 48,
     "metadata": {},
     "output_type": "execute_result"
    }
   ],
   "source": [
    "murn[\"output/equilibrium_volume\"] ** (1/3), murn[\"output/equilibrium_bulk_modulus\"]"
   ]
  },
  {
   "cell_type": "code",
   "execution_count": 49,
   "metadata": {},
   "outputs": [
    {
     "data": {
      "text/plain": [
       "{'poly_fit': array([-9.56553731e-05,  2.28697903e-02, -1.77209828e+00,  3.13985247e+01]),\n",
       " 'fit_type': 'polynomial',\n",
       " 'fit_order': 3,\n",
       " 'volume_eq': 66.42784738704798,\n",
       " 'energy_eq': -13.440396614411778,\n",
       " 'bulkmodul_eq': 81.04044546401586,\n",
       " 'b_prime_eq': 4.006907327547416,\n",
       " 'least_square_error': 1.1456196778545522e-07}"
      ]
     },
     "execution_count": 49,
     "metadata": {},
     "output_type": "execute_result"
    }
   ],
   "source": [
    "murn.fit_dict"
   ]
  },
  {
   "cell_type": "code",
   "execution_count": 50,
   "metadata": {},
   "outputs": [],
   "source": [
    "job_child = murn[0]"
   ]
  },
  {
   "cell_type": "markdown",
   "metadata": {},
   "source": [
    "## Energy-volume curves for a variety of Al potentials\n",
    "\n",
    "Since an E-V curve can be calculated quite easily, we can now do this for a range of available Al potentials (keep in mind that some of these potentials might fail)"
   ]
  },
  {
   "cell_type": "code",
   "execution_count": 51,
   "metadata": {},
   "outputs": [],
   "source": [
    "pr = Project(\"demo/potential_scan\")\n",
    "###pr.remove_jobs()"
   ]
  },
  {
   "cell_type": "markdown",
   "metadata": {},
   "source": [
    "### Looping over available potenitals"
   ]
  },
  {
   "cell_type": "code",
   "execution_count": 52,
   "metadata": {},
   "outputs": [],
   "source": [
    "#Chosing only a few potentials since there are lots of Al potentials\n",
    "\n",
    "potential_list = job_child.list_potentials()[0:10]"
   ]
  },
  {
   "cell_type": "code",
   "execution_count": 53,
   "metadata": {},
   "outputs": [
    {
     "name": "stderr",
     "output_type": "stream",
     "text": [
      "2020-04-17 12:15:20,285 - pyiron_log - WARNING - The job murn_Al is being loaded instead of running. To re-run use the argument 'run_again=True'\n",
      "2020-04-17 12:15:21,584 - pyiron_log - WARNING - The job murn_Al is being loaded instead of running. To re-run use the argument 'run_again=True'\n",
      "2020-04-17 12:15:22,804 - pyiron_log - WARNING - The job murn_Al is being loaded instead of running. To re-run use the argument 'run_again=True'\n",
      "2020-04-17 12:15:23,132 - pyiron_log - WARNING - Job aborted - please remove it and run again! murn_Al\n",
      "2020-04-17 12:15:24,846 - pyiron_log - WARNING - The job murn_Al is being loaded instead of running. To re-run use the argument 'run_again=True'\n",
      "2020-04-17 12:15:26,144 - pyiron_log - WARNING - The job murn_Al is being loaded instead of running. To re-run use the argument 'run_again=True'\n",
      "2020-04-17 12:15:27,553 - pyiron_log - WARNING - The job murn_Al is being loaded instead of running. To re-run use the argument 'run_again=True'\n",
      "2020-04-17 12:15:29,061 - pyiron_log - WARNING - The job murn_Al is being loaded instead of running. To re-run use the argument 'run_again=True'\n",
      "2020-04-17 12:15:30,494 - pyiron_log - WARNING - The job murn_Al is being loaded instead of running. To re-run use the argument 'run_again=True'\n",
      "2020-04-17 12:15:31,942 - pyiron_log - WARNING - The job murn_Al is being loaded instead of running. To re-run use the argument 'run_again=True'\n"
     ]
    }
   ],
   "source": [
    "for pot in potential_list:\n",
    "    pot_str = pot.replace(\"-\", \"_\")\n",
    "    # open a subproject within a project\n",
    "    with pr.open(pot_str) as pr_sub:\n",
    "        # no need for unique job name if in different subprojects \n",
    "        job_name = \"murn_Al\"\n",
    "        # Use the subproject to create the jobs\n",
    "        murn = pr_sub.create_job(pr.job_type.Murnaghan, job_name)\n",
    "        job_ref = pr_sub.create_job(pr.job_type.Lammps, \"Al_ref\")\n",
    "        job_ref.structure = pr.create_ase_bulk(\"Al\", cubic=True)\n",
    "        job_ref.potential = pot\n",
    "        job_ref.calc_minimize()\n",
    "        murn.ref_job = job_ref\n",
    "        try:\n",
    "            murn.run()\n",
    "        except RuntimeError:\n",
    "            pass"
   ]
  },
  {
   "cell_type": "code",
   "execution_count": 54,
   "metadata": {},
   "outputs": [
    {
     "data": {
      "text/html": [
       "<div>\n",
       "<style scoped>\n",
       "    .dataframe tbody tr th:only-of-type {\n",
       "        vertical-align: middle;\n",
       "    }\n",
       "\n",
       "    .dataframe tbody tr th {\n",
       "        vertical-align: top;\n",
       "    }\n",
       "\n",
       "    .dataframe thead th {\n",
       "        text-align: right;\n",
       "    }\n",
       "</style>\n",
       "<table border=\"1\" class=\"dataframe\">\n",
       "  <thead>\n",
       "    <tr style=\"text-align: right;\">\n",
       "      <th></th>\n",
       "      <th>id</th>\n",
       "      <th>status</th>\n",
       "      <th>chemicalformula</th>\n",
       "      <th>job</th>\n",
       "      <th>subjob</th>\n",
       "      <th>projectpath</th>\n",
       "      <th>project</th>\n",
       "      <th>timestart</th>\n",
       "      <th>timestop</th>\n",
       "      <th>totalcputime</th>\n",
       "      <th>computer</th>\n",
       "      <th>hamilton</th>\n",
       "      <th>hamversion</th>\n",
       "      <th>parentid</th>\n",
       "      <th>masterid</th>\n",
       "    </tr>\n",
       "  </thead>\n",
       "  <tbody>\n",
       "    <tr>\n",
       "      <th>0</th>\n",
       "      <td>1554</td>\n",
       "      <td>finished</td>\n",
       "      <td>Al4</td>\n",
       "      <td>murn_Al</td>\n",
       "      <td>/murn_Al</td>\n",
       "      <td>/home/surendralal/</td>\n",
       "      <td>notebooks/pyiron-virtual-workshop-2020/tutorials/demo/potential_scan/2000__Landa_A__Al_Pb__LAMMPS__ipr1/</td>\n",
       "      <td>2020-04-17 11:52:34.077019</td>\n",
       "      <td>2020-04-17 11:52:56.688812</td>\n",
       "      <td>22.0</td>\n",
       "      <td>pyiron@cmdell17#1#11/11</td>\n",
       "      <td>Murnaghan</td>\n",
       "      <td>0.3.0</td>\n",
       "      <td>None</td>\n",
       "      <td>NaN</td>\n",
       "    </tr>\n",
       "    <tr>\n",
       "      <th>1</th>\n",
       "      <td>1555</td>\n",
       "      <td>finished</td>\n",
       "      <td>Al4</td>\n",
       "      <td>strain_0_9</td>\n",
       "      <td>/strain_0_9</td>\n",
       "      <td>/home/surendralal/</td>\n",
       "      <td>notebooks/pyiron-virtual-workshop-2020/tutorials/demo/potential_scan/2000__Landa_A__Al_Pb__LAMMPS__ipr1/murn_Al_hdf5/</td>\n",
       "      <td>2020-04-17 11:52:35.362854</td>\n",
       "      <td>2020-04-17 11:52:36.153485</td>\n",
       "      <td>0.0</td>\n",
       "      <td>pyiron@cmdell17#1</td>\n",
       "      <td>Lammps</td>\n",
       "      <td>0.1</td>\n",
       "      <td>None</td>\n",
       "      <td>1554.0</td>\n",
       "    </tr>\n",
       "    <tr>\n",
       "      <th>2</th>\n",
       "      <td>1556</td>\n",
       "      <td>finished</td>\n",
       "      <td>Al4</td>\n",
       "      <td>strain_0_92</td>\n",
       "      <td>/strain_0_92</td>\n",
       "      <td>/home/surendralal/</td>\n",
       "      <td>notebooks/pyiron-virtual-workshop-2020/tutorials/demo/potential_scan/2000__Landa_A__Al_Pb__LAMMPS__ipr1/murn_Al_hdf5/</td>\n",
       "      <td>2020-04-17 11:52:37.355577</td>\n",
       "      <td>2020-04-17 11:52:38.133808</td>\n",
       "      <td>0.0</td>\n",
       "      <td>pyiron@cmdell17#1</td>\n",
       "      <td>Lammps</td>\n",
       "      <td>0.1</td>\n",
       "      <td>None</td>\n",
       "      <td>1554.0</td>\n",
       "    </tr>\n",
       "    <tr>\n",
       "      <th>3</th>\n",
       "      <td>1557</td>\n",
       "      <td>finished</td>\n",
       "      <td>Al4</td>\n",
       "      <td>strain_0_94</td>\n",
       "      <td>/strain_0_94</td>\n",
       "      <td>/home/surendralal/</td>\n",
       "      <td>notebooks/pyiron-virtual-workshop-2020/tutorials/demo/potential_scan/2000__Landa_A__Al_Pb__LAMMPS__ipr1/murn_Al_hdf5/</td>\n",
       "      <td>2020-04-17 11:52:39.474251</td>\n",
       "      <td>2020-04-17 11:52:40.266707</td>\n",
       "      <td>0.0</td>\n",
       "      <td>pyiron@cmdell17#1</td>\n",
       "      <td>Lammps</td>\n",
       "      <td>0.1</td>\n",
       "      <td>None</td>\n",
       "      <td>1554.0</td>\n",
       "    </tr>\n",
       "    <tr>\n",
       "      <th>4</th>\n",
       "      <td>1558</td>\n",
       "      <td>finished</td>\n",
       "      <td>Al4</td>\n",
       "      <td>strain_0_96</td>\n",
       "      <td>/strain_0_96</td>\n",
       "      <td>/home/surendralal/</td>\n",
       "      <td>notebooks/pyiron-virtual-workshop-2020/tutorials/demo/potential_scan/2000__Landa_A__Al_Pb__LAMMPS__ipr1/murn_Al_hdf5/</td>\n",
       "      <td>2020-04-17 11:52:41.701503</td>\n",
       "      <td>2020-04-17 11:52:42.548223</td>\n",
       "      <td>0.0</td>\n",
       "      <td>pyiron@cmdell17#1</td>\n",
       "      <td>Lammps</td>\n",
       "      <td>0.1</td>\n",
       "      <td>None</td>\n",
       "      <td>1554.0</td>\n",
       "    </tr>\n",
       "    <tr>\n",
       "      <th>5</th>\n",
       "      <td>1559</td>\n",
       "      <td>finished</td>\n",
       "      <td>Al4</td>\n",
       "      <td>strain_0_98</td>\n",
       "      <td>/strain_0_98</td>\n",
       "      <td>/home/surendralal/</td>\n",
       "      <td>notebooks/pyiron-virtual-workshop-2020/tutorials/demo/potential_scan/2000__Landa_A__Al_Pb__LAMMPS__ipr1/murn_Al_hdf5/</td>\n",
       "      <td>2020-04-17 11:52:43.742393</td>\n",
       "      <td>2020-04-17 11:52:44.546792</td>\n",
       "      <td>0.0</td>\n",
       "      <td>pyiron@cmdell17#1</td>\n",
       "      <td>Lammps</td>\n",
       "      <td>0.1</td>\n",
       "      <td>None</td>\n",
       "      <td>1554.0</td>\n",
       "    </tr>\n",
       "    <tr>\n",
       "      <th>6</th>\n",
       "      <td>1560</td>\n",
       "      <td>finished</td>\n",
       "      <td>Al4</td>\n",
       "      <td>strain_1_0</td>\n",
       "      <td>/strain_1_0</td>\n",
       "      <td>/home/surendralal/</td>\n",
       "      <td>notebooks/pyiron-virtual-workshop-2020/tutorials/demo/potential_scan/2000__Landa_A__Al_Pb__LAMMPS__ipr1/murn_Al_hdf5/</td>\n",
       "      <td>2020-04-17 11:52:45.723457</td>\n",
       "      <td>2020-04-17 11:52:46.479085</td>\n",
       "      <td>0.0</td>\n",
       "      <td>pyiron@cmdell17#1</td>\n",
       "      <td>Lammps</td>\n",
       "      <td>0.1</td>\n",
       "      <td>None</td>\n",
       "      <td>1554.0</td>\n",
       "    </tr>\n",
       "    <tr>\n",
       "      <th>7</th>\n",
       "      <td>1561</td>\n",
       "      <td>finished</td>\n",
       "      <td>Al4</td>\n",
       "      <td>strain_1_02</td>\n",
       "      <td>/strain_1_02</td>\n",
       "      <td>/home/surendralal/</td>\n",
       "      <td>notebooks/pyiron-virtual-workshop-2020/tutorials/demo/potential_scan/2000__Landa_A__Al_Pb__LAMMPS__ipr1/murn_Al_hdf5/</td>\n",
       "      <td>2020-04-17 11:52:47.661636</td>\n",
       "      <td>2020-04-17 11:52:48.423910</td>\n",
       "      <td>0.0</td>\n",
       "      <td>pyiron@cmdell17#1</td>\n",
       "      <td>Lammps</td>\n",
       "      <td>0.1</td>\n",
       "      <td>None</td>\n",
       "      <td>1554.0</td>\n",
       "    </tr>\n",
       "    <tr>\n",
       "      <th>8</th>\n",
       "      <td>1562</td>\n",
       "      <td>finished</td>\n",
       "      <td>Al4</td>\n",
       "      <td>strain_1_04</td>\n",
       "      <td>/strain_1_04</td>\n",
       "      <td>/home/surendralal/</td>\n",
       "      <td>notebooks/pyiron-virtual-workshop-2020/tutorials/demo/potential_scan/2000__Landa_A__Al_Pb__LAMMPS__ipr1/murn_Al_hdf5/</td>\n",
       "      <td>2020-04-17 11:52:49.604166</td>\n",
       "      <td>2020-04-17 11:52:50.371813</td>\n",
       "      <td>0.0</td>\n",
       "      <td>pyiron@cmdell17#1</td>\n",
       "      <td>Lammps</td>\n",
       "      <td>0.1</td>\n",
       "      <td>None</td>\n",
       "      <td>1554.0</td>\n",
       "    </tr>\n",
       "    <tr>\n",
       "      <th>9</th>\n",
       "      <td>1563</td>\n",
       "      <td>finished</td>\n",
       "      <td>Al4</td>\n",
       "      <td>strain_1_06</td>\n",
       "      <td>/strain_1_06</td>\n",
       "      <td>/home/surendralal/</td>\n",
       "      <td>notebooks/pyiron-virtual-workshop-2020/tutorials/demo/potential_scan/2000__Landa_A__Al_Pb__LAMMPS__ipr1/murn_Al_hdf5/</td>\n",
       "      <td>2020-04-17 11:52:51.541418</td>\n",
       "      <td>2020-04-17 11:52:52.311561</td>\n",
       "      <td>0.0</td>\n",
       "      <td>pyiron@cmdell17#1</td>\n",
       "      <td>Lammps</td>\n",
       "      <td>0.1</td>\n",
       "      <td>None</td>\n",
       "      <td>1554.0</td>\n",
       "    </tr>\n",
       "    <tr>\n",
       "      <th>10</th>\n",
       "      <td>1564</td>\n",
       "      <td>finished</td>\n",
       "      <td>Al4</td>\n",
       "      <td>strain_1_08</td>\n",
       "      <td>/strain_1_08</td>\n",
       "      <td>/home/surendralal/</td>\n",
       "      <td>notebooks/pyiron-virtual-workshop-2020/tutorials/demo/potential_scan/2000__Landa_A__Al_Pb__LAMMPS__ipr1/murn_Al_hdf5/</td>\n",
       "      <td>2020-04-17 11:52:53.467508</td>\n",
       "      <td>2020-04-17 11:52:54.204893</td>\n",
       "      <td>0.0</td>\n",
       "      <td>pyiron@cmdell17#1</td>\n",
       "      <td>Lammps</td>\n",
       "      <td>0.1</td>\n",
       "      <td>None</td>\n",
       "      <td>1554.0</td>\n",
       "    </tr>\n",
       "    <tr>\n",
       "      <th>11</th>\n",
       "      <td>1565</td>\n",
       "      <td>finished</td>\n",
       "      <td>Al4</td>\n",
       "      <td>strain_1_1</td>\n",
       "      <td>/strain_1_1</td>\n",
       "      <td>/home/surendralal/</td>\n",
       "      <td>notebooks/pyiron-virtual-workshop-2020/tutorials/demo/potential_scan/2000__Landa_A__Al_Pb__LAMMPS__ipr1/murn_Al_hdf5/</td>\n",
       "      <td>2020-04-17 11:52:55.358600</td>\n",
       "      <td>2020-04-17 11:52:56.104084</td>\n",
       "      <td>0.0</td>\n",
       "      <td>pyiron@cmdell17#1</td>\n",
       "      <td>Lammps</td>\n",
       "      <td>0.1</td>\n",
       "      <td>None</td>\n",
       "      <td>1554.0</td>\n",
       "    </tr>\n",
       "  </tbody>\n",
       "</table>\n",
       "</div>"
      ],
      "text/plain": [
       "      id    status chemicalformula          job        subjob  \\\n",
       "0   1554  finished             Al4      murn_Al      /murn_Al   \n",
       "1   1555  finished             Al4   strain_0_9   /strain_0_9   \n",
       "2   1556  finished             Al4  strain_0_92  /strain_0_92   \n",
       "3   1557  finished             Al4  strain_0_94  /strain_0_94   \n",
       "4   1558  finished             Al4  strain_0_96  /strain_0_96   \n",
       "5   1559  finished             Al4  strain_0_98  /strain_0_98   \n",
       "6   1560  finished             Al4   strain_1_0   /strain_1_0   \n",
       "7   1561  finished             Al4  strain_1_02  /strain_1_02   \n",
       "8   1562  finished             Al4  strain_1_04  /strain_1_04   \n",
       "9   1563  finished             Al4  strain_1_06  /strain_1_06   \n",
       "10  1564  finished             Al4  strain_1_08  /strain_1_08   \n",
       "11  1565  finished             Al4   strain_1_1   /strain_1_1   \n",
       "\n",
       "           projectpath  \\\n",
       "0   /home/surendralal/   \n",
       "1   /home/surendralal/   \n",
       "2   /home/surendralal/   \n",
       "3   /home/surendralal/   \n",
       "4   /home/surendralal/   \n",
       "5   /home/surendralal/   \n",
       "6   /home/surendralal/   \n",
       "7   /home/surendralal/   \n",
       "8   /home/surendralal/   \n",
       "9   /home/surendralal/   \n",
       "10  /home/surendralal/   \n",
       "11  /home/surendralal/   \n",
       "\n",
       "                                                                                                                  project  \\\n",
       "0                notebooks/pyiron-virtual-workshop-2020/tutorials/demo/potential_scan/2000__Landa_A__Al_Pb__LAMMPS__ipr1/   \n",
       "1   notebooks/pyiron-virtual-workshop-2020/tutorials/demo/potential_scan/2000__Landa_A__Al_Pb__LAMMPS__ipr1/murn_Al_hdf5/   \n",
       "2   notebooks/pyiron-virtual-workshop-2020/tutorials/demo/potential_scan/2000__Landa_A__Al_Pb__LAMMPS__ipr1/murn_Al_hdf5/   \n",
       "3   notebooks/pyiron-virtual-workshop-2020/tutorials/demo/potential_scan/2000__Landa_A__Al_Pb__LAMMPS__ipr1/murn_Al_hdf5/   \n",
       "4   notebooks/pyiron-virtual-workshop-2020/tutorials/demo/potential_scan/2000__Landa_A__Al_Pb__LAMMPS__ipr1/murn_Al_hdf5/   \n",
       "5   notebooks/pyiron-virtual-workshop-2020/tutorials/demo/potential_scan/2000__Landa_A__Al_Pb__LAMMPS__ipr1/murn_Al_hdf5/   \n",
       "6   notebooks/pyiron-virtual-workshop-2020/tutorials/demo/potential_scan/2000__Landa_A__Al_Pb__LAMMPS__ipr1/murn_Al_hdf5/   \n",
       "7   notebooks/pyiron-virtual-workshop-2020/tutorials/demo/potential_scan/2000__Landa_A__Al_Pb__LAMMPS__ipr1/murn_Al_hdf5/   \n",
       "8   notebooks/pyiron-virtual-workshop-2020/tutorials/demo/potential_scan/2000__Landa_A__Al_Pb__LAMMPS__ipr1/murn_Al_hdf5/   \n",
       "9   notebooks/pyiron-virtual-workshop-2020/tutorials/demo/potential_scan/2000__Landa_A__Al_Pb__LAMMPS__ipr1/murn_Al_hdf5/   \n",
       "10  notebooks/pyiron-virtual-workshop-2020/tutorials/demo/potential_scan/2000__Landa_A__Al_Pb__LAMMPS__ipr1/murn_Al_hdf5/   \n",
       "11  notebooks/pyiron-virtual-workshop-2020/tutorials/demo/potential_scan/2000__Landa_A__Al_Pb__LAMMPS__ipr1/murn_Al_hdf5/   \n",
       "\n",
       "                    timestart                   timestop  totalcputime  \\\n",
       "0  2020-04-17 11:52:34.077019 2020-04-17 11:52:56.688812          22.0   \n",
       "1  2020-04-17 11:52:35.362854 2020-04-17 11:52:36.153485           0.0   \n",
       "2  2020-04-17 11:52:37.355577 2020-04-17 11:52:38.133808           0.0   \n",
       "3  2020-04-17 11:52:39.474251 2020-04-17 11:52:40.266707           0.0   \n",
       "4  2020-04-17 11:52:41.701503 2020-04-17 11:52:42.548223           0.0   \n",
       "5  2020-04-17 11:52:43.742393 2020-04-17 11:52:44.546792           0.0   \n",
       "6  2020-04-17 11:52:45.723457 2020-04-17 11:52:46.479085           0.0   \n",
       "7  2020-04-17 11:52:47.661636 2020-04-17 11:52:48.423910           0.0   \n",
       "8  2020-04-17 11:52:49.604166 2020-04-17 11:52:50.371813           0.0   \n",
       "9  2020-04-17 11:52:51.541418 2020-04-17 11:52:52.311561           0.0   \n",
       "10 2020-04-17 11:52:53.467508 2020-04-17 11:52:54.204893           0.0   \n",
       "11 2020-04-17 11:52:55.358600 2020-04-17 11:52:56.104084           0.0   \n",
       "\n",
       "                   computer   hamilton hamversion parentid  masterid  \n",
       "0   pyiron@cmdell17#1#11/11  Murnaghan      0.3.0     None       NaN  \n",
       "1         pyiron@cmdell17#1     Lammps        0.1     None    1554.0  \n",
       "2         pyiron@cmdell17#1     Lammps        0.1     None    1554.0  \n",
       "3         pyiron@cmdell17#1     Lammps        0.1     None    1554.0  \n",
       "4         pyiron@cmdell17#1     Lammps        0.1     None    1554.0  \n",
       "5         pyiron@cmdell17#1     Lammps        0.1     None    1554.0  \n",
       "6         pyiron@cmdell17#1     Lammps        0.1     None    1554.0  \n",
       "7         pyiron@cmdell17#1     Lammps        0.1     None    1554.0  \n",
       "8         pyiron@cmdell17#1     Lammps        0.1     None    1554.0  \n",
       "9         pyiron@cmdell17#1     Lammps        0.1     None    1554.0  \n",
       "10        pyiron@cmdell17#1     Lammps        0.1     None    1554.0  \n",
       "11        pyiron@cmdell17#1     Lammps        0.1     None    1554.0  "
      ]
     },
     "execution_count": 54,
     "metadata": {},
     "output_type": "execute_result"
    }
   ],
   "source": [
    "pr['2000__Landa_A__Al_Pb__LAMMPS__ipr1'].job_table()"
   ]
  },
  {
   "cell_type": "code",
   "execution_count": null,
   "metadata": {},
   "outputs": [],
   "source": []
  },
  {
   "cell_type": "code",
   "execution_count": 55,
   "metadata": {},
   "outputs": [],
   "source": [
    "pr.job_table();"
   ]
  },
  {
   "cell_type": "markdown",
   "metadata": {},
   "source": [
    "### Analysing over all potentials"
   ]
  },
  {
   "cell_type": "code",
   "execution_count": 56,
   "metadata": {},
   "outputs": [
    {
     "name": "stdout",
     "output_type": "stream",
     "text": [
      "CPU times: user 391 ms, sys: 62.5 ms, total: 453 ms\n",
      "Wall time: 479 ms\n"
     ]
    }
   ],
   "source": [
    "%%time\n",
    "eq_dict = dict()\n",
    "convert_to_object = False\n",
    "for group in pr.list_groups():\n",
    "    if convert_to_object:\n",
    "        murn = pr[group+\"/murn_Al\"]\n",
    "    else:\n",
    "        murn = pr[group].inspect(\"murn_Al\")\n",
    "    if murn.status == \"finished\":\n",
    "        eq_dict[group] = dict()\n",
    "        eq_dict[group][\"a\"] = murn[\"output/equilibrium_volume\"] ** (1/3)\n",
    "        eq_dict[group][\"bulk_modulus\"] = murn[\"output/equilibrium_bulk_modulus\"]"
   ]
  },
  {
   "cell_type": "code",
   "execution_count": 57,
   "metadata": {},
   "outputs": [
    {
     "data": {
      "text/html": [
       "<div>\n",
       "<style scoped>\n",
       "    .dataframe tbody tr th:only-of-type {\n",
       "        vertical-align: middle;\n",
       "    }\n",
       "\n",
       "    .dataframe tbody tr th {\n",
       "        vertical-align: top;\n",
       "    }\n",
       "\n",
       "    .dataframe thead th {\n",
       "        text-align: right;\n",
       "    }\n",
       "</style>\n",
       "<table border=\"1\" class=\"dataframe\">\n",
       "  <thead>\n",
       "    <tr style=\"text-align: right;\">\n",
       "      <th></th>\n",
       "      <th>a</th>\n",
       "      <th>bulk_modulus</th>\n",
       "    </tr>\n",
       "  </thead>\n",
       "  <tbody>\n",
       "    <tr>\n",
       "      <th>1997__Liu_X_Y__Al_Mg__LAMMPS__ipr1</th>\n",
       "      <td>4.032659</td>\n",
       "      <td>83.498560</td>\n",
       "    </tr>\n",
       "    <tr>\n",
       "      <th>2000__Landa_A__Al_Pb__LAMMPS__ipr1</th>\n",
       "      <td>4.031246</td>\n",
       "      <td>78.213776</td>\n",
       "    </tr>\n",
       "    <tr>\n",
       "      <th>2003__Zope_R_R__Al__LAMMPS__ipr1</th>\n",
       "      <td>4.049946</td>\n",
       "      <td>80.836777</td>\n",
       "    </tr>\n",
       "    <tr>\n",
       "      <th>2004__Zhou_X_W__Al__LAMMPS__ipr1</th>\n",
       "      <td>4.050315</td>\n",
       "      <td>71.546946</td>\n",
       "    </tr>\n",
       "    <tr>\n",
       "      <th>2004__Zhou_X_W__Al__LAMMPS__ipr2</th>\n",
       "      <td>4.050316</td>\n",
       "      <td>71.546634</td>\n",
       "    </tr>\n",
       "    <tr>\n",
       "      <th>2015__Mendelev_M_I__Al_Sm__LAMMPS__ipr1</th>\n",
       "      <td>4.041196</td>\n",
       "      <td>85.017411</td>\n",
       "    </tr>\n",
       "    <tr>\n",
       "      <th>Al_H_Ni_Angelo_eam</th>\n",
       "      <td>4.049954</td>\n",
       "      <td>81.040445</td>\n",
       "    </tr>\n",
       "    <tr>\n",
       "      <th>Al_Mg_Mendelev_eam</th>\n",
       "      <td>4.045415</td>\n",
       "      <td>89.015487</td>\n",
       "    </tr>\n",
       "    <tr>\n",
       "      <th>Zope_Ti_Al_2003_eam</th>\n",
       "      <td>4.049946</td>\n",
       "      <td>80.836779</td>\n",
       "    </tr>\n",
       "  </tbody>\n",
       "</table>\n",
       "</div>"
      ],
      "text/plain": [
       "                                                a  bulk_modulus\n",
       "1997__Liu_X_Y__Al_Mg__LAMMPS__ipr1       4.032659     83.498560\n",
       "2000__Landa_A__Al_Pb__LAMMPS__ipr1       4.031246     78.213776\n",
       "2003__Zope_R_R__Al__LAMMPS__ipr1         4.049946     80.836777\n",
       "2004__Zhou_X_W__Al__LAMMPS__ipr1         4.050315     71.546946\n",
       "2004__Zhou_X_W__Al__LAMMPS__ipr2         4.050316     71.546634\n",
       "2015__Mendelev_M_I__Al_Sm__LAMMPS__ipr1  4.041196     85.017411\n",
       "Al_H_Ni_Angelo_eam                       4.049954     81.040445\n",
       "Al_Mg_Mendelev_eam                       4.045415     89.015487\n",
       "Zope_Ti_Al_2003_eam                      4.049946     80.836779"
      ]
     },
     "execution_count": 57,
     "metadata": {},
     "output_type": "execute_result"
    }
   ],
   "source": [
    "pd.DataFrame(eq_dict).T"
   ]
  },
  {
   "cell_type": "code",
   "execution_count": null,
   "metadata": {},
   "outputs": [],
   "source": []
  }
 ],
 "metadata": {
  "kernelspec": {
   "display_name": "Python 3",
   "language": "python",
   "name": "python3"
  },
  "language_info": {
   "codemirror_mode": {
    "name": "ipython",
    "version": 3
   },
   "file_extension": ".py",
   "mimetype": "text/x-python",
   "name": "python",
   "nbconvert_exporter": "python",
   "pygments_lexer": "ipython3",
   "version": "3.7.7"
  },
  "toc": {
   "base_numbering": 1,
   "nav_menu": {},
   "number_sections": true,
   "sideBar": true,
   "skip_h1_title": false,
   "title_cell": "Table of Contents",
   "title_sidebar": "Contents",
   "toc_cell": false,
   "toc_position": {},
   "toc_section_display": true,
   "toc_window_display": false
  },
  "toc-autonumbering": true,
  "toc-showcode": false,
  "toc-showmarkdowntxt": false,
  "toc-showtags": false
 },
 "nbformat": 4,
 "nbformat_minor": 4
}
