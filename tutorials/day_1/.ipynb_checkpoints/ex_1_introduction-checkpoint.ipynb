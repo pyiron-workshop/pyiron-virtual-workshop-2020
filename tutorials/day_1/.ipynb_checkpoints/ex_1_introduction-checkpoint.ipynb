{
 "cells": [
  {
   "cell_type": "markdown",
   "metadata": {},
   "source": [
    "# Exercise 1: Introduction to pyiron"
   ]
  },
  {
   "cell_type": "markdown",
   "metadata": {},
   "source": [
    "## Imports and and working with projects"
   ]
  },
  {
   "cell_type": "code",
   "execution_count": 307,
   "metadata": {
    "ExecuteTime": {
     "end_time": "2020-02-21T12:39:35.662902Z",
     "start_time": "2020-02-21T12:39:35.422425Z"
    }
   },
   "outputs": [],
   "source": [
    "import numpy as np\n",
    "import matplotlib.pylab as plt\n",
    "import pandas as pd"
   ]
  },
  {
   "cell_type": "code",
   "execution_count": 2,
   "metadata": {
    "ExecuteTime": {
     "end_time": "2020-02-21T12:39:46.781567Z",
     "start_time": "2020-02-21T12:39:44.865270Z"
    }
   },
   "outputs": [],
   "source": [
    "from pyiron import Project"
   ]
  },
  {
   "cell_type": "code",
   "execution_count": 3,
   "metadata": {
    "ExecuteTime": {
     "end_time": "2020-02-21T13:05:38.491431Z",
     "start_time": "2020-02-21T13:05:37.339476Z"
    }
   },
   "outputs": [],
   "source": [
    "pr = Project(\"demo\")\n",
    "pr.remove_jobs()"
   ]
  },
  {
   "cell_type": "code",
   "execution_count": 4,
   "metadata": {},
   "outputs": [
    {
     "data": {
      "text/plain": [
       "'/home/surendralal/notebooks/pyiron-virtual-workshop-2020/tutorials/day_1/demo/'"
      ]
     },
     "execution_count": 4,
     "metadata": {},
     "output_type": "execute_result"
    }
   ],
   "source": [
    "pr.path"
   ]
  },
  {
   "cell_type": "code",
   "execution_count": 5,
   "metadata": {
    "ExecuteTime": {
     "end_time": "2020-02-21T13:06:22.682070Z",
     "start_time": "2020-02-21T13:06:22.422269Z"
    }
   },
   "outputs": [
    {
     "data": {
      "text/html": [
       "<div>\n",
       "<style scoped>\n",
       "    .dataframe tbody tr th:only-of-type {\n",
       "        vertical-align: middle;\n",
       "    }\n",
       "\n",
       "    .dataframe tbody tr th {\n",
       "        vertical-align: top;\n",
       "    }\n",
       "\n",
       "    .dataframe thead th {\n",
       "        text-align: right;\n",
       "    }\n",
       "</style>\n",
       "<table border=\"1\" class=\"dataframe\">\n",
       "  <thead>\n",
       "    <tr style=\"text-align: right;\">\n",
       "      <th></th>\n",
       "    </tr>\n",
       "  </thead>\n",
       "  <tbody>\n",
       "  </tbody>\n",
       "</table>\n",
       "</div>"
      ],
      "text/plain": [
       "Empty DataFrame\n",
       "Columns: []\n",
       "Index: []"
      ]
     },
     "execution_count": 5,
     "metadata": {},
     "output_type": "execute_result"
    }
   ],
   "source": [
    "pr.job_table()"
   ]
  },
  {
   "cell_type": "markdown",
   "metadata": {},
   "source": [
    "## Creating and manipulating structures"
   ]
  },
  {
   "cell_type": "code",
   "execution_count": 6,
   "metadata": {
    "ExecuteTime": {
     "end_time": "2020-02-21T13:05:43.326193Z",
     "start_time": "2020-02-21T13:05:43.205610Z"
    }
   },
   "outputs": [
    {
     "data": {
      "application/vnd.jupyter.widget-view+json": {
       "model_id": "8a7a6f5346164d66b3aaadf3bab42962",
       "version_major": 2,
       "version_minor": 0
      },
      "text/plain": [
       "_ColormakerRegistry()"
      ]
     },
     "metadata": {},
     "output_type": "display_data"
    },
    {
     "data": {
      "application/vnd.jupyter.widget-view+json": {
       "model_id": "08e744a6cd60437c91f6a9072628ff09",
       "version_major": 2,
       "version_minor": 0
      },
      "text/plain": [
       "NGLWidget()"
      ]
     },
     "metadata": {},
     "output_type": "display_data"
    }
   ],
   "source": [
    "# atomistic structures\n",
    "Al_struct = pr.create_ase_bulk(\"Al\", cubic=True).repeat([2, 2, 4])\n",
    "Al_struct.plot3d()"
   ]
  },
  {
   "cell_type": "code",
   "execution_count": 7,
   "metadata": {},
   "outputs": [
    {
     "data": {
      "application/vnd.jupyter.widget-view+json": {
       "model_id": "4d1082cea97f4a44b7c405daba1711df",
       "version_major": 2,
       "version_minor": 0
      },
      "text/plain": [
       "NGLWidget()"
      ]
     },
     "metadata": {},
     "output_type": "display_data"
    }
   ],
   "source": [
    "Al_struct[36] = \"Cu\"\n",
    "Al_struct.plot3d()"
   ]
  },
  {
   "cell_type": "code",
   "execution_count": 8,
   "metadata": {},
   "outputs": [
    {
     "data": {
      "application/vnd.jupyter.widget-view+json": {
       "model_id": "08c0214e88464294a92ba8ce09ace0e4",
       "version_major": 2,
       "version_minor": 0
      },
      "text/plain": [
       "NGLWidget()"
      ]
     },
     "metadata": {},
     "output_type": "display_data"
    }
   ],
   "source": [
    "del Al_struct[34]\n",
    "Al_struct.plot3d()"
   ]
  },
  {
   "cell_type": "markdown",
   "metadata": {},
   "source": [
    "### Creating a water of water molecules"
   ]
  },
  {
   "cell_type": "code",
   "execution_count": 9,
   "metadata": {},
   "outputs": [
    {
     "data": {
      "application/vnd.jupyter.widget-view+json": {
       "model_id": "927d5d42733c4e7890535ccb181710c9",
       "version_major": 2,
       "version_minor": 0
      },
      "text/plain": [
       "NGLWidget()"
      ]
     },
     "metadata": {},
     "output_type": "display_data"
    }
   ],
   "source": [
    "cell = np.eye(3) * 10\n",
    "r_O = [0, 0, 0]\n",
    "r_H1 = [0.0, 0.7, 0.7]\n",
    "r_H2 = [0.0, 0.7, -0.7]\n",
    "water_molecule = pr.create_atoms(\"H2O\", positions=[r_H1, r_H2, r_O], cell=cell)\n",
    "water_molecule.center()\n",
    "water_molecule.set_cell(water_molecule.cell * water_molecule.get_density() ** (1/3), scale_atoms=False)\n",
    "water_molecule.get_density()\n",
    "water_box = water_molecule.repeat(3)\n",
    "water_box.center_coordinates_in_unit_cell()\n",
    "water_box.plot3d()"
   ]
  },
  {
   "cell_type": "markdown",
   "metadata": {},
   "source": [
    "### Creating an Al supercell with interstitial H"
   ]
  },
  {
   "cell_type": "code",
   "execution_count": 10,
   "metadata": {},
   "outputs": [
    {
     "data": {
      "application/vnd.jupyter.widget-view+json": {
       "model_id": "f9d34e90592e4e7ca8b6d4639b7e3391",
       "version_major": 2,
       "version_minor": 0
      },
      "text/plain": [
       "NGLWidget()"
      ]
     },
     "metadata": {},
     "output_type": "display_data"
    }
   ],
   "source": [
    "Al_struct = pr.create_ase_bulk(\"Al\", cubic=True)\n",
    "H_int = Al_struct.copy()\n",
    "H_int[:] = \"H\"\n",
    "H_int.scaled_positions += 0.5\n",
    "Al_struct.set_repeat([2, 2, 4])\n",
    "H_int.set_repeat([2, 2, 4])\n",
    "rand_int = np.arange(0, len(H_int))\n",
    "np.random.shuffle(rand_int)\n",
    "AlH_struct = Al_struct + H_int[rand_int[:10]]\n",
    "AlH_struct.plot3d()"
   ]
  },
  {
   "cell_type": "markdown",
   "metadata": {},
   "source": [
    "## Setting up and running LAMMPS calculations"
   ]
  },
  {
   "cell_type": "code",
   "execution_count": 11,
   "metadata": {},
   "outputs": [
    {
     "name": "stdout",
     "output_type": "stream",
     "text": [
      "['Al_H_Ni_Angelo_eam', '1995--Angelo-J-E--Ni-Al-H--LAMMPS--ipr1', '2018--Zhou-X-W--Al-Cu-H--LAMMPS--ipr1', 'EAM_Dynamo_AngeloMoodyBaskes_1995_NiAlH__MO_418978237058_005']\n"
     ]
    }
   ],
   "source": [
    "job_lammps = pr.create_job(job_type=pr.job_type.Lammps, job_name= \"AlH_lammps\")\n",
    "job_lammps.structure = AlH_struct\n",
    "print(job_lammps.list_potentials())\n",
    "job_lammps.potential =  'Al_H_Ni_Angelo_eam'\n",
    "job_lammps.calc_md(temperature=600, n_ionic_steps=10000)"
   ]
  },
  {
   "cell_type": "code",
   "execution_count": 12,
   "metadata": {},
   "outputs": [
    {
     "name": "stdout",
     "output_type": "stream",
     "text": [
      "The job AlH_lammps was saved and received the ID: 8\n"
     ]
    }
   ],
   "source": [
    "job_lammps.run()"
   ]
  },
  {
   "cell_type": "code",
   "execution_count": 13,
   "metadata": {},
   "outputs": [
    {
     "data": {
      "text/plain": [
       "array([64, 65, 66, 67, 68, 69, 70, 71, 72, 73])"
      ]
     },
     "execution_count": 13,
     "metadata": {},
     "output_type": "execute_result"
    }
   ],
   "source": [
    "H_indices = AlH_struct.select_index(\"H\")\n",
    "Al_indices = AlH_struct.select_index(\"Al\")\n",
    "H_indices"
   ]
  },
  {
   "cell_type": "code",
   "execution_count": null,
   "metadata": {},
   "outputs": [],
   "source": []
  },
  {
   "cell_type": "code",
   "execution_count": 14,
   "metadata": {},
   "outputs": [
    {
     "data": {
      "image/png": "[encoded data removed]",
      "text/plain": [
       "<Figure size 432x288 with 1 Axes>"
      ]
     },
     "metadata": {
      "needs_background": "light"
     },
     "output_type": "display_data"
    }
   ],
   "source": [
    "plt.plot(job_lammps.output.unwrapped_positions[:, :, 2], color=\"grey\")\n",
    "plt.plot(job_lammps.output.unwrapped_positions[:, H_indices, 2], color=\"red\")\n",
    "plt.xlabel(\"time [fs]\")\n",
    "plt.ylabel(\"positions [$\\AA$]\");"
   ]
  },
  {
   "cell_type": "code",
   "execution_count": 15,
   "metadata": {},
   "outputs": [],
   "source": [
    "md_struct = job_lammps.get_structure(iteration_step=-1)"
   ]
  },
  {
   "cell_type": "code",
   "execution_count": 16,
   "metadata": {},
   "outputs": [
    {
     "data": {
      "application/vnd.jupyter.widget-view+json": {
       "model_id": "00b2a83b7f2c4f53910ef04c165eab83",
       "version_major": 2,
       "version_minor": 0
      },
      "text/plain": [
       "NGLWidget()"
      ]
     },
     "metadata": {},
     "output_type": "display_data"
    }
   ],
   "source": [
    "md_struct.plot3d()"
   ]
  },
  {
   "cell_type": "code",
   "execution_count": 17,
   "metadata": {},
   "outputs": [],
   "source": [
    "job_lammps_minimize = pr.create_job(pr.job_type.Lammps, \"AlH_minimize\")\n",
    "job_lammps_minimize.structure = md_struct"
   ]
  },
  {
   "cell_type": "code",
   "execution_count": 18,
   "metadata": {},
   "outputs": [],
   "source": [
    "job_lammps_minimize.potential = job_lammps.potential.copy()"
   ]
  },
  {
   "cell_type": "code",
   "execution_count": 19,
   "metadata": {},
   "outputs": [],
   "source": [
    "job_lammps_minimize.calc_minimize(pressure=0)"
   ]
  },
  {
   "cell_type": "code",
   "execution_count": 20,
   "metadata": {},
   "outputs": [
    {
     "name": "stdout",
     "output_type": "stream",
     "text": [
      "The job AlH_minimize was saved and received the ID: 9\n"
     ]
    }
   ],
   "source": [
    "job_lammps_minimize.run()"
   ]
  },
  {
   "cell_type": "code",
   "execution_count": 21,
   "metadata": {},
   "outputs": [
    {
     "data": {
      "text/plain": [
       "[<matplotlib.lines.Line2D at 0x7f5954d33a50>]"
      ]
     },
     "execution_count": 21,
     "metadata": {},
     "output_type": "execute_result"
    },
    {
     "data": {
      "image/png": "[encoded data removed]",
      "text/plain": [
       "<Figure size 432x288 with 1 Axes>"
      ]
     },
     "metadata": {
      "needs_background": "light"
     },
     "output_type": "display_data"
    }
   ],
   "source": [
    "plt.plot(job_lammps_minimize.output.volume)"
   ]
  },
  {
   "cell_type": "code",
   "execution_count": 22,
   "metadata": {},
   "outputs": [
    {
     "data": {
      "application/vnd.jupyter.widget-view+json": {
       "model_id": "3ebbd836f32b423d9aa42c2b33abd3af",
       "version_major": 2,
       "version_minor": 0
      },
      "text/plain": [
       "NGLWidget(max_frame=113)"
      ]
     },
     "metadata": {},
     "output_type": "display_data"
    }
   ],
   "source": [
    "job_lammps_minimize.animate_structure()"
   ]
  },
  {
   "cell_type": "markdown",
   "metadata": {},
   "source": [
    "## Analysis"
   ]
  },
  {
   "cell_type": "code",
   "execution_count": 24,
   "metadata": {},
   "outputs": [
    {
     "data": {
      "image/png": "[encoded data removed]",
      "text/plain": [
       "<Figure size 432x288 with 1 Axes>"
      ]
     },
     "metadata": {
      "needs_background": "light"
     },
     "output_type": "display_data"
    }
   ],
   "source": [
    "neighbors_md = md_struct[Al_indices].get_neighbors(num_neighbors=100)\n",
    "plt.hist(neighbors_md.distances.flatten(), bins=50, alpha=0.3, density=True, label=\"Al-Al\")\n",
    "neighbors_md = md_struct[H_indices].get_neighbors(num_neighbors=100)\n",
    "plt.hist(neighbors_md.distances.flatten(), bins=50, alpha=0.3, density=True, label=\"H-H\")\n",
    "plt.legend();"
   ]
  },
  {
   "cell_type": "code",
   "execution_count": 25,
   "metadata": {},
   "outputs": [
    {
     "data": {
      "image/png": "[encoded data removed]",
      "text/plain": [
       "<Figure size 432x288 with 1 Axes>"
      ]
     },
     "metadata": {
      "needs_background": "light"
     },
     "output_type": "display_data"
    }
   ],
   "source": [
    "min_struct = job_lammps_minimize.get_structure(-1)\n",
    "neighbors_min = min_struct[Al_indices].get_neighbors(num_neighbors=100)\n",
    "plt.hist(neighbors_min.distances.flatten(), bins=50, alpha=0.3, density=True, label=\"Al-Al\")\n",
    "neighbors_min = min_struct[H_indices].get_neighbors(num_neighbors=100)\n",
    "plt.hist(neighbors_min.distances.flatten(), bins=50, alpha=0.3, density=True, label=\"H-H\")\n",
    "plt.legend();"
   ]
  },
  {
   "cell_type": "code",
   "execution_count": 26,
   "metadata": {},
   "outputs": [
    {
     "data": {
      "image/png": "[encoded data removed]",
      "text/plain": [
       "<Figure size 432x288 with 1 Axes>"
      ]
     },
     "metadata": {
      "needs_background": "light"
     },
     "output_type": "display_data"
    }
   ],
   "source": [
    "neighbors_min = min_struct[Al_indices].get_neighbors(num_neighbors=100)\n",
    "plt.hist(neighbors_min.distances.flatten(), bins=50, alpha=0.3, density=True, label=\"Al-Al min\")\n",
    "neighbors_md = md_struct[Al_indices].get_neighbors(num_neighbors=100)\n",
    "plt.hist(neighbors_md.distances.flatten(), bins=50, alpha=0.3, density=True, label=\"Al-Al md\")\n",
    "plt.legend();"
   ]
  },
  {
   "cell_type": "code",
   "execution_count": 27,
   "metadata": {},
   "outputs": [
    {
     "data": {
      "text/html": [
       "<div>\n",
       "<style scoped>\n",
       "    .dataframe tbody tr th:only-of-type {\n",
       "        vertical-align: middle;\n",
       "    }\n",
       "\n",
       "    .dataframe tbody tr th {\n",
       "        vertical-align: top;\n",
       "    }\n",
       "\n",
       "    .dataframe thead th {\n",
       "        text-align: right;\n",
       "    }\n",
       "</style>\n",
       "<table border=\"1\" class=\"dataframe\">\n",
       "  <thead>\n",
       "    <tr style=\"text-align: right;\">\n",
       "      <th></th>\n",
       "      <th>id</th>\n",
       "      <th>status</th>\n",
       "      <th>chemicalformula</th>\n",
       "      <th>job</th>\n",
       "      <th>subjob</th>\n",
       "      <th>projectpath</th>\n",
       "      <th>project</th>\n",
       "      <th>timestart</th>\n",
       "      <th>timestop</th>\n",
       "      <th>totalcputime</th>\n",
       "      <th>computer</th>\n",
       "      <th>hamilton</th>\n",
       "      <th>hamversion</th>\n",
       "      <th>parentid</th>\n",
       "      <th>masterid</th>\n",
       "    </tr>\n",
       "  </thead>\n",
       "  <tbody>\n",
       "    <tr>\n",
       "      <th>0</th>\n",
       "      <td>8</td>\n",
       "      <td>finished</td>\n",
       "      <td>Al64H10</td>\n",
       "      <td>AlH_lammps</td>\n",
       "      <td>/AlH_lammps</td>\n",
       "      <td>/home/surendralal/</td>\n",
       "      <td>notebooks/pyiron-virtual-workshop-2020/tutorials/day_1/demo/</td>\n",
       "      <td>2020-04-13 00:41:18.254827</td>\n",
       "      <td>2020-04-13 00:41:21.516794</td>\n",
       "      <td>3.0</td>\n",
       "      <td>pyiron@cmdell17#1</td>\n",
       "      <td>Lammps</td>\n",
       "      <td>0.1</td>\n",
       "      <td>None</td>\n",
       "      <td>None</td>\n",
       "    </tr>\n",
       "    <tr>\n",
       "      <th>1</th>\n",
       "      <td>9</td>\n",
       "      <td>finished</td>\n",
       "      <td>Al64H10</td>\n",
       "      <td>AlH_minimize</td>\n",
       "      <td>/AlH_minimize</td>\n",
       "      <td>/home/surendralal/</td>\n",
       "      <td>notebooks/pyiron-virtual-workshop-2020/tutorials/day_1/demo/</td>\n",
       "      <td>2020-04-13 00:41:23.271635</td>\n",
       "      <td>2020-04-13 00:41:27.127957</td>\n",
       "      <td>3.0</td>\n",
       "      <td>pyiron@cmdell17#1</td>\n",
       "      <td>Lammps</td>\n",
       "      <td>0.1</td>\n",
       "      <td>None</td>\n",
       "      <td>None</td>\n",
       "    </tr>\n",
       "  </tbody>\n",
       "</table>\n",
       "</div>"
      ],
      "text/plain": [
       "   id    status chemicalformula           job         subjob  \\\n",
       "0   8  finished         Al64H10    AlH_lammps    /AlH_lammps   \n",
       "1   9  finished         Al64H10  AlH_minimize  /AlH_minimize   \n",
       "\n",
       "          projectpath  \\\n",
       "0  /home/surendralal/   \n",
       "1  /home/surendralal/   \n",
       "\n",
       "                                                        project  \\\n",
       "0  notebooks/pyiron-virtual-workshop-2020/tutorials/day_1/demo/   \n",
       "1  notebooks/pyiron-virtual-workshop-2020/tutorials/day_1/demo/   \n",
       "\n",
       "                   timestart                   timestop  totalcputime  \\\n",
       "0 2020-04-13 00:41:18.254827 2020-04-13 00:41:21.516794           3.0   \n",
       "1 2020-04-13 00:41:23.271635 2020-04-13 00:41:27.127957           3.0   \n",
       "\n",
       "            computer hamilton hamversion parentid masterid  \n",
       "0  pyiron@cmdell17#1   Lammps        0.1     None     None  \n",
       "1  pyiron@cmdell17#1   Lammps        0.1     None     None  "
      ]
     },
     "execution_count": 27,
     "metadata": {},
     "output_type": "execute_result"
    }
   ],
   "source": [
    "pr.job_table()"
   ]
  },
  {
   "cell_type": "code",
   "execution_count": 28,
   "metadata": {},
   "outputs": [],
   "source": [
    "job_md_reloaded = pr.load(\"AlH_lammps\")"
   ]
  },
  {
   "cell_type": "code",
   "execution_count": 29,
   "metadata": {},
   "outputs": [],
   "source": [
    "job_min_reloaded = pr.load(\"AlH_minimize\")"
   ]
  },
  {
   "cell_type": "code",
   "execution_count": 30,
   "metadata": {},
   "outputs": [
    {
     "data": {
      "text/plain": [
       "{'groups': ['input', 'output'], 'nodes': ['NAME', 'TYPE', 'VERSION', 'server', 'status']}"
      ]
     },
     "execution_count": 30,
     "metadata": {},
     "output_type": "execute_result"
    }
   ],
   "source": [
    "job_min_reloaded"
   ]
  },
  {
   "cell_type": "code",
   "execution_count": 31,
   "metadata": {},
   "outputs": [
    {
     "data": {
      "text/plain": [
       "{'groups': [], 'nodes': ['AlH_lammps', 'AlH_minimize']}"
      ]
     },
     "execution_count": 31,
     "metadata": {},
     "output_type": "execute_result"
    }
   ],
   "source": [
    "pr"
   ]
  },
  {
   "cell_type": "code",
   "execution_count": 32,
   "metadata": {},
   "outputs": [
    {
     "data": {
      "text/plain": [
       "{'groups': ['input', 'output'], 'nodes': ['NAME', 'TYPE', 'VERSION', 'server', 'status']}"
      ]
     },
     "execution_count": 32,
     "metadata": {},
     "output_type": "execute_result"
    }
   ],
   "source": [
    "pr[\"AlH_lammps\"]"
   ]
  },
  {
   "cell_type": "code",
   "execution_count": 33,
   "metadata": {},
   "outputs": [
    {
     "data": {
      "text/plain": [
       "{'groups': ['control_inp', 'generic', 'potential', 'potential_inp', 'structure'], 'nodes': ['generic_dict', 'interactive']}"
      ]
     },
     "execution_count": 33,
     "metadata": {},
     "output_type": "execute_result"
    }
   ],
   "source": [
    "pr[\"AlH_lammps/input\"]"
   ]
  },
  {
   "cell_type": "code",
   "execution_count": 34,
   "metadata": {},
   "outputs": [
    {
     "data": {
      "text/plain": [
       "((101, 74, 3), (101,))"
      ]
     },
     "execution_count": 34,
     "metadata": {},
     "output_type": "execute_result"
    }
   ],
   "source": [
    "pr[\"AlH_lammps/output/generic/forces\"].shape,  pr[\"AlH_lammps/output/generic/energy_tot\"].shape"
   ]
  },
  {
   "cell_type": "markdown",
   "metadata": {},
   "source": [
    "## Murnaghan using LAMMPS\n",
    "\n",
    "Hint: use for loops and calc_minimize"
   ]
  },
  {
   "cell_type": "code",
   "execution_count": 57,
   "metadata": {},
   "outputs": [],
   "source": [
    "pr = Project(\"Al_murnaghan_manual\")"
   ]
  },
  {
   "cell_type": "code",
   "execution_count": 58,
   "metadata": {},
   "outputs": [
    {
     "name": "stdout",
     "output_type": "stream",
     "text": [
      "murn_Al_a_3_9\n",
      "The job murn_Al_a_3_9 was saved and received the ID: 10\n",
      "murn_Al_a_3_93\n",
      "The job murn_Al_a_3_93 was saved and received the ID: 11\n",
      "murn_Al_a_3_96\n",
      "The job murn_Al_a_3_96 was saved and received the ID: 12\n",
      "murn_Al_a_3_99\n",
      "The job murn_Al_a_3_99 was saved and received the ID: 13\n",
      "murn_Al_a_4_02\n",
      "The job murn_Al_a_4_02 was saved and received the ID: 14\n",
      "murn_Al_a_4_05\n",
      "The job murn_Al_a_4_05 was saved and received the ID: 15\n",
      "murn_Al_a_4_08\n",
      "The job murn_Al_a_4_08 was saved and received the ID: 16\n",
      "murn_Al_a_4_11\n",
      "The job murn_Al_a_4_11 was saved and received the ID: 17\n",
      "murn_Al_a_4_14\n",
      "The job murn_Al_a_4_14 was saved and received the ID: 18\n",
      "murn_Al_a_4_17\n",
      "The job murn_Al_a_4_17 was saved and received the ID: 19\n",
      "murn_Al_a_4_2\n",
      "The job murn_Al_a_4_2 was saved and received the ID: 20\n"
     ]
    }
   ],
   "source": [
    "a_list = np.linspace(3.9, 4.2, 11)\n",
    "for a in a_list:\n",
    "    job_name = \"murn_Al_a_{:.4}\".format(a).replace(\".\", \"_\")\n",
    "    print(job_name)\n",
    "    job = pr.create_job(pr.job_type.Lammps, job_name)\n",
    "    job.structure = pr.create_ase_bulk(\"Al\", a=a)\n",
    "    job.calc_static()\n",
    "    job.potential = 'Al_H_Ni_Angelo_eam'\n",
    "    job.run()"
   ]
  },
  {
   "cell_type": "code",
   "execution_count": 71,
   "metadata": {},
   "outputs": [
    {
     "data": {
      "text/html": [
       "<div>\n",
       "<style scoped>\n",
       "    .dataframe tbody tr th:only-of-type {\n",
       "        vertical-align: middle;\n",
       "    }\n",
       "\n",
       "    .dataframe tbody tr th {\n",
       "        vertical-align: top;\n",
       "    }\n",
       "\n",
       "    .dataframe thead th {\n",
       "        text-align: right;\n",
       "    }\n",
       "</style>\n",
       "<table border=\"1\" class=\"dataframe\">\n",
       "  <thead>\n",
       "    <tr style=\"text-align: right;\">\n",
       "      <th></th>\n",
       "      <th>id</th>\n",
       "      <th>status</th>\n",
       "      <th>chemicalformula</th>\n",
       "      <th>job</th>\n",
       "      <th>subjob</th>\n",
       "      <th>projectpath</th>\n",
       "      <th>project</th>\n",
       "      <th>timestart</th>\n",
       "      <th>timestop</th>\n",
       "      <th>totalcputime</th>\n",
       "      <th>computer</th>\n",
       "      <th>hamilton</th>\n",
       "      <th>hamversion</th>\n",
       "      <th>parentid</th>\n",
       "      <th>masterid</th>\n",
       "    </tr>\n",
       "  </thead>\n",
       "  <tbody>\n",
       "    <tr>\n",
       "      <th>0</th>\n",
       "      <td>10</td>\n",
       "      <td>finished</td>\n",
       "      <td>Al</td>\n",
       "      <td>murn_Al_a_3_9</td>\n",
       "      <td>/murn_Al_a_3_9</td>\n",
       "      <td>/home/surendralal/</td>\n",
       "      <td>notebooks/pyiron-virtual-workshop-2020/tutorials/day_1/Al_murnaghan_manual/</td>\n",
       "      <td>2020-04-13 01:24:45.224495</td>\n",
       "      <td>2020-04-13 01:24:45.839266</td>\n",
       "      <td>0.0</td>\n",
       "      <td>pyiron@cmdell17#1</td>\n",
       "      <td>Lammps</td>\n",
       "      <td>0.1</td>\n",
       "      <td>None</td>\n",
       "      <td>None</td>\n",
       "    </tr>\n",
       "    <tr>\n",
       "      <th>1</th>\n",
       "      <td>11</td>\n",
       "      <td>finished</td>\n",
       "      <td>Al</td>\n",
       "      <td>murn_Al_a_3_93</td>\n",
       "      <td>/murn_Al_a_3_93</td>\n",
       "      <td>/home/surendralal/</td>\n",
       "      <td>notebooks/pyiron-virtual-workshop-2020/tutorials/day_1/Al_murnaghan_manual/</td>\n",
       "      <td>2020-04-13 01:24:46.292196</td>\n",
       "      <td>2020-04-13 01:24:46.921086</td>\n",
       "      <td>0.0</td>\n",
       "      <td>pyiron@cmdell17#1</td>\n",
       "      <td>Lammps</td>\n",
       "      <td>0.1</td>\n",
       "      <td>None</td>\n",
       "      <td>None</td>\n",
       "    </tr>\n",
       "    <tr>\n",
       "      <th>2</th>\n",
       "      <td>12</td>\n",
       "      <td>finished</td>\n",
       "      <td>Al</td>\n",
       "      <td>murn_Al_a_3_96</td>\n",
       "      <td>/murn_Al_a_3_96</td>\n",
       "      <td>/home/surendralal/</td>\n",
       "      <td>notebooks/pyiron-virtual-workshop-2020/tutorials/day_1/Al_murnaghan_manual/</td>\n",
       "      <td>2020-04-13 01:24:47.406979</td>\n",
       "      <td>2020-04-13 01:24:48.220950</td>\n",
       "      <td>0.0</td>\n",
       "      <td>pyiron@cmdell17#1</td>\n",
       "      <td>Lammps</td>\n",
       "      <td>0.1</td>\n",
       "      <td>None</td>\n",
       "      <td>None</td>\n",
       "    </tr>\n",
       "    <tr>\n",
       "      <th>3</th>\n",
       "      <td>13</td>\n",
       "      <td>finished</td>\n",
       "      <td>Al</td>\n",
       "      <td>murn_Al_a_3_99</td>\n",
       "      <td>/murn_Al_a_3_99</td>\n",
       "      <td>/home/surendralal/</td>\n",
       "      <td>notebooks/pyiron-virtual-workshop-2020/tutorials/day_1/Al_murnaghan_manual/</td>\n",
       "      <td>2020-04-13 01:24:48.776781</td>\n",
       "      <td>2020-04-13 01:24:49.684817</td>\n",
       "      <td>0.0</td>\n",
       "      <td>pyiron@cmdell17#1</td>\n",
       "      <td>Lammps</td>\n",
       "      <td>0.1</td>\n",
       "      <td>None</td>\n",
       "      <td>None</td>\n",
       "    </tr>\n",
       "    <tr>\n",
       "      <th>4</th>\n",
       "      <td>14</td>\n",
       "      <td>finished</td>\n",
       "      <td>Al</td>\n",
       "      <td>murn_Al_a_4_02</td>\n",
       "      <td>/murn_Al_a_4_02</td>\n",
       "      <td>/home/surendralal/</td>\n",
       "      <td>notebooks/pyiron-virtual-workshop-2020/tutorials/day_1/Al_murnaghan_manual/</td>\n",
       "      <td>2020-04-13 01:24:50.336577</td>\n",
       "      <td>2020-04-13 01:24:51.310041</td>\n",
       "      <td>0.0</td>\n",
       "      <td>pyiron@cmdell17#1</td>\n",
       "      <td>Lammps</td>\n",
       "      <td>0.1</td>\n",
       "      <td>None</td>\n",
       "      <td>None</td>\n",
       "    </tr>\n",
       "    <tr>\n",
       "      <th>5</th>\n",
       "      <td>15</td>\n",
       "      <td>finished</td>\n",
       "      <td>Al</td>\n",
       "      <td>murn_Al_a_4_05</td>\n",
       "      <td>/murn_Al_a_4_05</td>\n",
       "      <td>/home/surendralal/</td>\n",
       "      <td>notebooks/pyiron-virtual-workshop-2020/tutorials/day_1/Al_murnaghan_manual/</td>\n",
       "      <td>2020-04-13 01:24:51.848357</td>\n",
       "      <td>2020-04-13 01:24:52.490843</td>\n",
       "      <td>0.0</td>\n",
       "      <td>pyiron@cmdell17#1</td>\n",
       "      <td>Lammps</td>\n",
       "      <td>0.1</td>\n",
       "      <td>None</td>\n",
       "      <td>None</td>\n",
       "    </tr>\n",
       "    <tr>\n",
       "      <th>6</th>\n",
       "      <td>16</td>\n",
       "      <td>finished</td>\n",
       "      <td>Al</td>\n",
       "      <td>murn_Al_a_4_08</td>\n",
       "      <td>/murn_Al_a_4_08</td>\n",
       "      <td>/home/surendralal/</td>\n",
       "      <td>notebooks/pyiron-virtual-workshop-2020/tutorials/day_1/Al_murnaghan_manual/</td>\n",
       "      <td>2020-04-13 01:24:52.977425</td>\n",
       "      <td>2020-04-13 01:24:53.611983</td>\n",
       "      <td>0.0</td>\n",
       "      <td>pyiron@cmdell17#1</td>\n",
       "      <td>Lammps</td>\n",
       "      <td>0.1</td>\n",
       "      <td>None</td>\n",
       "      <td>None</td>\n",
       "    </tr>\n",
       "    <tr>\n",
       "      <th>7</th>\n",
       "      <td>17</td>\n",
       "      <td>finished</td>\n",
       "      <td>Al</td>\n",
       "      <td>murn_Al_a_4_11</td>\n",
       "      <td>/murn_Al_a_4_11</td>\n",
       "      <td>/home/surendralal/</td>\n",
       "      <td>notebooks/pyiron-virtual-workshop-2020/tutorials/day_1/Al_murnaghan_manual/</td>\n",
       "      <td>2020-04-13 01:24:54.101290</td>\n",
       "      <td>2020-04-13 01:24:54.727862</td>\n",
       "      <td>0.0</td>\n",
       "      <td>pyiron@cmdell17#1</td>\n",
       "      <td>Lammps</td>\n",
       "      <td>0.1</td>\n",
       "      <td>None</td>\n",
       "      <td>None</td>\n",
       "    </tr>\n",
       "    <tr>\n",
       "      <th>8</th>\n",
       "      <td>18</td>\n",
       "      <td>finished</td>\n",
       "      <td>Al</td>\n",
       "      <td>murn_Al_a_4_14</td>\n",
       "      <td>/murn_Al_a_4_14</td>\n",
       "      <td>/home/surendralal/</td>\n",
       "      <td>notebooks/pyiron-virtual-workshop-2020/tutorials/day_1/Al_murnaghan_manual/</td>\n",
       "      <td>2020-04-13 01:24:55.220908</td>\n",
       "      <td>2020-04-13 01:24:55.895307</td>\n",
       "      <td>0.0</td>\n",
       "      <td>pyiron@cmdell17#1</td>\n",
       "      <td>Lammps</td>\n",
       "      <td>0.1</td>\n",
       "      <td>None</td>\n",
       "      <td>None</td>\n",
       "    </tr>\n",
       "    <tr>\n",
       "      <th>9</th>\n",
       "      <td>19</td>\n",
       "      <td>finished</td>\n",
       "      <td>Al</td>\n",
       "      <td>murn_Al_a_4_17</td>\n",
       "      <td>/murn_Al_a_4_17</td>\n",
       "      <td>/home/surendralal/</td>\n",
       "      <td>notebooks/pyiron-virtual-workshop-2020/tutorials/day_1/Al_murnaghan_manual/</td>\n",
       "      <td>2020-04-13 01:24:56.454468</td>\n",
       "      <td>2020-04-13 01:24:57.285500</td>\n",
       "      <td>0.0</td>\n",
       "      <td>pyiron@cmdell17#1</td>\n",
       "      <td>Lammps</td>\n",
       "      <td>0.1</td>\n",
       "      <td>None</td>\n",
       "      <td>None</td>\n",
       "    </tr>\n",
       "    <tr>\n",
       "      <th>10</th>\n",
       "      <td>20</td>\n",
       "      <td>finished</td>\n",
       "      <td>Al</td>\n",
       "      <td>murn_Al_a_4_2</td>\n",
       "      <td>/murn_Al_a_4_2</td>\n",
       "      <td>/home/surendralal/</td>\n",
       "      <td>notebooks/pyiron-virtual-workshop-2020/tutorials/day_1/Al_murnaghan_manual/</td>\n",
       "      <td>2020-04-13 01:24:57.866048</td>\n",
       "      <td>2020-04-13 01:24:58.741866</td>\n",
       "      <td>0.0</td>\n",
       "      <td>pyiron@cmdell17#1</td>\n",
       "      <td>Lammps</td>\n",
       "      <td>0.1</td>\n",
       "      <td>None</td>\n",
       "      <td>None</td>\n",
       "    </tr>\n",
       "  </tbody>\n",
       "</table>\n",
       "</div>"
      ],
      "text/plain": [
       "    id    status chemicalformula             job           subjob  \\\n",
       "0   10  finished              Al   murn_Al_a_3_9   /murn_Al_a_3_9   \n",
       "1   11  finished              Al  murn_Al_a_3_93  /murn_Al_a_3_93   \n",
       "2   12  finished              Al  murn_Al_a_3_96  /murn_Al_a_3_96   \n",
       "3   13  finished              Al  murn_Al_a_3_99  /murn_Al_a_3_99   \n",
       "4   14  finished              Al  murn_Al_a_4_02  /murn_Al_a_4_02   \n",
       "5   15  finished              Al  murn_Al_a_4_05  /murn_Al_a_4_05   \n",
       "6   16  finished              Al  murn_Al_a_4_08  /murn_Al_a_4_08   \n",
       "7   17  finished              Al  murn_Al_a_4_11  /murn_Al_a_4_11   \n",
       "8   18  finished              Al  murn_Al_a_4_14  /murn_Al_a_4_14   \n",
       "9   19  finished              Al  murn_Al_a_4_17  /murn_Al_a_4_17   \n",
       "10  20  finished              Al   murn_Al_a_4_2   /murn_Al_a_4_2   \n",
       "\n",
       "           projectpath  \\\n",
       "0   /home/surendralal/   \n",
       "1   /home/surendralal/   \n",
       "2   /home/surendralal/   \n",
       "3   /home/surendralal/   \n",
       "4   /home/surendralal/   \n",
       "5   /home/surendralal/   \n",
       "6   /home/surendralal/   \n",
       "7   /home/surendralal/   \n",
       "8   /home/surendralal/   \n",
       "9   /home/surendralal/   \n",
       "10  /home/surendralal/   \n",
       "\n",
       "                                                                        project  \\\n",
       "0   notebooks/pyiron-virtual-workshop-2020/tutorials/day_1/Al_murnaghan_manual/   \n",
       "1   notebooks/pyiron-virtual-workshop-2020/tutorials/day_1/Al_murnaghan_manual/   \n",
       "2   notebooks/pyiron-virtual-workshop-2020/tutorials/day_1/Al_murnaghan_manual/   \n",
       "3   notebooks/pyiron-virtual-workshop-2020/tutorials/day_1/Al_murnaghan_manual/   \n",
       "4   notebooks/pyiron-virtual-workshop-2020/tutorials/day_1/Al_murnaghan_manual/   \n",
       "5   notebooks/pyiron-virtual-workshop-2020/tutorials/day_1/Al_murnaghan_manual/   \n",
       "6   notebooks/pyiron-virtual-workshop-2020/tutorials/day_1/Al_murnaghan_manual/   \n",
       "7   notebooks/pyiron-virtual-workshop-2020/tutorials/day_1/Al_murnaghan_manual/   \n",
       "8   notebooks/pyiron-virtual-workshop-2020/tutorials/day_1/Al_murnaghan_manual/   \n",
       "9   notebooks/pyiron-virtual-workshop-2020/tutorials/day_1/Al_murnaghan_manual/   \n",
       "10  notebooks/pyiron-virtual-workshop-2020/tutorials/day_1/Al_murnaghan_manual/   \n",
       "\n",
       "                    timestart                   timestop  totalcputime  \\\n",
       "0  2020-04-13 01:24:45.224495 2020-04-13 01:24:45.839266           0.0   \n",
       "1  2020-04-13 01:24:46.292196 2020-04-13 01:24:46.921086           0.0   \n",
       "2  2020-04-13 01:24:47.406979 2020-04-13 01:24:48.220950           0.0   \n",
       "3  2020-04-13 01:24:48.776781 2020-04-13 01:24:49.684817           0.0   \n",
       "4  2020-04-13 01:24:50.336577 2020-04-13 01:24:51.310041           0.0   \n",
       "5  2020-04-13 01:24:51.848357 2020-04-13 01:24:52.490843           0.0   \n",
       "6  2020-04-13 01:24:52.977425 2020-04-13 01:24:53.611983           0.0   \n",
       "7  2020-04-13 01:24:54.101290 2020-04-13 01:24:54.727862           0.0   \n",
       "8  2020-04-13 01:24:55.220908 2020-04-13 01:24:55.895307           0.0   \n",
       "9  2020-04-13 01:24:56.454468 2020-04-13 01:24:57.285500           0.0   \n",
       "10 2020-04-13 01:24:57.866048 2020-04-13 01:24:58.741866           0.0   \n",
       "\n",
       "             computer hamilton hamversion parentid masterid  \n",
       "0   pyiron@cmdell17#1   Lammps        0.1     None     None  \n",
       "1   pyiron@cmdell17#1   Lammps        0.1     None     None  \n",
       "2   pyiron@cmdell17#1   Lammps        0.1     None     None  \n",
       "3   pyiron@cmdell17#1   Lammps        0.1     None     None  \n",
       "4   pyiron@cmdell17#1   Lammps        0.1     None     None  \n",
       "5   pyiron@cmdell17#1   Lammps        0.1     None     None  \n",
       "6   pyiron@cmdell17#1   Lammps        0.1     None     None  \n",
       "7   pyiron@cmdell17#1   Lammps        0.1     None     None  \n",
       "8   pyiron@cmdell17#1   Lammps        0.1     None     None  \n",
       "9   pyiron@cmdell17#1   Lammps        0.1     None     None  \n",
       "10  pyiron@cmdell17#1   Lammps        0.1     None     None  "
      ]
     },
     "execution_count": 71,
     "metadata": {},
     "output_type": "execute_result"
    }
   ],
   "source": [
    "pr.job_table()"
   ]
  },
  {
   "cell_type": "code",
   "execution_count": 87,
   "metadata": {},
   "outputs": [
    {
     "name": "stdout",
     "output_type": "stream",
     "text": [
      "CPU times: user 109 ms, sys: 93.8 ms, total: 203 ms\n",
      "Wall time: 179 ms\n"
     ]
    },
    {
     "data": {
      "image/png": "[encoded data removed]",
      "text/plain": [
       "<Figure size 432x288 with 1 Axes>"
      ]
     },
     "metadata": {
      "needs_background": "light"
     },
     "output_type": "display_data"
    }
   ],
   "source": [
    "%%time\n",
    "convert_to_object = False\n",
    "for job in pr.iter_jobs(convert_to_object=convert_to_object):\n",
    "    plt.plot(job[\"output/generic/volume\"][-1], job[\"output/generic/energy_tot\"][-1], \"bx\")"
   ]
  },
  {
   "cell_type": "code",
   "execution_count": 193,
   "metadata": {},
   "outputs": [],
   "source": [
    "pr = Project(\"Al_murnaghan_automated\")"
   ]
  },
  {
   "cell_type": "code",
   "execution_count": 194,
   "metadata": {},
   "outputs": [],
   "source": [
    "murn = pr.create_job(pr.job_type.Murnaghan, \"murn_Al\")\n",
    "job_ref = pr.create_job(pr.job_type.Lammps, \"Al_ref\")\n",
    "job_ref.structure = pr.create_ase_bulk(\"Al\", cubic=True)\n",
    "job_ref.potential = 'Al_H_Ni_Angelo_eam'\n",
    "job_ref.calc_minimize()\n",
    "murn.ref_job = job_ref"
   ]
  },
  {
   "cell_type": "code",
   "execution_count": 195,
   "metadata": {},
   "outputs": [
    {
     "name": "stderr",
     "output_type": "stream",
     "text": [
      "2020-04-13 02:39:28,712 - pyiron_log - WARNING - The job murn_Al is being loaded instead of running. To re-run use the argument 'run_again=True'\n"
     ]
    }
   ],
   "source": [
    "murn.run()"
   ]
  },
  {
   "cell_type": "code",
   "execution_count": 196,
   "metadata": {},
   "outputs": [
    {
     "data": {
      "text/html": [
       "<div>\n",
       "<style scoped>\n",
       "    .dataframe tbody tr th:only-of-type {\n",
       "        vertical-align: middle;\n",
       "    }\n",
       "\n",
       "    .dataframe tbody tr th {\n",
       "        vertical-align: top;\n",
       "    }\n",
       "\n",
       "    .dataframe thead th {\n",
       "        text-align: right;\n",
       "    }\n",
       "</style>\n",
       "<table border=\"1\" class=\"dataframe\">\n",
       "  <thead>\n",
       "    <tr style=\"text-align: right;\">\n",
       "      <th></th>\n",
       "      <th>id</th>\n",
       "      <th>status</th>\n",
       "      <th>chemicalformula</th>\n",
       "      <th>job</th>\n",
       "      <th>subjob</th>\n",
       "      <th>projectpath</th>\n",
       "      <th>project</th>\n",
       "      <th>timestart</th>\n",
       "      <th>timestop</th>\n",
       "      <th>totalcputime</th>\n",
       "      <th>computer</th>\n",
       "      <th>hamilton</th>\n",
       "      <th>hamversion</th>\n",
       "      <th>parentid</th>\n",
       "      <th>masterid</th>\n",
       "    </tr>\n",
       "  </thead>\n",
       "  <tbody>\n",
       "    <tr>\n",
       "      <th>0</th>\n",
       "      <td>21</td>\n",
       "      <td>finished</td>\n",
       "      <td>Al4</td>\n",
       "      <td>murn_Al</td>\n",
       "      <td>/murn_Al</td>\n",
       "      <td>/home/surendralal/</td>\n",
       "      <td>notebooks/pyiron-virtual-workshop-2020/tutorials/day_1/Al_murnaghan_automated/</td>\n",
       "      <td>2020-04-13 01:59:44.878954</td>\n",
       "      <td>2020-04-13 02:00:07.266405</td>\n",
       "      <td>22.0</td>\n",
       "      <td>pyiron@cmdell17#1#11/11</td>\n",
       "      <td>Murnaghan</td>\n",
       "      <td>0.3.0</td>\n",
       "      <td>None</td>\n",
       "      <td>NaN</td>\n",
       "    </tr>\n",
       "    <tr>\n",
       "      <th>1</th>\n",
       "      <td>22</td>\n",
       "      <td>finished</td>\n",
       "      <td>Al4</td>\n",
       "      <td>strain_0_9</td>\n",
       "      <td>/strain_0_9</td>\n",
       "      <td>/home/surendralal/</td>\n",
       "      <td>notebooks/pyiron-virtual-workshop-2020/tutorials/day_1/Al_murnaghan_automated/murn_Al_hdf5/</td>\n",
       "      <td>2020-04-13 01:59:45.851620</td>\n",
       "      <td>2020-04-13 01:59:46.666680</td>\n",
       "      <td>0.0</td>\n",
       "      <td>pyiron@cmdell17#1</td>\n",
       "      <td>Lammps</td>\n",
       "      <td>0.1</td>\n",
       "      <td>None</td>\n",
       "      <td>21.0</td>\n",
       "    </tr>\n",
       "    <tr>\n",
       "      <th>2</th>\n",
       "      <td>23</td>\n",
       "      <td>finished</td>\n",
       "      <td>Al4</td>\n",
       "      <td>strain_0_92</td>\n",
       "      <td>/strain_0_92</td>\n",
       "      <td>/home/surendralal/</td>\n",
       "      <td>notebooks/pyiron-virtual-workshop-2020/tutorials/day_1/Al_murnaghan_automated/murn_Al_hdf5/</td>\n",
       "      <td>2020-04-13 01:59:47.720510</td>\n",
       "      <td>2020-04-13 01:59:48.546402</td>\n",
       "      <td>0.0</td>\n",
       "      <td>pyiron@cmdell17#1</td>\n",
       "      <td>Lammps</td>\n",
       "      <td>0.1</td>\n",
       "      <td>None</td>\n",
       "      <td>21.0</td>\n",
       "    </tr>\n",
       "    <tr>\n",
       "      <th>3</th>\n",
       "      <td>24</td>\n",
       "      <td>finished</td>\n",
       "      <td>Al4</td>\n",
       "      <td>strain_0_94</td>\n",
       "      <td>/strain_0_94</td>\n",
       "      <td>/home/surendralal/</td>\n",
       "      <td>notebooks/pyiron-virtual-workshop-2020/tutorials/day_1/Al_murnaghan_automated/murn_Al_hdf5/</td>\n",
       "      <td>2020-04-13 01:59:49.846678</td>\n",
       "      <td>2020-04-13 01:59:50.568412</td>\n",
       "      <td>0.0</td>\n",
       "      <td>pyiron@cmdell17#1</td>\n",
       "      <td>Lammps</td>\n",
       "      <td>0.1</td>\n",
       "      <td>None</td>\n",
       "      <td>21.0</td>\n",
       "    </tr>\n",
       "    <tr>\n",
       "      <th>4</th>\n",
       "      <td>25</td>\n",
       "      <td>finished</td>\n",
       "      <td>Al4</td>\n",
       "      <td>strain_0_96</td>\n",
       "      <td>/strain_0_96</td>\n",
       "      <td>/home/surendralal/</td>\n",
       "      <td>notebooks/pyiron-virtual-workshop-2020/tutorials/day_1/Al_murnaghan_automated/murn_Al_hdf5/</td>\n",
       "      <td>2020-04-13 01:59:51.721041</td>\n",
       "      <td>2020-04-13 01:59:52.452714</td>\n",
       "      <td>0.0</td>\n",
       "      <td>pyiron@cmdell17#1</td>\n",
       "      <td>Lammps</td>\n",
       "      <td>0.1</td>\n",
       "      <td>None</td>\n",
       "      <td>21.0</td>\n",
       "    </tr>\n",
       "    <tr>\n",
       "      <th>...</th>\n",
       "      <td>...</td>\n",
       "      <td>...</td>\n",
       "      <td>...</td>\n",
       "      <td>...</td>\n",
       "      <td>...</td>\n",
       "      <td>...</td>\n",
       "      <td>...</td>\n",
       "      <td>...</td>\n",
       "      <td>...</td>\n",
       "      <td>...</td>\n",
       "      <td>...</td>\n",
       "      <td>...</td>\n",
       "      <td>...</td>\n",
       "      <td>...</td>\n",
       "      <td>...</td>\n",
       "    </tr>\n",
       "    <tr>\n",
       "      <th>103</th>\n",
       "      <td>124</td>\n",
       "      <td>finished</td>\n",
       "      <td>Al4</td>\n",
       "      <td>strain_1_02</td>\n",
       "      <td>/strain_1_02</td>\n",
       "      <td>/home/surendralal/</td>\n",
       "      <td>notebooks/pyiron-virtual-workshop-2020/tutorials/day_1/Al_murnaghan_automated/murn_Al_temp_800_hdf5/</td>\n",
       "      <td>2020-04-13 02:12:17.530073</td>\n",
       "      <td>2020-04-13 02:12:18.505885</td>\n",
       "      <td>0.0</td>\n",
       "      <td>pyiron@cmdell17#1</td>\n",
       "      <td>Lammps</td>\n",
       "      <td>0.1</td>\n",
       "      <td>None</td>\n",
       "      <td>117.0</td>\n",
       "    </tr>\n",
       "    <tr>\n",
       "      <th>104</th>\n",
       "      <td>125</td>\n",
       "      <td>finished</td>\n",
       "      <td>Al4</td>\n",
       "      <td>strain_1_04</td>\n",
       "      <td>/strain_1_04</td>\n",
       "      <td>/home/surendralal/</td>\n",
       "      <td>notebooks/pyiron-virtual-workshop-2020/tutorials/day_1/Al_murnaghan_automated/murn_Al_temp_800_hdf5/</td>\n",
       "      <td>2020-04-13 02:12:19.656770</td>\n",
       "      <td>2020-04-13 02:12:20.572237</td>\n",
       "      <td>0.0</td>\n",
       "      <td>pyiron@cmdell17#1</td>\n",
       "      <td>Lammps</td>\n",
       "      <td>0.1</td>\n",
       "      <td>None</td>\n",
       "      <td>117.0</td>\n",
       "    </tr>\n",
       "    <tr>\n",
       "      <th>105</th>\n",
       "      <td>126</td>\n",
       "      <td>finished</td>\n",
       "      <td>Al4</td>\n",
       "      <td>strain_1_06</td>\n",
       "      <td>/strain_1_06</td>\n",
       "      <td>/home/surendralal/</td>\n",
       "      <td>notebooks/pyiron-virtual-workshop-2020/tutorials/day_1/Al_murnaghan_automated/murn_Al_temp_800_hdf5/</td>\n",
       "      <td>2020-04-13 02:12:21.838066</td>\n",
       "      <td>2020-04-13 02:12:22.876512</td>\n",
       "      <td>1.0</td>\n",
       "      <td>pyiron@cmdell17#1</td>\n",
       "      <td>Lammps</td>\n",
       "      <td>0.1</td>\n",
       "      <td>None</td>\n",
       "      <td>117.0</td>\n",
       "    </tr>\n",
       "    <tr>\n",
       "      <th>106</th>\n",
       "      <td>127</td>\n",
       "      <td>finished</td>\n",
       "      <td>Al4</td>\n",
       "      <td>strain_1_08</td>\n",
       "      <td>/strain_1_08</td>\n",
       "      <td>/home/surendralal/</td>\n",
       "      <td>notebooks/pyiron-virtual-workshop-2020/tutorials/day_1/Al_murnaghan_automated/murn_Al_temp_800_hdf5/</td>\n",
       "      <td>2020-04-13 02:12:24.318824</td>\n",
       "      <td>2020-04-13 02:12:25.451571</td>\n",
       "      <td>1.0</td>\n",
       "      <td>pyiron@cmdell17#1</td>\n",
       "      <td>Lammps</td>\n",
       "      <td>0.1</td>\n",
       "      <td>None</td>\n",
       "      <td>117.0</td>\n",
       "    </tr>\n",
       "    <tr>\n",
       "      <th>107</th>\n",
       "      <td>128</td>\n",
       "      <td>finished</td>\n",
       "      <td>Al4</td>\n",
       "      <td>strain_1_1</td>\n",
       "      <td>/strain_1_1</td>\n",
       "      <td>/home/surendralal/</td>\n",
       "      <td>notebooks/pyiron-virtual-workshop-2020/tutorials/day_1/Al_murnaghan_automated/murn_Al_temp_800_hdf5/</td>\n",
       "      <td>2020-04-13 02:12:26.812215</td>\n",
       "      <td>2020-04-13 02:12:27.766412</td>\n",
       "      <td>0.0</td>\n",
       "      <td>pyiron@cmdell17#1</td>\n",
       "      <td>Lammps</td>\n",
       "      <td>0.1</td>\n",
       "      <td>None</td>\n",
       "      <td>117.0</td>\n",
       "    </tr>\n",
       "  </tbody>\n",
       "</table>\n",
       "<p>108 rows × 15 columns</p>\n",
       "</div>"
      ],
      "text/plain": [
       "      id    status chemicalformula          job        subjob  \\\n",
       "0     21  finished             Al4      murn_Al      /murn_Al   \n",
       "1     22  finished             Al4   strain_0_9   /strain_0_9   \n",
       "2     23  finished             Al4  strain_0_92  /strain_0_92   \n",
       "3     24  finished             Al4  strain_0_94  /strain_0_94   \n",
       "4     25  finished             Al4  strain_0_96  /strain_0_96   \n",
       "..   ...       ...             ...          ...           ...   \n",
       "103  124  finished             Al4  strain_1_02  /strain_1_02   \n",
       "104  125  finished             Al4  strain_1_04  /strain_1_04   \n",
       "105  126  finished             Al4  strain_1_06  /strain_1_06   \n",
       "106  127  finished             Al4  strain_1_08  /strain_1_08   \n",
       "107  128  finished             Al4   strain_1_1   /strain_1_1   \n",
       "\n",
       "            projectpath  \\\n",
       "0    /home/surendralal/   \n",
       "1    /home/surendralal/   \n",
       "2    /home/surendralal/   \n",
       "3    /home/surendralal/   \n",
       "4    /home/surendralal/   \n",
       "..                  ...   \n",
       "103  /home/surendralal/   \n",
       "104  /home/surendralal/   \n",
       "105  /home/surendralal/   \n",
       "106  /home/surendralal/   \n",
       "107  /home/surendralal/   \n",
       "\n",
       "                                                                                                  project  \\\n",
       "0                          notebooks/pyiron-virtual-workshop-2020/tutorials/day_1/Al_murnaghan_automated/   \n",
       "1             notebooks/pyiron-virtual-workshop-2020/tutorials/day_1/Al_murnaghan_automated/murn_Al_hdf5/   \n",
       "2             notebooks/pyiron-virtual-workshop-2020/tutorials/day_1/Al_murnaghan_automated/murn_Al_hdf5/   \n",
       "3             notebooks/pyiron-virtual-workshop-2020/tutorials/day_1/Al_murnaghan_automated/murn_Al_hdf5/   \n",
       "4             notebooks/pyiron-virtual-workshop-2020/tutorials/day_1/Al_murnaghan_automated/murn_Al_hdf5/   \n",
       "..                                                                                                    ...   \n",
       "103  notebooks/pyiron-virtual-workshop-2020/tutorials/day_1/Al_murnaghan_automated/murn_Al_temp_800_hdf5/   \n",
       "104  notebooks/pyiron-virtual-workshop-2020/tutorials/day_1/Al_murnaghan_automated/murn_Al_temp_800_hdf5/   \n",
       "105  notebooks/pyiron-virtual-workshop-2020/tutorials/day_1/Al_murnaghan_automated/murn_Al_temp_800_hdf5/   \n",
       "106  notebooks/pyiron-virtual-workshop-2020/tutorials/day_1/Al_murnaghan_automated/murn_Al_temp_800_hdf5/   \n",
       "107  notebooks/pyiron-virtual-workshop-2020/tutorials/day_1/Al_murnaghan_automated/murn_Al_temp_800_hdf5/   \n",
       "\n",
       "                     timestart                   timestop  totalcputime  \\\n",
       "0   2020-04-13 01:59:44.878954 2020-04-13 02:00:07.266405          22.0   \n",
       "1   2020-04-13 01:59:45.851620 2020-04-13 01:59:46.666680           0.0   \n",
       "2   2020-04-13 01:59:47.720510 2020-04-13 01:59:48.546402           0.0   \n",
       "3   2020-04-13 01:59:49.846678 2020-04-13 01:59:50.568412           0.0   \n",
       "4   2020-04-13 01:59:51.721041 2020-04-13 01:59:52.452714           0.0   \n",
       "..                         ...                        ...           ...   \n",
       "103 2020-04-13 02:12:17.530073 2020-04-13 02:12:18.505885           0.0   \n",
       "104 2020-04-13 02:12:19.656770 2020-04-13 02:12:20.572237           0.0   \n",
       "105 2020-04-13 02:12:21.838066 2020-04-13 02:12:22.876512           1.0   \n",
       "106 2020-04-13 02:12:24.318824 2020-04-13 02:12:25.451571           1.0   \n",
       "107 2020-04-13 02:12:26.812215 2020-04-13 02:12:27.766412           0.0   \n",
       "\n",
       "                    computer   hamilton hamversion parentid  masterid  \n",
       "0    pyiron@cmdell17#1#11/11  Murnaghan      0.3.0     None       NaN  \n",
       "1          pyiron@cmdell17#1     Lammps        0.1     None      21.0  \n",
       "2          pyiron@cmdell17#1     Lammps        0.1     None      21.0  \n",
       "3          pyiron@cmdell17#1     Lammps        0.1     None      21.0  \n",
       "4          pyiron@cmdell17#1     Lammps        0.1     None      21.0  \n",
       "..                       ...        ...        ...      ...       ...  \n",
       "103        pyiron@cmdell17#1     Lammps        0.1     None     117.0  \n",
       "104        pyiron@cmdell17#1     Lammps        0.1     None     117.0  \n",
       "105        pyiron@cmdell17#1     Lammps        0.1     None     117.0  \n",
       "106        pyiron@cmdell17#1     Lammps        0.1     None     117.0  \n",
       "107        pyiron@cmdell17#1     Lammps        0.1     None     117.0  \n",
       "\n",
       "[108 rows x 15 columns]"
      ]
     },
     "execution_count": 196,
     "metadata": {},
     "output_type": "execute_result"
    }
   ],
   "source": [
    "pr.job_table()"
   ]
  },
  {
   "cell_type": "code",
   "execution_count": 197,
   "metadata": {},
   "outputs": [
    {
     "data": {
      "image/png": "[encoded data removed]",
      "text/plain": [
       "<Figure size 432x288 with 1 Axes>"
      ]
     },
     "metadata": {
      "needs_background": "light"
     },
     "output_type": "display_data"
    }
   ],
   "source": [
    "murn.plot()"
   ]
  },
  {
   "cell_type": "code",
   "execution_count": 198,
   "metadata": {},
   "outputs": [
    {
     "data": {
      "text/plain": [
       "4.049953713580603"
      ]
     },
     "execution_count": 198,
     "metadata": {},
     "output_type": "execute_result"
    }
   ],
   "source": [
    "murn[\"output/equilibrium_volume\"] ** (1/3)"
   ]
  },
  {
   "cell_type": "code",
   "execution_count": 199,
   "metadata": {},
   "outputs": [
    {
     "data": {
      "text/plain": [
       "81.04044546401586"
      ]
     },
     "execution_count": 199,
     "metadata": {},
     "output_type": "execute_result"
    }
   ],
   "source": [
    "murn[\"output/equilibrium_bulk_modulus\"]"
   ]
  },
  {
   "cell_type": "code",
   "execution_count": 200,
   "metadata": {},
   "outputs": [
    {
     "data": {
      "text/plain": [
       "4.006907327547416"
      ]
     },
     "execution_count": 200,
     "metadata": {},
     "output_type": "execute_result"
    }
   ],
   "source": [
    "murn[\"output/equilibrium_b_prime\"]"
   ]
  },
  {
   "cell_type": "code",
   "execution_count": 201,
   "metadata": {},
   "outputs": [
    {
     "data": {
      "text/plain": [
       "{'poly_fit': array([-9.56553731e-05,  2.28697903e-02, -1.77209828e+00,  3.13985247e+01]),\n",
       " 'fit_type': 'polynomial',\n",
       " 'fit_order': 3,\n",
       " 'volume_eq': 66.42784738704798,\n",
       " 'energy_eq': -13.440396614411778,\n",
       " 'bulkmodul_eq': 81.04044546401586,\n",
       " 'b_prime_eq': 4.006907327547416,\n",
       " 'least_square_error': 1.1456196778545522e-07}"
      ]
     },
     "execution_count": 201,
     "metadata": {},
     "output_type": "execute_result"
    }
   ],
   "source": [
    "murn.fit_dict"
   ]
  },
  {
   "cell_type": "code",
   "execution_count": 202,
   "metadata": {},
   "outputs": [],
   "source": [
    "# Loop over potentials"
   ]
  },
  {
   "cell_type": "code",
   "execution_count": 335,
   "metadata": {},
   "outputs": [
    {
     "data": {
      "text/plain": [
       "['Al_Mg_Mendelev_eam',\n",
       " 'Zope_Ti_Al_2003_eam',\n",
       " 'Al_H_Ni_Angelo_eam',\n",
       " '2018--Dickel-D-E--Mg-Al-Zn--LAMMPS--ipr1',\n",
       " '2000--Landa-A--Al-Pb--LAMMPS--ipr1',\n",
       " '2004--Zhou-X-W--Al--LAMMPS--ipr2',\n",
       " '2003--Zope-R-R--Al--LAMMPS--ipr1',\n",
       " '2015--Mendelev-M-I--Al-Sm--LAMMPS--ipr1',\n",
       " '1997--Liu-X-Y--Al-Mg--LAMMPS--ipr1',\n",
       " '2004--Zhou-X-W--Al--LAMMPS--ipr1',\n",
       " '1995--Angelo-J-E--Ni-Al-H--LAMMPS--ipr1',\n",
       " '2015--Pascuet-M-I--Al-U--LAMMPS--ipr2',\n",
       " '1999--Liu-X-Y--Al-Cu--LAMMPS--ipr1',\n",
       " '2015--Pascuet-M-I--Al--LAMMPS--ipr1',\n",
       " '1998--Liu-X-Y--Al-Mg--LAMMPS--ipr1',\n",
       " '2015--Purja-Pun-G-P--Ni-Al-Co--LAMMPS--ipr2',\n",
       " '2009--Mendelev-M-I--Al-Mg--LAMMPS--ipr1',\n",
       " '2002--Mishin-Y--Ni-Al--LAMMPS--ipr1',\n",
       " '2012--Schopf-D--Al-Mn-Pd--LAMMPS--ipr1',\n",
       " '2000--Sturgeon-J-B--Al--LAMMPS--ipr1',\n",
       " '2003--Zope-R-R--Ti-Al--LAMMPS--ipr1',\n",
       " '2009--Zhakhovskii-V-V--Al--LAMMPS--ipr1',\n",
       " '2015--Purja-Pun-G-P--Ni-Al-Co--LAMMPS--ipr1',\n",
       " '1996--Farkas-D--Nb-Ti-Al--LAMMPS--ipr1',\n",
       " '2015--Purja-Pun-G-P--Al-Co--LAMMPS--ipr1',\n",
       " '2015--Purja-Pun-G-P--Al-Co--LAMMPS--ipr2',\n",
       " '2015--Pascuet-M-I--Al-U--LAMMPS--ipr1',\n",
       " '2010--Winey-J-M--Al--LAMMPS--ipr1',\n",
       " '2005--Mendelev-M-I--Al-Fe--LAMMPS--ipr1',\n",
       " '1999--Mishin-Y--Al--LAMMPS--ipr1',\n",
       " '2008--Mendelev-M-I--Al--LAMMPS--ipr1',\n",
       " '2009--Purja-Pun-G-P--Ni-Al--LAMMPS--ipr1',\n",
       " '2012--Jelinek-B--Al-Si-Mg-Cu-Fe--LAMMPS--ipr1',\n",
       " '2004--Mishin-Y--Ni-Al--LAMMPS--ipr1',\n",
       " '2004--Liu-X-Y--Al--LAMMPS--ipr1',\n",
       " '2016--Zhou-X-W--Al-Cu--LAMMPS--ipr1',\n",
       " '2017--Botu-V--Al--LAMMPS--ipr1',\n",
       " '2011--Apostol-F--Al-Cu--LAMMPS--ipr1',\n",
       " '2015--Botu-V--Al--LAMMPS--ipr1',\n",
       " '2015--Choudhary-K--Al--LAMMPS--ipr1',\n",
       " '2018--Zhou-X-W--Al-Cu-H--LAMMPS--ipr1',\n",
       " '2015--Kumar-A--Al-Ni-O--LAMMPS--ipr1',\n",
       " '2015--Kumar-A--Al-Ni--LAMMPS--ipr1',\n",
       " 'EAM_CubicNaturalSpline_ErcolessiAdams_1994_Al__MO_800509458712_002',\n",
       " 'EAM_Dynamo_AngeloMoodyBaskes_1995_NiAlH__MO_418978237058_005',\n",
       " 'EAM_Dynamo_CaiYe_1996_AlCu__MO_942551040047_005',\n",
       " 'EAM_Dynamo_ErcolessiAdams_1994_Al__MO_123629422045_005',\n",
       " 'EAM_Dynamo_FarkasJones_1996_NbTiAl__MO_042691367780_000',\n",
       " 'EAM_Dynamo_JacobsenNorskovPuska_1987_Al__MO_411692133366_000',\n",
       " 'EAM_Dynamo_LandaWynblattSiegel_2000_AlPb__MO_699137396381_005',\n",
       " 'EAM_Dynamo_LiuAdams_1998_AlMg__MO_019873715786_000',\n",
       " 'EAM_Dynamo_LiuErcolessiAdams_2004_Al__MO_051157671505_000',\n",
       " 'EAM_Dynamo_LiuLiuBorucki_1999_AlCu__MO_020851069572_000',\n",
       " 'EAM_Dynamo_LiuOhotnickyAdams_1997_AlMg__MO_559870613549_000',\n",
       " 'EAM_Dynamo_MendelevAstaRahman_2009_AlMg__MO_658278549784_005',\n",
       " 'EAM_Dynamo_MendelevFangYe_2015_AlSm__MO_338600200739_000',\n",
       " 'EAM_Dynamo_MendelevKramerBecker_2008_Al__MO_106969701023_005',\n",
       " 'EAM_Dynamo_MendelevSrolovitzAckland_2005_AlFe__MO_577453891941_005',\n",
       " 'EAM_Dynamo_MishinFarkasMehl_1999_Al__MO_651801486679_005',\n",
       " 'EAM_Dynamo_MishinMehlPapaconstantopoulos_2002_NiAl__MO_109933561507_005',\n",
       " 'EAM_Dynamo_Mishin_2004_NiAl__MO_101214310689_005',\n",
       " 'EAM_Dynamo_PunMishin_2009_NiAl__MO_751354403791_005',\n",
       " 'EAM_Dynamo_PunYamakovMishin_2013_AlCo__MO_678952612413_000',\n",
       " 'EAM_Dynamo_PunYamakovMishin_2013_NiAlCo__MO_826591359508_000',\n",
       " 'EAM_Dynamo_SchopfBrommerFrigan_2012_AlMnPd__MO_137572817842_000',\n",
       " 'EAM_Dynamo_SturgeonLaird_2000_Al__MO_120808805541_005',\n",
       " 'EAM_Dynamo_VailheFarkas_1997_CoAl__MO_284963179498_005',\n",
       " 'EAM_Dynamo_WineyKubotaGupta_2010_Al__MO_149316865608_005',\n",
       " 'EAM_Dynamo_Zhakhovsky_2009_Al__MO_519613893196_000',\n",
       " 'EAM_Dynamo_ZhouJohnsonWadley_2004_Al__MO_131650261510_005',\n",
       " 'EAM_Dynamo_ZhouWadleyJohnson_2001NISTretabulation_Al__MO_060567868558_000',\n",
       " 'EAM_Dynamo_ZhouWadleyJohnson_2001_Al__MO_049243498555_000',\n",
       " 'EAM_Dynamo_ZopeMishin_2003_Al__MO_664470114311_005',\n",
       " 'EAM_Dynamo_ZopeMishin_2003_TiAl__MO_117656786760_005',\n",
       " 'EAM_ErcolessiAdams_1994_Al__MO_324507536345_002',\n",
       " 'EAM_IMD_BrommerGaehler_2006A_AlNiCo__MO_122703700223_003',\n",
       " 'EAM_IMD_BrommerGaehler_2006B_AlNiCo__MO_128037485276_003',\n",
       " 'EAM_IMD_SchopfBrommerFrigan_2012_AlMnPd__MO_878712978062_003',\n",
       " 'EAM_QuinticClampedSpline_ErcolessiAdams_1994_Al__MO_450093727396_002',\n",
       " 'EAM_QuinticHermiteSpline_ErcolessiAdams_1994_Al__MO_781138671863_002',\n",
       " 'EMT_Asap_Standard_JacobsenStoltzeNorskov_1996_AlAgAuCuNiPdPt__MO_115316750986_001',\n",
       " 'EMT_Asap_Standard_JacobsenStoltzeNorskov_1996_Al__MO_623376124862_001',\n",
       " 'Morse_Shifted_GirifalcoWeizer_1959HighCutoff_Al__MO_140175748626_003',\n",
       " 'Morse_Shifted_GirifalcoWeizer_1959LowCutoff_Al__MO_411898953661_003',\n",
       " 'Morse_Shifted_GirifalcoWeizer_1959MedCutoff_Al__MO_279544746097_003',\n",
       " 'Sim_LAMMPS_ADP_ApostolMishin_2011_AlCu__SM_667696763561_000',\n",
       " 'Sim_LAMMPS_AGNI_BotuBatraChapman_2017_Al__SM_666183636896_000',\n",
       " 'Sim_LAMMPS_BOP_ZhouWardFoster_2016_AlCu__SM_566399258279_000',\n",
       " 'Sim_LAMMPS_MEAM_AlmyrasSangiovanniSarakinos_2019_NAlTi__SM_871795249052_000',\n",
       " 'Sim_LAMMPS_MEAM_JelinekGrohHorstemeyer_2012_AlSiMgCuFe__SM_656517352485_000',\n",
       " 'Sim_LAMMPS_MEAM_PascuetFernandez_2015_AlU__SM_721930391003_000',\n",
       " 'Sim_LAMMPS_MEAM_PascuetFernandez_2015_Al__SM_811588957187_000',\n",
       " 'Sim_LAMMPS_SMTBQ_SallesPolitanoAmzallag_2016_AlO__SM_853967355976_000',\n",
       " 'Sim_LAMMPS_SMTBQ_SallesPolitanoAmzallag_2016_Al__SM_404097633924_000']"
      ]
     },
     "execution_count": 335,
     "metadata": {},
     "output_type": "execute_result"
    }
   ],
   "source": [
    "potentials_list = job_ref.list_potentials()\n",
    "potentials_list"
   ]
  },
  {
   "cell_type": "code",
   "execution_count": 336,
   "metadata": {},
   "outputs": [
    {
     "name": "stdout",
     "output_type": "stream",
     "text": [
      "murn_Al_pot_Al_Mg_Mendelev_eam\n"
     ]
    },
    {
     "name": "stderr",
     "output_type": "stream",
     "text": [
      "2020-04-13 05:23:32,542 - pyiron_log - WARNING - The job murn_Al_pot_Al_Mg_Mendelev_eam is being loaded instead of running. To re-run use the argument 'run_again=True'\n"
     ]
    },
    {
     "name": "stdout",
     "output_type": "stream",
     "text": [
      "murn_Al_pot_Zope_Ti_Al_2003_eam\n"
     ]
    },
    {
     "name": "stderr",
     "output_type": "stream",
     "text": [
      "2020-04-13 05:23:33,454 - pyiron_log - WARNING - The job murn_Al_pot_Zope_Ti_Al_2003_eam is being loaded instead of running. To re-run use the argument 'run_again=True'\n"
     ]
    },
    {
     "name": "stdout",
     "output_type": "stream",
     "text": [
      "murn_Al_pot_Al_H_Ni_Angelo_eam\n"
     ]
    },
    {
     "name": "stderr",
     "output_type": "stream",
     "text": [
      "2020-04-13 05:23:34,014 - pyiron_log - WARNING - The job murn_Al_pot_Al_H_Ni_Angelo_eam is being loaded instead of running. To re-run use the argument 'run_again=True'\n",
      "2020-04-13 05:23:34,176 - pyiron_log - WARNING - Job aborted - please remove it and run again! murn_Al_pot_2018__Dickel_D_E__Mg_Al_Zn__LAMMPS__ipr1\n"
     ]
    },
    {
     "name": "stdout",
     "output_type": "stream",
     "text": [
      "murn_Al_pot_2018__Dickel_D_E__Mg_Al_Zn__LAMMPS__ipr1\n",
      "murn_Al_pot_2000__Landa_A__Al_Pb__LAMMPS__ipr1\n"
     ]
    },
    {
     "name": "stderr",
     "output_type": "stream",
     "text": [
      "2020-04-13 05:23:34,967 - pyiron_log - WARNING - The job murn_Al_pot_2000__Landa_A__Al_Pb__LAMMPS__ipr1 is being loaded instead of running. To re-run use the argument 'run_again=True'\n"
     ]
    },
    {
     "name": "stdout",
     "output_type": "stream",
     "text": [
      "murn_Al_pot_2004__Zhou_X_W__Al__LAMMPS__ipr2\n"
     ]
    },
    {
     "name": "stderr",
     "output_type": "stream",
     "text": [
      "2020-04-13 05:23:35,711 - pyiron_log - WARNING - The job murn_Al_pot_2004__Zhou_X_W__Al__LAMMPS__ipr2 is being loaded instead of running. To re-run use the argument 'run_again=True'\n"
     ]
    },
    {
     "name": "stdout",
     "output_type": "stream",
     "text": [
      "murn_Al_pot_2003__Zope_R_R__Al__LAMMPS__ipr1\n"
     ]
    },
    {
     "name": "stderr",
     "output_type": "stream",
     "text": [
      "2020-04-13 05:23:36,426 - pyiron_log - WARNING - The job murn_Al_pot_2003__Zope_R_R__Al__LAMMPS__ipr1 is being loaded instead of running. To re-run use the argument 'run_again=True'\n"
     ]
    },
    {
     "name": "stdout",
     "output_type": "stream",
     "text": [
      "murn_Al_pot_2015__Mendelev_M_I__Al_Sm__LAMMPS__ipr1\n"
     ]
    },
    {
     "name": "stderr",
     "output_type": "stream",
     "text": [
      "2020-04-13 05:23:37,141 - pyiron_log - WARNING - The job murn_Al_pot_2015__Mendelev_M_I__Al_Sm__LAMMPS__ipr1 is being loaded instead of running. To re-run use the argument 'run_again=True'\n"
     ]
    },
    {
     "name": "stdout",
     "output_type": "stream",
     "text": [
      "murn_Al_pot_1997__Liu_X_Y__Al_Mg__LAMMPS__ipr1\n"
     ]
    },
    {
     "name": "stderr",
     "output_type": "stream",
     "text": [
      "2020-04-13 05:23:37,722 - pyiron_log - WARNING - The job murn_Al_pot_1997__Liu_X_Y__Al_Mg__LAMMPS__ipr1 is being loaded instead of running. To re-run use the argument 'run_again=True'\n"
     ]
    },
    {
     "name": "stdout",
     "output_type": "stream",
     "text": [
      "murn_Al_pot_2004__Zhou_X_W__Al__LAMMPS__ipr1\n"
     ]
    },
    {
     "name": "stderr",
     "output_type": "stream",
     "text": [
      "2020-04-13 05:23:38,352 - pyiron_log - WARNING - The job murn_Al_pot_2004__Zhou_X_W__Al__LAMMPS__ipr1 is being loaded instead of running. To re-run use the argument 'run_again=True'\n"
     ]
    },
    {
     "name": "stdout",
     "output_type": "stream",
     "text": [
      "murn_Al_pot_1995__Angelo_J_E__Ni_Al_H__LAMMPS__ipr1\n",
      "The job murn_Al_pot_1995__Angelo_J_E__Ni_Al_H__LAMMPS__ipr1 was saved and received the ID: 143\n",
      "The job strain_0_9 was saved and received the ID: 144\n",
      "The job strain_0_92 was saved and received the ID: 145\n",
      "The job strain_0_94 was saved and received the ID: 146\n",
      "The job strain_0_96 was saved and received the ID: 147\n",
      "The job strain_0_98 was saved and received the ID: 148\n",
      "The job strain_1_0 was saved and received the ID: 149\n",
      "The job strain_1_02 was saved and received the ID: 150\n",
      "The job strain_1_04 was saved and received the ID: 151\n",
      "The job strain_1_06 was saved and received the ID: 152\n",
      "The job strain_1_08 was saved and received the ID: 153\n",
      "The job strain_1_1 was saved and received the ID: 154\n",
      "job_id:  144 finished\n",
      "job_id:  145 finished\n",
      "job_id:  146 finished\n",
      "job_id:  147 finished\n",
      "job_id:  148 finished\n",
      "job_id:  149 finished\n",
      "job_id:  150 finished\n",
      "job_id:  151 finished\n",
      "job_id:  152 finished\n",
      "job_id:  153 finished\n",
      "job_id:  154 finished\n",
      "murn_Al_pot_2015__Pascuet_M_I__Al_U__LAMMPS__ipr2\n",
      "The job murn_Al_pot_2015__Pascuet_M_I__Al_U__LAMMPS__ipr2 was saved and received the ID: 155\n",
      "The job strain_0_9 was saved and received the ID: 156\n",
      "The job strain_0_92 was saved and received the ID: 157\n",
      "The job strain_0_94 was saved and received the ID: 158\n",
      "The job strain_0_96 was saved and received the ID: 159\n",
      "The job strain_0_98 was saved and received the ID: 160\n",
      "The job strain_1_0 was saved and received the ID: 161\n",
      "The job strain_1_02 was saved and received the ID: 162\n",
      "The job strain_1_04 was saved and received the ID: 163\n",
      "The job strain_1_06 was saved and received the ID: 164\n",
      "The job strain_1_08 was saved and received the ID: 165\n",
      "The job strain_1_1 was saved and received the ID: 166\n",
      "job_id:  156 finished\n",
      "job_id:  157 finished\n",
      "job_id:  158 finished\n",
      "job_id:  159 finished\n",
      "job_id:  160 finished\n",
      "job_id:  161 finished\n",
      "job_id:  162 finished\n",
      "job_id:  163 finished\n",
      "job_id:  164 finished\n",
      "job_id:  165 finished\n",
      "job_id:  166 finished\n",
      "murn_Al_pot_1999__Liu_X_Y__Al_Cu__LAMMPS__ipr1\n",
      "The job murn_Al_pot_1999__Liu_X_Y__Al_Cu__LAMMPS__ipr1 was saved and received the ID: 167\n",
      "The job strain_0_9 was saved and received the ID: 168\n",
      "The job strain_0_92 was saved and received the ID: 169\n",
      "The job strain_0_94 was saved and received the ID: 170\n",
      "The job strain_0_96 was saved and received the ID: 171\n",
      "The job strain_0_98 was saved and received the ID: 172\n",
      "The job strain_1_0 was saved and received the ID: 173\n",
      "The job strain_1_02 was saved and received the ID: 174\n",
      "The job strain_1_04 was saved and received the ID: 175\n",
      "The job strain_1_06 was saved and received the ID: 176\n",
      "The job strain_1_08 was saved and received the ID: 177\n",
      "The job strain_1_1 was saved and received the ID: 178\n",
      "job_id:  168 finished\n",
      "job_id:  169 finished\n",
      "job_id:  170 finished\n",
      "job_id:  171 finished\n",
      "job_id:  172 finished\n",
      "job_id:  173 finished\n",
      "job_id:  174 finished\n",
      "job_id:  175 finished\n",
      "job_id:  176 finished\n",
      "job_id:  177 finished\n",
      "job_id:  178 finished\n",
      "murn_Al_pot_2015__Pascuet_M_I__Al__LAMMPS__ipr1\n",
      "The job murn_Al_pot_2015__Pascuet_M_I__Al__LAMMPS__ipr1 was saved and received the ID: 179\n",
      "The job strain_0_9 was saved and received the ID: 180\n",
      "The job strain_0_92 was saved and received the ID: 181\n",
      "The job strain_0_94 was saved and received the ID: 182\n",
      "The job strain_0_96 was saved and received the ID: 183\n",
      "The job strain_0_98 was saved and received the ID: 184\n",
      "The job strain_1_0 was saved and received the ID: 185\n",
      "The job strain_1_02 was saved and received the ID: 186\n",
      "The job strain_1_04 was saved and received the ID: 187\n",
      "The job strain_1_06 was saved and received the ID: 188\n",
      "The job strain_1_08 was saved and received the ID: 189\n",
      "The job strain_1_1 was saved and received the ID: 190\n",
      "job_id:  180 finished\n",
      "job_id:  181 finished\n",
      "job_id:  182 finished\n",
      "job_id:  183 finished\n",
      "job_id:  184 finished\n",
      "job_id:  185 finished\n",
      "job_id:  186 finished\n",
      "job_id:  187 finished\n",
      "job_id:  188 finished\n",
      "job_id:  189 finished\n",
      "job_id:  190 finished\n",
      "murn_Al_pot_1998__Liu_X_Y__Al_Mg__LAMMPS__ipr1\n",
      "The job murn_Al_pot_1998__Liu_X_Y__Al_Mg__LAMMPS__ipr1 was saved and received the ID: 191\n",
      "The job strain_0_9 was saved and received the ID: 192\n",
      "The job strain_0_92 was saved and received the ID: 193\n",
      "The job strain_0_94 was saved and received the ID: 194\n",
      "The job strain_0_96 was saved and received the ID: 195\n",
      "The job strain_0_98 was saved and received the ID: 196\n",
      "The job strain_1_0 was saved and received the ID: 197\n",
      "The job strain_1_02 was saved and received the ID: 198\n",
      "The job strain_1_04 was saved and received the ID: 199\n",
      "The job strain_1_06 was saved and received the ID: 200\n",
      "The job strain_1_08 was saved and received the ID: 201\n",
      "The job strain_1_1 was saved and received the ID: 202\n",
      "job_id:  192 finished\n",
      "job_id:  193 finished\n",
      "job_id:  194 finished\n",
      "job_id:  195 finished\n",
      "job_id:  196 finished\n",
      "job_id:  197 finished\n",
      "job_id:  198 finished\n",
      "job_id:  199 finished\n",
      "job_id:  200 finished\n",
      "job_id:  201 finished\n",
      "job_id:  202 finished\n",
      "murn_Al_pot_2015__Purja_Pun_G_P__Ni_Al_Co__LAMMPS__ipr2\n",
      "The job murn_Al_pot_2015__Purja_Pun_G_P__Ni_Al_Co__LAMMPS__ipr2 was saved and received the ID: 203\n",
      "The job strain_0_9 was saved and received the ID: 204\n",
      "The job strain_0_92 was saved and received the ID: 205\n",
      "The job strain_0_94 was saved and received the ID: 206\n",
      "The job strain_0_96 was saved and received the ID: 207\n",
      "The job strain_0_98 was saved and received the ID: 208\n",
      "The job strain_1_0 was saved and received the ID: 209\n",
      "The job strain_1_02 was saved and received the ID: 210\n",
      "The job strain_1_04 was saved and received the ID: 211\n",
      "The job strain_1_06 was saved and received the ID: 212\n",
      "The job strain_1_08 was saved and received the ID: 213\n",
      "The job strain_1_1 was saved and received the ID: 214\n",
      "job_id:  204 finished\n",
      "job_id:  205 finished\n",
      "job_id:  206 finished\n",
      "job_id:  207 finished\n",
      "job_id:  208 finished\n",
      "job_id:  209 finished\n",
      "job_id:  210 finished\n",
      "job_id:  211 finished\n",
      "job_id:  212 finished\n",
      "job_id:  213 finished\n",
      "job_id:  214 finished\n",
      "murn_Al_pot_2009__Mendelev_M_I__Al_Mg__LAMMPS__ipr1\n",
      "The job murn_Al_pot_2009__Mendelev_M_I__Al_Mg__LAMMPS__ipr1 was saved and received the ID: 215\n",
      "The job strain_0_9 was saved and received the ID: 216\n",
      "The job strain_0_92 was saved and received the ID: 217\n",
      "The job strain_0_94 was saved and received the ID: 218\n",
      "The job strain_0_96 was saved and received the ID: 219\n",
      "The job strain_0_98 was saved and received the ID: 220\n",
      "The job strain_1_0 was saved and received the ID: 221\n",
      "The job strain_1_02 was saved and received the ID: 222\n",
      "The job strain_1_04 was saved and received the ID: 223\n",
      "The job strain_1_06 was saved and received the ID: 224\n",
      "The job strain_1_08 was saved and received the ID: 225\n",
      "The job strain_1_1 was saved and received the ID: 226\n",
      "job_id:  216 finished\n",
      "job_id:  217 finished\n",
      "job_id:  218 finished\n",
      "job_id:  219 finished\n",
      "job_id:  220 finished\n",
      "job_id:  221 finished\n",
      "job_id:  222 finished\n",
      "job_id:  223 finished\n",
      "job_id:  224 finished\n",
      "job_id:  225 finished\n",
      "job_id:  226 finished\n",
      "murn_Al_pot_2002__Mishin_Y__Ni_Al__LAMMPS__ipr1\n",
      "The job murn_Al_pot_2002__Mishin_Y__Ni_Al__LAMMPS__ipr1 was saved and received the ID: 227\n",
      "The job strain_0_9 was saved and received the ID: 228\n",
      "The job strain_0_92 was saved and received the ID: 229\n",
      "The job strain_0_94 was saved and received the ID: 230\n",
      "The job strain_0_96 was saved and received the ID: 231\n",
      "The job strain_0_98 was saved and received the ID: 232\n",
      "The job strain_1_0 was saved and received the ID: 233\n",
      "The job strain_1_02 was saved and received the ID: 234\n",
      "The job strain_1_04 was saved and received the ID: 235\n",
      "The job strain_1_06 was saved and received the ID: 236\n",
      "The job strain_1_08 was saved and received the ID: 237\n",
      "The job strain_1_1 was saved and received the ID: 238\n",
      "job_id:  228 finished\n",
      "job_id:  229 finished\n",
      "job_id:  230 finished\n",
      "job_id:  231 finished\n",
      "job_id:  232 finished\n",
      "job_id:  233 finished\n",
      "job_id:  234 finished\n",
      "job_id:  235 finished\n",
      "job_id:  236 finished\n",
      "job_id:  237 finished\n",
      "job_id:  238 finished\n",
      "murn_Al_pot_2012__Schopf_D__Al_Mn_Pd__LAMMPS__ipr1\n",
      "The job murn_Al_pot_2012__Schopf_D__Al_Mn_Pd__LAMMPS__ipr1 was saved and received the ID: 239\n",
      "The job strain_0_9 was saved and received the ID: 240\n",
      "The job strain_0_92 was saved and received the ID: 241\n",
      "The job strain_0_94 was saved and received the ID: 242\n",
      "The job strain_0_96 was saved and received the ID: 243\n",
      "The job strain_0_98 was saved and received the ID: 244\n",
      "The job strain_1_0 was saved and received the ID: 245\n",
      "The job strain_1_02 was saved and received the ID: 246\n",
      "The job strain_1_04 was saved and received the ID: 247\n",
      "The job strain_1_06 was saved and received the ID: 248\n",
      "The job strain_1_08 was saved and received the ID: 249\n",
      "The job strain_1_1 was saved and received the ID: 250\n",
      "job_id:  240 finished\n",
      "job_id:  241 finished\n",
      "job_id:  242 finished\n",
      "job_id:  243 finished\n",
      "job_id:  244 finished\n",
      "job_id:  245 finished\n",
      "job_id:  246 finished\n",
      "job_id:  247 finished\n",
      "job_id:  248 finished\n",
      "job_id:  249 finished\n",
      "job_id:  250 finished\n"
     ]
    },
    {
     "name": "stderr",
     "output_type": "stream",
     "text": [
      "2020-04-13 05:27:58,925 - pyiron_log - WARNING - Minimum could not be found!\n"
     ]
    },
    {
     "name": "stdout",
     "output_type": "stream",
     "text": [
      "murn_Al_pot_2000__Sturgeon_J_B__Al__LAMMPS__ipr1\n",
      "The job murn_Al_pot_2000__Sturgeon_J_B__Al__LAMMPS__ipr1 was saved and received the ID: 251\n",
      "The job strain_0_9 was saved and received the ID: 252\n",
      "The job strain_0_92 was saved and received the ID: 253\n",
      "The job strain_0_94 was saved and received the ID: 254\n",
      "The job strain_0_96 was saved and received the ID: 255\n",
      "The job strain_0_98 was saved and received the ID: 256\n",
      "The job strain_1_0 was saved and received the ID: 257\n",
      "The job strain_1_02 was saved and received the ID: 258\n",
      "The job strain_1_04 was saved and received the ID: 259\n",
      "The job strain_1_06 was saved and received the ID: 260\n",
      "The job strain_1_08 was saved and received the ID: 261\n",
      "The job strain_1_1 was saved and received the ID: 262\n",
      "job_id:  252 finished\n",
      "job_id:  253 finished\n",
      "job_id:  254 finished\n",
      "job_id:  255 finished\n",
      "job_id:  256 finished\n",
      "job_id:  257 finished\n",
      "job_id:  258 finished\n",
      "job_id:  259 finished\n",
      "job_id:  260 finished\n",
      "job_id:  261 finished\n",
      "job_id:  262 finished\n",
      "murn_Al_pot_2003__Zope_R_R__Ti_Al__LAMMPS__ipr1\n",
      "The job murn_Al_pot_2003__Zope_R_R__Ti_Al__LAMMPS__ipr1 was saved and received the ID: 263\n",
      "The job strain_0_9 was saved and received the ID: 264\n",
      "The job strain_0_92 was saved and received the ID: 265\n",
      "The job strain_0_94 was saved and received the ID: 266\n",
      "The job strain_0_96 was saved and received the ID: 267\n",
      "The job strain_0_98 was saved and received the ID: 268\n",
      "The job strain_1_0 was saved and received the ID: 269\n",
      "The job strain_1_02 was saved and received the ID: 270\n",
      "The job strain_1_04 was saved and received the ID: 271\n",
      "The job strain_1_06 was saved and received the ID: 272\n",
      "The job strain_1_08 was saved and received the ID: 273\n",
      "The job strain_1_1 was saved and received the ID: 274\n",
      "job_id:  264 finished\n",
      "job_id:  265 finished\n",
      "job_id:  266 finished\n",
      "job_id:  267 finished\n",
      "job_id:  268 finished\n",
      "job_id:  269 finished\n",
      "job_id:  270 finished\n",
      "job_id:  271 finished\n",
      "job_id:  272 finished\n",
      "job_id:  273 finished\n",
      "job_id:  274 finished\n",
      "murn_Al_pot_2009__Zhakhovskii_V_V__Al__LAMMPS__ipr1\n",
      "The job murn_Al_pot_2009__Zhakhovskii_V_V__Al__LAMMPS__ipr1 was saved and received the ID: 275\n",
      "The job strain_0_9 was saved and received the ID: 276\n",
      "The job strain_0_92 was saved and received the ID: 277\n",
      "The job strain_0_94 was saved and received the ID: 278\n",
      "The job strain_0_96 was saved and received the ID: 279\n",
      "The job strain_0_98 was saved and received the ID: 280\n",
      "The job strain_1_0 was saved and received the ID: 281\n",
      "The job strain_1_02 was saved and received the ID: 282\n",
      "The job strain_1_04 was saved and received the ID: 283\n",
      "The job strain_1_06 was saved and received the ID: 284\n",
      "The job strain_1_08 was saved and received the ID: 285\n",
      "The job strain_1_1 was saved and received the ID: 286\n",
      "job_id:  276 finished\n",
      "job_id:  277 finished\n",
      "job_id:  278 finished\n",
      "job_id:  279 finished\n",
      "job_id:  280 finished\n",
      "job_id:  281 finished\n",
      "job_id:  282 finished\n",
      "job_id:  283 finished\n",
      "job_id:  284 finished\n",
      "job_id:  285 finished\n",
      "job_id:  286 finished\n",
      "murn_Al_pot_2015__Purja_Pun_G_P__Ni_Al_Co__LAMMPS__ipr1\n",
      "The job murn_Al_pot_2015__Purja_Pun_G_P__Ni_Al_Co__LAMMPS__ipr1 was saved and received the ID: 287\n",
      "The job strain_0_9 was saved and received the ID: 288\n",
      "The job strain_0_92 was saved and received the ID: 289\n",
      "The job strain_0_94 was saved and received the ID: 290\n",
      "The job strain_0_96 was saved and received the ID: 291\n",
      "The job strain_0_98 was saved and received the ID: 292\n",
      "The job strain_1_0 was saved and received the ID: 293\n",
      "The job strain_1_02 was saved and received the ID: 294\n",
      "The job strain_1_04 was saved and received the ID: 295\n",
      "The job strain_1_06 was saved and received the ID: 296\n",
      "The job strain_1_08 was saved and received the ID: 297\n",
      "The job strain_1_1 was saved and received the ID: 298\n",
      "job_id:  288 finished\n",
      "job_id:  289 finished\n",
      "job_id:  290 finished\n",
      "job_id:  291 finished\n",
      "job_id:  292 finished\n",
      "job_id:  293 finished\n",
      "job_id:  294 finished\n",
      "job_id:  295 finished\n",
      "job_id:  296 finished\n",
      "job_id:  297 finished\n",
      "job_id:  298 finished\n",
      "murn_Al_pot_1996__Farkas_D__Nb_Ti_Al__LAMMPS__ipr1\n",
      "The job murn_Al_pot_1996__Farkas_D__Nb_Ti_Al__LAMMPS__ipr1 was saved and received the ID: 299\n",
      "The job strain_0_9 was saved and received the ID: 300\n",
      "The job strain_0_92 was saved and received the ID: 301\n",
      "The job strain_0_94 was saved and received the ID: 302\n",
      "The job strain_0_96 was saved and received the ID: 303\n",
      "The job strain_0_98 was saved and received the ID: 304\n",
      "The job strain_1_0 was saved and received the ID: 305\n",
      "The job strain_1_02 was saved and received the ID: 306\n",
      "The job strain_1_04 was saved and received the ID: 307\n",
      "The job strain_1_06 was saved and received the ID: 308\n",
      "The job strain_1_08 was saved and received the ID: 309\n",
      "The job strain_1_1 was saved and received the ID: 310\n",
      "job_id:  300 finished\n",
      "job_id:  301 finished\n",
      "job_id:  302 finished\n",
      "job_id:  303 finished\n",
      "job_id:  304 finished\n",
      "job_id:  305 finished\n",
      "job_id:  306 finished\n"
     ]
    },
    {
     "name": "stderr",
     "output_type": "stream",
     "text": [
      "2020-04-13 05:30:30,196 - pyiron_log - WARNING - Minimum could not be found!\n"
     ]
    },
    {
     "name": "stdout",
     "output_type": "stream",
     "text": [
      "job_id:  307 finished\n",
      "job_id:  308 finished\n",
      "job_id:  309 finished\n",
      "job_id:  310 finished\n",
      "murn_Al_pot_2015__Purja_Pun_G_P__Al_Co__LAMMPS__ipr1\n",
      "The job murn_Al_pot_2015__Purja_Pun_G_P__Al_Co__LAMMPS__ipr1 was saved and received the ID: 311\n",
      "The job strain_0_9 was saved and received the ID: 312\n",
      "The job strain_0_92 was saved and received the ID: 313\n",
      "The job strain_0_94 was saved and received the ID: 314\n",
      "The job strain_0_96 was saved and received the ID: 315\n",
      "The job strain_0_98 was saved and received the ID: 316\n",
      "The job strain_1_0 was saved and received the ID: 317\n",
      "The job strain_1_02 was saved and received the ID: 318\n",
      "The job strain_1_04 was saved and received the ID: 319\n",
      "The job strain_1_06 was saved and received the ID: 320\n",
      "The job strain_1_08 was saved and received the ID: 321\n",
      "The job strain_1_1 was saved and received the ID: 322\n",
      "job_id:  312 finished\n",
      "job_id:  313 finished\n",
      "job_id:  314 finished\n",
      "job_id:  315 finished\n",
      "job_id:  316 finished\n",
      "job_id:  317 finished\n",
      "job_id:  318 finished\n",
      "job_id:  319 finished\n",
      "job_id:  320 finished\n",
      "job_id:  321 finished\n",
      "job_id:  322 finished\n",
      "murn_Al_pot_2015__Purja_Pun_G_P__Al_Co__LAMMPS__ipr2\n",
      "The job murn_Al_pot_2015__Purja_Pun_G_P__Al_Co__LAMMPS__ipr2 was saved and received the ID: 323\n",
      "The job strain_0_9 was saved and received the ID: 324\n",
      "The job strain_0_92 was saved and received the ID: 325\n",
      "The job strain_0_94 was saved and received the ID: 326\n",
      "The job strain_0_96 was saved and received the ID: 327\n",
      "The job strain_0_98 was saved and received the ID: 328\n",
      "The job strain_1_0 was saved and received the ID: 329\n",
      "The job strain_1_02 was saved and received the ID: 330\n",
      "The job strain_1_04 was saved and received the ID: 331\n",
      "The job strain_1_06 was saved and received the ID: 332\n",
      "The job strain_1_08 was saved and received the ID: 333\n",
      "The job strain_1_1 was saved and received the ID: 334\n",
      "job_id:  324 finished\n",
      "job_id:  325 finished\n",
      "job_id:  326 finished\n",
      "job_id:  327 finished\n",
      "job_id:  328 finished\n",
      "job_id:  329 finished\n",
      "job_id:  330 finished\n",
      "job_id:  331 finished\n",
      "job_id:  332 finished\n",
      "job_id:  333 finished\n",
      "job_id:  334 finished\n",
      "murn_Al_pot_2015__Pascuet_M_I__Al_U__LAMMPS__ipr1\n",
      "The job murn_Al_pot_2015__Pascuet_M_I__Al_U__LAMMPS__ipr1 was saved and received the ID: 335\n",
      "The job strain_0_9 was saved and received the ID: 336\n",
      "The job strain_0_92 was saved and received the ID: 337\n",
      "The job strain_0_94 was saved and received the ID: 338\n",
      "The job strain_0_96 was saved and received the ID: 339\n",
      "The job strain_0_98 was saved and received the ID: 340\n",
      "The job strain_1_0 was saved and received the ID: 341\n",
      "The job strain_1_02 was saved and received the ID: 342\n",
      "The job strain_1_04 was saved and received the ID: 343\n",
      "The job strain_1_06 was saved and received the ID: 344\n",
      "The job strain_1_08 was saved and received the ID: 345\n",
      "The job strain_1_1 was saved and received the ID: 346\n",
      "job_id:  336 finished\n",
      "job_id:  337 finished\n",
      "job_id:  338 finished\n",
      "job_id:  339 finished\n",
      "job_id:  340 finished\n",
      "job_id:  341 finished\n",
      "job_id:  342 finished\n",
      "job_id:  343 finished\n",
      "job_id:  344 finished\n",
      "job_id:  345 finished\n",
      "job_id:  346 finished\n",
      "murn_Al_pot_2010__Winey_J_M__Al__LAMMPS__ipr1\n",
      "The job murn_Al_pot_2010__Winey_J_M__Al__LAMMPS__ipr1 was saved and received the ID: 347\n",
      "The job strain_0_9 was saved and received the ID: 348\n",
      "The job strain_0_92 was saved and received the ID: 349\n",
      "The job strain_0_94 was saved and received the ID: 350\n",
      "The job strain_0_96 was saved and received the ID: 351\n",
      "The job strain_0_98 was saved and received the ID: 352\n",
      "The job strain_1_0 was saved and received the ID: 353\n",
      "The job strain_1_02 was saved and received the ID: 354\n",
      "The job strain_1_04 was saved and received the ID: 355\n",
      "The job strain_1_06 was saved and received the ID: 356\n",
      "The job strain_1_08 was saved and received the ID: 357\n",
      "The job strain_1_1 was saved and received the ID: 358\n",
      "job_id:  348 finished\n",
      "job_id:  349 finished\n",
      "job_id:  350 finished\n",
      "job_id:  351 finished\n",
      "job_id:  352 finished\n",
      "job_id:  353 finished\n",
      "job_id:  354 finished\n",
      "job_id:  355 finished\n",
      "job_id:  356 finished\n",
      "job_id:  357 finished\n",
      "job_id:  358 finished\n",
      "murn_Al_pot_2005__Mendelev_M_I__Al_Fe__LAMMPS__ipr1\n",
      "The job murn_Al_pot_2005__Mendelev_M_I__Al_Fe__LAMMPS__ipr1 was saved and received the ID: 359\n",
      "The job strain_0_9 was saved and received the ID: 360\n",
      "The job strain_0_92 was saved and received the ID: 361\n",
      "The job strain_0_94 was saved and received the ID: 362\n",
      "The job strain_0_96 was saved and received the ID: 363\n",
      "The job strain_0_98 was saved and received the ID: 364\n",
      "The job strain_1_0 was saved and received the ID: 365\n",
      "The job strain_1_02 was saved and received the ID: 366\n",
      "The job strain_1_04 was saved and received the ID: 367\n",
      "The job strain_1_06 was saved and received the ID: 368\n",
      "The job strain_1_08 was saved and received the ID: 369\n",
      "The job strain_1_1 was saved and received the ID: 370\n",
      "job_id:  360 finished\n",
      "job_id:  361 finished\n",
      "job_id:  362 finished\n",
      "job_id:  363 finished\n",
      "job_id:  364 finished\n",
      "job_id:  365 finished\n",
      "job_id:  366 finished\n",
      "job_id:  367 finished\n",
      "job_id:  368 finished\n",
      "job_id:  369 finished\n",
      "job_id:  370 finished\n",
      "murn_Al_pot_1999__Mishin_Y__Al__LAMMPS__ipr1\n",
      "The job murn_Al_pot_1999__Mishin_Y__Al__LAMMPS__ipr1 was saved and received the ID: 371\n",
      "The job strain_0_9 was saved and received the ID: 372\n",
      "The job strain_0_92 was saved and received the ID: 373\n",
      "The job strain_0_94 was saved and received the ID: 374\n",
      "The job strain_0_96 was saved and received the ID: 375\n",
      "The job strain_0_98 was saved and received the ID: 376\n",
      "The job strain_1_0 was saved and received the ID: 377\n",
      "The job strain_1_02 was saved and received the ID: 378\n",
      "The job strain_1_04 was saved and received the ID: 379\n",
      "The job strain_1_06 was saved and received the ID: 380\n",
      "The job strain_1_08 was saved and received the ID: 381\n",
      "The job strain_1_1 was saved and received the ID: 382\n",
      "job_id:  372 finished\n",
      "job_id:  373 finished\n",
      "job_id:  374 finished\n",
      "job_id:  375 finished\n",
      "job_id:  376 finished\n",
      "job_id:  377 finished\n",
      "job_id:  378 finished\n",
      "job_id:  379 finished\n",
      "job_id:  380 finished\n",
      "job_id:  381 finished\n",
      "job_id:  382 finished\n",
      "murn_Al_pot_2008__Mendelev_M_I__Al__LAMMPS__ipr1\n",
      "The job murn_Al_pot_2008__Mendelev_M_I__Al__LAMMPS__ipr1 was saved and received the ID: 383\n",
      "The job strain_0_9 was saved and received the ID: 384\n",
      "The job strain_0_92 was saved and received the ID: 385\n",
      "The job strain_0_94 was saved and received the ID: 386\n",
      "The job strain_0_96 was saved and received the ID: 387\n",
      "The job strain_0_98 was saved and received the ID: 388\n",
      "The job strain_1_0 was saved and received the ID: 389\n",
      "The job strain_1_02 was saved and received the ID: 390\n",
      "The job strain_1_04 was saved and received the ID: 391\n",
      "The job strain_1_06 was saved and received the ID: 392\n",
      "The job strain_1_08 was saved and received the ID: 393\n",
      "The job strain_1_1 was saved and received the ID: 394\n",
      "job_id:  384 finished\n",
      "job_id:  385 finished\n",
      "job_id:  386 finished\n",
      "job_id:  387 finished\n",
      "job_id:  388 finished\n",
      "job_id:  389 finished\n",
      "job_id:  390 finished\n",
      "job_id:  391 finished\n",
      "job_id:  392 finished\n",
      "job_id:  393 finished\n",
      "job_id:  394 finished\n",
      "murn_Al_pot_2009__Purja_Pun_G_P__Ni_Al__LAMMPS__ipr1\n",
      "The job murn_Al_pot_2009__Purja_Pun_G_P__Ni_Al__LAMMPS__ipr1 was saved and received the ID: 395\n",
      "The job strain_0_9 was saved and received the ID: 396\n",
      "The job strain_0_92 was saved and received the ID: 397\n",
      "The job strain_0_94 was saved and received the ID: 398\n",
      "The job strain_0_96 was saved and received the ID: 399\n",
      "The job strain_0_98 was saved and received the ID: 400\n",
      "The job strain_1_0 was saved and received the ID: 401\n",
      "The job strain_1_02 was saved and received the ID: 402\n",
      "The job strain_1_04 was saved and received the ID: 403\n",
      "The job strain_1_06 was saved and received the ID: 404\n",
      "The job strain_1_08 was saved and received the ID: 405\n",
      "The job strain_1_1 was saved and received the ID: 406\n",
      "job_id:  396 finished\n",
      "job_id:  397 finished\n",
      "job_id:  398 finished\n",
      "job_id:  399 finished\n",
      "job_id:  400 finished\n",
      "job_id:  401 finished\n",
      "job_id:  402 finished\n",
      "job_id:  403 finished\n",
      "job_id:  404 finished\n",
      "job_id:  405 finished\n",
      "job_id:  406 finished\n",
      "murn_Al_pot_2012__Jelinek_B__Al_Si_Mg_Cu_Fe__LAMMPS__ipr1\n",
      "The job murn_Al_pot_2012__Jelinek_B__Al_Si_Mg_Cu_Fe__LAMMPS__ipr1 was saved and received the ID: 407\n",
      "The job strain_0_9 was saved and received the ID: 408\n"
     ]
    },
    {
     "name": "stderr",
     "output_type": "stream",
     "text": [
      "2020-04-13 05:34:17,408 - pyiron_log - WARNING - Job aborted\n",
      "2020-04-13 05:34:17,410 - pyiron_log - WARNING - LAMMPS (3 Mar 2020)\n",
      "Reading data file ...\n",
      "  orthogonal box = (0 0 0) to (3.91023 3.91023 3.91023)\n",
      "  1 by 1 by 1 MPI processor grid\n",
      "  reading atoms ...\n",
      "  4 atoms\n",
      "  read_data CPU = 0.000974178 secs\n",
      "ERROR: Did not find all elements in MEAM library file (src/USER-MEAMC/pair_meamc.cpp:478)\n",
      "Last command: pair_coeff * * Jelinek_2012_meamf Al Si Mg Cu Fe Jelinek_2012_meam.alsimgcufe Al Si Mg Cu Fe\n",
      "\n"
     ]
    },
    {
     "name": "stdout",
     "output_type": "stream",
     "text": [
      "murn_Al_pot_2004__Mishin_Y__Ni_Al__LAMMPS__ipr1\n",
      "The job murn_Al_pot_2004__Mishin_Y__Ni_Al__LAMMPS__ipr1 was saved and received the ID: 409\n",
      "The job strain_0_9 was saved and received the ID: 410\n",
      "The job strain_0_92 was saved and received the ID: 411\n",
      "The job strain_0_94 was saved and received the ID: 412\n",
      "The job strain_0_96 was saved and received the ID: 413\n",
      "The job strain_0_98 was saved and received the ID: 414\n",
      "The job strain_1_0 was saved and received the ID: 415\n",
      "The job strain_1_02 was saved and received the ID: 416\n",
      "The job strain_1_04 was saved and received the ID: 417\n",
      "The job strain_1_06 was saved and received the ID: 418\n",
      "The job strain_1_08 was saved and received the ID: 419\n",
      "The job strain_1_1 was saved and received the ID: 420\n",
      "job_id:  410 finished\n",
      "job_id:  411 finished\n",
      "job_id:  412 finished\n",
      "job_id:  413 finished\n",
      "job_id:  414 finished\n",
      "job_id:  415 finished\n",
      "job_id:  416 finished\n",
      "job_id:  417 finished\n",
      "job_id:  418 finished\n",
      "job_id:  419 finished\n",
      "job_id:  420 finished\n",
      "murn_Al_pot_2004__Liu_X_Y__Al__LAMMPS__ipr1\n",
      "The job murn_Al_pot_2004__Liu_X_Y__Al__LAMMPS__ipr1 was saved and received the ID: 421\n",
      "The job strain_0_9 was saved and received the ID: 422\n",
      "The job strain_0_92 was saved and received the ID: 423\n",
      "The job strain_0_94 was saved and received the ID: 424\n",
      "The job strain_0_96 was saved and received the ID: 425\n",
      "The job strain_0_98 was saved and received the ID: 426\n",
      "The job strain_1_0 was saved and received the ID: 427\n",
      "The job strain_1_02 was saved and received the ID: 428\n",
      "The job strain_1_04 was saved and received the ID: 429\n",
      "The job strain_1_06 was saved and received the ID: 430\n",
      "The job strain_1_08 was saved and received the ID: 431\n",
      "The job strain_1_1 was saved and received the ID: 432\n",
      "job_id:  422 finished\n",
      "job_id:  423 finished\n",
      "job_id:  424 finished\n",
      "job_id:  425 finished\n",
      "job_id:  426 finished\n",
      "job_id:  427 finished\n",
      "job_id:  428 finished\n",
      "job_id:  429 finished\n",
      "job_id:  430 finished\n",
      "job_id:  431 finished\n",
      "job_id:  432 finished\n",
      "murn_Al_pot_2016__Zhou_X_W__Al_Cu__LAMMPS__ipr1\n",
      "The job murn_Al_pot_2016__Zhou_X_W__Al_Cu__LAMMPS__ipr1 was saved and received the ID: 433\n",
      "The job strain_0_9 was saved and received the ID: 434\n"
     ]
    },
    {
     "name": "stderr",
     "output_type": "stream",
     "text": [
      "2020-04-13 05:35:17,213 - pyiron_log - WARNING - Job aborted\n",
      "2020-04-13 05:35:17,214 - pyiron_log - WARNING - LAMMPS (3 Mar 2020)\n",
      "Reading data file ...\n",
      "  orthogonal box = (0 0 0) to (3.91023 3.91023 3.91023)\n",
      "  1 by 1 by 1 MPI processor grid\n",
      "  reading atoms ...\n",
      "  4 atoms\n",
      "  read_data CPU = 0.000952959 secs\n",
      "Reading potential file AlCu.bop.table with DATE: 2015-07-06\n",
      "Reading potential file AlCu.bop.table with DATE: 2015-07-06\n",
      "ERROR: Pair style bop requires comm ghost cutoff at least 3x larger than 4.2 (src/MANYBODY/pair_bop.cpp:703)\n",
      "Last command: run 0\n",
      "\n"
     ]
    },
    {
     "name": "stdout",
     "output_type": "stream",
     "text": [
      "murn_Al_pot_2017__Botu_V__Al__LAMMPS__ipr1\n",
      "The job murn_Al_pot_2017__Botu_V__Al__LAMMPS__ipr1 was saved and received the ID: 435\n",
      "The job strain_0_9 was saved and received the ID: 436\n",
      "The job strain_0_92 was saved and received the ID: 437\n",
      "The job strain_0_94 was saved and received the ID: 438\n",
      "The job strain_0_96 was saved and received the ID: 439\n",
      "The job strain_0_98 was saved and received the ID: 440\n",
      "The job strain_1_0 was saved and received the ID: 441\n",
      "The job strain_1_02 was saved and received the ID: 442\n",
      "The job strain_1_04 was saved and received the ID: 443\n",
      "The job strain_1_06 was saved and received the ID: 444\n",
      "The job strain_1_08 was saved and received the ID: 445\n",
      "The job strain_1_1 was saved and received the ID: 446\n",
      "job_id:  436 finished\n",
      "job_id:  437 finished\n",
      "job_id:  438 finished\n",
      "job_id:  439 finished\n",
      "job_id:  440 finished\n",
      "job_id:  441 finished\n",
      "job_id:  442 finished\n"
     ]
    },
    {
     "name": "stderr",
     "output_type": "stream",
     "text": [
      "2020-04-13 05:35:42,158 - pyiron_log - WARNING - Minimum could not be found!\n"
     ]
    },
    {
     "name": "stdout",
     "output_type": "stream",
     "text": [
      "job_id:  443 finished\n",
      "job_id:  444 finished\n",
      "job_id:  445 finished\n",
      "job_id:  446 finished\n",
      "murn_Al_pot_2011__Apostol_F__Al_Cu__LAMMPS__ipr1\n",
      "The job murn_Al_pot_2011__Apostol_F__Al_Cu__LAMMPS__ipr1 was saved and received the ID: 447\n",
      "The job strain_0_9 was saved and received the ID: 448\n",
      "The job strain_0_92 was saved and received the ID: 449\n",
      "The job strain_0_94 was saved and received the ID: 450\n",
      "The job strain_0_96 was saved and received the ID: 451\n",
      "The job strain_0_98 was saved and received the ID: 452\n",
      "The job strain_1_0 was saved and received the ID: 453\n",
      "The job strain_1_02 was saved and received the ID: 454\n",
      "The job strain_1_04 was saved and received the ID: 455\n",
      "The job strain_1_06 was saved and received the ID: 456\n",
      "The job strain_1_08 was saved and received the ID: 457\n",
      "The job strain_1_1 was saved and received the ID: 458\n",
      "job_id:  448 finished\n",
      "job_id:  449 finished\n",
      "job_id:  450 finished\n",
      "job_id:  451 finished\n",
      "job_id:  452 finished\n",
      "job_id:  453 finished\n",
      "job_id:  454 finished\n",
      "job_id:  455 finished\n",
      "job_id:  456 finished\n",
      "job_id:  457 finished\n",
      "job_id:  458 finished\n",
      "murn_Al_pot_2015__Botu_V__Al__LAMMPS__ipr1\n",
      "The job murn_Al_pot_2015__Botu_V__Al__LAMMPS__ipr1 was saved and received the ID: 459\n",
      "The job strain_0_9 was saved and received the ID: 460\n",
      "The job strain_0_92 was saved and received the ID: 461\n",
      "The job strain_0_94 was saved and received the ID: 462\n",
      "The job strain_0_96 was saved and received the ID: 463\n",
      "The job strain_0_98 was saved and received the ID: 464\n",
      "The job strain_1_0 was saved and received the ID: 465\n",
      "The job strain_1_02 was saved and received the ID: 466\n",
      "The job strain_1_04 was saved and received the ID: 467\n",
      "The job strain_1_06 was saved and received the ID: 468\n",
      "The job strain_1_08 was saved and received the ID: 469\n",
      "The job strain_1_1 was saved and received the ID: 470\n",
      "job_id:  460 finished\n",
      "job_id:  461 finished\n",
      "job_id:  462 finished\n",
      "job_id:  463 finished\n",
      "job_id:  464 finished\n",
      "job_id:  465 finished\n",
      "job_id:  466 finished\n",
      "job_id:  467 finished\n",
      "job_id:  468 finished\n",
      "job_id:  469 finished\n",
      "job_id:  470 finished\n"
     ]
    },
    {
     "name": "stderr",
     "output_type": "stream",
     "text": [
      "2020-04-13 05:36:45,301 - pyiron_log - WARNING - Minimum could not be found!\n"
     ]
    },
    {
     "name": "stdout",
     "output_type": "stream",
     "text": [
      "murn_Al_pot_2015__Choudhary_K__Al__LAMMPS__ipr1\n",
      "The job murn_Al_pot_2015__Choudhary_K__Al__LAMMPS__ipr1 was saved and received the ID: 471\n",
      "The job strain_0_9 was saved and received the ID: 472\n"
     ]
    },
    {
     "name": "stderr",
     "output_type": "stream",
     "text": [
      "2020-04-13 05:36:47,727 - pyiron_log - WARNING - Job aborted\n",
      "2020-04-13 05:36:47,729 - pyiron_log - WARNING - LAMMPS (3 Mar 2020)\n",
      "Reading data file ...\n",
      "  orthogonal box = (0 0 0) to (3.91023 3.91023 3.91023)\n",
      "  1 by 1 by 1 MPI processor grid\n",
      "  reading atoms ...\n",
      "  4 atoms\n",
      "  read_data CPU = 0.00103688 secs\n",
      "   PairComb3: polarization is off \n",
      "  element[1] = Al, z = 2.14332\n",
      "ERROR: Pair style COMB3 requires atom attribute q (src/MANYBODY/pair_comb3.cpp:271)\n",
      "Last command: run 0\n",
      "\n"
     ]
    },
    {
     "name": "stdout",
     "output_type": "stream",
     "text": [
      "murn_Al_pot_2018__Zhou_X_W__Al_Cu_H__LAMMPS__ipr1\n",
      "The job murn_Al_pot_2018__Zhou_X_W__Al_Cu_H__LAMMPS__ipr1 was saved and received the ID: 473\n",
      "The job strain_0_9 was saved and received the ID: 474\n"
     ]
    },
    {
     "name": "stderr",
     "output_type": "stream",
     "text": [
      "2020-04-13 05:36:50,202 - pyiron_log - WARNING - Job aborted\n",
      "2020-04-13 05:36:50,206 - pyiron_log - WARNING - LAMMPS (3 Mar 2020)\n",
      "Reading data file ...\n",
      "  orthogonal box = (0 0 0) to (3.91023 3.91023 3.91023)\n",
      "  1 by 1 by 1 MPI processor grid\n",
      "  reading atoms ...\n",
      "  4 atoms\n",
      "  read_data CPU = 0.00112891 secs\n",
      "ERROR: Pair style bop requires comm ghost cutoff at least 3x larger than 4.2 (src/MANYBODY/pair_bop.cpp:703)\n",
      "Last command: run 0\n",
      "\n"
     ]
    },
    {
     "name": "stdout",
     "output_type": "stream",
     "text": [
      "murn_Al_pot_2015__Kumar_A__Al_Ni_O__LAMMPS__ipr1\n",
      "The job murn_Al_pot_2015__Kumar_A__Al_Ni_O__LAMMPS__ipr1 was saved and received the ID: 475\n",
      "The job strain_0_9 was saved and received the ID: 476\n"
     ]
    },
    {
     "name": "stderr",
     "output_type": "stream",
     "text": [
      "2020-04-13 05:36:52,972 - pyiron_log - WARNING - Job aborted\n",
      "2020-04-13 05:36:52,975 - pyiron_log - WARNING - LAMMPS (3 Mar 2020)\n",
      "Reading data file ...\n",
      "  orthogonal box = (0 0 0) to (3.91023 3.91023 3.91023)\n",
      "  1 by 1 by 1 MPI processor grid\n",
      "  reading atoms ...\n",
      "  4 atoms\n",
      "  read_data CPU = 0.00101399 secs\n",
      "   PairComb3: polarization is off \n",
      "  element[1] = Al, z = 2.14332\n",
      "  element[2] = Ni, z = 0.864314\n",
      "  element[3] = O , z = 1.37179\n",
      "ERROR: Pair style COMB3 requires atom attribute q (src/MANYBODY/pair_comb3.cpp:271)\n",
      "Last command: run 0\n",
      "\n"
     ]
    },
    {
     "name": "stdout",
     "output_type": "stream",
     "text": [
      "murn_Al_pot_2015__Kumar_A__Al_Ni__LAMMPS__ipr1\n",
      "The job murn_Al_pot_2015__Kumar_A__Al_Ni__LAMMPS__ipr1 was saved and received the ID: 477\n",
      "The job strain_0_9 was saved and received the ID: 478\n"
     ]
    },
    {
     "name": "stderr",
     "output_type": "stream",
     "text": [
      "2020-04-13 05:36:55,179 - pyiron_log - WARNING - Job aborted\n",
      "2020-04-13 05:36:55,182 - pyiron_log - WARNING - LAMMPS (3 Mar 2020)\n",
      "Reading data file ...\n",
      "  orthogonal box = (0 0 0) to (3.91023 3.91023 3.91023)\n",
      "  1 by 1 by 1 MPI processor grid\n",
      "  reading atoms ...\n",
      "  4 atoms\n",
      "  read_data CPU = 0.00124407 secs\n",
      "   PairComb3: polarization is off \n",
      "  element[1] = Al, z = 2.14332\n",
      "  element[2] = Ni, z = 0.864314\n",
      "ERROR: Pair style COMB3 requires atom attribute q (src/MANYBODY/pair_comb3.cpp:271)\n",
      "Last command: run 0\n",
      "\n"
     ]
    },
    {
     "name": "stdout",
     "output_type": "stream",
     "text": [
      "murn_Al_pot_EAM_CubicNaturalSpline_ErcolessiAdams_1994_Al__MO_800509458712_002\n",
      "The job murn_Al_pot_EAM_CubicNaturalSpline_ErcolessiAdams_1994_Al__MO_800509458712_002 was saved and received the ID: 479\n",
      "The job strain_0_9 was saved and received the ID: 480\n"
     ]
    },
    {
     "name": "stderr",
     "output_type": "stream",
     "text": [
      "2020-04-13 05:36:57,403 - pyiron_log - WARNING - Job aborted\n",
      "2020-04-13 05:36:57,406 - pyiron_log - WARNING - LAMMPS (3 Mar 2020)\n",
      "Reading data file ...\n",
      "  orthogonal box = (0 0 0) to (3.91023 3.91023 3.91023)\n",
      "  1 by 1 by 1 MPI processor grid\n",
      "  reading atoms ...\n",
      "  4 atoms\n",
      "  read_data CPU = 0.001122 secs\n",
      "ERROR: KIM ModelCreate failed (src/KIM/pair_kim.cpp:859)\n",
      "Last command: pair_style kim EAM_CubicNaturalSpline_ErcolessiAdams_1994_Al__MO_800509458712_002\n",
      "\n"
     ]
    },
    {
     "name": "stdout",
     "output_type": "stream",
     "text": [
      "murn_Al_pot_EAM_Dynamo_AngeloMoodyBaskes_1995_NiAlH__MO_418978237058_005\n",
      "The job murn_Al_pot_EAM_Dynamo_AngeloMoodyBaskes_1995_NiAlH__MO_418978237058_005 was saved and received the ID: 481\n",
      "The job strain_0_9 was saved and received the ID: 482\n"
     ]
    },
    {
     "name": "stderr",
     "output_type": "stream",
     "text": [
      "2020-04-13 05:36:59,832 - pyiron_log - WARNING - Job aborted\n",
      "2020-04-13 05:36:59,834 - pyiron_log - WARNING - LAMMPS (3 Mar 2020)\n",
      "Reading data file ...\n",
      "  orthogonal box = (0 0 0) to (3.91023 3.91023 3.91023)\n",
      "  1 by 1 by 1 MPI processor grid\n",
      "  reading atoms ...\n",
      "  4 atoms\n",
      "  read_data CPU = 0.00104594 secs\n",
      "ERROR: KIM ModelCreate failed (src/KIM/pair_kim.cpp:859)\n",
      "Last command: pair_style kim EAM_Dynamo_AngeloMoodyBaskes_1995_NiAlH__MO_418978237058_005\n",
      "\n"
     ]
    },
    {
     "name": "stdout",
     "output_type": "stream",
     "text": [
      "murn_Al_pot_EAM_Dynamo_CaiYe_1996_AlCu__MO_942551040047_005\n",
      "The job murn_Al_pot_EAM_Dynamo_CaiYe_1996_AlCu__MO_942551040047_005 was saved and received the ID: 483\n",
      "The job strain_0_9 was saved and received the ID: 484\n"
     ]
    },
    {
     "name": "stderr",
     "output_type": "stream",
     "text": [
      "2020-04-13 05:37:02,410 - pyiron_log - WARNING - Job aborted\n",
      "2020-04-13 05:37:02,413 - pyiron_log - WARNING - LAMMPS (3 Mar 2020)\n",
      "Reading data file ...\n",
      "  orthogonal box = (0 0 0) to (3.91023 3.91023 3.91023)\n",
      "  1 by 1 by 1 MPI processor grid\n",
      "  reading atoms ...\n",
      "  4 atoms\n",
      "  read_data CPU = 0.00103498 secs\n",
      "ERROR: KIM ModelCreate failed (src/KIM/pair_kim.cpp:859)\n",
      "Last command: pair_style kim EAM_Dynamo_CaiYe_1996_AlCu__MO_942551040047_005\n",
      "\n"
     ]
    },
    {
     "name": "stdout",
     "output_type": "stream",
     "text": [
      "murn_Al_pot_EAM_Dynamo_ErcolessiAdams_1994_Al__MO_123629422045_005\n",
      "The job murn_Al_pot_EAM_Dynamo_ErcolessiAdams_1994_Al__MO_123629422045_005 was saved and received the ID: 485\n",
      "The job strain_0_9 was saved and received the ID: 486\n"
     ]
    },
    {
     "name": "stderr",
     "output_type": "stream",
     "text": [
      "2020-04-13 05:37:04,766 - pyiron_log - WARNING - Job aborted\n",
      "2020-04-13 05:37:04,769 - pyiron_log - WARNING - LAMMPS (3 Mar 2020)\n",
      "Reading data file ...\n",
      "  orthogonal box = (0 0 0) to (3.91023 3.91023 3.91023)\n",
      "  1 by 1 by 1 MPI processor grid\n",
      "  reading atoms ...\n",
      "  4 atoms\n",
      "  read_data CPU = 0.000935078 secs\n",
      "ERROR: KIM ModelCreate failed (src/KIM/pair_kim.cpp:859)\n",
      "Last command: pair_style kim EAM_Dynamo_ErcolessiAdams_1994_Al__MO_123629422045_005\n",
      "\n"
     ]
    },
    {
     "name": "stdout",
     "output_type": "stream",
     "text": [
      "murn_Al_pot_EAM_Dynamo_FarkasJones_1996_NbTiAl__MO_042691367780_000\n",
      "The job murn_Al_pot_EAM_Dynamo_FarkasJones_1996_NbTiAl__MO_042691367780_000 was saved and received the ID: 487\n",
      "The job strain_0_9 was saved and received the ID: 488\n"
     ]
    },
    {
     "name": "stderr",
     "output_type": "stream",
     "text": [
      "2020-04-13 05:37:06,831 - pyiron_log - WARNING - Job aborted\n",
      "2020-04-13 05:37:06,832 - pyiron_log - WARNING - LAMMPS (3 Mar 2020)\n",
      "Reading data file ...\n",
      "  orthogonal box = (0 0 0) to (3.91023 3.91023 3.91023)\n",
      "  1 by 1 by 1 MPI processor grid\n",
      "  reading atoms ...\n",
      "  4 atoms\n",
      "  read_data CPU = 0.000941038 secs\n",
      "ERROR: KIM ModelCreate failed (src/KIM/pair_kim.cpp:859)\n",
      "Last command: pair_style kim EAM_Dynamo_FarkasJones_1996_NbTiAl__MO_042691367780_000\n",
      "\n"
     ]
    },
    {
     "name": "stdout",
     "output_type": "stream",
     "text": [
      "murn_Al_pot_EAM_Dynamo_JacobsenNorskovPuska_1987_Al__MO_411692133366_000\n",
      "The job murn_Al_pot_EAM_Dynamo_JacobsenNorskovPuska_1987_Al__MO_411692133366_000 was saved and received the ID: 489\n",
      "The job strain_0_9 was saved and received the ID: 490\n"
     ]
    },
    {
     "name": "stderr",
     "output_type": "stream",
     "text": [
      "2020-04-13 05:37:08,861 - pyiron_log - WARNING - Job aborted\n",
      "2020-04-13 05:37:08,863 - pyiron_log - WARNING - LAMMPS (3 Mar 2020)\n",
      "Reading data file ...\n",
      "  orthogonal box = (0 0 0) to (3.91023 3.91023 3.91023)\n",
      "  1 by 1 by 1 MPI processor grid\n",
      "  reading atoms ...\n",
      "  4 atoms\n",
      "  read_data CPU = 0.000953913 secs\n",
      "ERROR: KIM ModelCreate failed (src/KIM/pair_kim.cpp:859)\n",
      "Last command: pair_style kim EAM_Dynamo_JacobsenNorskovPuska_1987_Al__MO_411692133366_000\n",
      "\n"
     ]
    },
    {
     "name": "stdout",
     "output_type": "stream",
     "text": [
      "murn_Al_pot_EAM_Dynamo_LandaWynblattSiegel_2000_AlPb__MO_699137396381_005\n",
      "The job murn_Al_pot_EAM_Dynamo_LandaWynblattSiegel_2000_AlPb__MO_699137396381_005 was saved and received the ID: 491\n",
      "The job strain_0_9 was saved and received the ID: 492\n"
     ]
    },
    {
     "name": "stderr",
     "output_type": "stream",
     "text": [
      "2020-04-13 05:37:10,936 - pyiron_log - WARNING - Job aborted\n",
      "2020-04-13 05:37:10,938 - pyiron_log - WARNING - LAMMPS (3 Mar 2020)\n",
      "Reading data file ...\n",
      "  orthogonal box = (0 0 0) to (3.91023 3.91023 3.91023)\n",
      "  1 by 1 by 1 MPI processor grid\n",
      "  reading atoms ...\n",
      "  4 atoms\n",
      "  read_data CPU = 0.00089097 secs\n",
      "ERROR: KIM ModelCreate failed (src/KIM/pair_kim.cpp:859)\n",
      "Last command: pair_style kim EAM_Dynamo_LandaWynblattSiegel_2000_AlPb__MO_699137396381_005\n",
      "\n"
     ]
    },
    {
     "name": "stdout",
     "output_type": "stream",
     "text": [
      "murn_Al_pot_EAM_Dynamo_LiuAdams_1998_AlMg__MO_019873715786_000\n",
      "The job murn_Al_pot_EAM_Dynamo_LiuAdams_1998_AlMg__MO_019873715786_000 was saved and received the ID: 493\n",
      "The job strain_0_9 was saved and received the ID: 494\n"
     ]
    },
    {
     "name": "stderr",
     "output_type": "stream",
     "text": [
      "2020-04-13 05:37:13,022 - pyiron_log - WARNING - Job aborted\n",
      "2020-04-13 05:37:13,024 - pyiron_log - WARNING - LAMMPS (3 Mar 2020)\n",
      "Reading data file ...\n",
      "  orthogonal box = (0 0 0) to (3.91023 3.91023 3.91023)\n",
      "  1 by 1 by 1 MPI processor grid\n",
      "  reading atoms ...\n",
      "  4 atoms\n",
      "  read_data CPU = 0.000963211 secs\n",
      "ERROR: KIM ModelCreate failed (src/KIM/pair_kim.cpp:859)\n",
      "Last command: pair_style kim EAM_Dynamo_LiuAdams_1998_AlMg__MO_019873715786_000\n",
      "\n"
     ]
    },
    {
     "name": "stdout",
     "output_type": "stream",
     "text": [
      "murn_Al_pot_EAM_Dynamo_LiuErcolessiAdams_2004_Al__MO_051157671505_000\n",
      "The job murn_Al_pot_EAM_Dynamo_LiuErcolessiAdams_2004_Al__MO_051157671505_000 was saved and received the ID: 495\n",
      "The job strain_0_9 was saved and received the ID: 496\n"
     ]
    },
    {
     "name": "stderr",
     "output_type": "stream",
     "text": [
      "2020-04-13 05:37:15,157 - pyiron_log - WARNING - Job aborted\n",
      "2020-04-13 05:37:15,160 - pyiron_log - WARNING - LAMMPS (3 Mar 2020)\n",
      "Reading data file ...\n",
      "  orthogonal box = (0 0 0) to (3.91023 3.91023 3.91023)\n",
      "  1 by 1 by 1 MPI processor grid\n",
      "  reading atoms ...\n",
      "  4 atoms\n",
      "  read_data CPU = 0.00093317 secs\n",
      "ERROR: KIM ModelCreate failed (src/KIM/pair_kim.cpp:859)\n",
      "Last command: pair_style kim EAM_Dynamo_LiuErcolessiAdams_2004_Al__MO_051157671505_000\n",
      "\n"
     ]
    },
    {
     "name": "stdout",
     "output_type": "stream",
     "text": [
      "murn_Al_pot_EAM_Dynamo_LiuLiuBorucki_1999_AlCu__MO_020851069572_000\n",
      "The job murn_Al_pot_EAM_Dynamo_LiuLiuBorucki_1999_AlCu__MO_020851069572_000 was saved and received the ID: 497\n",
      "The job strain_0_9 was saved and received the ID: 498\n"
     ]
    },
    {
     "name": "stderr",
     "output_type": "stream",
     "text": [
      "2020-04-13 05:37:17,527 - pyiron_log - WARNING - Job aborted\n",
      "2020-04-13 05:37:17,528 - pyiron_log - WARNING - LAMMPS (3 Mar 2020)\n",
      "Reading data file ...\n",
      "  orthogonal box = (0 0 0) to (3.91023 3.91023 3.91023)\n",
      "  1 by 1 by 1 MPI processor grid\n",
      "  reading atoms ...\n",
      "  4 atoms\n",
      "  read_data CPU = 0.000956059 secs\n",
      "ERROR: KIM ModelCreate failed (src/KIM/pair_kim.cpp:859)\n",
      "Last command: pair_style kim EAM_Dynamo_LiuLiuBorucki_1999_AlCu__MO_020851069572_000\n",
      "\n"
     ]
    },
    {
     "name": "stdout",
     "output_type": "stream",
     "text": [
      "murn_Al_pot_EAM_Dynamo_LiuOhotnickyAdams_1997_AlMg__MO_559870613549_000\n",
      "The job murn_Al_pot_EAM_Dynamo_LiuOhotnickyAdams_1997_AlMg__MO_559870613549_000 was saved and received the ID: 499\n",
      "The job strain_0_9 was saved and received the ID: 500\n"
     ]
    },
    {
     "name": "stderr",
     "output_type": "stream",
     "text": [
      "2020-04-13 05:37:20,094 - pyiron_log - WARNING - Job aborted\n",
      "2020-04-13 05:37:20,098 - pyiron_log - WARNING - LAMMPS (3 Mar 2020)\n",
      "Reading data file ...\n",
      "  orthogonal box = (0 0 0) to (3.91023 3.91023 3.91023)\n",
      "  1 by 1 by 1 MPI processor grid\n",
      "  reading atoms ...\n",
      "  4 atoms\n",
      "  read_data CPU = 0.00117898 secs\n",
      "ERROR: KIM ModelCreate failed (src/KIM/pair_kim.cpp:859)\n",
      "Last command: pair_style kim EAM_Dynamo_LiuOhotnickyAdams_1997_AlMg__MO_559870613549_000\n",
      "\n"
     ]
    },
    {
     "name": "stdout",
     "output_type": "stream",
     "text": [
      "murn_Al_pot_EAM_Dynamo_MendelevAstaRahman_2009_AlMg__MO_658278549784_005\n",
      "The job murn_Al_pot_EAM_Dynamo_MendelevAstaRahman_2009_AlMg__MO_658278549784_005 was saved and received the ID: 501\n",
      "The job strain_0_9 was saved and received the ID: 502\n"
     ]
    },
    {
     "name": "stderr",
     "output_type": "stream",
     "text": [
      "2020-04-13 05:37:22,527 - pyiron_log - WARNING - Job aborted\n",
      "2020-04-13 05:37:22,530 - pyiron_log - WARNING - LAMMPS (3 Mar 2020)\n",
      "Reading data file ...\n",
      "  orthogonal box = (0 0 0) to (3.91023 3.91023 3.91023)\n",
      "  1 by 1 by 1 MPI processor grid\n",
      "  reading atoms ...\n",
      "  4 atoms\n",
      "  read_data CPU = 0.00165296 secs\n",
      "ERROR: KIM ModelCreate failed (src/KIM/pair_kim.cpp:859)\n",
      "Last command: pair_style kim EAM_Dynamo_MendelevAstaRahman_2009_AlMg__MO_658278549784_005\n",
      "\n"
     ]
    },
    {
     "name": "stdout",
     "output_type": "stream",
     "text": [
      "murn_Al_pot_EAM_Dynamo_MendelevFangYe_2015_AlSm__MO_338600200739_000\n",
      "The job murn_Al_pot_EAM_Dynamo_MendelevFangYe_2015_AlSm__MO_338600200739_000 was saved and received the ID: 503\n",
      "The job strain_0_9 was saved and received the ID: 504\n"
     ]
    },
    {
     "name": "stderr",
     "output_type": "stream",
     "text": [
      "2020-04-13 05:37:24,691 - pyiron_log - WARNING - Job aborted\n",
      "2020-04-13 05:37:24,694 - pyiron_log - WARNING - LAMMPS (3 Mar 2020)\n",
      "Reading data file ...\n",
      "  orthogonal box = (0 0 0) to (3.91023 3.91023 3.91023)\n",
      "  1 by 1 by 1 MPI processor grid\n",
      "  reading atoms ...\n",
      "  4 atoms\n",
      "  read_data CPU = 0.00169396 secs\n",
      "ERROR: KIM ModelCreate failed (src/KIM/pair_kim.cpp:859)\n",
      "Last command: pair_style kim EAM_Dynamo_MendelevFangYe_2015_AlSm__MO_338600200739_000\n",
      "\n"
     ]
    },
    {
     "name": "stdout",
     "output_type": "stream",
     "text": [
      "murn_Al_pot_EAM_Dynamo_MendelevKramerBecker_2008_Al__MO_106969701023_005\n",
      "The job murn_Al_pot_EAM_Dynamo_MendelevKramerBecker_2008_Al__MO_106969701023_005 was saved and received the ID: 505\n",
      "The job strain_0_9 was saved and received the ID: 506\n"
     ]
    },
    {
     "name": "stderr",
     "output_type": "stream",
     "text": [
      "2020-04-13 05:37:26,794 - pyiron_log - WARNING - Job aborted\n",
      "2020-04-13 05:37:26,796 - pyiron_log - WARNING - LAMMPS (3 Mar 2020)\n",
      "Reading data file ...\n",
      "  orthogonal box = (0 0 0) to (3.91023 3.91023 3.91023)\n",
      "  1 by 1 by 1 MPI processor grid\n",
      "  reading atoms ...\n",
      "  4 atoms\n",
      "  read_data CPU = 0.000962973 secs\n",
      "ERROR: KIM ModelCreate failed (src/KIM/pair_kim.cpp:859)\n",
      "Last command: pair_style kim EAM_Dynamo_MendelevKramerBecker_2008_Al__MO_106969701023_005\n",
      "\n"
     ]
    },
    {
     "name": "stdout",
     "output_type": "stream",
     "text": [
      "murn_Al_pot_EAM_Dynamo_MendelevSrolovitzAckland_2005_AlFe__MO_577453891941_005\n",
      "The job murn_Al_pot_EAM_Dynamo_MendelevSrolovitzAckland_2005_AlFe__MO_577453891941_005 was saved and received the ID: 507\n",
      "The job strain_0_9 was saved and received the ID: 508\n"
     ]
    },
    {
     "name": "stderr",
     "output_type": "stream",
     "text": [
      "2020-04-13 05:37:28,853 - pyiron_log - WARNING - Job aborted\n",
      "2020-04-13 05:37:28,855 - pyiron_log - WARNING - LAMMPS (3 Mar 2020)\n",
      "Reading data file ...\n",
      "  orthogonal box = (0 0 0) to (3.91023 3.91023 3.91023)\n",
      "  1 by 1 by 1 MPI processor grid\n",
      "  reading atoms ...\n",
      "  4 atoms\n",
      "  read_data CPU = 0.000946999 secs\n",
      "ERROR: KIM ModelCreate failed (src/KIM/pair_kim.cpp:859)\n",
      "Last command: pair_style kim EAM_Dynamo_MendelevSrolovitzAckland_2005_AlFe__MO_577453891941_005\n",
      "\n"
     ]
    },
    {
     "name": "stdout",
     "output_type": "stream",
     "text": [
      "murn_Al_pot_EAM_Dynamo_MishinFarkasMehl_1999_Al__MO_651801486679_005\n",
      "The job murn_Al_pot_EAM_Dynamo_MishinFarkasMehl_1999_Al__MO_651801486679_005 was saved and received the ID: 509\n",
      "The job strain_0_9 was saved and received the ID: 510\n"
     ]
    },
    {
     "name": "stderr",
     "output_type": "stream",
     "text": [
      "2020-04-13 05:37:30,975 - pyiron_log - WARNING - Job aborted\n",
      "2020-04-13 05:37:30,978 - pyiron_log - WARNING - LAMMPS (3 Mar 2020)\n",
      "Reading data file ...\n",
      "  orthogonal box = (0 0 0) to (3.91023 3.91023 3.91023)\n",
      "  1 by 1 by 1 MPI processor grid\n",
      "  reading atoms ...\n",
      "  4 atoms\n",
      "  read_data CPU = 0.000921011 secs\n",
      "ERROR: KIM ModelCreate failed (src/KIM/pair_kim.cpp:859)\n",
      "Last command: pair_style kim EAM_Dynamo_MishinFarkasMehl_1999_Al__MO_651801486679_005\n",
      "\n"
     ]
    },
    {
     "name": "stdout",
     "output_type": "stream",
     "text": [
      "murn_Al_pot_EAM_Dynamo_MishinMehlPapaconstantopoulos_2002_NiAl__MO_109933561507_005\n",
      "The job murn_Al_pot_EAM_Dynamo_MishinMehlPapaconstantopoulos_2002_NiAl__MO_109933561507_005 was saved and received the ID: 511\n",
      "The job strain_0_9 was saved and received the ID: 512\n"
     ]
    },
    {
     "name": "stderr",
     "output_type": "stream",
     "text": [
      "2020-04-13 05:37:33,102 - pyiron_log - WARNING - Job aborted\n",
      "2020-04-13 05:37:33,104 - pyiron_log - WARNING - LAMMPS (3 Mar 2020)\n",
      "Reading data file ...\n",
      "  orthogonal box = (0 0 0) to (3.91023 3.91023 3.91023)\n",
      "  1 by 1 by 1 MPI processor grid\n",
      "  reading atoms ...\n",
      "  4 atoms\n",
      "  read_data CPU = 0.00125718 secs\n",
      "ERROR: KIM ModelCreate failed (src/KIM/pair_kim.cpp:859)\n",
      "Last command: pair_style kim EAM_Dynamo_MishinMehlPapaconstantopoulos_2002_NiAl__MO_109933561507_005\n",
      "\n"
     ]
    },
    {
     "name": "stdout",
     "output_type": "stream",
     "text": [
      "murn_Al_pot_EAM_Dynamo_Mishin_2004_NiAl__MO_101214310689_005\n",
      "The job murn_Al_pot_EAM_Dynamo_Mishin_2004_NiAl__MO_101214310689_005 was saved and received the ID: 513\n",
      "The job strain_0_9 was saved and received the ID: 514\n"
     ]
    },
    {
     "name": "stderr",
     "output_type": "stream",
     "text": [
      "2020-04-13 05:37:35,323 - pyiron_log - WARNING - Job aborted\n",
      "2020-04-13 05:37:35,326 - pyiron_log - WARNING - LAMMPS (3 Mar 2020)\n",
      "Reading data file ...\n",
      "  orthogonal box = (0 0 0) to (3.91023 3.91023 3.91023)\n",
      "  1 by 1 by 1 MPI processor grid\n",
      "  reading atoms ...\n",
      "  4 atoms\n",
      "  read_data CPU = 0.000984192 secs\n",
      "ERROR: KIM ModelCreate failed (src/KIM/pair_kim.cpp:859)\n",
      "Last command: pair_style kim EAM_Dynamo_Mishin_2004_NiAl__MO_101214310689_005\n",
      "\n"
     ]
    },
    {
     "name": "stdout",
     "output_type": "stream",
     "text": [
      "murn_Al_pot_EAM_Dynamo_PunMishin_2009_NiAl__MO_751354403791_005\n",
      "The job murn_Al_pot_EAM_Dynamo_PunMishin_2009_NiAl__MO_751354403791_005 was saved and received the ID: 515\n",
      "The job strain_0_9 was saved and received the ID: 516\n"
     ]
    },
    {
     "name": "stderr",
     "output_type": "stream",
     "text": [
      "2020-04-13 05:37:37,433 - pyiron_log - WARNING - Job aborted\n",
      "2020-04-13 05:37:37,435 - pyiron_log - WARNING - LAMMPS (3 Mar 2020)\n",
      "Reading data file ...\n",
      "  orthogonal box = (0 0 0) to (3.91023 3.91023 3.91023)\n",
      "  1 by 1 by 1 MPI processor grid\n",
      "  reading atoms ...\n",
      "  4 atoms\n",
      "  read_data CPU = 0.000932932 secs\n",
      "ERROR: KIM ModelCreate failed (src/KIM/pair_kim.cpp:859)\n",
      "Last command: pair_style kim EAM_Dynamo_PunMishin_2009_NiAl__MO_751354403791_005\n",
      "\n"
     ]
    },
    {
     "name": "stdout",
     "output_type": "stream",
     "text": [
      "murn_Al_pot_EAM_Dynamo_PunYamakovMishin_2013_AlCo__MO_678952612413_000\n",
      "The job murn_Al_pot_EAM_Dynamo_PunYamakovMishin_2013_AlCo__MO_678952612413_000 was saved and received the ID: 517\n",
      "The job strain_0_9 was saved and received the ID: 518\n"
     ]
    },
    {
     "name": "stderr",
     "output_type": "stream",
     "text": [
      "2020-04-13 05:37:39,776 - pyiron_log - WARNING - Job aborted\n",
      "2020-04-13 05:37:39,778 - pyiron_log - WARNING - LAMMPS (3 Mar 2020)\n",
      "Reading data file ...\n",
      "  orthogonal box = (0 0 0) to (3.91023 3.91023 3.91023)\n",
      "  1 by 1 by 1 MPI processor grid\n",
      "  reading atoms ...\n",
      "  4 atoms\n",
      "  read_data CPU = 0.000959873 secs\n",
      "ERROR: KIM ModelCreate failed (src/KIM/pair_kim.cpp:859)\n",
      "Last command: pair_style kim EAM_Dynamo_PunYamakovMishin_2013_AlCo__MO_678952612413_000\n",
      "\n"
     ]
    },
    {
     "name": "stdout",
     "output_type": "stream",
     "text": [
      "murn_Al_pot_EAM_Dynamo_PunYamakovMishin_2013_NiAlCo__MO_826591359508_000\n",
      "The job murn_Al_pot_EAM_Dynamo_PunYamakovMishin_2013_NiAlCo__MO_826591359508_000 was saved and received the ID: 519\n",
      "The job strain_0_9 was saved and received the ID: 520\n"
     ]
    },
    {
     "name": "stderr",
     "output_type": "stream",
     "text": [
      "2020-04-13 05:37:41,964 - pyiron_log - WARNING - Job aborted\n",
      "2020-04-13 05:37:41,967 - pyiron_log - WARNING - LAMMPS (3 Mar 2020)\n",
      "Reading data file ...\n",
      "  orthogonal box = (0 0 0) to (3.91023 3.91023 3.91023)\n",
      "  1 by 1 by 1 MPI processor grid\n",
      "  reading atoms ...\n",
      "  4 atoms\n",
      "  read_data CPU = 0.000962973 secs\n",
      "ERROR: KIM ModelCreate failed (src/KIM/pair_kim.cpp:859)\n",
      "Last command: pair_style kim EAM_Dynamo_PunYamakovMishin_2013_NiAlCo__MO_826591359508_000\n",
      "\n"
     ]
    },
    {
     "name": "stdout",
     "output_type": "stream",
     "text": [
      "murn_Al_pot_EAM_Dynamo_SchopfBrommerFrigan_2012_AlMnPd__MO_137572817842_000\n",
      "The job murn_Al_pot_EAM_Dynamo_SchopfBrommerFrigan_2012_AlMnPd__MO_137572817842_000 was saved and received the ID: 521\n",
      "The job strain_0_9 was saved and received the ID: 522\n"
     ]
    },
    {
     "name": "stderr",
     "output_type": "stream",
     "text": [
      "2020-04-13 05:37:44,189 - pyiron_log - WARNING - Job aborted\n",
      "2020-04-13 05:37:44,191 - pyiron_log - WARNING - LAMMPS (3 Mar 2020)\n",
      "Reading data file ...\n",
      "  orthogonal box = (0 0 0) to (3.91023 3.91023 3.91023)\n",
      "  1 by 1 by 1 MPI processor grid\n",
      "  reading atoms ...\n",
      "  4 atoms\n",
      "  read_data CPU = 0.00110006 secs\n",
      "ERROR: KIM ModelCreate failed (src/KIM/pair_kim.cpp:859)\n",
      "Last command: pair_style kim EAM_Dynamo_SchopfBrommerFrigan_2012_AlMnPd__MO_137572817842_000\n",
      "\n"
     ]
    },
    {
     "name": "stdout",
     "output_type": "stream",
     "text": [
      "murn_Al_pot_EAM_Dynamo_SturgeonLaird_2000_Al__MO_120808805541_005\n",
      "The job murn_Al_pot_EAM_Dynamo_SturgeonLaird_2000_Al__MO_120808805541_005 was saved and received the ID: 523\n",
      "The job strain_0_9 was saved and received the ID: 524\n"
     ]
    },
    {
     "name": "stderr",
     "output_type": "stream",
     "text": [
      "2020-04-13 05:37:47,031 - pyiron_log - WARNING - Job aborted\n",
      "2020-04-13 05:37:47,034 - pyiron_log - WARNING - LAMMPS (3 Mar 2020)\n",
      "Reading data file ...\n",
      "  orthogonal box = (0 0 0) to (3.91023 3.91023 3.91023)\n",
      "  1 by 1 by 1 MPI processor grid\n",
      "  reading atoms ...\n",
      "  4 atoms\n",
      "  read_data CPU = 0.00113702 secs\n",
      "ERROR: KIM ModelCreate failed (src/KIM/pair_kim.cpp:859)\n",
      "Last command: pair_style kim EAM_Dynamo_SturgeonLaird_2000_Al__MO_120808805541_005\n",
      "\n"
     ]
    },
    {
     "name": "stdout",
     "output_type": "stream",
     "text": [
      "murn_Al_pot_EAM_Dynamo_VailheFarkas_1997_CoAl__MO_284963179498_005\n",
      "The job murn_Al_pot_EAM_Dynamo_VailheFarkas_1997_CoAl__MO_284963179498_005 was saved and received the ID: 525\n",
      "The job strain_0_9 was saved and received the ID: 526\n"
     ]
    },
    {
     "name": "stderr",
     "output_type": "stream",
     "text": [
      "2020-04-13 05:37:49,838 - pyiron_log - WARNING - Job aborted\n",
      "2020-04-13 05:37:49,840 - pyiron_log - WARNING - LAMMPS (3 Mar 2020)\n",
      "Reading data file ...\n",
      "  orthogonal box = (0 0 0) to (3.91023 3.91023 3.91023)\n",
      "  1 by 1 by 1 MPI processor grid\n",
      "  reading atoms ...\n",
      "  4 atoms\n",
      "  read_data CPU = 0.00138116 secs\n",
      "ERROR: KIM ModelCreate failed (src/KIM/pair_kim.cpp:859)\n",
      "Last command: pair_style kim EAM_Dynamo_VailheFarkas_1997_CoAl__MO_284963179498_005\n",
      "\n"
     ]
    },
    {
     "name": "stdout",
     "output_type": "stream",
     "text": [
      "murn_Al_pot_EAM_Dynamo_WineyKubotaGupta_2010_Al__MO_149316865608_005\n",
      "The job murn_Al_pot_EAM_Dynamo_WineyKubotaGupta_2010_Al__MO_149316865608_005 was saved and received the ID: 527\n",
      "The job strain_0_9 was saved and received the ID: 528\n"
     ]
    },
    {
     "name": "stderr",
     "output_type": "stream",
     "text": [
      "2020-04-13 05:37:55,036 - pyiron_log - WARNING - Job aborted\n",
      "2020-04-13 05:37:55,040 - pyiron_log - WARNING - LAMMPS (3 Mar 2020)\n",
      "Reading data file ...\n",
      "  orthogonal box = (0 0 0) to (3.91023 3.91023 3.91023)\n",
      "  1 by 1 by 1 MPI processor grid\n",
      "  reading atoms ...\n",
      "  4 atoms\n",
      "  read_data CPU = 0.00150895 secs\n",
      "ERROR: KIM ModelCreate failed (src/KIM/pair_kim.cpp:859)\n",
      "Last command: pair_style kim EAM_Dynamo_WineyKubotaGupta_2010_Al__MO_149316865608_005\n",
      "\n"
     ]
    },
    {
     "name": "stdout",
     "output_type": "stream",
     "text": [
      "murn_Al_pot_EAM_Dynamo_Zhakhovsky_2009_Al__MO_519613893196_000\n",
      "The job murn_Al_pot_EAM_Dynamo_Zhakhovsky_2009_Al__MO_519613893196_000 was saved and received the ID: 529\n",
      "The job strain_0_9 was saved and received the ID: 530\n"
     ]
    },
    {
     "name": "stderr",
     "output_type": "stream",
     "text": [
      "2020-04-13 05:37:58,540 - pyiron_log - WARNING - Job aborted\n",
      "2020-04-13 05:37:58,543 - pyiron_log - WARNING - LAMMPS (3 Mar 2020)\n",
      "Reading data file ...\n",
      "  orthogonal box = (0 0 0) to (3.91023 3.91023 3.91023)\n",
      "  1 by 1 by 1 MPI processor grid\n",
      "  reading atoms ...\n",
      "  4 atoms\n",
      "  read_data CPU = 0.00144815 secs\n",
      "ERROR: KIM ModelCreate failed (src/KIM/pair_kim.cpp:859)\n",
      "Last command: pair_style kim EAM_Dynamo_Zhakhovsky_2009_Al__MO_519613893196_000\n",
      "\n"
     ]
    },
    {
     "name": "stdout",
     "output_type": "stream",
     "text": [
      "murn_Al_pot_EAM_Dynamo_ZhouJohnsonWadley_2004_Al__MO_131650261510_005\n",
      "The job murn_Al_pot_EAM_Dynamo_ZhouJohnsonWadley_2004_Al__MO_131650261510_005 was saved and received the ID: 531\n",
      "The job strain_0_9 was saved and received the ID: 532\n"
     ]
    },
    {
     "name": "stderr",
     "output_type": "stream",
     "text": [
      "2020-04-13 05:38:01,792 - pyiron_log - WARNING - Job aborted\n",
      "2020-04-13 05:38:01,795 - pyiron_log - WARNING - LAMMPS (3 Mar 2020)\n",
      "Reading data file ...\n",
      "  orthogonal box = (0 0 0) to (3.91023 3.91023 3.91023)\n",
      "  1 by 1 by 1 MPI processor grid\n",
      "  reading atoms ...\n",
      "  4 atoms\n",
      "  read_data CPU = 0.00120902 secs\n",
      "ERROR: KIM ModelCreate failed (src/KIM/pair_kim.cpp:859)\n",
      "Last command: pair_style kim EAM_Dynamo_ZhouJohnsonWadley_2004_Al__MO_131650261510_005\n",
      "\n"
     ]
    },
    {
     "name": "stdout",
     "output_type": "stream",
     "text": [
      "murn_Al_pot_EAM_Dynamo_ZhouWadleyJohnson_2001NISTretabulation_Al__MO_060567868558_000\n",
      "The job murn_Al_pot_EAM_Dynamo_ZhouWadleyJohnson_2001NISTretabulation_Al__MO_060567868558_000 was saved and received the ID: 533\n",
      "The job strain_0_9 was saved and received the ID: 534\n"
     ]
    },
    {
     "name": "stderr",
     "output_type": "stream",
     "text": [
      "2020-04-13 05:38:04,646 - pyiron_log - WARNING - Job aborted\n",
      "2020-04-13 05:38:04,648 - pyiron_log - WARNING - LAMMPS (3 Mar 2020)\n",
      "Reading data file ...\n",
      "  orthogonal box = (0 0 0) to (3.91023 3.91023 3.91023)\n",
      "  1 by 1 by 1 MPI processor grid\n",
      "  reading atoms ...\n",
      "  4 atoms\n",
      "  read_data CPU = 0.00101399 secs\n",
      "ERROR: KIM ModelCreate failed (src/KIM/pair_kim.cpp:859)\n",
      "Last command: pair_style kim EAM_Dynamo_ZhouWadleyJohnson_2001NISTretabulation_Al__MO_060567868558_000\n",
      "\n"
     ]
    },
    {
     "name": "stdout",
     "output_type": "stream",
     "text": [
      "murn_Al_pot_EAM_Dynamo_ZhouWadleyJohnson_2001_Al__MO_049243498555_000\n",
      "The job murn_Al_pot_EAM_Dynamo_ZhouWadleyJohnson_2001_Al__MO_049243498555_000 was saved and received the ID: 535\n",
      "The job strain_0_9 was saved and received the ID: 536\n"
     ]
    },
    {
     "name": "stderr",
     "output_type": "stream",
     "text": [
      "2020-04-13 05:38:06,967 - pyiron_log - WARNING - Job aborted\n",
      "2020-04-13 05:38:06,970 - pyiron_log - WARNING - LAMMPS (3 Mar 2020)\n",
      "Reading data file ...\n",
      "  orthogonal box = (0 0 0) to (3.91023 3.91023 3.91023)\n",
      "  1 by 1 by 1 MPI processor grid\n",
      "  reading atoms ...\n",
      "  4 atoms\n",
      "  read_data CPU = 0.000951052 secs\n",
      "ERROR: KIM ModelCreate failed (src/KIM/pair_kim.cpp:859)\n",
      "Last command: pair_style kim EAM_Dynamo_ZhouWadleyJohnson_2001_Al__MO_049243498555_000\n",
      "\n"
     ]
    },
    {
     "name": "stdout",
     "output_type": "stream",
     "text": [
      "murn_Al_pot_EAM_Dynamo_ZopeMishin_2003_Al__MO_664470114311_005\n",
      "The job murn_Al_pot_EAM_Dynamo_ZopeMishin_2003_Al__MO_664470114311_005 was saved and received the ID: 537\n",
      "The job strain_0_9 was saved and received the ID: 538\n"
     ]
    },
    {
     "name": "stderr",
     "output_type": "stream",
     "text": [
      "2020-04-13 05:38:09,272 - pyiron_log - WARNING - Job aborted\n",
      "2020-04-13 05:38:09,275 - pyiron_log - WARNING - LAMMPS (3 Mar 2020)\n",
      "Reading data file ...\n",
      "  orthogonal box = (0 0 0) to (3.91023 3.91023 3.91023)\n",
      "  1 by 1 by 1 MPI processor grid\n",
      "  reading atoms ...\n",
      "  4 atoms\n",
      "  read_data CPU = 0.00120997 secs\n",
      "ERROR: KIM ModelCreate failed (src/KIM/pair_kim.cpp:859)\n",
      "Last command: pair_style kim EAM_Dynamo_ZopeMishin_2003_Al__MO_664470114311_005\n",
      "\n"
     ]
    },
    {
     "name": "stdout",
     "output_type": "stream",
     "text": [
      "murn_Al_pot_EAM_Dynamo_ZopeMishin_2003_TiAl__MO_117656786760_005\n",
      "The job murn_Al_pot_EAM_Dynamo_ZopeMishin_2003_TiAl__MO_117656786760_005 was saved and received the ID: 539\n",
      "The job strain_0_9 was saved and received the ID: 540\n"
     ]
    },
    {
     "name": "stderr",
     "output_type": "stream",
     "text": [
      "2020-04-13 05:38:11,642 - pyiron_log - WARNING - Job aborted\n",
      "2020-04-13 05:38:11,644 - pyiron_log - WARNING - LAMMPS (3 Mar 2020)\n",
      "Reading data file ...\n",
      "  orthogonal box = (0 0 0) to (3.91023 3.91023 3.91023)\n",
      "  1 by 1 by 1 MPI processor grid\n",
      "  reading atoms ...\n",
      "  4 atoms\n",
      "  read_data CPU = 0.00102496 secs\n",
      "ERROR: KIM ModelCreate failed (src/KIM/pair_kim.cpp:859)\n",
      "Last command: pair_style kim EAM_Dynamo_ZopeMishin_2003_TiAl__MO_117656786760_005\n",
      "\n"
     ]
    },
    {
     "name": "stdout",
     "output_type": "stream",
     "text": [
      "murn_Al_pot_EAM_ErcolessiAdams_1994_Al__MO_324507536345_002\n",
      "The job murn_Al_pot_EAM_ErcolessiAdams_1994_Al__MO_324507536345_002 was saved and received the ID: 541\n",
      "The job strain_0_9 was saved and received the ID: 542\n"
     ]
    },
    {
     "name": "stderr",
     "output_type": "stream",
     "text": [
      "2020-04-13 05:38:13,985 - pyiron_log - WARNING - Job aborted\n",
      "2020-04-13 05:38:13,987 - pyiron_log - WARNING - LAMMPS (3 Mar 2020)\n",
      "Reading data file ...\n",
      "  orthogonal box = (0 0 0) to (3.91023 3.91023 3.91023)\n",
      "  1 by 1 by 1 MPI processor grid\n",
      "  reading atoms ...\n",
      "  4 atoms\n",
      "  read_data CPU = 0.001019 secs\n",
      "ERROR: KIM ModelCreate failed (src/KIM/pair_kim.cpp:859)\n",
      "Last command: pair_style kim EAM_ErcolessiAdams_1994_Al__MO_324507536345_002\n",
      "\n"
     ]
    },
    {
     "name": "stdout",
     "output_type": "stream",
     "text": [
      "murn_Al_pot_EAM_IMD_BrommerGaehler_2006A_AlNiCo__MO_122703700223_003\n",
      "The job murn_Al_pot_EAM_IMD_BrommerGaehler_2006A_AlNiCo__MO_122703700223_003 was saved and received the ID: 543\n",
      "The job strain_0_9 was saved and received the ID: 544\n"
     ]
    },
    {
     "name": "stderr",
     "output_type": "stream",
     "text": [
      "2020-04-13 05:38:16,255 - pyiron_log - WARNING - Job aborted\n",
      "2020-04-13 05:38:16,257 - pyiron_log - WARNING - LAMMPS (3 Mar 2020)\n",
      "Reading data file ...\n",
      "  orthogonal box = (0 0 0) to (3.91023 3.91023 3.91023)\n",
      "  1 by 1 by 1 MPI processor grid\n",
      "  reading atoms ...\n",
      "  4 atoms\n",
      "  read_data CPU = 0.000999928 secs\n",
      "ERROR: KIM ModelCreate failed (src/KIM/pair_kim.cpp:859)\n",
      "Last command: pair_style kim EAM_IMD_BrommerGaehler_2006A_AlNiCo__MO_122703700223_003\n",
      "\n"
     ]
    },
    {
     "name": "stdout",
     "output_type": "stream",
     "text": [
      "murn_Al_pot_EAM_IMD_BrommerGaehler_2006B_AlNiCo__MO_128037485276_003\n",
      "The job murn_Al_pot_EAM_IMD_BrommerGaehler_2006B_AlNiCo__MO_128037485276_003 was saved and received the ID: 545\n",
      "The job strain_0_9 was saved and received the ID: 546\n"
     ]
    },
    {
     "name": "stderr",
     "output_type": "stream",
     "text": [
      "2020-04-13 05:38:18,461 - pyiron_log - WARNING - Job aborted\n",
      "2020-04-13 05:38:18,464 - pyiron_log - WARNING - LAMMPS (3 Mar 2020)\n",
      "Reading data file ...\n",
      "  orthogonal box = (0 0 0) to (3.91023 3.91023 3.91023)\n",
      "  1 by 1 by 1 MPI processor grid\n",
      "  reading atoms ...\n",
      "  4 atoms\n",
      "  read_data CPU = 0.000921011 secs\n",
      "ERROR: KIM ModelCreate failed (src/KIM/pair_kim.cpp:859)\n",
      "Last command: pair_style kim EAM_IMD_BrommerGaehler_2006B_AlNiCo__MO_128037485276_003\n",
      "\n"
     ]
    },
    {
     "name": "stdout",
     "output_type": "stream",
     "text": [
      "murn_Al_pot_EAM_IMD_SchopfBrommerFrigan_2012_AlMnPd__MO_878712978062_003\n",
      "The job murn_Al_pot_EAM_IMD_SchopfBrommerFrigan_2012_AlMnPd__MO_878712978062_003 was saved and received the ID: 547\n",
      "The job strain_0_9 was saved and received the ID: 548\n"
     ]
    },
    {
     "name": "stderr",
     "output_type": "stream",
     "text": [
      "2020-04-13 05:38:20,711 - pyiron_log - WARNING - Job aborted\n",
      "2020-04-13 05:38:20,713 - pyiron_log - WARNING - LAMMPS (3 Mar 2020)\n",
      "Reading data file ...\n",
      "  orthogonal box = (0 0 0) to (3.91023 3.91023 3.91023)\n",
      "  1 by 1 by 1 MPI processor grid\n",
      "  reading atoms ...\n",
      "  4 atoms\n",
      "  read_data CPU = 0.00101304 secs\n",
      "ERROR: KIM ModelCreate failed (src/KIM/pair_kim.cpp:859)\n",
      "Last command: pair_style kim EAM_IMD_SchopfBrommerFrigan_2012_AlMnPd__MO_878712978062_003\n",
      "\n"
     ]
    },
    {
     "name": "stdout",
     "output_type": "stream",
     "text": [
      "murn_Al_pot_EAM_QuinticClampedSpline_ErcolessiAdams_1994_Al__MO_450093727396_002\n",
      "The job murn_Al_pot_EAM_QuinticClampedSpline_ErcolessiAdams_1994_Al__MO_450093727396_002 was saved and received the ID: 549\n",
      "The job strain_0_9 was saved and received the ID: 550\n"
     ]
    },
    {
     "name": "stderr",
     "output_type": "stream",
     "text": [
      "2020-04-13 05:38:23,598 - pyiron_log - WARNING - Job aborted\n",
      "2020-04-13 05:38:23,601 - pyiron_log - WARNING - LAMMPS (3 Mar 2020)\n",
      "Reading data file ...\n",
      "  orthogonal box = (0 0 0) to (3.91023 3.91023 3.91023)\n",
      "  1 by 1 by 1 MPI processor grid\n",
      "  reading atoms ...\n",
      "  4 atoms\n",
      "  read_data CPU = 0.001127 secs\n",
      "ERROR: KIM ModelCreate failed (src/KIM/pair_kim.cpp:859)\n",
      "Last command: pair_style kim EAM_QuinticClampedSpline_ErcolessiAdams_1994_Al__MO_450093727396_002\n",
      "\n"
     ]
    },
    {
     "name": "stdout",
     "output_type": "stream",
     "text": [
      "murn_Al_pot_EAM_QuinticHermiteSpline_ErcolessiAdams_1994_Al__MO_781138671863_002\n",
      "The job murn_Al_pot_EAM_QuinticHermiteSpline_ErcolessiAdams_1994_Al__MO_781138671863_002 was saved and received the ID: 551\n",
      "The job strain_0_9 was saved and received the ID: 552\n"
     ]
    },
    {
     "name": "stderr",
     "output_type": "stream",
     "text": [
      "2020-04-13 05:38:26,406 - pyiron_log - WARNING - Job aborted\n",
      "2020-04-13 05:38:26,408 - pyiron_log - WARNING - LAMMPS (3 Mar 2020)\n",
      "Reading data file ...\n",
      "  orthogonal box = (0 0 0) to (3.91023 3.91023 3.91023)\n",
      "  1 by 1 by 1 MPI processor grid\n",
      "  reading atoms ...\n",
      "  4 atoms\n",
      "  read_data CPU = 0.00101423 secs\n",
      "ERROR: KIM ModelCreate failed (src/KIM/pair_kim.cpp:859)\n",
      "Last command: pair_style kim EAM_QuinticHermiteSpline_ErcolessiAdams_1994_Al__MO_781138671863_002\n",
      "\n"
     ]
    },
    {
     "name": "stdout",
     "output_type": "stream",
     "text": [
      "murn_Al_pot_EMT_Asap_Standard_JacobsenStoltzeNorskov_1996_AlAgAuCuNiPdPt__MO_115316750986_001\n",
      "The job murn_Al_pot_EMT_Asap_Standard_JacobsenStoltzeNorskov_1996_AlAgAuCuNiPdPt__MO_115316750986_001 was saved and received the ID: 553\n",
      "The job strain_0_9 was saved and received the ID: 554\n"
     ]
    },
    {
     "name": "stderr",
     "output_type": "stream",
     "text": [
      "2020-04-13 05:38:28,898 - pyiron_log - WARNING - Job aborted\n",
      "2020-04-13 05:38:28,900 - pyiron_log - WARNING - LAMMPS (3 Mar 2020)\n",
      "Reading data file ...\n",
      "  orthogonal box = (0 0 0) to (3.91023 3.91023 3.91023)\n",
      "  1 by 1 by 1 MPI processor grid\n",
      "  reading atoms ...\n",
      "  4 atoms\n",
      "  read_data CPU = 0.00122905 secs\n",
      "ERROR: KIM ModelCreate failed (src/KIM/pair_kim.cpp:859)\n",
      "Last command: pair_style kim EMT_Asap_Standard_JacobsenStoltzeNorskov_1996_AlAgAuCuNiPdPt__MO_115316750986_001\n",
      "\n"
     ]
    },
    {
     "name": "stdout",
     "output_type": "stream",
     "text": [
      "murn_Al_pot_EMT_Asap_Standard_JacobsenStoltzeNorskov_1996_Al__MO_623376124862_001\n",
      "The job murn_Al_pot_EMT_Asap_Standard_JacobsenStoltzeNorskov_1996_Al__MO_623376124862_001 was saved and received the ID: 555\n",
      "The job strain_0_9 was saved and received the ID: 556\n"
     ]
    },
    {
     "name": "stderr",
     "output_type": "stream",
     "text": [
      "2020-04-13 05:38:31,512 - pyiron_log - WARNING - Job aborted\n",
      "2020-04-13 05:38:31,515 - pyiron_log - WARNING - LAMMPS (3 Mar 2020)\n",
      "Reading data file ...\n",
      "  orthogonal box = (0 0 0) to (3.91023 3.91023 3.91023)\n",
      "  1 by 1 by 1 MPI processor grid\n",
      "  reading atoms ...\n",
      "  4 atoms\n",
      "  read_data CPU = 0.00103402 secs\n",
      "ERROR: KIM ModelCreate failed (src/KIM/pair_kim.cpp:859)\n",
      "Last command: pair_style kim EMT_Asap_Standard_JacobsenStoltzeNorskov_1996_Al__MO_623376124862_001\n",
      "\n"
     ]
    },
    {
     "name": "stdout",
     "output_type": "stream",
     "text": [
      "murn_Al_pot_Morse_Shifted_GirifalcoWeizer_1959HighCutoff_Al__MO_140175748626_003\n",
      "The job murn_Al_pot_Morse_Shifted_GirifalcoWeizer_1959HighCutoff_Al__MO_140175748626_003 was saved and received the ID: 557\n",
      "The job strain_0_9 was saved and received the ID: 558\n"
     ]
    },
    {
     "name": "stderr",
     "output_type": "stream",
     "text": [
      "2020-04-13 05:38:33,996 - pyiron_log - WARNING - Job aborted\n",
      "2020-04-13 05:38:33,999 - pyiron_log - WARNING - LAMMPS (3 Mar 2020)\n",
      "Reading data file ...\n",
      "  orthogonal box = (0 0 0) to (3.91023 3.91023 3.91023)\n",
      "  1 by 1 by 1 MPI processor grid\n",
      "  reading atoms ...\n",
      "  4 atoms\n",
      "  read_data CPU = 0.000968933 secs\n",
      "ERROR: KIM ModelCreate failed (src/KIM/pair_kim.cpp:859)\n",
      "Last command: pair_style kim Morse_Shifted_GirifalcoWeizer_1959HighCutoff_Al__MO_140175748626_003\n",
      "\n"
     ]
    },
    {
     "name": "stdout",
     "output_type": "stream",
     "text": [
      "murn_Al_pot_Morse_Shifted_GirifalcoWeizer_1959LowCutoff_Al__MO_411898953661_003\n",
      "The job murn_Al_pot_Morse_Shifted_GirifalcoWeizer_1959LowCutoff_Al__MO_411898953661_003 was saved and received the ID: 559\n",
      "The job strain_0_9 was saved and received the ID: 560\n"
     ]
    },
    {
     "name": "stderr",
     "output_type": "stream",
     "text": [
      "2020-04-13 05:38:36,555 - pyiron_log - WARNING - Job aborted\n",
      "2020-04-13 05:38:36,558 - pyiron_log - WARNING - LAMMPS (3 Mar 2020)\n",
      "Reading data file ...\n",
      "  orthogonal box = (0 0 0) to (3.91023 3.91023 3.91023)\n",
      "  1 by 1 by 1 MPI processor grid\n",
      "  reading atoms ...\n",
      "  4 atoms\n",
      "  read_data CPU = 0.00177097 secs\n",
      "ERROR: KIM ModelCreate failed (src/KIM/pair_kim.cpp:859)\n",
      "Last command: pair_style kim Morse_Shifted_GirifalcoWeizer_1959LowCutoff_Al__MO_411898953661_003\n",
      "\n"
     ]
    },
    {
     "name": "stdout",
     "output_type": "stream",
     "text": [
      "murn_Al_pot_Morse_Shifted_GirifalcoWeizer_1959MedCutoff_Al__MO_279544746097_003\n",
      "The job murn_Al_pot_Morse_Shifted_GirifalcoWeizer_1959MedCutoff_Al__MO_279544746097_003 was saved and received the ID: 561\n",
      "The job strain_0_9 was saved and received the ID: 562\n"
     ]
    },
    {
     "name": "stderr",
     "output_type": "stream",
     "text": [
      "2020-04-13 05:38:39,006 - pyiron_log - WARNING - Job aborted\n",
      "2020-04-13 05:38:39,008 - pyiron_log - WARNING - LAMMPS (3 Mar 2020)\n",
      "Reading data file ...\n",
      "  orthogonal box = (0 0 0) to (3.91023 3.91023 3.91023)\n",
      "  1 by 1 by 1 MPI processor grid\n",
      "  reading atoms ...\n",
      "  4 atoms\n",
      "  read_data CPU = 0.00164318 secs\n",
      "ERROR: KIM ModelCreate failed (src/KIM/pair_kim.cpp:859)\n",
      "Last command: pair_style kim Morse_Shifted_GirifalcoWeizer_1959MedCutoff_Al__MO_279544746097_003\n",
      "\n"
     ]
    },
    {
     "name": "stdout",
     "output_type": "stream",
     "text": [
      "murn_Al_pot_Sim_LAMMPS_ADP_ApostolMishin_2011_AlCu__SM_667696763561_000\n",
      "The job murn_Al_pot_Sim_LAMMPS_ADP_ApostolMishin_2011_AlCu__SM_667696763561_000 was saved and received the ID: 563\n",
      "The job strain_0_9 was saved and received the ID: 564\n"
     ]
    },
    {
     "name": "stderr",
     "output_type": "stream",
     "text": [
      "2020-04-13 05:38:41,734 - pyiron_log - WARNING - Job aborted\n",
      "2020-04-13 05:38:41,737 - pyiron_log - WARNING - LAMMPS (3 Mar 2020)\n",
      "Reading data file ...\n",
      "  orthogonal box = (0 0 0) to (3.91023 3.91023 3.91023)\n",
      "  1 by 1 by 1 MPI processor grid\n",
      "  reading atoms ...\n",
      "  4 atoms\n",
      "  read_data CPU = 0.00104094 secs\n",
      "ERROR: KIM ModelCreate failed (src/KIM/pair_kim.cpp:859)\n",
      "Last command: pair_style kim Sim_LAMMPS_ADP_ApostolMishin_2011_AlCu__SM_667696763561_000\n",
      "\n"
     ]
    },
    {
     "name": "stdout",
     "output_type": "stream",
     "text": [
      "murn_Al_pot_Sim_LAMMPS_AGNI_BotuBatraChapman_2017_Al__SM_666183636896_000\n",
      "The job murn_Al_pot_Sim_LAMMPS_AGNI_BotuBatraChapman_2017_Al__SM_666183636896_000 was saved and received the ID: 565\n",
      "The job strain_0_9 was saved and received the ID: 566\n"
     ]
    },
    {
     "name": "stderr",
     "output_type": "stream",
     "text": [
      "2020-04-13 05:38:44,263 - pyiron_log - WARNING - Job aborted\n",
      "2020-04-13 05:38:44,266 - pyiron_log - WARNING - LAMMPS (3 Mar 2020)\n",
      "Reading data file ...\n",
      "  orthogonal box = (0 0 0) to (3.91023 3.91023 3.91023)\n",
      "  1 by 1 by 1 MPI processor grid\n",
      "  reading atoms ...\n",
      "  4 atoms\n",
      "  read_data CPU = 0.0013721 secs\n",
      "ERROR: KIM ModelCreate failed (src/KIM/pair_kim.cpp:859)\n",
      "Last command: pair_style kim Sim_LAMMPS_AGNI_BotuBatraChapman_2017_Al__SM_666183636896_000\n",
      "\n"
     ]
    },
    {
     "name": "stdout",
     "output_type": "stream",
     "text": [
      "murn_Al_pot_Sim_LAMMPS_BOP_ZhouWardFoster_2016_AlCu__SM_566399258279_000\n",
      "The job murn_Al_pot_Sim_LAMMPS_BOP_ZhouWardFoster_2016_AlCu__SM_566399258279_000 was saved and received the ID: 567\n",
      "The job strain_0_9 was saved and received the ID: 568\n"
     ]
    },
    {
     "name": "stderr",
     "output_type": "stream",
     "text": [
      "2020-04-13 05:38:46,717 - pyiron_log - WARNING - Job aborted\n",
      "2020-04-13 05:38:46,719 - pyiron_log - WARNING - LAMMPS (3 Mar 2020)\n",
      "Reading data file ...\n",
      "  orthogonal box = (0 0 0) to (3.91023 3.91023 3.91023)\n",
      "  1 by 1 by 1 MPI processor grid\n",
      "  reading atoms ...\n",
      "  4 atoms\n",
      "  read_data CPU = 0.00105715 secs\n",
      "ERROR: KIM ModelCreate failed (src/KIM/pair_kim.cpp:859)\n",
      "Last command: pair_style kim Sim_LAMMPS_BOP_ZhouWardFoster_2016_AlCu__SM_566399258279_000\n",
      "\n"
     ]
    },
    {
     "name": "stdout",
     "output_type": "stream",
     "text": [
      "murn_Al_pot_Sim_LAMMPS_MEAM_AlmyrasSangiovanniSarakinos_2019_NAlTi__SM_871795249052_000\n",
      "The job murn_Al_pot_Sim_LAMMPS_MEAM_AlmyrasSangiovanniSarakinos_2019_NAlTi__SM_871795249052_000 was saved and received the ID: 569\n",
      "The job strain_0_9 was saved and received the ID: 570\n"
     ]
    },
    {
     "name": "stderr",
     "output_type": "stream",
     "text": [
      "2020-04-13 05:38:49,176 - pyiron_log - WARNING - Job aborted\n",
      "2020-04-13 05:38:49,179 - pyiron_log - WARNING - LAMMPS (3 Mar 2020)\n",
      "Reading data file ...\n",
      "  orthogonal box = (0 0 0) to (3.91023 3.91023 3.91023)\n",
      "  1 by 1 by 1 MPI processor grid\n",
      "  reading atoms ...\n",
      "  4 atoms\n",
      "  read_data CPU = 0.00103021 secs\n",
      "ERROR: KIM ModelCreate failed (src/KIM/pair_kim.cpp:859)\n",
      "Last command: pair_style kim Sim_LAMMPS_MEAM_AlmyrasSangiovanniSarakinos_2019_NAlTi__SM_871795249052_000\n",
      "\n"
     ]
    },
    {
     "name": "stdout",
     "output_type": "stream",
     "text": [
      "murn_Al_pot_Sim_LAMMPS_MEAM_JelinekGrohHorstemeyer_2012_AlSiMgCuFe__SM_656517352485_000\n",
      "The job murn_Al_pot_Sim_LAMMPS_MEAM_JelinekGrohHorstemeyer_2012_AlSiMgCuFe__SM_656517352485_000 was saved and received the ID: 571\n",
      "The job strain_0_9 was saved and received the ID: 572\n"
     ]
    },
    {
     "name": "stderr",
     "output_type": "stream",
     "text": [
      "2020-04-13 05:38:51,892 - pyiron_log - WARNING - Job aborted\n",
      "2020-04-13 05:38:51,895 - pyiron_log - WARNING - LAMMPS (3 Mar 2020)\n",
      "Reading data file ...\n",
      "  orthogonal box = (0 0 0) to (3.91023 3.91023 3.91023)\n",
      "  1 by 1 by 1 MPI processor grid\n",
      "  reading atoms ...\n",
      "  4 atoms\n",
      "  read_data CPU = 0.00123 secs\n",
      "ERROR: KIM ModelCreate failed (src/KIM/pair_kim.cpp:859)\n",
      "Last command: pair_style kim Sim_LAMMPS_MEAM_JelinekGrohHorstemeyer_2012_AlSiMgCuFe__SM_656517352485_000\n",
      "\n"
     ]
    },
    {
     "name": "stdout",
     "output_type": "stream",
     "text": [
      "murn_Al_pot_Sim_LAMMPS_MEAM_PascuetFernandez_2015_AlU__SM_721930391003_000\n",
      "The job murn_Al_pot_Sim_LAMMPS_MEAM_PascuetFernandez_2015_AlU__SM_721930391003_000 was saved and received the ID: 573\n",
      "The job strain_0_9 was saved and received the ID: 574\n"
     ]
    },
    {
     "name": "stderr",
     "output_type": "stream",
     "text": [
      "2020-04-13 05:38:54,267 - pyiron_log - WARNING - Job aborted\n",
      "2020-04-13 05:38:54,269 - pyiron_log - WARNING - LAMMPS (3 Mar 2020)\n",
      "Reading data file ...\n",
      "  orthogonal box = (0 0 0) to (3.91023 3.91023 3.91023)\n",
      "  1 by 1 by 1 MPI processor grid\n",
      "  reading atoms ...\n",
      "  4 atoms\n",
      "  read_data CPU = 0.00095582 secs\n",
      "ERROR: KIM ModelCreate failed (src/KIM/pair_kim.cpp:859)\n",
      "Last command: pair_style kim Sim_LAMMPS_MEAM_PascuetFernandez_2015_AlU__SM_721930391003_000\n",
      "\n"
     ]
    },
    {
     "name": "stdout",
     "output_type": "stream",
     "text": [
      "murn_Al_pot_Sim_LAMMPS_MEAM_PascuetFernandez_2015_Al__SM_811588957187_000\n",
      "The job murn_Al_pot_Sim_LAMMPS_MEAM_PascuetFernandez_2015_Al__SM_811588957187_000 was saved and received the ID: 575\n",
      "The job strain_0_9 was saved and received the ID: 576\n"
     ]
    },
    {
     "name": "stderr",
     "output_type": "stream",
     "text": [
      "2020-04-13 05:38:56,703 - pyiron_log - WARNING - Job aborted\n",
      "2020-04-13 05:38:56,705 - pyiron_log - WARNING - LAMMPS (3 Mar 2020)\n",
      "Reading data file ...\n",
      "  orthogonal box = (0 0 0) to (3.91023 3.91023 3.91023)\n",
      "  1 by 1 by 1 MPI processor grid\n",
      "  reading atoms ...\n",
      "  4 atoms\n",
      "  read_data CPU = 0.000986099 secs\n",
      "ERROR: KIM ModelCreate failed (src/KIM/pair_kim.cpp:859)\n",
      "Last command: pair_style kim Sim_LAMMPS_MEAM_PascuetFernandez_2015_Al__SM_811588957187_000\n",
      "\n"
     ]
    },
    {
     "name": "stdout",
     "output_type": "stream",
     "text": [
      "murn_Al_pot_Sim_LAMMPS_SMTBQ_SallesPolitanoAmzallag_2016_AlO__SM_853967355976_000\n",
      "The job murn_Al_pot_Sim_LAMMPS_SMTBQ_SallesPolitanoAmzallag_2016_AlO__SM_853967355976_000 was saved and received the ID: 577\n",
      "The job strain_0_9 was saved and received the ID: 578\n"
     ]
    },
    {
     "name": "stderr",
     "output_type": "stream",
     "text": [
      "2020-04-13 05:38:59,320 - pyiron_log - WARNING - Job aborted\n",
      "2020-04-13 05:38:59,323 - pyiron_log - WARNING - LAMMPS (3 Mar 2020)\n",
      "Reading data file ...\n",
      "  orthogonal box = (0 0 0) to (3.91023 3.91023 3.91023)\n",
      "  1 by 1 by 1 MPI processor grid\n",
      "  reading atoms ...\n",
      "  4 atoms\n",
      "  read_data CPU = 0.00147104 secs\n",
      "ERROR: KIM ModelCreate failed (src/KIM/pair_kim.cpp:859)\n",
      "Last command: pair_style kim Sim_LAMMPS_SMTBQ_SallesPolitanoAmzallag_2016_AlO__SM_853967355976_000\n",
      "\n"
     ]
    },
    {
     "name": "stdout",
     "output_type": "stream",
     "text": [
      "murn_Al_pot_Sim_LAMMPS_SMTBQ_SallesPolitanoAmzallag_2016_Al__SM_404097633924_000\n",
      "The job murn_Al_pot_Sim_LAMMPS_SMTBQ_SallesPolitanoAmzallag_2016_Al__SM_404097633924_000 was saved and received the ID: 579\n",
      "The job strain_0_9 was saved and received the ID: 580\n"
     ]
    },
    {
     "name": "stderr",
     "output_type": "stream",
     "text": [
      "2020-04-13 05:39:01,943 - pyiron_log - WARNING - Job aborted\n",
      "2020-04-13 05:39:01,946 - pyiron_log - WARNING - LAMMPS (3 Mar 2020)\n",
      "Reading data file ...\n",
      "  orthogonal box = (0 0 0) to (3.91023 3.91023 3.91023)\n",
      "  1 by 1 by 1 MPI processor grid\n",
      "  reading atoms ...\n",
      "  4 atoms\n",
      "  read_data CPU = 0.000968933 secs\n",
      "ERROR: KIM ModelCreate failed (src/KIM/pair_kim.cpp:859)\n",
      "Last command: pair_style kim Sim_LAMMPS_SMTBQ_SallesPolitanoAmzallag_2016_Al__SM_404097633924_000\n",
      "\n"
     ]
    }
   ],
   "source": [
    "for pot in potentials_list:\n",
    "    job_name = \"murn_Al_pot_{}\".format(pot).replace(\"-\", \"_\")\n",
    "    print(job_name)\n",
    "    murn = pr.create_job(pr.job_type.Murnaghan, job_name)\n",
    "    job_ref = pr.create_job(pr.job_type.Lammps, \"Al_ref\")\n",
    "    job_ref.structure = pr.create_ase_bulk(\"Al\", cubic=True)\n",
    "    job_ref.potential = pot\n",
    "    job_ref.calc_static()\n",
    "    murn.ref_job = job_ref\n",
    "    try:\n",
    "        murn.run()\n",
    "    except RuntimeError:\n",
    "        pass"
   ]
  },
  {
   "cell_type": "code",
   "execution_count": 337,
   "metadata": {},
   "outputs": [
    {
     "data": {
      "text/html": [
       "<div>\n",
       "<style scoped>\n",
       "    .dataframe tbody tr th:only-of-type {\n",
       "        vertical-align: middle;\n",
       "    }\n",
       "\n",
       "    .dataframe tbody tr th {\n",
       "        vertical-align: top;\n",
       "    }\n",
       "\n",
       "    .dataframe thead th {\n",
       "        text-align: right;\n",
       "    }\n",
       "</style>\n",
       "<table border=\"1\" class=\"dataframe\">\n",
       "  <thead>\n",
       "    <tr style=\"text-align: right;\">\n",
       "      <th></th>\n",
       "      <th>id</th>\n",
       "      <th>status</th>\n",
       "      <th>chemicalformula</th>\n",
       "      <th>job</th>\n",
       "      <th>subjob</th>\n",
       "      <th>projectpath</th>\n",
       "      <th>project</th>\n",
       "      <th>timestart</th>\n",
       "      <th>timestop</th>\n",
       "      <th>totalcputime</th>\n",
       "      <th>computer</th>\n",
       "      <th>hamilton</th>\n",
       "      <th>hamversion</th>\n",
       "      <th>parentid</th>\n",
       "      <th>masterid</th>\n",
       "    </tr>\n",
       "  </thead>\n",
       "  <tbody>\n",
       "    <tr>\n",
       "      <th>0</th>\n",
       "      <td>21</td>\n",
       "      <td>finished</td>\n",
       "      <td>Al4</td>\n",
       "      <td>murn_Al</td>\n",
       "      <td>/murn_Al</td>\n",
       "      <td>/home/surendralal/</td>\n",
       "      <td>notebooks/pyiron-virtual-workshop-2020/tutorials/day_1/Al_murnaghan_automated/</td>\n",
       "      <td>2020-04-13 01:59:44.878954</td>\n",
       "      <td>2020-04-13 02:00:07.266405</td>\n",
       "      <td>22.0</td>\n",
       "      <td>pyiron@cmdell17#1#11/11</td>\n",
       "      <td>Murnaghan</td>\n",
       "      <td>0.3.0</td>\n",
       "      <td>None</td>\n",
       "      <td>NaN</td>\n",
       "    </tr>\n",
       "    <tr>\n",
       "      <th>1</th>\n",
       "      <td>22</td>\n",
       "      <td>finished</td>\n",
       "      <td>Al4</td>\n",
       "      <td>strain_0_9</td>\n",
       "      <td>/strain_0_9</td>\n",
       "      <td>/home/surendralal/</td>\n",
       "      <td>notebooks/pyiron-virtual-workshop-2020/tutorials/day_1/Al_murnaghan_automated/murn_Al_hdf5/</td>\n",
       "      <td>2020-04-13 01:59:45.851620</td>\n",
       "      <td>2020-04-13 01:59:46.666680</td>\n",
       "      <td>0.0</td>\n",
       "      <td>pyiron@cmdell17#1</td>\n",
       "      <td>Lammps</td>\n",
       "      <td>0.1</td>\n",
       "      <td>None</td>\n",
       "      <td>21.0</td>\n",
       "    </tr>\n",
       "    <tr>\n",
       "      <th>2</th>\n",
       "      <td>23</td>\n",
       "      <td>finished</td>\n",
       "      <td>Al4</td>\n",
       "      <td>strain_0_92</td>\n",
       "      <td>/strain_0_92</td>\n",
       "      <td>/home/surendralal/</td>\n",
       "      <td>notebooks/pyiron-virtual-workshop-2020/tutorials/day_1/Al_murnaghan_automated/murn_Al_hdf5/</td>\n",
       "      <td>2020-04-13 01:59:47.720510</td>\n",
       "      <td>2020-04-13 01:59:48.546402</td>\n",
       "      <td>0.0</td>\n",
       "      <td>pyiron@cmdell17#1</td>\n",
       "      <td>Lammps</td>\n",
       "      <td>0.1</td>\n",
       "      <td>None</td>\n",
       "      <td>21.0</td>\n",
       "    </tr>\n",
       "    <tr>\n",
       "      <th>3</th>\n",
       "      <td>24</td>\n",
       "      <td>finished</td>\n",
       "      <td>Al4</td>\n",
       "      <td>strain_0_94</td>\n",
       "      <td>/strain_0_94</td>\n",
       "      <td>/home/surendralal/</td>\n",
       "      <td>notebooks/pyiron-virtual-workshop-2020/tutorials/day_1/Al_murnaghan_automated/murn_Al_hdf5/</td>\n",
       "      <td>2020-04-13 01:59:49.846678</td>\n",
       "      <td>2020-04-13 01:59:50.568412</td>\n",
       "      <td>0.0</td>\n",
       "      <td>pyiron@cmdell17#1</td>\n",
       "      <td>Lammps</td>\n",
       "      <td>0.1</td>\n",
       "      <td>None</td>\n",
       "      <td>21.0</td>\n",
       "    </tr>\n",
       "    <tr>\n",
       "      <th>4</th>\n",
       "      <td>25</td>\n",
       "      <td>finished</td>\n",
       "      <td>Al4</td>\n",
       "      <td>strain_0_96</td>\n",
       "      <td>/strain_0_96</td>\n",
       "      <td>/home/surendralal/</td>\n",
       "      <td>notebooks/pyiron-virtual-workshop-2020/tutorials/day_1/Al_murnaghan_automated/murn_Al_hdf5/</td>\n",
       "      <td>2020-04-13 01:59:51.721041</td>\n",
       "      <td>2020-04-13 01:59:52.452714</td>\n",
       "      <td>0.0</td>\n",
       "      <td>pyiron@cmdell17#1</td>\n",
       "      <td>Lammps</td>\n",
       "      <td>0.1</td>\n",
       "      <td>None</td>\n",
       "      <td>21.0</td>\n",
       "    </tr>\n",
       "    <tr>\n",
       "      <th>...</th>\n",
       "      <td>...</td>\n",
       "      <td>...</td>\n",
       "      <td>...</td>\n",
       "      <td>...</td>\n",
       "      <td>...</td>\n",
       "      <td>...</td>\n",
       "      <td>...</td>\n",
       "      <td>...</td>\n",
       "      <td>...</td>\n",
       "      <td>...</td>\n",
       "      <td>...</td>\n",
       "      <td>...</td>\n",
       "      <td>...</td>\n",
       "      <td>...</td>\n",
       "      <td>...</td>\n",
       "    </tr>\n",
       "    <tr>\n",
       "      <th>619</th>\n",
       "      <td>640</td>\n",
       "      <td>finished</td>\n",
       "      <td>Al63</td>\n",
       "      <td>dj_2004__Mishin_Y__Ni_Al__LAMMPS__ipr1_s_4</td>\n",
       "      <td>/dj_2004__Mishin_Y__Ni_Al__LAMMPS__ipr1_s_4</td>\n",
       "      <td>/home/surendralal/</td>\n",
       "      <td>notebooks/pyiron-virtual-workshop-2020/tutorials/day_1/Al_murnaghan_automated/</td>\n",
       "      <td>2020-04-13 06:08:58.571781</td>\n",
       "      <td>2020-04-13 06:08:59.305709</td>\n",
       "      <td>0.0</td>\n",
       "      <td>pyiron@cmdell17#1</td>\n",
       "      <td>Lammps</td>\n",
       "      <td>0.1</td>\n",
       "      <td>None</td>\n",
       "      <td>NaN</td>\n",
       "    </tr>\n",
       "    <tr>\n",
       "      <th>620</th>\n",
       "      <td>641</td>\n",
       "      <td>finished</td>\n",
       "      <td>Al64</td>\n",
       "      <td>rj_2004__Liu_X_Y__Al__LAMMPS__ipr1_s_4</td>\n",
       "      <td>/rj_2004__Liu_X_Y__Al__LAMMPS__ipr1_s_4</td>\n",
       "      <td>/home/surendralal/</td>\n",
       "      <td>notebooks/pyiron-virtual-workshop-2020/tutorials/day_1/Al_murnaghan_automated/</td>\n",
       "      <td>2020-04-13 06:09:00.609180</td>\n",
       "      <td>2020-04-13 06:09:01.404037</td>\n",
       "      <td>0.0</td>\n",
       "      <td>pyiron@cmdell17#1</td>\n",
       "      <td>Lammps</td>\n",
       "      <td>0.1</td>\n",
       "      <td>None</td>\n",
       "      <td>NaN</td>\n",
       "    </tr>\n",
       "    <tr>\n",
       "      <th>621</th>\n",
       "      <td>642</td>\n",
       "      <td>finished</td>\n",
       "      <td>Al63</td>\n",
       "      <td>dj_2004__Liu_X_Y__Al__LAMMPS__ipr1_s_4</td>\n",
       "      <td>/dj_2004__Liu_X_Y__Al__LAMMPS__ipr1_s_4</td>\n",
       "      <td>/home/surendralal/</td>\n",
       "      <td>notebooks/pyiron-virtual-workshop-2020/tutorials/day_1/Al_murnaghan_automated/</td>\n",
       "      <td>2020-04-13 06:09:01.854388</td>\n",
       "      <td>2020-04-13 06:09:02.884742</td>\n",
       "      <td>1.0</td>\n",
       "      <td>pyiron@cmdell17#1</td>\n",
       "      <td>Lammps</td>\n",
       "      <td>0.1</td>\n",
       "      <td>None</td>\n",
       "      <td>NaN</td>\n",
       "    </tr>\n",
       "    <tr>\n",
       "      <th>622</th>\n",
       "      <td>643</td>\n",
       "      <td>finished</td>\n",
       "      <td>Al64</td>\n",
       "      <td>rj_2011__Apostol_F__Al_Cu__LAMMPS__ipr1_s_4</td>\n",
       "      <td>/rj_2011__Apostol_F__Al_Cu__LAMMPS__ipr1_s_4</td>\n",
       "      <td>/home/surendralal/</td>\n",
       "      <td>notebooks/pyiron-virtual-workshop-2020/tutorials/day_1/Al_murnaghan_automated/</td>\n",
       "      <td>2020-04-13 06:09:03.719885</td>\n",
       "      <td>2020-04-13 06:09:04.759782</td>\n",
       "      <td>1.0</td>\n",
       "      <td>pyiron@cmdell17#1</td>\n",
       "      <td>Lammps</td>\n",
       "      <td>0.1</td>\n",
       "      <td>None</td>\n",
       "      <td>NaN</td>\n",
       "    </tr>\n",
       "    <tr>\n",
       "      <th>623</th>\n",
       "      <td>644</td>\n",
       "      <td>finished</td>\n",
       "      <td>Al63</td>\n",
       "      <td>dj_2011__Apostol_F__Al_Cu__LAMMPS__ipr1_s_4</td>\n",
       "      <td>/dj_2011__Apostol_F__Al_Cu__LAMMPS__ipr1_s_4</td>\n",
       "      <td>/home/surendralal/</td>\n",
       "      <td>notebooks/pyiron-virtual-workshop-2020/tutorials/day_1/Al_murnaghan_automated/</td>\n",
       "      <td>2020-04-13 06:09:06.101483</td>\n",
       "      <td>2020-04-13 06:09:07.101179</td>\n",
       "      <td>0.0</td>\n",
       "      <td>pyiron@cmdell17#1</td>\n",
       "      <td>Lammps</td>\n",
       "      <td>0.1</td>\n",
       "      <td>None</td>\n",
       "      <td>NaN</td>\n",
       "    </tr>\n",
       "  </tbody>\n",
       "</table>\n",
       "<p>624 rows × 15 columns</p>\n",
       "</div>"
      ],
      "text/plain": [
       "      id    status chemicalformula  \\\n",
       "0     21  finished             Al4   \n",
       "1     22  finished             Al4   \n",
       "2     23  finished             Al4   \n",
       "3     24  finished             Al4   \n",
       "4     25  finished             Al4   \n",
       "..   ...       ...             ...   \n",
       "619  640  finished            Al63   \n",
       "620  641  finished            Al64   \n",
       "621  642  finished            Al63   \n",
       "622  643  finished            Al64   \n",
       "623  644  finished            Al63   \n",
       "\n",
       "                                             job  \\\n",
       "0                                        murn_Al   \n",
       "1                                     strain_0_9   \n",
       "2                                    strain_0_92   \n",
       "3                                    strain_0_94   \n",
       "4                                    strain_0_96   \n",
       "..                                           ...   \n",
       "619   dj_2004__Mishin_Y__Ni_Al__LAMMPS__ipr1_s_4   \n",
       "620       rj_2004__Liu_X_Y__Al__LAMMPS__ipr1_s_4   \n",
       "621       dj_2004__Liu_X_Y__Al__LAMMPS__ipr1_s_4   \n",
       "622  rj_2011__Apostol_F__Al_Cu__LAMMPS__ipr1_s_4   \n",
       "623  dj_2011__Apostol_F__Al_Cu__LAMMPS__ipr1_s_4   \n",
       "\n",
       "                                           subjob         projectpath  \\\n",
       "0                                        /murn_Al  /home/surendralal/   \n",
       "1                                     /strain_0_9  /home/surendralal/   \n",
       "2                                    /strain_0_92  /home/surendralal/   \n",
       "3                                    /strain_0_94  /home/surendralal/   \n",
       "4                                    /strain_0_96  /home/surendralal/   \n",
       "..                                            ...                 ...   \n",
       "619   /dj_2004__Mishin_Y__Ni_Al__LAMMPS__ipr1_s_4  /home/surendralal/   \n",
       "620       /rj_2004__Liu_X_Y__Al__LAMMPS__ipr1_s_4  /home/surendralal/   \n",
       "621       /dj_2004__Liu_X_Y__Al__LAMMPS__ipr1_s_4  /home/surendralal/   \n",
       "622  /rj_2011__Apostol_F__Al_Cu__LAMMPS__ipr1_s_4  /home/surendralal/   \n",
       "623  /dj_2011__Apostol_F__Al_Cu__LAMMPS__ipr1_s_4  /home/surendralal/   \n",
       "\n",
       "                                                                                         project  \\\n",
       "0                 notebooks/pyiron-virtual-workshop-2020/tutorials/day_1/Al_murnaghan_automated/   \n",
       "1    notebooks/pyiron-virtual-workshop-2020/tutorials/day_1/Al_murnaghan_automated/murn_Al_hdf5/   \n",
       "2    notebooks/pyiron-virtual-workshop-2020/tutorials/day_1/Al_murnaghan_automated/murn_Al_hdf5/   \n",
       "3    notebooks/pyiron-virtual-workshop-2020/tutorials/day_1/Al_murnaghan_automated/murn_Al_hdf5/   \n",
       "4    notebooks/pyiron-virtual-workshop-2020/tutorials/day_1/Al_murnaghan_automated/murn_Al_hdf5/   \n",
       "..                                                                                           ...   \n",
       "619               notebooks/pyiron-virtual-workshop-2020/tutorials/day_1/Al_murnaghan_automated/   \n",
       "620               notebooks/pyiron-virtual-workshop-2020/tutorials/day_1/Al_murnaghan_automated/   \n",
       "621               notebooks/pyiron-virtual-workshop-2020/tutorials/day_1/Al_murnaghan_automated/   \n",
       "622               notebooks/pyiron-virtual-workshop-2020/tutorials/day_1/Al_murnaghan_automated/   \n",
       "623               notebooks/pyiron-virtual-workshop-2020/tutorials/day_1/Al_murnaghan_automated/   \n",
       "\n",
       "                     timestart                   timestop  totalcputime  \\\n",
       "0   2020-04-13 01:59:44.878954 2020-04-13 02:00:07.266405          22.0   \n",
       "1   2020-04-13 01:59:45.851620 2020-04-13 01:59:46.666680           0.0   \n",
       "2   2020-04-13 01:59:47.720510 2020-04-13 01:59:48.546402           0.0   \n",
       "3   2020-04-13 01:59:49.846678 2020-04-13 01:59:50.568412           0.0   \n",
       "4   2020-04-13 01:59:51.721041 2020-04-13 01:59:52.452714           0.0   \n",
       "..                         ...                        ...           ...   \n",
       "619 2020-04-13 06:08:58.571781 2020-04-13 06:08:59.305709           0.0   \n",
       "620 2020-04-13 06:09:00.609180 2020-04-13 06:09:01.404037           0.0   \n",
       "621 2020-04-13 06:09:01.854388 2020-04-13 06:09:02.884742           1.0   \n",
       "622 2020-04-13 06:09:03.719885 2020-04-13 06:09:04.759782           1.0   \n",
       "623 2020-04-13 06:09:06.101483 2020-04-13 06:09:07.101179           0.0   \n",
       "\n",
       "                    computer   hamilton hamversion parentid  masterid  \n",
       "0    pyiron@cmdell17#1#11/11  Murnaghan      0.3.0     None       NaN  \n",
       "1          pyiron@cmdell17#1     Lammps        0.1     None      21.0  \n",
       "2          pyiron@cmdell17#1     Lammps        0.1     None      21.0  \n",
       "3          pyiron@cmdell17#1     Lammps        0.1     None      21.0  \n",
       "4          pyiron@cmdell17#1     Lammps        0.1     None      21.0  \n",
       "..                       ...        ...        ...      ...       ...  \n",
       "619        pyiron@cmdell17#1     Lammps        0.1     None       NaN  \n",
       "620        pyiron@cmdell17#1     Lammps        0.1     None       NaN  \n",
       "621        pyiron@cmdell17#1     Lammps        0.1     None       NaN  \n",
       "622        pyiron@cmdell17#1     Lammps        0.1     None       NaN  \n",
       "623        pyiron@cmdell17#1     Lammps        0.1     None       NaN  \n",
       "\n",
       "[624 rows x 15 columns]"
      ]
     },
     "execution_count": 337,
     "metadata": {},
     "output_type": "execute_result"
    }
   ],
   "source": [
    "df = pr.job_table()\n",
    "df"
   ]
  },
  {
   "cell_type": "code",
   "execution_count": 289,
   "metadata": {},
   "outputs": [
    {
     "data": {
      "text/plain": [
       "{'poly_fit': array([-7.71965009e-05,  1.87484614e-02, -1.46903407e+00,  2.31632166e+01]),\n",
       " 'fit_type': 'polynomial',\n",
       " 'fit_order': 3,\n",
       " 'volume_eq': 66.44564495375542,\n",
       " 'energy_eq': -14.319093359094925,\n",
       " 'bulkmodul_eq': 71.5469464601457,\n",
       " 'b_prime_eq': 3.5793221718392125,\n",
       " 'least_square_error': 4.131966139350871e-07}"
      ]
     },
     "execution_count": 289,
     "metadata": {},
     "output_type": "execute_result"
    }
   ],
   "source": [
    "murn.fit_polynomial()"
   ]
  },
  {
   "cell_type": "code",
   "execution_count": 276,
   "metadata": {},
   "outputs": [
    {
     "data": {
      "text/plain": [
       "'2004--Zhou-X-W--Al--LAMMPS--ipr1'"
      ]
     },
     "execution_count": 276,
     "metadata": {},
     "output_type": "execute_result"
    }
   ],
   "source": [
    "murn[\"strain_1_0/input/potential/Name\"]"
   ]
  },
  {
   "cell_type": "code",
   "execution_count": 277,
   "metadata": {},
   "outputs": [
    {
     "data": {
      "text/plain": [
       "True"
      ]
     },
     "execution_count": 277,
     "metadata": {},
     "output_type": "execute_result"
    }
   ],
   "source": [
    "df.status.to_list()[0] == \"finished\""
   ]
  },
  {
   "cell_type": "code",
   "execution_count": 273,
   "metadata": {},
   "outputs": [],
   "source": [
    "df_murn = df[(df.hamilton==\"Murnaghan\") & (df.status==\"finished\")]"
   ]
  },
  {
   "cell_type": "code",
   "execution_count": 317,
   "metadata": {},
   "outputs": [
    {
     "name": "stdout",
     "output_type": "stream",
     "text": [
      "CPU times: user 17.2 s, sys: 2.66 s, total: 19.8 s\n",
      "Wall time: 11 s\n"
     ]
    },
    {
     "data": {
      "image/png": "[encoded data removed]",
      "text/plain": [
       "<Figure size 432x288 with 1 Axes>"
      ]
     },
     "metadata": {
      "needs_background": "light"
     },
     "output_type": "display_data"
    }
   ],
   "source": [
    "%%time\n",
    "for ids in df_murn.id:\n",
    "    murn = job.load(ids)\n",
    "    energy = murn[\"output/energy\"]\n",
    "    vol = murn[\"output/volume\"]\n",
    "    eq_energy = murn[\"output/equilibrium_energy\"]\n",
    "    eq_volume = murn[\"output/equilibrium_volume\"]\n",
    "    pot = murn[\"strain_1_0/input/potential/Name\"]\n",
    "    fit_dict = murn.fit_polynomial()\n",
    "    p = fit_dict['poly_fit']\n",
    "    vol_fit = np.linspace(vol.min(), vol.max(), 1001)\n",
    "    e_fit = np.poly1d(p)(vol_fit)\n",
    "    plt.plot(vol_fit, e_fit, label=\"pot\")\n",
    "    plt.plot(vol, energy, \"x\")\n",
    "    plt.plot(eq_volume, eq_energy, \"rx\")"
   ]
  },
  {
   "cell_type": "code",
   "execution_count": 318,
   "metadata": {},
   "outputs": [
    {
     "data": {
      "text/html": [
       "<div>\n",
       "<style scoped>\n",
       "    .dataframe tbody tr th:only-of-type {\n",
       "        vertical-align: middle;\n",
       "    }\n",
       "\n",
       "    .dataframe tbody tr th {\n",
       "        vertical-align: top;\n",
       "    }\n",
       "\n",
       "    .dataframe thead th {\n",
       "        text-align: right;\n",
       "    }\n",
       "</style>\n",
       "<table border=\"1\" class=\"dataframe\">\n",
       "  <thead>\n",
       "    <tr style=\"text-align: right;\">\n",
       "      <th></th>\n",
       "      <th>Parameter</th>\n",
       "      <th>Value</th>\n",
       "      <th>Comment</th>\n",
       "    </tr>\n",
       "  </thead>\n",
       "  <tbody>\n",
       "    <tr>\n",
       "      <th>0</th>\n",
       "      <td>num_points</td>\n",
       "      <td>11</td>\n",
       "      <td>number of sample points</td>\n",
       "    </tr>\n",
       "    <tr>\n",
       "      <th>1</th>\n",
       "      <td>fit_type</td>\n",
       "      <td>polynomial</td>\n",
       "      <td>['polynomial', 'birch', 'birchmurnaghan', 'murnaghan', 'pouriertarantola', 'vinet']</td>\n",
       "    </tr>\n",
       "    <tr>\n",
       "      <th>2</th>\n",
       "      <td>fit_order</td>\n",
       "      <td>3</td>\n",
       "      <td>order of the fit polynom</td>\n",
       "    </tr>\n",
       "    <tr>\n",
       "      <th>3</th>\n",
       "      <td>vol_range</td>\n",
       "      <td>0.1</td>\n",
       "      <td>relative volume variation around volume defined by ref_ham</td>\n",
       "    </tr>\n",
       "  </tbody>\n",
       "</table>\n",
       "</div>"
      ],
      "text/plain": [
       "    Parameter       Value  \\\n",
       "0  num_points          11   \n",
       "1    fit_type  polynomial   \n",
       "2   fit_order           3   \n",
       "3   vol_range         0.1   \n",
       "\n",
       "                                                                               Comment  \n",
       "0                                                              number of sample points  \n",
       "1  ['polynomial', 'birch', 'birchmurnaghan', 'murnaghan', 'pouriertarantola', 'vinet']  \n",
       "2                                                             order of the fit polynom  \n",
       "3                           relative volume variation around volume defined by ref_ham  "
      ]
     },
     "execution_count": 318,
     "metadata": {},
     "output_type": "execute_result"
    }
   ],
   "source": [
    "pd.DataFrame(murn[\"input/parameters/data_dict\"])"
   ]
  },
  {
   "cell_type": "code",
   "execution_count": 322,
   "metadata": {},
   "outputs": [
    {
     "data": {
      "text/plain": [
       "{'groups': ['structure'], 'nodes': ['energy', 'equilibrium_b_prime', 'equilibrium_bulk_modulus', 'equilibrium_energy', 'equilibrium_volume', 'error', 'id', 'volume']}"
      ]
     },
     "execution_count": 322,
     "metadata": {},
     "output_type": "execute_result"
    }
   ],
   "source": [
    "murn[\"output\"]"
   ]
  },
  {
   "cell_type": "code",
   "execution_count": 328,
   "metadata": {},
   "outputs": [
    {
     "data": {
      "text/plain": [
       "3"
      ]
     },
     "execution_count": 328,
     "metadata": {},
     "output_type": "execute_result"
    }
   ],
   "source": [
    "np.argwhere([\"strain\" in val for val in murn.list_groups()]).flatten()[0]"
   ]
  },
  {
   "cell_type": "code",
   "execution_count": 332,
   "metadata": {},
   "outputs": [
    {
     "data": {
      "text/plain": [
       "array([132, 133, 134, 135, 136, 137, 138, 139, 140, 141, 142])"
      ]
     },
     "execution_count": 332,
     "metadata": {},
     "output_type": "execute_result"
    }
   ],
   "source": [
    "murn[\"output/id\"]"
   ]
  },
  {
   "cell_type": "code",
   "execution_count": 334,
   "metadata": {},
   "outputs": [
    {
     "data": {
      "text/plain": [
       "'/home/surendralal/notebooks/pyiron-virtual-workshop-2020/tutorials/day_1/Al_murnaghan_automated/'"
      ]
     },
     "execution_count": 334,
     "metadata": {},
     "output_type": "execute_result"
    }
   ],
   "source": [
    "murn.project.path"
   ]
  },
  {
   "cell_type": "code",
   "execution_count": null,
   "metadata": {},
   "outputs": [],
   "source": []
  }
 ],
 "metadata": {
  "kernelspec": {
   "display_name": "Python 3",
   "language": "python",
   "name": "python3"
  },
  "language_info": {
   "codemirror_mode": {
    "name": "ipython",
    "version": 3
   },
   "file_extension": ".py",
   "mimetype": "text/x-python",
   "name": "python",
   "nbconvert_exporter": "python",
   "pygments_lexer": "ipython3",
   "version": "3.7.7"
  },
  "toc": {
   "base_numbering": 1,
   "nav_menu": {},
   "number_sections": true,
   "sideBar": true,
   "skip_h1_title": false,
   "title_cell": "Table of Contents",
   "title_sidebar": "Contents",
   "toc_cell": false,
   "toc_position": {},
   "toc_section_display": true,
   "toc_window_display": false
  },
  "toc-autonumbering": true,
  "toc-showcode": false,
  "toc-showmarkdowntxt": true,
  "toc-showtags": false
 },
 "nbformat": 4,
 "nbformat_minor": 4
}
