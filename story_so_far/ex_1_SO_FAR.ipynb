{
 "cells": [
  {
   "cell_type": "markdown",
   "metadata": {},
   "source": [
    "# Exercise 1: Introduction to pyiron"
   ]
  },
  {
   "cell_type": "markdown",
   "metadata": {},
   "source": [
    "## Imports and and working with projects"
   ]
  },
  {
   "cell_type": "code",
   "execution_count": 127,
   "metadata": {
    "ExecuteTime": {
     "end_time": "2020-02-21T12:39:35.662902Z",
     "start_time": "2020-02-21T12:39:35.422425Z"
    }
   },
   "outputs": [],
   "source": [
    "import numpy as np\n",
    "import matplotlib.pylab as plt\n",
    "import pandas as pd\n",
    "%matplotlib inline"
   ]
  },
  {
   "cell_type": "code",
   "execution_count": 2,
   "metadata": {
    "ExecuteTime": {
     "end_time": "2020-02-21T12:39:46.781567Z",
     "start_time": "2020-02-21T12:39:44.865270Z"
    }
   },
   "outputs": [],
   "source": [
    "from pyiron import Project"
   ]
  },
  {
   "cell_type": "code",
   "execution_count": 6,
   "metadata": {
    "ExecuteTime": {
     "end_time": "2020-02-21T13:05:38.491431Z",
     "start_time": "2020-02-21T13:05:37.339476Z"
    }
   },
   "outputs": [],
   "source": [
    "pr = Project(\"demo\")\n",
    "# To delete all jobs and start from scratch, uncomment the next line\n",
    "#pr.remove_jobs(recursive=True)\n"
   ]
  },
  {
   "cell_type": "markdown",
   "metadata": {},
   "source": [
    "## Creating and manipulating structures"
   ]
  },
  {
   "cell_type": "code",
   "execution_count": 21,
   "metadata": {},
   "outputs": [
    {
     "data": {
      "application/vnd.jupyter.widget-view+json": {
       "model_id": "d2b6b6d29c00487d845cd6bde8fe5509",
       "version_major": 2,
       "version_minor": 0
      },
      "text/plain": [
       "NGLWidget()"
      ]
     },
     "metadata": {},
     "output_type": "display_data"
    }
   ],
   "source": [
    "Al_struct = pr.create_ase_bulk(\"Al\", cubic=True).repeat([2, 2, 4])\n",
    "Al_struct.plot3d()"
   ]
  },
  {
   "cell_type": "code",
   "execution_count": 22,
   "metadata": {},
   "outputs": [
    {
     "data": {
      "text/plain": [
       "{'InternationalTableSymbol': 'Fm-3m', 'Number': 225}"
      ]
     },
     "execution_count": 22,
     "metadata": {},
     "output_type": "execute_result"
    }
   ],
   "source": [
    "Al_struct.get_spacegroup()"
   ]
  },
  {
   "cell_type": "code",
   "execution_count": 24,
   "metadata": {},
   "outputs": [
    {
     "data": {
      "application/vnd.jupyter.widget-view+json": {
       "model_id": "f2dee19a18264f83a1a6e2a0f7ac3401",
       "version_major": 2,
       "version_minor": 0
      },
      "text/plain": [
       "NGLWidget()"
      ]
     },
     "metadata": {},
     "output_type": "display_data"
    }
   ],
   "source": [
    "Al_struct[36] = \"Cu\"\n",
    "Al_struct.plot3d(particle_size=3)"
   ]
  },
  {
   "cell_type": "code",
   "execution_count": 25,
   "metadata": {},
   "outputs": [
    {
     "data": {
      "application/vnd.jupyter.widget-view+json": {
       "model_id": "a1eb2712496b4bb3a64c4cb4164eb136",
       "version_major": 2,
       "version_minor": 0
      },
      "text/plain": [
       "NGLWidget()"
      ]
     },
     "metadata": {},
     "output_type": "display_data"
    }
   ],
   "source": [
    "del Al_struct[17]\n",
    "Al_struct.plot3d(particle_size=3)"
   ]
  },
  {
   "cell_type": "markdown",
   "metadata": {},
   "source": [
    "## Perform a MD simulation of the AlH supercell using LAMMPS"
   ]
  },
  {
   "cell_type": "code",
   "execution_count": 30,
   "metadata": {},
   "outputs": [],
   "source": [
    "Al_struct = pr.create_ase_bulk(\"Al\", cubic=True)\n",
    "H_struct = Al_struct.copy()\n",
    "H_struct[:] = \"H\"\n",
    "H_struct.scaled_positions += 0.5"
   ]
  },
  {
   "cell_type": "code",
   "execution_count": 31,
   "metadata": {},
   "outputs": [],
   "source": [
    "Al_struct.set_repeat([2, 2, 4])\n",
    "H_struct.set_repeat([2, 2, 4])"
   ]
  },
  {
   "cell_type": "code",
   "execution_count": 39,
   "metadata": {},
   "outputs": [],
   "source": [
    "rand_int = np.arange(len(H_struct))\n",
    "np.random.shuffle(rand_int)\n",
    "H_int = H_struct[rand_int[:10]]"
   ]
  },
  {
   "cell_type": "code",
   "execution_count": 44,
   "metadata": {},
   "outputs": [
    {
     "data": {
      "application/vnd.jupyter.widget-view+json": {
       "model_id": "e5b4594183a143ebb55664581a19ad25",
       "version_major": 2,
       "version_minor": 0
      },
      "text/plain": [
       "NGLWidget()"
      ]
     },
     "metadata": {},
     "output_type": "display_data"
    }
   ],
   "source": [
    "AlH_struct = Al_struct + H_int\n",
    "AlH_struct.plot3d(particle_size=3)"
   ]
  },
  {
   "cell_type": "code",
   "execution_count": 55,
   "metadata": {},
   "outputs": [
    {
     "name": "stdout",
     "output_type": "stream",
     "text": [
      "['Al_H_Ni_Angelo_eam', '1995--Angelo-J-E--Ni-Al-H--LAMMPS--ipr1', '2018--Zhou-X-W--Al-Cu-H--LAMMPS--ipr1', 'EAM_Dynamo_AngeloMoodyBaskes_1995_NiAlH__MO_418978237058_005']\n"
     ]
    }
   ],
   "source": [
    "job_lammps = pr.create_job(job_type=pr.job_type.Lammps, job_name=\"AlH_lammps\")\n",
    "job_lammps.structure = AlH_struct\n",
    "print(job_lammps.list_potentials())\n",
    "job_lammps.potential = 'Al_H_Ni_Angelo_eam'\n"
   ]
  },
  {
   "cell_type": "code",
   "execution_count": 59,
   "metadata": {},
   "outputs": [
    {
     "name": "stdout",
     "output_type": "stream",
     "text": [
      "The job AlH_lammps was saved and received the ID: 840\n"
     ]
    }
   ],
   "source": [
    "job_lammps.calc_md(temperature=600, n_ionic_steps=10000)\n",
    "job_lammps.run()"
   ]
  },
  {
   "cell_type": "code",
   "execution_count": 63,
   "metadata": {},
   "outputs": [
    {
     "data": {
      "text/html": [
       "<div>\n",
       "<style scoped>\n",
       "    .dataframe tbody tr th:only-of-type {\n",
       "        vertical-align: middle;\n",
       "    }\n",
       "\n",
       "    .dataframe tbody tr th {\n",
       "        vertical-align: top;\n",
       "    }\n",
       "\n",
       "    .dataframe thead th {\n",
       "        text-align: right;\n",
       "    }\n",
       "</style>\n",
       "<table border=\"1\" class=\"dataframe\">\n",
       "  <thead>\n",
       "    <tr style=\"text-align: right;\">\n",
       "      <th></th>\n",
       "      <th>id</th>\n",
       "      <th>status</th>\n",
       "      <th>chemicalformula</th>\n",
       "      <th>job</th>\n",
       "      <th>subjob</th>\n",
       "      <th>projectpath</th>\n",
       "      <th>project</th>\n",
       "      <th>timestart</th>\n",
       "      <th>timestop</th>\n",
       "      <th>totalcputime</th>\n",
       "      <th>computer</th>\n",
       "      <th>hamilton</th>\n",
       "      <th>hamversion</th>\n",
       "      <th>parentid</th>\n",
       "      <th>masterid</th>\n",
       "    </tr>\n",
       "  </thead>\n",
       "  <tbody>\n",
       "    <tr>\n",
       "      <th>0</th>\n",
       "      <td>840</td>\n",
       "      <td>finished</td>\n",
       "      <td>Al64H10</td>\n",
       "      <td>AlH_lammps</td>\n",
       "      <td>/AlH_lammps</td>\n",
       "      <td>/home/surendralal/</td>\n",
       "      <td>pyiron_workshop_2020/demo/</td>\n",
       "      <td>2020-04-15 14:52:12.423406</td>\n",
       "      <td>2020-04-15 14:52:16.020394</td>\n",
       "      <td>3.0</td>\n",
       "      <td>pyiron@cmdell17#1</td>\n",
       "      <td>Lammps</td>\n",
       "      <td>0.1</td>\n",
       "      <td>None</td>\n",
       "      <td>None</td>\n",
       "    </tr>\n",
       "  </tbody>\n",
       "</table>\n",
       "</div>"
      ],
      "text/plain": [
       "    id    status chemicalformula         job       subjob         projectpath  \\\n",
       "0  840  finished         Al64H10  AlH_lammps  /AlH_lammps  /home/surendralal/   \n",
       "\n",
       "                      project                  timestart  \\\n",
       "0  pyiron_workshop_2020/demo/ 2020-04-15 14:52:12.423406   \n",
       "\n",
       "                    timestop  totalcputime           computer hamilton  \\\n",
       "0 2020-04-15 14:52:16.020394           3.0  pyiron@cmdell17#1   Lammps   \n",
       "\n",
       "  hamversion parentid masterid  \n",
       "0        0.1     None     None  "
      ]
     },
     "execution_count": 63,
     "metadata": {},
     "output_type": "execute_result"
    }
   ],
   "source": [
    "pr.job_table()"
   ]
  },
  {
   "cell_type": "code",
   "execution_count": 64,
   "metadata": {},
   "outputs": [
    {
     "data": {
      "application/vnd.jupyter.widget-view+json": {
       "model_id": "3ca310b26e9e429eb30ddffe39cec135",
       "version_major": 2,
       "version_minor": 0
      },
      "text/plain": [
       "NGLWidget(max_frame=100)"
      ]
     },
     "metadata": {},
     "output_type": "display_data"
    }
   ],
   "source": [
    "job_lammps.animate_structure()"
   ]
  },
  {
   "cell_type": "markdown",
   "metadata": {},
   "source": [
    "## Analysis"
   ]
  },
  {
   "cell_type": "code",
   "execution_count": 73,
   "metadata": {},
   "outputs": [],
   "source": [
    "Al_indices = AlH_struct.select_index(\"Al\")\n",
    "H_indices = AlH_struct.select_index(\"H\")"
   ]
  },
  {
   "cell_type": "code",
   "execution_count": 79,
   "metadata": {},
   "outputs": [
    {
     "data": {
      "image/png": "[encoded data removed]",
      "text/plain": [
       "<Figure size 432x288 with 1 Axes>"
      ]
     },
     "metadata": {
      "needs_background": "light"
     },
     "output_type": "display_data"
    }
   ],
   "source": [
    "plt.plot(job_lammps.output.unwrapped_positions[:, Al_indices, 0], color=\"grey\")\n",
    "plt.plot(job_lammps.output.unwrapped_positions[:, H_indices, 0], color=\"red\")\n",
    "plt.xlabel(\"Snapshots\")\n",
    "plt.ylabel(\"Positions\");"
   ]
  },
  {
   "cell_type": "code",
   "execution_count": 83,
   "metadata": {},
   "outputs": [
    {
     "data": {
      "application/vnd.jupyter.widget-view+json": {
       "model_id": "f974fc41875b4c5e85e2f975e661f7ff",
       "version_major": 2,
       "version_minor": 0
      },
      "text/plain": [
       "NGLWidget()"
      ]
     },
     "metadata": {},
     "output_type": "display_data"
    }
   ],
   "source": [
    "md_struct = job_lammps.get_structure(-1)\n",
    "md_struct.plot3d()"
   ]
  },
  {
   "cell_type": "code",
   "execution_count": 84,
   "metadata": {},
   "outputs": [],
   "source": [
    "job_lammps_minimize = pr.create_job(pr.job_type.Lammps, \"AlH_minimize\")\n",
    "job_lammps_minimize.structure = md_struct\n",
    "job_lammps_minimize.potential = job_lammps.potential.copy()"
   ]
  },
  {
   "cell_type": "code",
   "execution_count": 89,
   "metadata": {},
   "outputs": [
    {
     "name": "stdout",
     "output_type": "stream",
     "text": [
      "The job AlH_minimize was saved and received the ID: 841\n"
     ]
    }
   ],
   "source": [
    "job_lammps_minimize.calc_minimize(pressure=0)\n",
    "job_lammps_minimize.run()"
   ]
  },
  {
   "cell_type": "code",
   "execution_count": 100,
   "metadata": {},
   "outputs": [
    {
     "name": "stderr",
     "output_type": "stream",
     "text": [
      "2020-04-15 15:13:39,598 - pyiron_log - WARNING - The job AlH_continue is being loaded instead of running. To re-run use the argument 'run_again=True'\n"
     ]
    }
   ],
   "source": [
    "# Alternate way\n",
    "job_continue = job_lammps.continue_with_final_structure(job_name=\"AlH_continue\")\n",
    "job_continue.potential = job_lammps.potential.copy()\n",
    "job_continue.calc_minimize(pressure=0)\n",
    "job_continue.run()"
   ]
  },
  {
   "cell_type": "code",
   "execution_count": 99,
   "metadata": {},
   "outputs": [
    {
     "data": {
      "text/html": [
       "<div>\n",
       "<style scoped>\n",
       "    .dataframe tbody tr th:only-of-type {\n",
       "        vertical-align: middle;\n",
       "    }\n",
       "\n",
       "    .dataframe tbody tr th {\n",
       "        vertical-align: top;\n",
       "    }\n",
       "\n",
       "    .dataframe thead th {\n",
       "        text-align: right;\n",
       "    }\n",
       "</style>\n",
       "<table border=\"1\" class=\"dataframe\">\n",
       "  <thead>\n",
       "    <tr style=\"text-align: right;\">\n",
       "      <th></th>\n",
       "      <th>id</th>\n",
       "      <th>status</th>\n",
       "      <th>chemicalformula</th>\n",
       "      <th>job</th>\n",
       "      <th>subjob</th>\n",
       "      <th>projectpath</th>\n",
       "      <th>project</th>\n",
       "      <th>timestart</th>\n",
       "      <th>timestop</th>\n",
       "      <th>totalcputime</th>\n",
       "      <th>computer</th>\n",
       "      <th>hamilton</th>\n",
       "      <th>hamversion</th>\n",
       "      <th>parentid</th>\n",
       "      <th>masterid</th>\n",
       "    </tr>\n",
       "  </thead>\n",
       "  <tbody>\n",
       "    <tr>\n",
       "      <th>0</th>\n",
       "      <td>840</td>\n",
       "      <td>finished</td>\n",
       "      <td>Al64H10</td>\n",
       "      <td>AlH_lammps</td>\n",
       "      <td>/AlH_lammps</td>\n",
       "      <td>/home/surendralal/</td>\n",
       "      <td>pyiron_workshop_2020/demo/</td>\n",
       "      <td>2020-04-15 14:52:12.423406</td>\n",
       "      <td>2020-04-15 14:52:16.020394</td>\n",
       "      <td>3.0</td>\n",
       "      <td>pyiron@cmdell17#1</td>\n",
       "      <td>Lammps</td>\n",
       "      <td>0.1</td>\n",
       "      <td>NaN</td>\n",
       "      <td>None</td>\n",
       "    </tr>\n",
       "    <tr>\n",
       "      <th>1</th>\n",
       "      <td>841</td>\n",
       "      <td>finished</td>\n",
       "      <td>Al64H10</td>\n",
       "      <td>AlH_minimize</td>\n",
       "      <td>/AlH_minimize</td>\n",
       "      <td>/home/surendralal/</td>\n",
       "      <td>pyiron_workshop_2020/demo/</td>\n",
       "      <td>2020-04-15 15:08:38.472691</td>\n",
       "      <td>2020-04-15 15:08:45.703586</td>\n",
       "      <td>7.0</td>\n",
       "      <td>pyiron@cmdell17#1</td>\n",
       "      <td>Lammps</td>\n",
       "      <td>0.1</td>\n",
       "      <td>NaN</td>\n",
       "      <td>None</td>\n",
       "    </tr>\n",
       "    <tr>\n",
       "      <th>2</th>\n",
       "      <td>842</td>\n",
       "      <td>finished</td>\n",
       "      <td>Al64H10</td>\n",
       "      <td>AlH_continue</td>\n",
       "      <td>/AlH_continue</td>\n",
       "      <td>/home/surendralal/</td>\n",
       "      <td>pyiron_workshop_2020/demo/</td>\n",
       "      <td>2020-04-15 15:12:21.599244</td>\n",
       "      <td>2020-04-15 15:12:41.879461</td>\n",
       "      <td>20.0</td>\n",
       "      <td>pyiron@cmdell17#1</td>\n",
       "      <td>Lammps</td>\n",
       "      <td>0.1</td>\n",
       "      <td>840.0</td>\n",
       "      <td>None</td>\n",
       "    </tr>\n",
       "  </tbody>\n",
       "</table>\n",
       "</div>"
      ],
      "text/plain": [
       "    id    status chemicalformula           job         subjob  \\\n",
       "0  840  finished         Al64H10    AlH_lammps    /AlH_lammps   \n",
       "1  841  finished         Al64H10  AlH_minimize  /AlH_minimize   \n",
       "2  842  finished         Al64H10  AlH_continue  /AlH_continue   \n",
       "\n",
       "          projectpath                     project                  timestart  \\\n",
       "0  /home/surendralal/  pyiron_workshop_2020/demo/ 2020-04-15 14:52:12.423406   \n",
       "1  /home/surendralal/  pyiron_workshop_2020/demo/ 2020-04-15 15:08:38.472691   \n",
       "2  /home/surendralal/  pyiron_workshop_2020/demo/ 2020-04-15 15:12:21.599244   \n",
       "\n",
       "                    timestop  totalcputime           computer hamilton  \\\n",
       "0 2020-04-15 14:52:16.020394           3.0  pyiron@cmdell17#1   Lammps   \n",
       "1 2020-04-15 15:08:45.703586           7.0  pyiron@cmdell17#1   Lammps   \n",
       "2 2020-04-15 15:12:41.879461          20.0  pyiron@cmdell17#1   Lammps   \n",
       "\n",
       "  hamversion  parentid masterid  \n",
       "0        0.1       NaN     None  \n",
       "1        0.1       NaN     None  \n",
       "2        0.1     840.0     None  "
      ]
     },
     "execution_count": 99,
     "metadata": {},
     "output_type": "execute_result"
    }
   ],
   "source": [
    "pr.job_table()"
   ]
  },
  {
   "cell_type": "code",
   "execution_count": 103,
   "metadata": {},
   "outputs": [
    {
     "data": {
      "image/png": "[encoded data removed]",
      "text/plain": [
       "<Figure size 432x288 with 1 Axes>"
      ]
     },
     "metadata": {
      "needs_background": "light"
     },
     "output_type": "display_data"
    }
   ],
   "source": [
    "plt.plot(job_lammps_minimize.output.volume);"
   ]
  },
  {
   "cell_type": "code",
   "execution_count": 114,
   "metadata": {},
   "outputs": [
    {
     "data": {
      "image/png": "[encoded data removed]",
      "text/plain": [
       "<Figure size 432x288 with 1 Axes>"
      ]
     },
     "metadata": {
      "needs_background": "light"
     },
     "output_type": "display_data"
    }
   ],
   "source": [
    "plt.plot(job_lammps_minimize[\"output/generic/energy_tot\"])\n",
    "plt.ylabel(\"Energy [eV]\")\n",
    "plt.ylabel(\"Steps\");"
   ]
  },
  {
   "cell_type": "code",
   "execution_count": 107,
   "metadata": {},
   "outputs": [
    {
     "data": {
      "application/vnd.jupyter.widget-view+json": {
       "model_id": "69b570c52f10414f828617163d4cd6d3",
       "version_major": 2,
       "version_minor": 0
      },
      "text/plain": [
       "NGLWidget()"
      ]
     },
     "metadata": {},
     "output_type": "display_data"
    }
   ],
   "source": [
    "minimize_struct = job_lammps_minimize.get_structure(-1)\n",
    "minimize_struct.plot3d(particle_size=3)"
   ]
  },
  {
   "cell_type": "code",
   "execution_count": 138,
   "metadata": {},
   "outputs": [
    {
     "data": {
      "image/png": "[encoded data removed]",
      "text/plain": [
       "<Figure size 432x288 with 1 Axes>"
      ]
     },
     "metadata": {
      "needs_background": "light"
     },
     "output_type": "display_data"
    }
   ],
   "source": [
    "Al_only = AlH_struct[Al_indices]\n",
    "neighbors = Al_only.get_neighbors(num_neighbors=100)\n",
    "distances_Al = neighbors.distances.flatten()\n",
    "plt.hist(distances_Al, bins=50, alpha=0.5, label=\"Al-Al init\");\n",
    "#H-H rdf\n",
    "Al_only = md_struct[Al_indices]\n",
    "neighbors = Al_only.get_neighbors(num_neighbors=100)\n",
    "distances_Al = neighbors.distances.flatten()\n",
    "plt.hist(distances_Al, bins=50, alpha=0.5, label=\"Al-Al after md\");\n",
    "#Al-Al rdf\n",
    "Al_only = minimize_struct[Al_indices]\n",
    "neighbors = Al_only.get_neighbors(num_neighbors=100)\n",
    "distances_Al = neighbors.distances.flatten()\n",
    "plt.hist(distances_Al, bins=50, alpha=0.5, label=\"Al-Al minimized\")\n",
    "plt.legend();"
   ]
  },
  {
   "cell_type": "code",
   "execution_count": 139,
   "metadata": {},
   "outputs": [
    {
     "data": {
      "text/html": [
       "<div>\n",
       "<style scoped>\n",
       "    .dataframe tbody tr th:only-of-type {\n",
       "        vertical-align: middle;\n",
       "    }\n",
       "\n",
       "    .dataframe tbody tr th {\n",
       "        vertical-align: top;\n",
       "    }\n",
       "\n",
       "    .dataframe thead th {\n",
       "        text-align: right;\n",
       "    }\n",
       "</style>\n",
       "<table border=\"1\" class=\"dataframe\">\n",
       "  <thead>\n",
       "    <tr style=\"text-align: right;\">\n",
       "      <th></th>\n",
       "      <th>id</th>\n",
       "      <th>status</th>\n",
       "      <th>chemicalformula</th>\n",
       "      <th>job</th>\n",
       "      <th>subjob</th>\n",
       "      <th>projectpath</th>\n",
       "      <th>project</th>\n",
       "      <th>timestart</th>\n",
       "      <th>timestop</th>\n",
       "      <th>totalcputime</th>\n",
       "      <th>computer</th>\n",
       "      <th>hamilton</th>\n",
       "      <th>hamversion</th>\n",
       "      <th>parentid</th>\n",
       "      <th>masterid</th>\n",
       "    </tr>\n",
       "  </thead>\n",
       "  <tbody>\n",
       "    <tr>\n",
       "      <th>0</th>\n",
       "      <td>840</td>\n",
       "      <td>finished</td>\n",
       "      <td>Al64H10</td>\n",
       "      <td>AlH_lammps</td>\n",
       "      <td>/AlH_lammps</td>\n",
       "      <td>/home/surendralal/</td>\n",
       "      <td>pyiron_workshop_2020/demo/</td>\n",
       "      <td>2020-04-15 14:52:12.423406</td>\n",
       "      <td>2020-04-15 14:52:16.020394</td>\n",
       "      <td>3.0</td>\n",
       "      <td>pyiron@cmdell17#1</td>\n",
       "      <td>Lammps</td>\n",
       "      <td>0.1</td>\n",
       "      <td>NaN</td>\n",
       "      <td>None</td>\n",
       "    </tr>\n",
       "    <tr>\n",
       "      <th>1</th>\n",
       "      <td>841</td>\n",
       "      <td>finished</td>\n",
       "      <td>Al64H10</td>\n",
       "      <td>AlH_minimize</td>\n",
       "      <td>/AlH_minimize</td>\n",
       "      <td>/home/surendralal/</td>\n",
       "      <td>pyiron_workshop_2020/demo/</td>\n",
       "      <td>2020-04-15 15:08:38.472691</td>\n",
       "      <td>2020-04-15 15:08:45.703586</td>\n",
       "      <td>7.0</td>\n",
       "      <td>pyiron@cmdell17#1</td>\n",
       "      <td>Lammps</td>\n",
       "      <td>0.1</td>\n",
       "      <td>NaN</td>\n",
       "      <td>None</td>\n",
       "    </tr>\n",
       "    <tr>\n",
       "      <th>2</th>\n",
       "      <td>842</td>\n",
       "      <td>finished</td>\n",
       "      <td>Al64H10</td>\n",
       "      <td>AlH_continue</td>\n",
       "      <td>/AlH_continue</td>\n",
       "      <td>/home/surendralal/</td>\n",
       "      <td>pyiron_workshop_2020/demo/</td>\n",
       "      <td>2020-04-15 15:12:21.599244</td>\n",
       "      <td>2020-04-15 15:12:41.879461</td>\n",
       "      <td>20.0</td>\n",
       "      <td>pyiron@cmdell17#1</td>\n",
       "      <td>Lammps</td>\n",
       "      <td>0.1</td>\n",
       "      <td>840.0</td>\n",
       "      <td>None</td>\n",
       "    </tr>\n",
       "  </tbody>\n",
       "</table>\n",
       "</div>"
      ],
      "text/plain": [
       "    id    status chemicalformula           job         subjob  \\\n",
       "0  840  finished         Al64H10    AlH_lammps    /AlH_lammps   \n",
       "1  841  finished         Al64H10  AlH_minimize  /AlH_minimize   \n",
       "2  842  finished         Al64H10  AlH_continue  /AlH_continue   \n",
       "\n",
       "          projectpath                     project                  timestart  \\\n",
       "0  /home/surendralal/  pyiron_workshop_2020/demo/ 2020-04-15 14:52:12.423406   \n",
       "1  /home/surendralal/  pyiron_workshop_2020/demo/ 2020-04-15 15:08:38.472691   \n",
       "2  /home/surendralal/  pyiron_workshop_2020/demo/ 2020-04-15 15:12:21.599244   \n",
       "\n",
       "                    timestop  totalcputime           computer hamilton  \\\n",
       "0 2020-04-15 14:52:16.020394           3.0  pyiron@cmdell17#1   Lammps   \n",
       "1 2020-04-15 15:08:45.703586           7.0  pyiron@cmdell17#1   Lammps   \n",
       "2 2020-04-15 15:12:41.879461          20.0  pyiron@cmdell17#1   Lammps   \n",
       "\n",
       "  hamversion  parentid masterid  \n",
       "0        0.1       NaN     None  \n",
       "1        0.1       NaN     None  \n",
       "2        0.1     840.0     None  "
      ]
     },
     "execution_count": 139,
     "metadata": {},
     "output_type": "execute_result"
    }
   ],
   "source": [
    "pr.job_table()"
   ]
  },
  {
   "cell_type": "code",
   "execution_count": null,
   "metadata": {},
   "outputs": [],
   "source": []
  },
  {
   "cell_type": "code",
   "execution_count": null,
   "metadata": {},
   "outputs": [],
   "source": []
  },
  {
   "cell_type": "markdown",
   "metadata": {},
   "source": [
    "## Energy-Volume curves using predefined modules\n",
    "\n"
   ]
  },
  {
   "cell_type": "code",
   "execution_count": null,
   "metadata": {},
   "outputs": [],
   "source": []
  },
  {
   "cell_type": "markdown",
   "metadata": {},
   "source": [
    "## Energy-volume curves for a variety of Al potentials\n"
   ]
  },
  {
   "cell_type": "code",
   "execution_count": null,
   "metadata": {},
   "outputs": [],
   "source": []
  }
 ],
 "metadata": {
  "kernelspec": {
   "display_name": "Python 3",
   "language": "python",
   "name": "python3"
  },
  "language_info": {
   "codemirror_mode": {
    "name": "ipython",
    "version": 3
   },
   "file_extension": ".py",
   "mimetype": "text/x-python",
   "name": "python",
   "nbconvert_exporter": "python",
   "pygments_lexer": "ipython3",
   "version": "3.7.7"
  },
  "toc": {
   "base_numbering": 1,
   "nav_menu": {},
   "number_sections": true,
   "sideBar": true,
   "skip_h1_title": false,
   "title_cell": "Table of Contents",
   "title_sidebar": "Contents",
   "toc_cell": false,
   "toc_position": {},
   "toc_section_display": true,
   "toc_window_display": false
  },
  "toc-autonumbering": true,
  "toc-showcode": false,
  "toc-showmarkdowntxt": false,
  "toc-showtags": false
 },
 "nbformat": 4,
 "nbformat_minor": 4
}
