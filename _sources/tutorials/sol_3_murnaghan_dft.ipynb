{
 "cells": [
  {
   "cell_type": "markdown",
   "metadata": {},
   "source": [
    "# Exercise 3: Murnaghan plots using sphinx"
   ]
  },
  {
   "cell_type": "code",
   "execution_count": 1,
   "metadata": {},
   "outputs": [],
   "source": [
    "from pyiron import Project\n",
    "import numpy as np\n",
    "import matplotlib.pylab as plt"
   ]
  },
  {
   "cell_type": "code",
   "execution_count": 2,
   "metadata": {},
   "outputs": [],
   "source": [
    "import pandas as pd\n",
    "from ast import literal_eval"
   ]
  },
  {
   "cell_type": "markdown",
   "metadata": {},
   "source": [
    "## Perform a static energy calculation of bulk Al using DFT (Sphinx as open source DFT code)"
   ]
  },
  {
   "cell_type": "code",
   "execution_count": 3,
   "metadata": {},
   "outputs": [],
   "source": [
    "pr = Project(\"demo/sphinx_demo\")\n",
    "pr.remove_jobs()"
   ]
  },
  {
   "cell_type": "code",
   "execution_count": 4,
   "metadata": {},
   "outputs": [],
   "source": [
    "job_sphinx = pr.create_job(pr.job_type.Sphinx, \"test_sphinx\")"
   ]
  },
  {
   "cell_type": "code",
   "execution_count": 5,
   "metadata": {},
   "outputs": [],
   "source": [
    "job_sphinx.structure = pr.create_ase_bulk(\"Al\")"
   ]
  },
  {
   "cell_type": "code",
   "execution_count": 6,
   "metadata": {},
   "outputs": [],
   "source": [
    "job_sphinx.set_occupancy_smearing(width=0.1)"
   ]
  },
  {
   "cell_type": "code",
   "execution_count": 7,
   "metadata": {},
   "outputs": [
    {
     "data": {
      "text/plain": [
       "340"
      ]
     },
     "execution_count": 7,
     "metadata": {},
     "output_type": "execute_result"
    }
   ],
   "source": [
    "job_sphinx.plane_wave_cutoff"
   ]
  },
  {
   "cell_type": "code",
   "execution_count": 8,
   "metadata": {},
   "outputs": [
    {
     "data": {
      "text/plain": [
       "'PBE'"
      ]
     },
     "execution_count": 8,
     "metadata": {},
     "output_type": "execute_result"
    }
   ],
   "source": [
    "job_sphinx.xc"
   ]
  },
  {
   "cell_type": "code",
   "execution_count": 9,
   "metadata": {},
   "outputs": [],
   "source": [
    "job_sphinx.set_kpoints(mesh=[5, 5, 5])"
   ]
  },
  {
   "cell_type": "markdown",
   "metadata": {},
   "source": [
    "### Inspecting the input parameters"
   ]
  },
  {
   "cell_type": "code",
   "execution_count": 10,
   "metadata": {},
   "outputs": [
    {
     "data": {
      "text/html": [
       "<div>\n",
       "<style scoped>\n",
       "    .dataframe tbody tr th:only-of-type {\n",
       "        vertical-align: middle;\n",
       "    }\n",
       "\n",
       "    .dataframe tbody tr th {\n",
       "        vertical-align: top;\n",
       "    }\n",
       "\n",
       "    .dataframe thead th {\n",
       "        text-align: right;\n",
       "    }\n",
       "</style>\n",
       "<table border=\"1\" class=\"dataframe\">\n",
       "  <thead>\n",
       "    <tr style=\"text-align: right;\">\n",
       "      <th></th>\n",
       "      <th>Parameter</th>\n",
       "      <th>Value</th>\n",
       "      <th>Comment</th>\n",
       "    </tr>\n",
       "  </thead>\n",
       "  <tbody>\n",
       "    <tr>\n",
       "      <th>0</th>\n",
       "      <td>EnCut</td>\n",
       "      <td>340</td>\n",
       "      <td></td>\n",
       "    </tr>\n",
       "    <tr>\n",
       "      <th>1</th>\n",
       "      <td>KpointCoords</td>\n",
       "      <td>[0.5, 0.5, 0.5]</td>\n",
       "      <td></td>\n",
       "    </tr>\n",
       "    <tr>\n",
       "      <th>2</th>\n",
       "      <td>KpointFolding</td>\n",
       "      <td>[5, 5, 5]</td>\n",
       "      <td></td>\n",
       "    </tr>\n",
       "    <tr>\n",
       "      <th>3</th>\n",
       "      <td>EmptyStates</td>\n",
       "      <td>auto</td>\n",
       "      <td></td>\n",
       "    </tr>\n",
       "    <tr>\n",
       "      <th>4</th>\n",
       "      <td>Sigma</td>\n",
       "      <td>0.1</td>\n",
       "      <td></td>\n",
       "    </tr>\n",
       "    <tr>\n",
       "      <th>5</th>\n",
       "      <td>Xcorr</td>\n",
       "      <td>PBE</td>\n",
       "      <td></td>\n",
       "    </tr>\n",
       "    <tr>\n",
       "      <th>6</th>\n",
       "      <td>VaspPot</td>\n",
       "      <td>False</td>\n",
       "      <td></td>\n",
       "    </tr>\n",
       "    <tr>\n",
       "      <th>7</th>\n",
       "      <td>Estep</td>\n",
       "      <td>400</td>\n",
       "      <td></td>\n",
       "    </tr>\n",
       "    <tr>\n",
       "      <th>8</th>\n",
       "      <td>Ediff</td>\n",
       "      <td>1.0e-4</td>\n",
       "      <td></td>\n",
       "    </tr>\n",
       "    <tr>\n",
       "      <th>9</th>\n",
       "      <td>WriteWaves</td>\n",
       "      <td>True</td>\n",
       "      <td></td>\n",
       "    </tr>\n",
       "    <tr>\n",
       "      <th>10</th>\n",
       "      <td>KJxc</td>\n",
       "      <td>False</td>\n",
       "      <td></td>\n",
       "    </tr>\n",
       "    <tr>\n",
       "      <th>11</th>\n",
       "      <td>SaveMemory</td>\n",
       "      <td>True</td>\n",
       "      <td></td>\n",
       "    </tr>\n",
       "    <tr>\n",
       "      <th>12</th>\n",
       "      <td>CoarseRun</td>\n",
       "      <td>False</td>\n",
       "      <td></td>\n",
       "    </tr>\n",
       "    <tr>\n",
       "      <th>13</th>\n",
       "      <td>rhoMixing</td>\n",
       "      <td>1.0</td>\n",
       "      <td></td>\n",
       "    </tr>\n",
       "    <tr>\n",
       "      <th>14</th>\n",
       "      <td>spinMixing</td>\n",
       "      <td>1.0</td>\n",
       "      <td></td>\n",
       "    </tr>\n",
       "    <tr>\n",
       "      <th>15</th>\n",
       "      <td>CheckOverlap</td>\n",
       "      <td>True</td>\n",
       "      <td></td>\n",
       "    </tr>\n",
       "    <tr>\n",
       "      <th>16</th>\n",
       "      <td>THREADS</td>\n",
       "      <td>1</td>\n",
       "      <td></td>\n",
       "    </tr>\n",
       "  </tbody>\n",
       "</table>\n",
       "</div>"
      ],
      "text/plain": [
       "        Parameter            Value Comment\n",
       "0           EnCut              340        \n",
       "1    KpointCoords  [0.5, 0.5, 0.5]        \n",
       "2   KpointFolding        [5, 5, 5]        \n",
       "3     EmptyStates             auto        \n",
       "4           Sigma              0.1        \n",
       "5           Xcorr              PBE        \n",
       "6         VaspPot            False        \n",
       "7           Estep              400        \n",
       "8           Ediff           1.0e-4        \n",
       "9      WriteWaves             True        \n",
       "10           KJxc            False        \n",
       "11     SaveMemory             True        \n",
       "12      CoarseRun            False        \n",
       "13      rhoMixing              1.0        \n",
       "14     spinMixing              1.0        \n",
       "15   CheckOverlap             True        \n",
       "16        THREADS                1        "
      ]
     },
     "execution_count": 10,
     "metadata": {},
     "output_type": "execute_result"
    }
   ],
   "source": [
    "job_sphinx.input"
   ]
  },
  {
   "cell_type": "code",
   "execution_count": 11,
   "metadata": {},
   "outputs": [],
   "source": [
    "job_sphinx.calc_static()"
   ]
  },
  {
   "cell_type": "code",
   "execution_count": 12,
   "metadata": {},
   "outputs": [
    {
     "name": "stdout",
     "output_type": "stream",
     "text": [
      "The job test_sphinx was saved and received the ID: 833\n"
     ]
    }
   ],
   "source": [
    "job_sphinx.run()"
   ]
  },
  {
   "cell_type": "code",
   "execution_count": 13,
   "metadata": {},
   "outputs": [
    {
     "data": {
      "text/plain": [
       "'finished'"
      ]
     },
     "execution_count": 13,
     "metadata": {},
     "output_type": "execute_result"
    }
   ],
   "source": [
    "job_sphinx.status"
   ]
  },
  {
   "cell_type": "markdown",
   "metadata": {},
   "source": [
    "### Plotting the Fermi-Dirac distribution of the electronic occupancies"
   ]
  },
  {
   "cell_type": "code",
   "execution_count": 14,
   "metadata": {},
   "outputs": [
    {
     "data": {
      "text/plain": [
       "{'groups': [], 'nodes': ['bands_e_fermi', 'bands_eigen_values', 'bands_k_weights', 'bands_occ', 'computation_time', 'electronic_entropy', 'energy_band', 'energy_free', 'energy_int', 'energy_zero', 'n_valence', 'residue', 'scf_computation_time', 'scf_convergence', 'scf_electronic_entropy', 'scf_energy_band', 'scf_energy_free', 'scf_energy_int', 'scf_energy_zero', 'scf_residue']}"
      ]
     },
     "execution_count": 14,
     "metadata": {},
     "output_type": "execute_result"
    }
   ],
   "source": [
    "job_sphinx[\"output/generic/dft\"]"
   ]
  },
  {
   "cell_type": "code",
   "execution_count": 15,
   "metadata": {},
   "outputs": [
    {
     "data": {
      "text/plain": [
       "3"
      ]
     },
     "execution_count": 15,
     "metadata": {},
     "output_type": "execute_result"
    }
   ],
   "source": [
    "len(job_sphinx[\"output/generic/dft/scf_energy_int\"][-1])"
   ]
  },
  {
   "cell_type": "code",
   "execution_count": 16,
   "metadata": {},
   "outputs": [
    {
     "data": {
      "image/png": "[encoded data removed]",
      "text/plain": [
       "<Figure size 432x288 with 1 Axes>"
      ]
     },
     "metadata": {
      "needs_background": "light"
     },
     "output_type": "display_data"
    }
   ],
   "source": [
    "# The first index is the spin (only 1 for non-magnetic calculation)\n",
    "eigen_values = job_sphinx[\"output/generic/dft/bands_eigen_values\"][-1].flatten()\n",
    "args = np.argsort(eigen_values)\n",
    "eigen_values = eigen_values[args]\n",
    "occ = job_sphinx[\"output/generic/dft/bands_occ\"][0].flatten()[args]\n",
    "efermi = job_sphinx[\"output/generic/dft/bands_e_fermi\"][-1]\n",
    "eigen_values -= efermi\n",
    "plt.plot(eigen_values, occ)\n",
    "plt.xlabel(\"Energy [eV]\")\n",
    "plt.ylabel(\"Occupancy\");"
   ]
  },
  {
   "cell_type": "markdown",
   "metadata": {},
   "source": [
    "### Inspecting the output"
   ]
  },
  {
   "cell_type": "code",
   "execution_count": 17,
   "metadata": {},
   "outputs": [
    {
     "data": {
      "text/plain": [
       "{'groups': ['dft'], 'nodes': ['cells', 'computation_time', 'energy_pot', 'energy_tot', 'forces', 'positions', 'volume']}"
      ]
     },
     "execution_count": 17,
     "metadata": {},
     "output_type": "execute_result"
    }
   ],
   "source": [
    "job_sphinx[\"output/generic\"]"
   ]
  },
  {
   "cell_type": "code",
   "execution_count": 18,
   "metadata": {},
   "outputs": [
    {
     "data": {
      "text/plain": [
       "-57.21641920181957"
      ]
     },
     "execution_count": 18,
     "metadata": {},
     "output_type": "execute_result"
    }
   ],
   "source": [
    "job_sphinx[\"output/generic/energy_tot\"][-1]"
   ]
  },
  {
   "cell_type": "markdown",
   "metadata": {},
   "source": [
    "## Plotting an E-V curve"
   ]
  },
  {
   "cell_type": "code",
   "execution_count": 19,
   "metadata": {},
   "outputs": [],
   "source": [
    "pr = Project(\"demo/murnaghan_Al_dft\")\n",
    "pr.remove_jobs()"
   ]
  },
  {
   "cell_type": "code",
   "execution_count": 20,
   "metadata": {},
   "outputs": [],
   "source": [
    "a_range = np.linspace(3.9, 4.2, 6)\n",
    "encut_list = [350]\n",
    "kpoint_list = [12]"
   ]
  },
  {
   "cell_type": "code",
   "execution_count": 21,
   "metadata": {},
   "outputs": [
    {
     "name": "stdout",
     "output_type": "stream",
     "text": [
      "job_name_a_3_9_encut_350_kpt_12\n",
      "The job job_name_a_3_9_encut_350_kpt_12 was saved and received the ID: 834\n",
      "job_name_a_3_96_encut_350_kpt_12\n",
      "The job job_name_a_3_96_encut_350_kpt_12 was saved and received the ID: 835\n",
      "job_name_a_4_02_encut_350_kpt_12\n",
      "The job job_name_a_4_02_encut_350_kpt_12 was saved and received the ID: 836\n",
      "job_name_a_4_08_encut_350_kpt_12\n",
      "The job job_name_a_4_08_encut_350_kpt_12 was saved and received the ID: 837\n",
      "job_name_a_4_14_encut_350_kpt_12\n",
      "The job job_name_a_4_14_encut_350_kpt_12 was saved and received the ID: 838\n",
      "job_name_a_4_2_encut_350_kpt_12\n",
      "The job job_name_a_4_2_encut_350_kpt_12 was saved and received the ID: 839\n"
     ]
    }
   ],
   "source": [
    "for kpt in kpoint_list:\n",
    "    for encut in encut_list:\n",
    "        for a in a_range:\n",
    "            job_name = \"job_name_a_{:.4}_encut_{}_kpt_{}\".format(a, encut, kpt).replace(\".\", \"_\")\n",
    "            print(job_name)\n",
    "            job = pr.create_job(pr.job_type.Sphinx, job_name)\n",
    "            job.structure = pr.create_ase_bulk(\"Al\", a=a)\n",
    "            job.plane_wave_cutoff = encut\n",
    "            k_mesh = [kpt] * 3\n",
    "            job.set_kpoints(mesh=k_mesh)\n",
    "            job.run()"
   ]
  },
  {
   "cell_type": "code",
   "execution_count": 22,
   "metadata": {},
   "outputs": [],
   "source": [
    "pr.job_table();"
   ]
  },
  {
   "cell_type": "markdown",
   "metadata": {},
   "source": [
    "### Analyzing the outputs"
   ]
  },
  {
   "cell_type": "code",
   "execution_count": 23,
   "metadata": {},
   "outputs": [],
   "source": [
    "def get_volume(job):\n",
    "    return job[\"output/generic/volume\"][-1]\n",
    "\n",
    "def get_lattice_parameter(job):\n",
    "    return job[\"output/generic/cells\"][-1][0, 1] * 2\n",
    "\n",
    "def get_total_energy(job):\n",
    "    return job[\"output/generic/energy_tot\"][-1]\n",
    "\n",
    "def get_encut_kpoints(job):\n",
    "    str_list = job.job_name.split(\"_\")\n",
    "    kpts = [str_list[-1]] * 3\n",
    "    encut = str_list[-3]\n",
    "    return encut, kpts\n",
    "\n",
    "def get_n_scf(job):\n",
    "    return len(job[\"output/generic/dft/scf_energy_int\"][-1])\n",
    "\n",
    "def get_properties(df):\n",
    "    job = pr.inspect(df.id)\n",
    "    df[\"a\"] = get_lattice_parameter(job)\n",
    "    df[\"e_tot\"] = get_total_energy(job)\n",
    "    df[\"encut\"], df[\"kpoints\"] = get_encut_kpoints(job)\n",
    "    df[\"n_scf\"] = get_n_scf(job)\n",
    "    return df"
   ]
  },
  {
   "cell_type": "code",
   "execution_count": 24,
   "metadata": {},
   "outputs": [
    {
     "data": {
      "text/plain": [
       "4.2"
      ]
     },
     "execution_count": 24,
     "metadata": {},
     "output_type": "execute_result"
    }
   ],
   "source": [
    "job[\"input/structure/cell/cell\"][0, 1] * 2"
   ]
  },
  {
   "cell_type": "code",
   "execution_count": 25,
   "metadata": {},
   "outputs": [
    {
     "data": {
      "text/plain": [
       "-57.23284122857466"
      ]
     },
     "execution_count": 25,
     "metadata": {},
     "output_type": "execute_result"
    }
   ],
   "source": [
    "job[\"output/generic/energy_tot\"][-1]"
   ]
  },
  {
   "cell_type": "code",
   "execution_count": 26,
   "metadata": {},
   "outputs": [
    {
     "data": {
      "text/plain": [
       "(350, [12, 12, 12])"
      ]
     },
     "execution_count": 26,
     "metadata": {},
     "output_type": "execute_result"
    }
   ],
   "source": [
    "int(job.job_name.split(\"_\")[-3]), [int(job.job_name.split(\"_\")[-1])] * 3"
   ]
  },
  {
   "cell_type": "code",
   "execution_count": 27,
   "metadata": {},
   "outputs": [
    {
     "data": {
      "text/plain": [
       "pyiron.sphinx.sphinx.Sphinx"
      ]
     },
     "execution_count": 27,
     "metadata": {},
     "output_type": "execute_result"
    }
   ],
   "source": [
    "type(job)"
   ]
  },
  {
   "cell_type": "code",
   "execution_count": 28,
   "metadata": {},
   "outputs": [
    {
     "data": {
      "text/plain": [
       "{'groups': [], 'nodes': ['bands_e_fermi', 'bands_eigen_values', 'bands_k_weights', 'bands_occ', 'computation_time', 'electronic_entropy', 'energy_band', 'energy_free', 'energy_int', 'energy_zero', 'n_valence', 'residue', 'scf_computation_time', 'scf_convergence', 'scf_electronic_entropy', 'scf_energy_band', 'scf_energy_free', 'scf_energy_int', 'scf_energy_zero', 'scf_residue']}"
      ]
     },
     "execution_count": 28,
     "metadata": {},
     "output_type": "execute_result"
    }
   ],
   "source": [
    "job[\"output/generic/dft\"]"
   ]
  },
  {
   "cell_type": "markdown",
   "metadata": {},
   "source": [
    "### Plotting E-V curves"
   ]
  },
  {
   "cell_type": "code",
   "execution_count": 29,
   "metadata": {},
   "outputs": [
    {
     "name": "stdout",
     "output_type": "stream",
     "text": [
      "CPU times: user 93.8 ms, sys: 31.2 ms, total: 125 ms\n",
      "Wall time: 102 ms\n"
     ]
    }
   ],
   "source": [
    "%%time\n",
    "erg_lst, vol_lst = [], []\n",
    "for job in pr.iter_jobs(convert_to_object=False):\n",
    "    erg_lst.append(get_total_energy(job))\n",
    "    vol_lst.append(get_volume(job))"
   ]
  },
  {
   "cell_type": "code",
   "execution_count": 30,
   "metadata": {},
   "outputs": [
    {
     "data": {
      "image/png": "[encoded data removed]",
      "text/plain": [
       "<Figure size 432x288 with 1 Axes>"
      ]
     },
     "metadata": {
      "needs_background": "light"
     },
     "output_type": "display_data"
    }
   ],
   "source": [
    "erg_fit = np.poly1d(np.polyfit(vol_lst, erg_lst, 3))\n",
    "vol_fit = np.linspace(np.min(vol_lst), np.max(vol_lst), 100)\n",
    "plt.plot(vol_lst, erg_lst, 'x')\n",
    "plt.plot(vol_fit, erg_fit(vol_fit), '--', label='fit')\n",
    "plt.legend();"
   ]
  },
  {
   "cell_type": "markdown",
   "metadata": {},
   "source": [
    "### Using pandas for analysis\n",
    "\n",
    "An alternate way to analyze these notebooks (if you are not a fan of for loops)"
   ]
  },
  {
   "cell_type": "code",
   "execution_count": 31,
   "metadata": {},
   "outputs": [],
   "source": [
    "df = pr.job_table()"
   ]
  },
  {
   "cell_type": "code",
   "execution_count": 32,
   "metadata": {},
   "outputs": [],
   "source": [
    "df = df[df.status==\"finished\"]\n",
    "df;"
   ]
  },
  {
   "cell_type": "code",
   "execution_count": 33,
   "metadata": {},
   "outputs": [
    {
     "name": "stdout",
     "output_type": "stream",
     "text": [
      "CPU times: user 188 ms, sys: 15.6 ms, total: 203 ms\n",
      "Wall time: 209 ms\n"
     ]
    },
    {
     "data": {
      "text/html": [
       "<div>\n",
       "<style scoped>\n",
       "    .dataframe tbody tr th:only-of-type {\n",
       "        vertical-align: middle;\n",
       "    }\n",
       "\n",
       "    .dataframe tbody tr th {\n",
       "        vertical-align: top;\n",
       "    }\n",
       "\n",
       "    .dataframe thead th {\n",
       "        text-align: right;\n",
       "    }\n",
       "</style>\n",
       "<table border=\"1\" class=\"dataframe\">\n",
       "  <thead>\n",
       "    <tr style=\"text-align: right;\">\n",
       "      <th></th>\n",
       "      <th>a</th>\n",
       "      <th>e_tot</th>\n",
       "      <th>encut</th>\n",
       "      <th>kpoints</th>\n",
       "      <th>n_scf</th>\n",
       "    </tr>\n",
       "  </thead>\n",
       "  <tbody>\n",
       "    <tr>\n",
       "      <th>0</th>\n",
       "      <td>3.90</td>\n",
       "      <td>-57.209575</td>\n",
       "      <td>350</td>\n",
       "      <td>[12, 12, 12]</td>\n",
       "      <td>4</td>\n",
       "    </tr>\n",
       "    <tr>\n",
       "      <th>1</th>\n",
       "      <td>3.96</td>\n",
       "      <td>-57.249233</td>\n",
       "      <td>350</td>\n",
       "      <td>[12, 12, 12]</td>\n",
       "      <td>4</td>\n",
       "    </tr>\n",
       "    <tr>\n",
       "      <th>2</th>\n",
       "      <td>4.02</td>\n",
       "      <td>-57.268643</td>\n",
       "      <td>350</td>\n",
       "      <td>[12, 12, 12]</td>\n",
       "      <td>3</td>\n",
       "    </tr>\n",
       "    <tr>\n",
       "      <th>3</th>\n",
       "      <td>4.08</td>\n",
       "      <td>-57.270688</td>\n",
       "      <td>350</td>\n",
       "      <td>[12, 12, 12]</td>\n",
       "      <td>4</td>\n",
       "    </tr>\n",
       "    <tr>\n",
       "      <th>4</th>\n",
       "      <td>4.14</td>\n",
       "      <td>-57.257964</td>\n",
       "      <td>350</td>\n",
       "      <td>[12, 12, 12]</td>\n",
       "      <td>4</td>\n",
       "    </tr>\n",
       "    <tr>\n",
       "      <th>5</th>\n",
       "      <td>4.20</td>\n",
       "      <td>-57.232841</td>\n",
       "      <td>350</td>\n",
       "      <td>[12, 12, 12]</td>\n",
       "      <td>4</td>\n",
       "    </tr>\n",
       "  </tbody>\n",
       "</table>\n",
       "</div>"
      ],
      "text/plain": [
       "      a      e_tot encut       kpoints  n_scf\n",
       "0  3.90 -57.209575   350  [12, 12, 12]      4\n",
       "1  3.96 -57.249233   350  [12, 12, 12]      4\n",
       "2  4.02 -57.268643   350  [12, 12, 12]      3\n",
       "3  4.08 -57.270688   350  [12, 12, 12]      4\n",
       "4  4.14 -57.257964   350  [12, 12, 12]      4\n",
       "5  4.20 -57.232841   350  [12, 12, 12]      4"
      ]
     },
     "execution_count": 33,
     "metadata": {},
     "output_type": "execute_result"
    }
   ],
   "source": [
    "%%time\n",
    "df_result = df.apply(get_properties, axis=1)\n",
    "df_result[[\"a\", \"e_tot\", \"encut\", \"kpoints\", \"n_scf\"]]"
   ]
  },
  {
   "cell_type": "markdown",
   "metadata": {},
   "source": [
    "## Use the murnaghan module to scan over different k-points and energy cutoff values as in ex_2\n"
   ]
  },
  {
   "cell_type": "code",
   "execution_count": 34,
   "metadata": {},
   "outputs": [],
   "source": [
    "pr = Project(\"demo/murnaghan_dft\")\n",
    "###pr.remove_jobs()"
   ]
  },
  {
   "cell_type": "code",
   "execution_count": 35,
   "metadata": {},
   "outputs": [
    {
     "name": "stderr",
     "output_type": "stream",
     "text": [
      "2020-04-15 00:26:59,380 - pyiron_log - WARNING - The job murn_Al_encut_250_kpt_4 is being loaded instead of running. To re-run use the argument 'run_again=True'\n",
      "2020-04-15 00:26:59,893 - pyiron_log - WARNING - The job murn_Al_encut_350_kpt_4 is being loaded instead of running. To re-run use the argument 'run_again=True'\n",
      "2020-04-15 00:27:01,032 - pyiron_log - WARNING - The job murn_Al_encut_450_kpt_4 is being loaded instead of running. To re-run use the argument 'run_again=True'\n",
      "2020-04-15 00:27:02,324 - pyiron_log - WARNING - The job murn_Al_encut_250_kpt_8 is being loaded instead of running. To re-run use the argument 'run_again=True'\n",
      "2020-04-15 00:27:03,683 - pyiron_log - WARNING - The job murn_Al_encut_350_kpt_8 is being loaded instead of running. To re-run use the argument 'run_again=True'\n",
      "2020-04-15 00:27:04,407 - pyiron_log - WARNING - The job murn_Al_encut_450_kpt_8 is being loaded instead of running. To re-run use the argument 'run_again=True'\n",
      "2020-04-15 00:27:05,050 - pyiron_log - WARNING - The job murn_Al_encut_250_kpt_12 is being loaded instead of running. To re-run use the argument 'run_again=True'\n",
      "2020-04-15 00:27:05,634 - pyiron_log - WARNING - The job murn_Al_encut_350_kpt_12 is being loaded instead of running. To re-run use the argument 'run_again=True'\n",
      "2020-04-15 00:27:06,227 - pyiron_log - WARNING - The job murn_Al_encut_450_kpt_12 is being loaded instead of running. To re-run use the argument 'run_again=True'\n",
      "2020-04-15 00:27:06,972 - pyiron_log - WARNING - The job murn_Al_encut_250_kpt_16 is being loaded instead of running. To re-run use the argument 'run_again=True'\n",
      "2020-04-15 00:27:07,637 - pyiron_log - WARNING - The job murn_Al_encut_350_kpt_16 is being loaded instead of running. To re-run use the argument 'run_again=True'\n",
      "2020-04-15 00:27:08,239 - pyiron_log - WARNING - The job murn_Al_encut_450_kpt_16 is being loaded instead of running. To re-run use the argument 'run_again=True'\n"
     ]
    }
   ],
   "source": [
    "encut_list = [250, 350, 450]\n",
    "#kpoint_list = [4, 8, 12, 16]\n",
    "kpoint_list = [4, 12]\n",
    "\n",
    "for kpt in kpoint_list:\n",
    "    for encut in encut_list:\n",
    "        job_name = \"murn_Al_encut_{}_kpt_{}\".format(encut, kpt)\n",
    "        murn = pr.create_job(pr.job_type.Murnaghan, job_name)\n",
    "        job_ref = pr.create_job(pr.job_type.Sphinx, \"Al_ref\")\n",
    "        job_ref.structure = pr.create_ase_bulk(\"Al\")\n",
    "        job_ref.calc_static()\n",
    "        job_ref.plane_wave_cutoff = encut\n",
    "        k_mesh = [kpt] * 3\n",
    "        job_ref.set_kpoints(mesh=k_mesh)\n",
    "        murn.ref_job = job_ref\n",
    "        murn.input[\"num_points\"] = 9\n",
    "        murn.run()"
   ]
  },
  {
   "cell_type": "markdown",
   "metadata": {},
   "source": [
    "### Using pyiron tables"
   ]
  },
  {
   "cell_type": "code",
   "execution_count": 36,
   "metadata": {},
   "outputs": [],
   "source": [
    "from pyiron.table.datamining import PyironTable"
   ]
  },
  {
   "cell_type": "code",
   "execution_count": 37,
   "metadata": {},
   "outputs": [],
   "source": [
    "pt = PyironTable(pr, \"murn_table_dft\")"
   ]
  },
  {
   "cell_type": "code",
   "execution_count": 38,
   "metadata": {},
   "outputs": [
    {
     "data": {
      "text/plain": [
       "4.056387965013417"
      ]
     },
     "execution_count": 38,
     "metadata": {},
     "output_type": "execute_result"
    }
   ],
   "source": [
    "murn[\"output/structure/cell/cell\"][0, 1] * 2"
   ]
  },
  {
   "cell_type": "code",
   "execution_count": 39,
   "metadata": {},
   "outputs": [],
   "source": [
    "def get_lattice_parameter(job):\n",
    "    return job[\"output/structure/cell/cell\"][0, 1] * 2\n",
    "\n",
    "def get_eq_energy(job):\n",
    "    return job[\"output/equilibrium_energy\"]\n",
    "\n",
    "def get_bm(job):\n",
    "    return job[\"output/equilibrium_bulk_modulus\"]\n",
    "\n",
    "def get_encut(job):\n",
    "    return get_encut_kpoints(job)[0]\n",
    "\n",
    "def get_kpoints(job):\n",
    "    return get_encut_kpoints(job)[1]\n",
    "\n",
    "def get_cohesive_energy(job):\n",
    "    e_bulk = get_eq_energy(job)\n",
    "    encut_str= get_encut(job)\n",
    "    encut = int(encut_str)\n",
    "    atom_job_name = \"aj_encut_{}\".format(encut_str)\n",
    "    df = pr.job_table()\n",
    "    if not atom_job_name in df[df.status==\"finished\"].job.to_list():\n",
    "        atom_job = pr.create_job(pr.job_type.Sphinx, atom_job_name)\n",
    "        el = job[\"output/structure/species\"][0]\n",
    "        atom_job.structure = pr.create_atoms(el, cell=np.eye(3)* 10, scaled_positions=[[0.5, 0.5, 0.5]])\n",
    "        atom_job.plane_wave_cutoff = encut\n",
    "        # Using only the Gamma point\n",
    "        atom_job.set_kpoints(mesh=[1, 1, 1])\n",
    "        atom_job.calc_static()\n",
    "        atom_job.run()\n",
    "    e_atom = pr.inspect(atom_job_name)[\"output/generic/energy_tot\"][-1]\n",
    "    return e_bulk - e_atom"
   ]
  },
  {
   "cell_type": "code",
   "execution_count": 40,
   "metadata": {},
   "outputs": [],
   "source": [
    "def filter_function(job):\n",
    "    return (job.status == \"finished\") & (\"murn\" in job.job_name)"
   ]
  },
  {
   "cell_type": "code",
   "execution_count": 41,
   "metadata": {},
   "outputs": [],
   "source": [
    "pt.filter_function = filter_function"
   ]
  },
  {
   "cell_type": "code",
   "execution_count": 42,
   "metadata": {},
   "outputs": [],
   "source": [
    "pt.add[\"a_eq\"] = get_lattice_parameter\n",
    "pt.add[\"bulk_modulus\"] = get_bm\n",
    "pt.add[\"encut\"] = get_encut\n",
    "pt.add[\"kpoints\"] = get_kpoints\n",
    "pt.add[\"e_coh\"] = get_cohesive_energy"
   ]
  },
  {
   "cell_type": "code",
   "execution_count": 43,
   "metadata": {},
   "outputs": [],
   "source": [
    "pt.convert_to_object = False"
   ]
  },
  {
   "cell_type": "code",
   "execution_count": 44,
   "metadata": {},
   "outputs": [
    {
     "name": "stderr",
     "output_type": "stream",
     "text": [
      "100%|██████████| 12/12 [00:00<00:00, 23.70it/s]\n"
     ]
    }
   ],
   "source": [
    "pt.create_table()"
   ]
  },
  {
   "cell_type": "code",
   "execution_count": 45,
   "metadata": {},
   "outputs": [],
   "source": [
    "df = pt.get_dataframe().drop([\"col_0\", \"col_1\", \"col_2\"], axis=1)"
   ]
  },
  {
   "cell_type": "code",
   "execution_count": 58,
   "metadata": {},
   "outputs": [
    {
     "data": {
      "text/html": [
       "<div>\n",
       "<style scoped>\n",
       "    .dataframe tbody tr th:only-of-type {\n",
       "        vertical-align: middle;\n",
       "    }\n",
       "\n",
       "    .dataframe tbody tr th {\n",
       "        vertical-align: top;\n",
       "    }\n",
       "\n",
       "    .dataframe thead th {\n",
       "        text-align: right;\n",
       "    }\n",
       "</style>\n",
       "<table border=\"1\" class=\"dataframe\">\n",
       "  <thead>\n",
       "    <tr style=\"text-align: right;\">\n",
       "      <th></th>\n",
       "      <th>job_id</th>\n",
       "      <th>a_eq</th>\n",
       "      <th>bulk_modulus</th>\n",
       "      <th>encut</th>\n",
       "      <th>kpoints</th>\n",
       "      <th>e_coh</th>\n",
       "    </tr>\n",
       "  </thead>\n",
       "  <tbody>\n",
       "    <tr>\n",
       "      <th>0</th>\n",
       "      <td>710</td>\n",
       "      <td>4.064954</td>\n",
       "      <td>79.255168</td>\n",
       "      <td>250</td>\n",
       "      <td>[4, 4, 4]</td>\n",
       "      <td>-3.150580</td>\n",
       "    </tr>\n",
       "    <tr>\n",
       "      <th>1</th>\n",
       "      <td>720</td>\n",
       "      <td>4.060305</td>\n",
       "      <td>80.455058</td>\n",
       "      <td>350</td>\n",
       "      <td>[4, 4, 4]</td>\n",
       "      <td>-3.159693</td>\n",
       "    </tr>\n",
       "    <tr>\n",
       "      <th>2</th>\n",
       "      <td>730</td>\n",
       "      <td>4.059577</td>\n",
       "      <td>79.963251</td>\n",
       "      <td>450</td>\n",
       "      <td>[4, 4, 4]</td>\n",
       "      <td>-3.162153</td>\n",
       "    </tr>\n",
       "    <tr>\n",
       "      <th>3</th>\n",
       "      <td>740</td>\n",
       "      <td>4.060430</td>\n",
       "      <td>77.003914</td>\n",
       "      <td>250</td>\n",
       "      <td>[8, 8, 8]</td>\n",
       "      <td>-3.176323</td>\n",
       "    </tr>\n",
       "    <tr>\n",
       "      <th>4</th>\n",
       "      <td>750</td>\n",
       "      <td>4.055563</td>\n",
       "      <td>78.123729</td>\n",
       "      <td>350</td>\n",
       "      <td>[8, 8, 8]</td>\n",
       "      <td>-3.185486</td>\n",
       "    </tr>\n",
       "    <tr>\n",
       "      <th>5</th>\n",
       "      <td>760</td>\n",
       "      <td>4.054754</td>\n",
       "      <td>77.673591</td>\n",
       "      <td>450</td>\n",
       "      <td>[8, 8, 8]</td>\n",
       "      <td>-3.187986</td>\n",
       "    </tr>\n",
       "    <tr>\n",
       "      <th>6</th>\n",
       "      <td>770</td>\n",
       "      <td>4.061995</td>\n",
       "      <td>77.308758</td>\n",
       "      <td>250</td>\n",
       "      <td>[12, 12, 12]</td>\n",
       "      <td>-3.174546</td>\n",
       "    </tr>\n",
       "    <tr>\n",
       "      <th>7</th>\n",
       "      <td>780</td>\n",
       "      <td>4.057107</td>\n",
       "      <td>78.470600</td>\n",
       "      <td>350</td>\n",
       "      <td>[12, 12, 12]</td>\n",
       "      <td>-3.183693</td>\n",
       "    </tr>\n",
       "    <tr>\n",
       "      <th>8</th>\n",
       "      <td>790</td>\n",
       "      <td>4.056346</td>\n",
       "      <td>78.002314</td>\n",
       "      <td>450</td>\n",
       "      <td>[12, 12, 12]</td>\n",
       "      <td>-3.186178</td>\n",
       "    </tr>\n",
       "    <tr>\n",
       "      <th>9</th>\n",
       "      <td>800</td>\n",
       "      <td>4.062140</td>\n",
       "      <td>77.312216</td>\n",
       "      <td>250</td>\n",
       "      <td>[16, 16, 16]</td>\n",
       "      <td>-3.174640</td>\n",
       "    </tr>\n",
       "    <tr>\n",
       "      <th>10</th>\n",
       "      <td>810</td>\n",
       "      <td>4.057145</td>\n",
       "      <td>78.524740</td>\n",
       "      <td>350</td>\n",
       "      <td>[16, 16, 16]</td>\n",
       "      <td>-3.183790</td>\n",
       "    </tr>\n",
       "    <tr>\n",
       "      <th>11</th>\n",
       "      <td>820</td>\n",
       "      <td>4.056388</td>\n",
       "      <td>78.042353</td>\n",
       "      <td>450</td>\n",
       "      <td>[16, 16, 16]</td>\n",
       "      <td>-3.186272</td>\n",
       "    </tr>\n",
       "  </tbody>\n",
       "</table>\n",
       "</div>"
      ],
      "text/plain": [
       "    job_id      a_eq  bulk_modulus  encut       kpoints     e_coh\n",
       "0      710  4.064954     79.255168    250     [4, 4, 4] -3.150580\n",
       "1      720  4.060305     80.455058    350     [4, 4, 4] -3.159693\n",
       "2      730  4.059577     79.963251    450     [4, 4, 4] -3.162153\n",
       "3      740  4.060430     77.003914    250     [8, 8, 8] -3.176323\n",
       "4      750  4.055563     78.123729    350     [8, 8, 8] -3.185486\n",
       "5      760  4.054754     77.673591    450     [8, 8, 8] -3.187986\n",
       "6      770  4.061995     77.308758    250  [12, 12, 12] -3.174546\n",
       "7      780  4.057107     78.470600    350  [12, 12, 12] -3.183693\n",
       "8      790  4.056346     78.002314    450  [12, 12, 12] -3.186178\n",
       "9      800  4.062140     77.312216    250  [16, 16, 16] -3.174640\n",
       "10     810  4.057145     78.524740    350  [16, 16, 16] -3.183790\n",
       "11     820  4.056388     78.042353    450  [16, 16, 16] -3.186272"
      ]
     },
     "execution_count": 58,
     "metadata": {},
     "output_type": "execute_result"
    }
   ],
   "source": [
    "df"
   ]
  },
  {
   "cell_type": "code",
   "execution_count": null,
   "metadata": {},
   "outputs": [],
   "source": []
  }
 ],
 "metadata": {
  "kernelspec": {
   "display_name": "Python 3",
   "language": "python",
   "name": "python3"
  },
  "language_info": {
   "codemirror_mode": {
    "name": "ipython",
    "version": 3
   },
   "file_extension": ".py",
   "mimetype": "text/x-python",
   "name": "python",
   "nbconvert_exporter": "python",
   "pygments_lexer": "ipython3",
   "version": "3.8.2"
  },
  "toc": {
   "base_numbering": 1,
   "nav_menu": {},
   "number_sections": true,
   "sideBar": true,
   "skip_h1_title": false,
   "title_cell": "Table of Contents",
   "title_sidebar": "Contents",
   "toc_cell": false,
   "toc_position": {},
   "toc_section_display": true,
   "toc_window_display": false
  }
 },
 "nbformat": 4,
 "nbformat_minor": 4
}
