{
 "cells": [
  {
   "cell_type": "markdown",
   "metadata": {},
   "source": [
    "# Exercise 2: Working with pyiron tables analyze data\n",
    "\n",
    "The `PyironTable` class is used to analyze data genreated in the previous notebook! Make sure you have run the first notebook before you go over this one."
   ]
  },
  {
   "cell_type": "code",
   "execution_count": 1,
   "metadata": {},
   "outputs": [],
   "source": [
    "import numpy as np\n",
    "import matplotlib.pylab as plt"
   ]
  },
  {
   "cell_type": "code",
   "execution_count": 2,
   "metadata": {},
   "outputs": [],
   "source": [
    "from pyiron import Project\n",
    "from pyiron.table.datamining import PyironTable"
   ]
  },
  {
   "cell_type": "code",
   "execution_count": 3,
   "metadata": {},
   "outputs": [],
   "source": [
    "pr = Project(\"demo/potential_scan\")"
   ]
  },
  {
   "cell_type": "markdown",
   "metadata": {},
   "source": [
    "## Creating a pyiron table\n",
    "\n",
    "The idea behind using pyiron tables is to analyze a dataset by applying certain functions on them in a highly automated way"
   ]
  },
  {
   "cell_type": "code",
   "execution_count": 4,
   "metadata": {},
   "outputs": [],
   "source": [
    "pt = PyironTable(pr, \"murn_table\")"
   ]
  },
  {
   "cell_type": "markdown",
   "metadata": {},
   "source": [
    "### Defining a 'filter' function\n",
    "\n",
    "A filtering of the dataser is necessary before functions (some of which are expensive) are applied on the dataset"
   ]
  },
  {
   "cell_type": "code",
   "execution_count": 5,
   "metadata": {},
   "outputs": [],
   "source": [
    "def filter_function(job):\n",
    "    return (job.status == \"finished\") & (\"murn\" in job.job_name)"
   ]
  },
  {
   "cell_type": "code",
   "execution_count": 6,
   "metadata": {},
   "outputs": [],
   "source": [
    "pt.filter_function = filter_function"
   ]
  },
  {
   "cell_type": "markdown",
   "metadata": {},
   "source": [
    "## Defining the set of functions\n",
    "\n",
    "The following functions are going to be used on the dataset"
   ]
  },
  {
   "cell_type": "code",
   "execution_count": 7,
   "metadata": {},
   "outputs": [],
   "source": [
    "def get_lattice_parameter(job):\n",
    "    return job[\"output/equilibrium_volume\"] ** (1/3)\n",
    "\n",
    "def get_bm(job):\n",
    "    return job[\"output/equilibrium_bulk_modulus\"]\n",
    "\n",
    "def get_pot(job):\n",
    "    child = job.project.inspect(job[\"output/id\"][0])\n",
    "    return child[\"input/potential/Name\"]\n",
    "\n",
    "def get_bulk_energy_size(job, size=4):\n",
    "    a = get_lattice_parameter(job)\n",
    "    el = job[\"output/structure/species\"][0]\n",
    "    ref_supercell = pr.create_ase_bulk(el, a=a).repeat(size)\n",
    "    pot = get_pot(job)\n",
    "    ref_job_name = \"rj_{}_s_{}\".format(pot, size).replace(\"-\", \"_\")\n",
    "    df = pr.job_table()\n",
    "    if not ref_job_name in df[df.status==\"finished\"].job.to_list():\n",
    "        ref_job = pr.create_job(pr.job_type.Lammps, ref_job_name)\n",
    "        ref_job.structure = ref_supercell\n",
    "        ref_job.potential = pot\n",
    "        ref_job.calc_minimize()\n",
    "        ref_job.run()\n",
    "    e_ref = pr.inspect(ref_job_name)[\"output/generic/energy_tot\"][-1]\n",
    "    n_ref = pr.inspect(ref_job_name)[\"output/generic/positions\"].shape[1]\n",
    "    return e_ref, n_ref \n",
    "\n",
    "def get_vac_formation_energy(job, size=4):\n",
    "    a = get_lattice_parameter(job)\n",
    "    el = job[\"output/structure/species\"][0]\n",
    "    ref_supercell = pr.create_ase_bulk(el, a=a).repeat(size)\n",
    "    def_supercell = ref_supercell[0:-1]\n",
    "    pot = get_pot(job)\n",
    "    ref_job_name = \"rj_{}_s_{}\".format(pot, size).replace(\"-\", \"_\")\n",
    "    def_job_name = \"dj_{}_s_{}\".format(pot, size).replace(\"-\", \"_\")\n",
    "    df = pr.job_table()\n",
    "    if not ref_job_name in df[df.status==\"finished\"].job.to_list():\n",
    "        ref_job = pr.create_job(pr.job_type.Lammps, ref_job_name)\n",
    "        ref_job.structure = ref_supercell\n",
    "        ref_job.potential = pot\n",
    "        ref_job.calc_minimize()\n",
    "        ref_job.run()\n",
    "    e_ref = pr.inspect(ref_job_name)[\"output/generic/energy_tot\"][-1]\n",
    "    n_ref = pr.inspect(ref_job_name)[\"output/generic/positions\"].shape[1]\n",
    "    if not def_job_name in df[df.status==\"finished\"].job.to_list():\n",
    "        def_job = pr.create_job(pr.job_type.Lammps, def_job_name)\n",
    "        def_job.structure = def_supercell\n",
    "        def_job.potential = pot\n",
    "        def_job.calc_minimize()\n",
    "        def_job.run()\n",
    "    e_def = pr.inspect(def_job_name)[\"output/generic/energy_tot\"][-1]\n",
    "    n_def = pr.inspect(def_job_name)[\"output/generic/positions\"].shape[1]\n",
    "    return (e_def - e_ref * (n_def/n_ref))\n",
    "\n",
    "def get_cohesive_energy(job, size=4):\n",
    "    e_bulk, n_bulk = get_bulk_energy_size(job, size)\n",
    "    pot = get_pot(job)\n",
    "    atom_job_name = \"aj_{}_s_{}\".format(pot, size).replace(\"-\", \"_\")\n",
    "    df = pr.job_table()\n",
    "    if not atom_job_name in df[df.status==\"finished\"].job.to_list():\n",
    "        atom_job = pr.create_job(pr.job_type.Lammps, atom_job_name)\n",
    "        el = job[\"output/structure/species\"][0]\n",
    "        atom_job.structure = pr.create_atoms(el, cell=np.eye(3)* 20, scaled_positions=[[0.5, 0.5, 0.5]])\n",
    "        atom_job.potential = pot\n",
    "        atom_job.calc_static()\n",
    "        atom_job.run()\n",
    "    e_atom = pr.inspect(atom_job_name)[\"output/generic/energy_tot\"][-1]\n",
    "    return e_bulk / n_bulk - e_atom\n"
   ]
  },
  {
   "cell_type": "markdown",
   "metadata": {},
   "source": [
    "### The functions are appended to the table"
   ]
  },
  {
   "cell_type": "code",
   "execution_count": 8,
   "metadata": {},
   "outputs": [],
   "source": [
    "pt.add[\"a_eq\"] = get_lattice_parameter\n",
    "pt.add[\"bulk_modulus\"] = get_bm\n",
    "pt.add[\"potential\"] = get_pot\n",
    "pt.add[\"vac_formation\"] = get_vac_formation_energy\n",
    "pt.add[\"ecoh\"] = get_cohesive_energy"
   ]
  },
  {
   "cell_type": "code",
   "execution_count": 9,
   "metadata": {},
   "outputs": [],
   "source": [
    "# Decides if the individual jobs are loaded or not during the creation of the table\n",
    "pt.convert_to_object = False"
   ]
  },
  {
   "cell_type": "markdown",
   "metadata": {},
   "source": [
    "### Creation of the table\n",
    "\n",
    "All functions are now applied"
   ]
  },
  {
   "cell_type": "code",
   "execution_count": 10,
   "metadata": {},
   "outputs": [
    {
     "name": "stderr",
     "output_type": "stream",
     "text": [
      "  0%|          | 0/9 [00:00<?, ?it/s]"
     ]
    },
    {
     "name": "stdout",
     "output_type": "stream",
     "text": [
      "The job rj_Al_Mg_Mendelev_eam_s_4 was saved and received the ID: 1626\n",
      "The job dj_Al_Mg_Mendelev_eam_s_4 was saved and received the ID: 1627\n",
      "The job aj_Al_Mg_Mendelev_eam_s_4 was saved and received the ID: 1628\n"
     ]
    },
    {
     "name": "stderr",
     "output_type": "stream",
     "text": [
      " 11%|█         | 1/9 [00:11<01:30, 11.28s/it]"
     ]
    },
    {
     "name": "stdout",
     "output_type": "stream",
     "text": [
      "The job rj_Zope_Ti_Al_2003_eam_s_4 was saved and received the ID: 1629\n",
      "The job dj_Zope_Ti_Al_2003_eam_s_4 was saved and received the ID: 1630\n",
      "The job aj_Zope_Ti_Al_2003_eam_s_4 was saved and received the ID: 1631\n"
     ]
    },
    {
     "name": "stderr",
     "output_type": "stream",
     "text": [
      " 22%|██▏       | 2/9 [00:23<01:20, 11.49s/it]"
     ]
    },
    {
     "name": "stdout",
     "output_type": "stream",
     "text": [
      "The job rj_Al_H_Ni_Angelo_eam_s_4 was saved and received the ID: 1632\n",
      "The job dj_Al_H_Ni_Angelo_eam_s_4 was saved and received the ID: 1633\n",
      "The job aj_Al_H_Ni_Angelo_eam_s_4 was saved and received the ID: 1634\n"
     ]
    },
    {
     "name": "stderr",
     "output_type": "stream",
     "text": [
      " 33%|███▎      | 3/9 [00:31<01:03, 10.60s/it]"
     ]
    },
    {
     "name": "stdout",
     "output_type": "stream",
     "text": [
      "The job rj_2000__Landa_A__Al_Pb__LAMMPS__ipr1_s_4 was saved and received the ID: 1635\n",
      "The job dj_2000__Landa_A__Al_Pb__LAMMPS__ipr1_s_4 was saved and received the ID: 1636\n",
      "The job aj_2000__Landa_A__Al_Pb__LAMMPS__ipr1_s_4 was saved and received the ID: 1637\n"
     ]
    },
    {
     "name": "stderr",
     "output_type": "stream",
     "text": [
      " 44%|████▍     | 4/9 [00:39<00:48,  9.78s/it]"
     ]
    },
    {
     "name": "stdout",
     "output_type": "stream",
     "text": [
      "The job rj_2004__Zhou_X_W__Al__LAMMPS__ipr2_s_4 was saved and received the ID: 1638\n",
      "The job dj_2004__Zhou_X_W__Al__LAMMPS__ipr2_s_4 was saved and received the ID: 1639\n",
      "The job aj_2004__Zhou_X_W__Al__LAMMPS__ipr2_s_4 was saved and received the ID: 1640\n"
     ]
    },
    {
     "name": "stderr",
     "output_type": "stream",
     "text": [
      " 56%|█████▌    | 5/9 [00:47<00:36,  9.11s/it]"
     ]
    },
    {
     "name": "stdout",
     "output_type": "stream",
     "text": [
      "The job rj_2003__Zope_R_R__Al__LAMMPS__ipr1_s_4 was saved and received the ID: 1641\n",
      "The job dj_2003__Zope_R_R__Al__LAMMPS__ipr1_s_4 was saved and received the ID: 1642\n",
      "The job aj_2003__Zope_R_R__Al__LAMMPS__ipr1_s_4 was saved and received the ID: 1643\n"
     ]
    },
    {
     "name": "stderr",
     "output_type": "stream",
     "text": [
      " 67%|██████▋   | 6/9 [00:56<00:27,  9.04s/it]"
     ]
    },
    {
     "name": "stdout",
     "output_type": "stream",
     "text": [
      "The job rj_2015__Mendelev_M_I__Al_Sm__LAMMPS__ipr1_s_4 was saved and received the ID: 1644\n",
      "The job dj_2015__Mendelev_M_I__Al_Sm__LAMMPS__ipr1_s_4 was saved and received the ID: 1645\n",
      "The job aj_2015__Mendelev_M_I__Al_Sm__LAMMPS__ipr1_s_4 was saved and received the ID: 1646\n"
     ]
    },
    {
     "name": "stderr",
     "output_type": "stream",
     "text": [
      " 78%|███████▊  | 7/9 [01:06<00:18,  9.49s/it]"
     ]
    },
    {
     "name": "stdout",
     "output_type": "stream",
     "text": [
      "The job rj_1997__Liu_X_Y__Al_Mg__LAMMPS__ipr1_s_4 was saved and received the ID: 1647\n",
      "The job dj_1997__Liu_X_Y__Al_Mg__LAMMPS__ipr1_s_4 was saved and received the ID: 1648\n",
      "The job aj_1997__Liu_X_Y__Al_Mg__LAMMPS__ipr1_s_4 was saved and received the ID: 1649\n"
     ]
    },
    {
     "name": "stderr",
     "output_type": "stream",
     "text": [
      " 89%|████████▉ | 8/9 [01:14<00:08,  8.89s/it]"
     ]
    },
    {
     "name": "stdout",
     "output_type": "stream",
     "text": [
      "The job rj_2004__Zhou_X_W__Al__LAMMPS__ipr1_s_4 was saved and received the ID: 1650\n",
      "The job dj_2004__Zhou_X_W__Al__LAMMPS__ipr1_s_4 was saved and received the ID: 1651\n",
      "The job aj_2004__Zhou_X_W__Al__LAMMPS__ipr1_s_4 was saved and received the ID: 1652\n"
     ]
    },
    {
     "name": "stderr",
     "output_type": "stream",
     "text": [
      "100%|██████████| 9/9 [01:21<00:00,  9.09s/it]\n"
     ]
    }
   ],
   "source": [
    "pt.create_table()"
   ]
  },
  {
   "cell_type": "markdown",
   "metadata": {},
   "source": [
    "### Output the computed dataset as a pandas dataframe"
   ]
  },
  {
   "cell_type": "code",
   "execution_count": 11,
   "metadata": {},
   "outputs": [],
   "source": [
    "df = pt.get_dataframe().drop([\"col_0\", \"col_1\", \"col_2\"], axis=1)"
   ]
  },
  {
   "cell_type": "code",
   "execution_count": 12,
   "metadata": {},
   "outputs": [],
   "source": [
    "df = df.set_index(\"potential\")"
   ]
  },
  {
   "cell_type": "code",
   "execution_count": 13,
   "metadata": {},
   "outputs": [
    {
     "data": {
      "text/html": [
       "<div>\n",
       "<style scoped>\n",
       "    .dataframe tbody tr th:only-of-type {\n",
       "        vertical-align: middle;\n",
       "    }\n",
       "\n",
       "    .dataframe tbody tr th {\n",
       "        vertical-align: top;\n",
       "    }\n",
       "\n",
       "    .dataframe thead th {\n",
       "        text-align: right;\n",
       "    }\n",
       "</style>\n",
       "<table border=\"1\" class=\"dataframe\">\n",
       "  <thead>\n",
       "    <tr style=\"text-align: right;\">\n",
       "      <th></th>\n",
       "      <th>job_id</th>\n",
       "      <th>a_eq</th>\n",
       "      <th>bulk_modulus</th>\n",
       "      <th>vac_formation</th>\n",
       "      <th>ecoh</th>\n",
       "    </tr>\n",
       "    <tr>\n",
       "      <th>potential</th>\n",
       "      <th></th>\n",
       "      <th></th>\n",
       "      <th></th>\n",
       "      <th></th>\n",
       "      <th></th>\n",
       "    </tr>\n",
       "  </thead>\n",
       "  <tbody>\n",
       "    <tr>\n",
       "      <th>Al_Mg_Mendelev_eam</th>\n",
       "      <td>1516</td>\n",
       "      <td>4.045415</td>\n",
       "      <td>89.015487</td>\n",
       "      <td>0.667786</td>\n",
       "      <td>-3.410657</td>\n",
       "    </tr>\n",
       "    <tr>\n",
       "      <th>Zope_Ti_Al_2003_eam</th>\n",
       "      <td>1528</td>\n",
       "      <td>4.049946</td>\n",
       "      <td>80.836779</td>\n",
       "      <td>0.720309</td>\n",
       "      <td>-3.298766</td>\n",
       "    </tr>\n",
       "    <tr>\n",
       "      <th>Al_H_Ni_Angelo_eam</th>\n",
       "      <td>1540</td>\n",
       "      <td>4.049954</td>\n",
       "      <td>81.040445</td>\n",
       "      <td>0.546216</td>\n",
       "      <td>-3.360000</td>\n",
       "    </tr>\n",
       "    <tr>\n",
       "      <th>2000--Landa-A--Al-Pb--LAMMPS--ipr1</th>\n",
       "      <td>1554</td>\n",
       "      <td>4.031246</td>\n",
       "      <td>78.213776</td>\n",
       "      <td>0.688258</td>\n",
       "      <td>-3.359280</td>\n",
       "    </tr>\n",
       "    <tr>\n",
       "      <th>2004--Zhou-X-W--Al--LAMMPS--ipr2</th>\n",
       "      <td>1566</td>\n",
       "      <td>4.050316</td>\n",
       "      <td>71.546634</td>\n",
       "      <td>0.668060</td>\n",
       "      <td>-3.579979</td>\n",
       "    </tr>\n",
       "    <tr>\n",
       "      <th>2003--Zope-R-R--Al--LAMMPS--ipr1</th>\n",
       "      <td>1578</td>\n",
       "      <td>4.049946</td>\n",
       "      <td>80.836777</td>\n",
       "      <td>0.720309</td>\n",
       "      <td>-3.353921</td>\n",
       "    </tr>\n",
       "    <tr>\n",
       "      <th>2015--Mendelev-M-I--Al-Sm--LAMMPS--ipr1</th>\n",
       "      <td>1590</td>\n",
       "      <td>4.041196</td>\n",
       "      <td>85.017411</td>\n",
       "      <td>0.763640</td>\n",
       "      <td>-3.905149</td>\n",
       "    </tr>\n",
       "    <tr>\n",
       "      <th>1997--Liu-X-Y--Al-Mg--LAMMPS--ipr1</th>\n",
       "      <td>1602</td>\n",
       "      <td>4.032659</td>\n",
       "      <td>83.498560</td>\n",
       "      <td>0.704110</td>\n",
       "      <td>-3.360052</td>\n",
       "    </tr>\n",
       "    <tr>\n",
       "      <th>2004--Zhou-X-W--Al--LAMMPS--ipr1</th>\n",
       "      <td>1614</td>\n",
       "      <td>4.050315</td>\n",
       "      <td>71.546946</td>\n",
       "      <td>0.668085</td>\n",
       "      <td>-3.579978</td>\n",
       "    </tr>\n",
       "  </tbody>\n",
       "</table>\n",
       "</div>"
      ],
      "text/plain": [
       "                                         job_id      a_eq  bulk_modulus  \\\n",
       "potential                                                                 \n",
       "Al_Mg_Mendelev_eam                         1516  4.045415     89.015487   \n",
       "Zope_Ti_Al_2003_eam                        1528  4.049946     80.836779   \n",
       "Al_H_Ni_Angelo_eam                         1540  4.049954     81.040445   \n",
       "2000--Landa-A--Al-Pb--LAMMPS--ipr1         1554  4.031246     78.213776   \n",
       "2004--Zhou-X-W--Al--LAMMPS--ipr2           1566  4.050316     71.546634   \n",
       "2003--Zope-R-R--Al--LAMMPS--ipr1           1578  4.049946     80.836777   \n",
       "2015--Mendelev-M-I--Al-Sm--LAMMPS--ipr1    1590  4.041196     85.017411   \n",
       "1997--Liu-X-Y--Al-Mg--LAMMPS--ipr1         1602  4.032659     83.498560   \n",
       "2004--Zhou-X-W--Al--LAMMPS--ipr1           1614  4.050315     71.546946   \n",
       "\n",
       "                                         vac_formation      ecoh  \n",
       "potential                                                         \n",
       "Al_Mg_Mendelev_eam                            0.667786 -3.410657  \n",
       "Zope_Ti_Al_2003_eam                           0.720309 -3.298766  \n",
       "Al_H_Ni_Angelo_eam                            0.546216 -3.360000  \n",
       "2000--Landa-A--Al-Pb--LAMMPS--ipr1            0.688258 -3.359280  \n",
       "2004--Zhou-X-W--Al--LAMMPS--ipr2              0.668060 -3.579979  \n",
       "2003--Zope-R-R--Al--LAMMPS--ipr1              0.720309 -3.353921  \n",
       "2015--Mendelev-M-I--Al-Sm--LAMMPS--ipr1       0.763640 -3.905149  \n",
       "1997--Liu-X-Y--Al-Mg--LAMMPS--ipr1            0.704110 -3.360052  \n",
       "2004--Zhou-X-W--Al--LAMMPS--ipr1              0.668085 -3.579978  "
      ]
     },
     "execution_count": 13,
     "metadata": {},
     "output_type": "execute_result"
    }
   ],
   "source": [
    "df\n",
    "#df.to_csv(\"potential_validation_Al.csv\")"
   ]
  },
  {
   "cell_type": "code",
   "execution_count": null,
   "metadata": {},
   "outputs": [],
   "source": []
  },
  {
   "cell_type": "code",
   "execution_count": null,
   "metadata": {},
   "outputs": [],
   "source": []
  }
 ],
 "metadata": {
  "kernelspec": {
   "display_name": "Python 3",
   "language": "python",
   "name": "python3"
  },
  "language_info": {
   "codemirror_mode": {
    "name": "ipython",
    "version": 3
   },
   "file_extension": ".py",
   "mimetype": "text/x-python",
   "name": "python",
   "nbconvert_exporter": "python",
   "pygments_lexer": "ipython3",
   "version": "3.8.2"
  }
 },
 "nbformat": 4,
 "nbformat_minor": 4
}
