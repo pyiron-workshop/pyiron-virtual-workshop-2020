{
 "cells": [
  {
   "cell_type": "markdown",
   "metadata": {},
   "source": [
    "# Exercise 1: Introduction to pyiron"
   ]
  },
  {
   "cell_type": "markdown",
   "metadata": {},
   "source": [
    "## Imports and and working with projects"
   ]
  },
  {
   "cell_type": "code",
   "execution_count": 1,
   "metadata": {
    "ExecuteTime": {
     "end_time": "2020-02-21T12:39:35.662902Z",
     "start_time": "2020-02-21T12:39:35.422425Z"
    }
   },
   "outputs": [],
   "source": [
    "import numpy as np\n",
    "import matplotlib.pylab as plt\n",
    "import pandas as pd"
   ]
  },
  {
   "cell_type": "code",
   "execution_count": 2,
   "metadata": {
    "ExecuteTime": {
     "end_time": "2020-02-21T12:39:46.781567Z",
     "start_time": "2020-02-21T12:39:44.865270Z"
    }
   },
   "outputs": [],
   "source": [
    "from pyiron import Project"
   ]
  },
  {
   "cell_type": "code",
   "execution_count": 3,
   "metadata": {
    "ExecuteTime": {
     "end_time": "2020-02-21T13:05:38.491431Z",
     "start_time": "2020-02-21T13:05:37.339476Z"
    }
   },
   "outputs": [],
   "source": [
    "pr = Project(\"demo\")\n",
    "\n",
    "# To delete all jobs and start from scratch, uncomment the next line\n",
    "#pr.remove_jobs(recursive=True)"
   ]
  },
  {
   "cell_type": "markdown",
   "metadata": {},
   "source": [
    "## Creating and manipulating structures"
   ]
  },
  {
   "cell_type": "code",
   "execution_count": 4,
   "metadata": {
    "ExecuteTime": {
     "end_time": "2020-02-21T13:05:43.326193Z",
     "start_time": "2020-02-21T13:05:43.205610Z"
    }
   },
   "outputs": [
    {
     "data": {
      "application/vnd.jupyter.widget-view+json": {
       "model_id": "90899756cabd4e1dbdd35aedbaad8a77",
       "version_major": 2,
       "version_minor": 0
      },
      "text/plain": [
       "_ColormakerRegistry()"
      ]
     },
     "metadata": {},
     "output_type": "display_data"
    },
    {
     "data": {
      "application/vnd.jupyter.widget-view+json": {
       "model_id": "caead75905cd46da81e3b9d1518cbba4",
       "version_major": 2,
       "version_minor": 0
      },
      "text/plain": [
       "NGLWidget()"
      ]
     },
     "metadata": {},
     "output_type": "display_data"
    }
   ],
   "source": [
    "# atomistic structures\n",
    "Al_struct = pr.create_ase_bulk(\"Al\", cubic=True).repeat([2, 2, 4])\n",
    "Al_struct.plot3d()"
   ]
  },
  {
   "cell_type": "code",
   "execution_count": 5,
   "metadata": {},
   "outputs": [
    {
     "data": {
      "application/vnd.jupyter.widget-view+json": {
       "model_id": "d9bb63a410a8470a8485b407faa67608",
       "version_major": 2,
       "version_minor": 0
      },
      "text/plain": [
       "NGLWidget()"
      ]
     },
     "metadata": {},
     "output_type": "display_data"
    }
   ],
   "source": [
    "Al_struct[36] = \"Cu\"\n",
    "Al_struct.plot3d(particle_size=3)"
   ]
  },
  {
   "cell_type": "code",
   "execution_count": 6,
   "metadata": {},
   "outputs": [
    {
     "data": {
      "application/vnd.jupyter.widget-view+json": {
       "model_id": "ba5a6eaf4afb477fb3e97bcdec6728e2",
       "version_major": 2,
       "version_minor": 0
      },
      "text/plain": [
       "NGLWidget()"
      ]
     },
     "metadata": {},
     "output_type": "display_data"
    }
   ],
   "source": [
    "del Al_struct[17]\n",
    "Al_struct.plot3d(particle_size=3)"
   ]
  },
  {
   "cell_type": "markdown",
   "metadata": {},
   "source": [
    "### Creating bulk water consisting of several water molecules"
   ]
  },
  {
   "cell_type": "code",
   "execution_count": 7,
   "metadata": {},
   "outputs": [
    {
     "data": {
      "application/vnd.jupyter.widget-view+json": {
       "model_id": "03532149ea7947c5b8206a11f0c30683",
       "version_major": 2,
       "version_minor": 0
      },
      "text/plain": [
       "NGLWidget()"
      ]
     },
     "metadata": {},
     "output_type": "display_data"
    }
   ],
   "source": [
    "cell = np.eye(3) * 10\n",
    "r_O = [0, 0, 0]\n",
    "r_H1 = [0.0, 0.7, 0.7]\n",
    "r_H2 = [0.0, 0.7, -0.7]\n",
    "water_molecule = pr.create_atoms(\"H2O\", positions=[r_H1, r_H2, r_O], cell=cell)\n",
    "water_molecule.center()\n",
    "water_molecule.set_cell(water_molecule.cell * water_molecule.get_density() ** (1/3), scale_atoms=False)\n",
    "water_molecule.get_density()\n",
    "water_box = water_molecule.repeat(3)\n",
    "water_box.center_coordinates_in_unit_cell()\n",
    "water_box.plot3d(spacefill=False)"
   ]
  },
  {
   "cell_type": "markdown",
   "metadata": {},
   "source": [
    "### Creating an Al supercell with interstitial H"
   ]
  },
  {
   "cell_type": "markdown",
   "metadata": {},
   "source": [
    "#### Create Al sublattice"
   ]
  },
  {
   "cell_type": "code",
   "execution_count": 8,
   "metadata": {},
   "outputs": [],
   "source": [
    "Al_struct = pr.create_ase_bulk(\"Al\", cubic=True)"
   ]
  },
  {
   "cell_type": "markdown",
   "metadata": {},
   "source": [
    "#### Create H interstitial sublattice\n",
    "\n",
    "Translate the H position by half the unit cell vectors."
   ]
  },
  {
   "cell_type": "code",
   "execution_count": 11,
   "metadata": {},
   "outputs": [],
   "source": [
    "H_int = Al_struct.copy()\n",
    "H_int[:] = \"H\"\n",
    "H_int.positions += 0.5 * H_int.cell @ (1, 1, 1)"
   ]
  },
  {
   "cell_type": "markdown",
   "metadata": {},
   "source": [
    "#### Create a 2x2x4 supercell for both lattices"
   ]
  },
  {
   "cell_type": "code",
   "execution_count": 12,
   "metadata": {},
   "outputs": [],
   "source": [
    "Al_struct.set_repeat([2, 2, 4])\n",
    "H_int.set_repeat([2, 2, 4])"
   ]
  },
  {
   "cell_type": "markdown",
   "metadata": {},
   "source": [
    "#### Occupy the H sublattice randomly with 10 H atoms "
   ]
  },
  {
   "cell_type": "code",
   "execution_count": 13,
   "metadata": {},
   "outputs": [],
   "source": [
    "rand_int = np.arange(0, len(H_int))\n",
    "np.random.shuffle(rand_int)\n",
    "H_int = H_int[rand_int[:10]]"
   ]
  },
  {
   "cell_type": "markdown",
   "metadata": {},
   "source": [
    "#### Combine Al and H sublattice in same supercell"
   ]
  },
  {
   "cell_type": "code",
   "execution_count": 14,
   "metadata": {},
   "outputs": [
    {
     "data": {
      "application/vnd.jupyter.widget-view+json": {
       "model_id": "f98c72cd8d4c435bbbb35979b81dd9cc",
       "version_major": 2,
       "version_minor": 0
      },
      "text/plain": [
       "NGLWidget()"
      ]
     },
     "metadata": {},
     "output_type": "display_data"
    }
   ],
   "source": [
    "AlH_struct = Al_struct + H_int\n",
    "AlH_struct.plot3d(particle_size=3)"
   ]
  },
  {
   "cell_type": "markdown",
   "metadata": {},
   "source": [
    "## Perform a MD simulation of the AlH supercell using LAMMPS"
   ]
  },
  {
   "cell_type": "markdown",
   "metadata": {},
   "source": [
    "### Setup the Lammps calculation"
   ]
  },
  {
   "cell_type": "code",
   "execution_count": 15,
   "metadata": {},
   "outputs": [
    {
     "name": "stdout",
     "output_type": "stream",
     "text": [
      "['Al_H_Ni_Angelo_eam', '1995--Angelo-J-E--Ni-Al-H--LAMMPS--ipr1', '2018--Zhou-X-W--Al-Cu-H--LAMMPS--ipr1', 'EAM_Dynamo_AngeloMoodyBaskes_1995_NiAlH__MO_418978237058_005']\n"
     ]
    }
   ],
   "source": [
    "job_lammps = pr.create_job(job_type=pr.job_type.Lammps, job_name= \"AlH_lammps\")\n",
    "job_lammps.structure = AlH_struct\n",
    "print(job_lammps.list_potentials())\n",
    "job_lammps.potential =  'Al_H_Ni_Angelo_eam'\n",
    "job_lammps.calc_md(temperature=600, n_ionic_steps=10000)"
   ]
  },
  {
   "cell_type": "code",
   "execution_count": 16,
   "metadata": {},
   "outputs": [
    {
     "name": "stdout",
     "output_type": "stream",
     "text": [
      "The job AlH_lammps was saved and received the ID: 510\n"
     ]
    }
   ],
   "source": [
    "job_lammps.run()"
   ]
  },
  {
   "cell_type": "markdown",
   "metadata": {},
   "source": [
    "### Animate MD trajectories"
   ]
  },
  {
   "cell_type": "code",
   "execution_count": 17,
   "metadata": {},
   "outputs": [
    {
     "data": {
      "application/vnd.jupyter.widget-view+json": {
       "model_id": "eb8a6a1f94d5445988cb65f3dba483de",
       "version_major": 2,
       "version_minor": 0
      },
      "text/plain": [
       "NGLWidget(max_frame=100)"
      ]
     },
     "metadata": {},
     "output_type": "display_data"
    }
   ],
   "source": [
    "job_lammps.animate_structure(particle_size=1)"
   ]
  },
  {
   "cell_type": "markdown",
   "metadata": {},
   "source": [
    "### Analyze trajectories in more detail"
   ]
  },
  {
   "cell_type": "code",
   "execution_count": 18,
   "metadata": {},
   "outputs": [
    {
     "data": {
      "text/plain": [
       "array([64, 65, 66, 67, 68, 69, 70, 71, 72, 73])"
      ]
     },
     "execution_count": 18,
     "metadata": {},
     "output_type": "execute_result"
    }
   ],
   "source": [
    "H_indices = AlH_struct.select_index(\"H\")\n",
    "Al_indices = AlH_struct.select_index(\"Al\")\n",
    "H_indices"
   ]
  },
  {
   "cell_type": "markdown",
   "metadata": {},
   "source": [
    "#### Plot Al trajectories in grey, H ones in red"
   ]
  },
  {
   "cell_type": "code",
   "execution_count": 19,
   "metadata": {},
   "outputs": [
    {
     "data": {
      "image/png": "[encoded data removed]",
      "text/plain": [
       "<Figure size 432x288 with 1 Axes>"
      ]
     },
     "metadata": {
      "needs_background": "light"
     },
     "output_type": "display_data"
    }
   ],
   "source": [
    "plt.plot(job_lammps.output.unwrapped_positions[:, :, 2], color=\"grey\")\n",
    "plt.plot(job_lammps.output.unwrapped_positions[:, H_indices, 2], color=\"red\")\n",
    "plt.xlabel(\"time [fs]\")\n",
    "plt.ylabel(\"positions [$\\AA$]\");"
   ]
  },
  {
   "cell_type": "markdown",
   "metadata": {},
   "source": [
    "### Visualize the last MD configuration"
   ]
  },
  {
   "cell_type": "code",
   "execution_count": 20,
   "metadata": {},
   "outputs": [
    {
     "data": {
      "application/vnd.jupyter.widget-view+json": {
       "model_id": "5a7f19dcae414fc292badf2718aabbf9",
       "version_major": 2,
       "version_minor": 0
      },
      "text/plain": [
       "NGLWidget()"
      ]
     },
     "metadata": {},
     "output_type": "display_data"
    }
   ],
   "source": [
    "md_struct = job_lammps.get_structure(iteration_step=-1)\n",
    "md_struct.plot3d(particle_size=2)"
   ]
  },
  {
   "cell_type": "markdown",
   "metadata": {},
   "source": [
    "### Take the last configuration and perform structure relaxation (including cell relaxation - pressure=0)"
   ]
  },
  {
   "cell_type": "code",
   "execution_count": 21,
   "metadata": {},
   "outputs": [],
   "source": [
    "job_lammps_minimize = pr.create_job(pr.job_type.Lammps, \"AlH_minimize\")\n",
    "job_lammps_minimize.structure = md_struct"
   ]
  },
  {
   "cell_type": "code",
   "execution_count": 22,
   "metadata": {},
   "outputs": [],
   "source": [
    "job_lammps_minimize.potential = job_lammps.potential.copy() # this looks not so nice, could we take a copy of job_lammps?"
   ]
  },
  {
   "cell_type": "code",
   "execution_count": 23,
   "metadata": {},
   "outputs": [
    {
     "name": "stdout",
     "output_type": "stream",
     "text": [
      "The job AlH_minimize was saved and received the ID: 511\n"
     ]
    }
   ],
   "source": [
    "job_lammps_minimize.calc_minimize(pressure=0)\n",
    "job_lammps_minimize.run()"
   ]
  },
  {
   "cell_type": "code",
   "execution_count": 24,
   "metadata": {},
   "outputs": [
    {
     "data": {
      "image/png": "[encoded data removed]",
      "text/plain": [
       "<Figure size 432x288 with 1 Axes>"
      ]
     },
     "metadata": {
      "needs_background": "light"
     },
     "output_type": "display_data"
    }
   ],
   "source": [
    "plt.plot(job_lammps_minimize.output.volume)\n",
    "plt.title('Volume vs iteration')\n",
    "plt.ylabel('Volume [$A^3$]');"
   ]
  },
  {
   "cell_type": "code",
   "execution_count": 25,
   "metadata": {},
   "outputs": [
    {
     "data": {
      "application/vnd.jupyter.widget-view+json": {
       "model_id": "da648c0b0cb84aa0bd5f2009523b0834",
       "version_major": 2,
       "version_minor": 0
      },
      "text/plain": [
       "NGLWidget(max_frame=39)"
      ]
     },
     "metadata": {},
     "output_type": "display_data"
    }
   ],
   "source": [
    "job_lammps_minimize.animate_structure(particle_size=1)"
   ]
  },
  {
   "cell_type": "code",
   "execution_count": 26,
   "metadata": {},
   "outputs": [
    {
     "data": {
      "application/vnd.jupyter.widget-view+json": {
       "model_id": "d1ab944650ae4a209a8a90580ecf1e26",
       "version_major": 2,
       "version_minor": 0
      },
      "text/plain": [
       "NGLWidget()"
      ]
     },
     "metadata": {},
     "output_type": "display_data"
    }
   ],
   "source": [
    "job_lammps_minimize.get_structure(-1).plot3d(particle_size=2)"
   ]
  },
  {
   "cell_type": "markdown",
   "metadata": {},
   "source": [
    "## Analysis"
   ]
  },
  {
   "cell_type": "markdown",
   "metadata": {},
   "source": [
    "### Plot Al-Al and H-H pair correlation function of the last MD structure\n",
    "\n",
    "This is done using the `get_neighbors()` function"
   ]
  },
  {
   "cell_type": "code",
   "execution_count": 27,
   "metadata": {},
   "outputs": [
    {
     "data": {
      "image/png": "[encoded data removed]",
      "text/plain": [
       "<Figure size 432x288 with 1 Axes>"
      ]
     },
     "metadata": {
      "needs_background": "light"
     },
     "output_type": "display_data"
    }
   ],
   "source": [
    "neighbors_md = md_struct[Al_indices].get_neighbors(num_neighbors=100)\n",
    "plt.hist(neighbors_md.distances.flatten(), bins=50, alpha=0.3, density=True, label=\"Al-Al\")\n",
    "neighbors_md = md_struct[H_indices].get_neighbors(num_neighbors=100)\n",
    "plt.hist(neighbors_md.distances.flatten(), bins=50, alpha=0.3, density=True, label=\"H-H\")\n",
    "plt.xlabel('distance [A]')\n",
    "plt.legend();"
   ]
  },
  {
   "cell_type": "markdown",
   "metadata": {},
   "source": [
    "### Plot Al-Al and H-H pair correlation function after structure and cell relaxation "
   ]
  },
  {
   "cell_type": "code",
   "execution_count": 28,
   "metadata": {},
   "outputs": [
    {
     "data": {
      "image/png": "[encoded data removed]",
      "text/plain": [
       "<Figure size 432x288 with 1 Axes>"
      ]
     },
     "metadata": {
      "needs_background": "light"
     },
     "output_type": "display_data"
    }
   ],
   "source": [
    "min_struct = job_lammps_minimize.get_structure(-1)\n",
    "neighbors_min = min_struct[Al_indices].get_neighbors(num_neighbors=100)\n",
    "plt.hist(neighbors_min.distances.flatten(), bins=50, alpha=0.3, density=True, label=\"Al-Al\")\n",
    "neighbors_min = min_struct[H_indices].get_neighbors(num_neighbors=100)\n",
    "plt.hist(neighbors_min.distances.flatten(), bins=50, alpha=0.3, density=True, label=\"H-H\")\n",
    "plt.xlabel('distance [A]')\n",
    "plt.legend();"
   ]
  },
  {
   "cell_type": "markdown",
   "metadata": {},
   "source": [
    "### Compare Al-Al pair correlation before and after relaxation"
   ]
  },
  {
   "cell_type": "code",
   "execution_count": 29,
   "metadata": {},
   "outputs": [
    {
     "data": {
      "image/png": "[encoded data removed]",
      "text/plain": [
       "<Figure size 432x288 with 1 Axes>"
      ]
     },
     "metadata": {
      "needs_background": "light"
     },
     "output_type": "display_data"
    }
   ],
   "source": [
    "neighbors_min = min_struct[Al_indices].get_neighbors(num_neighbors=100)\n",
    "plt.hist(neighbors_min.distances.flatten(), bins=50, alpha=0.3, density=True, label=\"Al-Al min\")\n",
    "neighbors_md = md_struct[Al_indices].get_neighbors(num_neighbors=100)\n",
    "plt.hist(neighbors_md.distances.flatten(), bins=50, alpha=0.3, density=True, label=\"Al-Al md\")\n",
    "plt.legend();"
   ]
  },
  {
   "cell_type": "markdown",
   "metadata": {},
   "source": [
    "### Utility functions"
   ]
  },
  {
   "cell_type": "code",
   "execution_count": 30,
   "metadata": {},
   "outputs": [
    {
     "data": {
      "text/html": [
       "<div>\n",
       "<style scoped>\n",
       "    .dataframe tbody tr th:only-of-type {\n",
       "        vertical-align: middle;\n",
       "    }\n",
       "\n",
       "    .dataframe tbody tr th {\n",
       "        vertical-align: top;\n",
       "    }\n",
       "\n",
       "    .dataframe thead th {\n",
       "        text-align: right;\n",
       "    }\n",
       "</style>\n",
       "<table border=\"1\" class=\"dataframe\">\n",
       "  <thead>\n",
       "    <tr style=\"text-align: right;\">\n",
       "      <th></th>\n",
       "      <th>id</th>\n",
       "      <th>status</th>\n",
       "      <th>chemicalformula</th>\n",
       "      <th>job</th>\n",
       "      <th>subjob</th>\n",
       "      <th>projectpath</th>\n",
       "      <th>project</th>\n",
       "      <th>timestart</th>\n",
       "      <th>timestop</th>\n",
       "      <th>totalcputime</th>\n",
       "      <th>computer</th>\n",
       "      <th>hamilton</th>\n",
       "      <th>hamversion</th>\n",
       "      <th>parentid</th>\n",
       "      <th>masterid</th>\n",
       "    </tr>\n",
       "  </thead>\n",
       "  <tbody>\n",
       "    <tr>\n",
       "      <th>0</th>\n",
       "      <td>510</td>\n",
       "      <td>finished</td>\n",
       "      <td>Al64H10</td>\n",
       "      <td>AlH_lammps</td>\n",
       "      <td>/AlH_lammps</td>\n",
       "      <td>/home/ponder/</td>\n",
       "      <td>science/phd/dev/pyiron-virtual-workshop-2020/book/tutorials/demo/</td>\n",
       "      <td>2020-08-10 09:31:57.684716</td>\n",
       "      <td>2020-08-10 09:31:59.954779</td>\n",
       "      <td>2.0</td>\n",
       "      <td>pyiron@susan#1</td>\n",
       "      <td>Lammps</td>\n",
       "      <td>0.1</td>\n",
       "      <td>None</td>\n",
       "      <td>None</td>\n",
       "    </tr>\n",
       "    <tr>\n",
       "      <th>1</th>\n",
       "      <td>511</td>\n",
       "      <td>finished</td>\n",
       "      <td>Al64H10</td>\n",
       "      <td>AlH_minimize</td>\n",
       "      <td>/AlH_minimize</td>\n",
       "      <td>/home/ponder/</td>\n",
       "      <td>science/phd/dev/pyiron-virtual-workshop-2020/book/tutorials/demo/</td>\n",
       "      <td>2020-08-10 09:32:07.019388</td>\n",
       "      <td>2020-08-10 09:32:08.244496</td>\n",
       "      <td>1.0</td>\n",
       "      <td>pyiron@susan#1</td>\n",
       "      <td>Lammps</td>\n",
       "      <td>0.1</td>\n",
       "      <td>None</td>\n",
       "      <td>None</td>\n",
       "    </tr>\n",
       "  </tbody>\n",
       "</table>\n",
       "</div>"
      ],
      "text/plain": [
       "    id    status chemicalformula           job         subjob    projectpath  \\\n",
       "0  510  finished         Al64H10    AlH_lammps    /AlH_lammps  /home/ponder/   \n",
       "1  511  finished         Al64H10  AlH_minimize  /AlH_minimize  /home/ponder/   \n",
       "\n",
       "                                                             project  \\\n",
       "0  science/phd/dev/pyiron-virtual-workshop-2020/book/tutorials/demo/   \n",
       "1  science/phd/dev/pyiron-virtual-workshop-2020/book/tutorials/demo/   \n",
       "\n",
       "                   timestart                   timestop  totalcputime  \\\n",
       "0 2020-08-10 09:31:57.684716 2020-08-10 09:31:59.954779           2.0   \n",
       "1 2020-08-10 09:32:07.019388 2020-08-10 09:32:08.244496           1.0   \n",
       "\n",
       "         computer hamilton hamversion parentid masterid  \n",
       "0  pyiron@susan#1   Lammps        0.1     None     None  \n",
       "1  pyiron@susan#1   Lammps        0.1     None     None  "
      ]
     },
     "execution_count": 30,
     "metadata": {},
     "output_type": "execute_result"
    }
   ],
   "source": [
    "pr.job_table()"
   ]
  },
  {
   "cell_type": "code",
   "execution_count": 31,
   "metadata": {},
   "outputs": [],
   "source": [
    "job_md_reloaded = pr.load(\"AlH_lammps\")"
   ]
  },
  {
   "cell_type": "code",
   "execution_count": 32,
   "metadata": {},
   "outputs": [],
   "source": [
    "job_min_reloaded = pr.load(\"AlH_minimize\")"
   ]
  },
  {
   "cell_type": "code",
   "execution_count": 33,
   "metadata": {},
   "outputs": [
    {
     "data": {
      "text/plain": [
       "pyiron.lammps.lammps.Lammps"
      ]
     },
     "execution_count": 33,
     "metadata": {},
     "output_type": "execute_result"
    }
   ],
   "source": [
    "type(job_min_reloaded)"
   ]
  },
  {
   "cell_type": "code",
   "execution_count": 34,
   "metadata": {},
   "outputs": [
    {
     "data": {
      "text/plain": [
       "{'groups': [], 'nodes': ['AlH_lammps', 'AlH_minimize']}"
      ]
     },
     "execution_count": 34,
     "metadata": {},
     "output_type": "execute_result"
    }
   ],
   "source": [
    "pr"
   ]
  },
  {
   "cell_type": "code",
   "execution_count": 35,
   "metadata": {},
   "outputs": [
    {
     "data": {
      "text/plain": [
       "{'groups': ['input', 'output'], 'nodes': ['HDF_VERSION', 'NAME', 'TYPE', 'VERSION', 'server', 'status']}"
      ]
     },
     "execution_count": 35,
     "metadata": {},
     "output_type": "execute_result"
    }
   ],
   "source": [
    "pr[\"AlH_lammps\"]"
   ]
  },
  {
   "cell_type": "code",
   "execution_count": 36,
   "metadata": {},
   "outputs": [
    {
     "data": {
      "text/plain": [
       "{'groups': ['control_inp', 'generic', 'potential', 'potential_inp', 'structure'], 'nodes': ['generic_dict', 'interactive']}"
      ]
     },
     "execution_count": 36,
     "metadata": {},
     "output_type": "execute_result"
    }
   ],
   "source": [
    "pr[\"AlH_lammps/input\"]"
   ]
  },
  {
   "cell_type": "code",
   "execution_count": 37,
   "metadata": {},
   "outputs": [
    {
     "data": {
      "text/plain": [
       "((101, 74, 3), (101,))"
      ]
     },
     "execution_count": 37,
     "metadata": {},
     "output_type": "execute_result"
    }
   ],
   "source": [
    "pr[\"AlH_lammps/output/generic/forces\"].shape,  pr[\"AlH_lammps/output/generic/energy_tot\"].shape"
   ]
  },
  {
   "cell_type": "markdown",
   "metadata": {},
   "source": [
    "## Energy volume curves for Al"
   ]
  },
  {
   "cell_type": "markdown",
   "metadata": {},
   "source": [
    "### Manual setup and analysys"
   ]
  },
  {
   "cell_type": "code",
   "execution_count": 38,
   "metadata": {},
   "outputs": [],
   "source": [
    "pr = Project(\"demo/Al_murnaghan_manual\")"
   ]
  },
  {
   "cell_type": "code",
   "execution_count": 39,
   "metadata": {},
   "outputs": [
    {
     "name": "stdout",
     "output_type": "stream",
     "text": [
      "The job Al_a_3_9 was saved and received the ID: 512\n",
      "The job Al_a_3_92 was saved and received the ID: 513\n",
      "The job Al_a_3_94 was saved and received the ID: 514\n",
      "The job Al_a_3_96 was saved and received the ID: 515\n",
      "The job Al_a_3_98 was saved and received the ID: 516\n",
      "The job Al_a_4_0 was saved and received the ID: 517\n",
      "The job Al_a_4_02 was saved and received the ID: 518\n",
      "The job Al_a_4_04 was saved and received the ID: 519\n",
      "The job Al_a_4_06 was saved and received the ID: 520\n",
      "The job Al_a_4_08 was saved and received the ID: 521\n",
      "The job Al_a_4_1 was saved and received the ID: 522\n"
     ]
    }
   ],
   "source": [
    "a_list = np.linspace(3.9, 4.1, 11)\n",
    "for a in a_list:\n",
    "    job_name = \"Al_a_{}\".format(a).replace(\".\", \"_\")\n",
    "    job = pr.create_job(pr.job_type.Lammps, job_name)\n",
    "    job.structure = pr.create_ase_bulk(\"Al\", a=a, cubic=True)\n",
    "    job.potential = 'Al_H_Ni_Angelo_eam'\n",
    "    job.calc_minimize()\n",
    "    job.run()"
   ]
  },
  {
   "cell_type": "code",
   "execution_count": 40,
   "metadata": {},
   "outputs": [],
   "source": [
    "pr.job_table();"
   ]
  },
  {
   "cell_type": "markdown",
   "metadata": {},
   "source": [
    "### Analysis: Loading vs inspecting jobs\n",
    "\n",
    "The data from these calculations are retreived either by loading each of these jobs or by inspecting them (from their hdf5 files)."
   ]
  },
  {
   "cell_type": "code",
   "execution_count": 41,
   "metadata": {},
   "outputs": [
    {
     "data": {
      "text/plain": [
       "(array([-13.21258266, -13.21258266]),\n",
       " array([-13.21258266, -13.21258266]),\n",
       " pyiron.lammps.lammps.Lammps)"
      ]
     },
     "execution_count": 41,
     "metadata": {},
     "output_type": "execute_result"
    }
   ],
   "source": [
    "job_loaded = pr.load(\"Al_a_3_9\")\n",
    "struct = job_loaded.get_structure()\n",
    "job_loaded.output.energy_tot, job_loaded[\"output/generic/energy_tot\"], type(job_loaded)"
   ]
  },
  {
   "cell_type": "code",
   "execution_count": 42,
   "metadata": {},
   "outputs": [
    {
     "data": {
      "text/plain": [
       "(array([-13.21258266, -13.21258266]), pyiron.base.job.path.JobPath)"
      ]
     },
     "execution_count": 42,
     "metadata": {},
     "output_type": "execute_result"
    }
   ],
   "source": [
    "job_inspect = pr.inspect(\"Al_a_3_9\")\n",
    "job_loaded[\"output/generic/energy_tot\"], type(job_inspect)"
   ]
  },
  {
   "cell_type": "markdown",
   "metadata": {},
   "source": [
    "So why use the inspect mode if recreating the object gives access to all it's pyiron functions? The inspect mode is actually much faster if you only want to access certain values without recreating the entire job object."
   ]
  },
  {
   "cell_type": "code",
   "execution_count": 43,
   "metadata": {},
   "outputs": [
    {
     "name": "stdout",
     "output_type": "stream",
     "text": [
      "CPU times: user 325 ms, sys: 28.9 ms, total: 354 ms\n",
      "Wall time: 146 ms\n"
     ]
    },
    {
     "data": {
      "text/plain": [
       "pyiron.base.job.path.JobPath"
      ]
     },
     "execution_count": 43,
     "metadata": {},
     "output_type": "execute_result"
    },
    {
     "data": {
      "image/png": "[encoded data removed]",
      "text/plain": [
       "<Figure size 432x288 with 1 Axes>"
      ]
     },
     "metadata": {
      "needs_background": "light"
     },
     "output_type": "display_data"
    }
   ],
   "source": [
    "%%time\n",
    "convert_to_object = False # True to load the job\n",
    "vol_list = list()\n",
    "energy_list = list()\n",
    "# Set recursive=False to only go over the higher levels and not return jobs from subprojects\n",
    "for job in pr.iter_jobs(convert_to_object=convert_to_object, recursive=False):\n",
    "    if job.status == \"finished\":\n",
    "        vol_list.append(job[\"output/generic/volume\"][-1])\n",
    "        energy_list.append(job[\"output/generic/energy_tot\"][-1])\n",
    "plt.plot(vol_list, energy_list, \"-x\")\n",
    "type(job)"
   ]
  },
  {
   "cell_type": "markdown",
   "metadata": {},
   "source": [
    "## Energy-Volume curves using predefined modules\n",
    "\n",
    "We will now use the predefined Murnaghan module to compute equilibrium T=0K properties "
   ]
  },
  {
   "cell_type": "code",
   "execution_count": 44,
   "metadata": {},
   "outputs": [],
   "source": [
    "pr = Project(\"demo/murnaghan_automatic\")"
   ]
  },
  {
   "cell_type": "markdown",
   "metadata": {},
   "source": [
    "### Setup of the Murnaghan job and a reference calculation for the parameters"
   ]
  },
  {
   "cell_type": "code",
   "execution_count": 45,
   "metadata": {},
   "outputs": [],
   "source": [
    "# Initialize the Murnaghan \"job\"\n",
    "murn = pr.create_job(pr.job_type.Murnaghan, \"murn_test\")\n",
    "# Create a reference job which contains all simulation parameters\n",
    "job_ref = pr.create_job(pr.job_type.Lammps, \"Al_ref\")\n",
    "job_ref.structure = pr.create_ase_bulk(\"Al\", cubic=True)\n",
    "job_ref.potential = 'Al_H_Ni_Angelo_eam'\n",
    "job_ref.calc_minimize()\n",
    "murn.ref_job = job_ref"
   ]
  },
  {
   "cell_type": "markdown",
   "metadata": {},
   "source": [
    "The Murnaghan job creates individual LAMMPS calculations with a strained unitcell"
   ]
  },
  {
   "cell_type": "code",
   "execution_count": 46,
   "metadata": {},
   "outputs": [
    {
     "name": "stdout",
     "output_type": "stream",
     "text": [
      "The job murn_test was saved and received the ID: 523\n",
      "The job strain_0_9 was saved and received the ID: 524\n",
      "The job strain_0_92 was saved and received the ID: 525\n",
      "The job strain_0_94 was saved and received the ID: 526\n",
      "The job strain_0_96 was saved and received the ID: 527\n",
      "The job strain_0_98 was saved and received the ID: 528\n",
      "The job strain_1_0 was saved and received the ID: 529\n",
      "The job strain_1_02 was saved and received the ID: 530\n",
      "The job strain_1_04 was saved and received the ID: 531\n",
      "The job strain_1_06 was saved and received the ID: 532\n",
      "The job strain_1_08 was saved and received the ID: 533\n",
      "The job strain_1_1 was saved and received the ID: 534\n",
      "job_id:  524 finished\n",
      "job_id:  525 finished\n",
      "job_id:  526 finished\n",
      "job_id:  527 finished\n",
      "job_id:  528 finished\n",
      "job_id:  529 finished\n",
      "job_id:  530 finished\n",
      "job_id:  531 finished\n",
      "job_id:  532 finished\n",
      "job_id:  533 finished\n",
      "job_id:  534 finished\n"
     ]
    }
   ],
   "source": [
    "murn.run()"
   ]
  },
  {
   "cell_type": "code",
   "execution_count": 47,
   "metadata": {},
   "outputs": [
    {
     "data": {
      "text/html": [
       "<div>\n",
       "<style scoped>\n",
       "    .dataframe tbody tr th:only-of-type {\n",
       "        vertical-align: middle;\n",
       "    }\n",
       "\n",
       "    .dataframe tbody tr th {\n",
       "        vertical-align: top;\n",
       "    }\n",
       "\n",
       "    .dataframe thead th {\n",
       "        text-align: right;\n",
       "    }\n",
       "</style>\n",
       "<table border=\"1\" class=\"dataframe\">\n",
       "  <thead>\n",
       "    <tr style=\"text-align: right;\">\n",
       "      <th></th>\n",
       "      <th>id</th>\n",
       "      <th>status</th>\n",
       "      <th>chemicalformula</th>\n",
       "      <th>job</th>\n",
       "      <th>subjob</th>\n",
       "      <th>projectpath</th>\n",
       "      <th>project</th>\n",
       "      <th>timestart</th>\n",
       "      <th>timestop</th>\n",
       "      <th>totalcputime</th>\n",
       "      <th>computer</th>\n",
       "      <th>hamilton</th>\n",
       "      <th>hamversion</th>\n",
       "      <th>parentid</th>\n",
       "      <th>masterid</th>\n",
       "    </tr>\n",
       "  </thead>\n",
       "  <tbody>\n",
       "    <tr>\n",
       "      <th>0</th>\n",
       "      <td>523</td>\n",
       "      <td>finished</td>\n",
       "      <td>Al4</td>\n",
       "      <td>murn_test</td>\n",
       "      <td>/murn_test</td>\n",
       "      <td>/home/ponder/</td>\n",
       "      <td>science/phd/dev/pyiron-virtual-workshop-2020/book/tutorials/demo/murnaghan_automatic/</td>\n",
       "      <td>2020-08-10 09:32:47.835567</td>\n",
       "      <td>2020-08-10 09:33:00.144751</td>\n",
       "      <td>12.0</td>\n",
       "      <td>pyiron@susan#1#11/11</td>\n",
       "      <td>Murnaghan</td>\n",
       "      <td>0.3.0</td>\n",
       "      <td>None</td>\n",
       "      <td>NaN</td>\n",
       "    </tr>\n",
       "    <tr>\n",
       "      <th>1</th>\n",
       "      <td>524</td>\n",
       "      <td>finished</td>\n",
       "      <td>Al4</td>\n",
       "      <td>strain_0_9</td>\n",
       "      <td>/strain_0_9</td>\n",
       "      <td>/home/ponder/</td>\n",
       "      <td>science/phd/dev/pyiron-virtual-workshop-2020/book/tutorials/demo/murnaghan_automatic/murn_test_hdf5/</td>\n",
       "      <td>2020-08-10 09:32:48.556631</td>\n",
       "      <td>2020-08-10 09:32:48.940215</td>\n",
       "      <td>0.0</td>\n",
       "      <td>pyiron@susan#1</td>\n",
       "      <td>Lammps</td>\n",
       "      <td>0.1</td>\n",
       "      <td>None</td>\n",
       "      <td>523.0</td>\n",
       "    </tr>\n",
       "    <tr>\n",
       "      <th>2</th>\n",
       "      <td>525</td>\n",
       "      <td>finished</td>\n",
       "      <td>Al4</td>\n",
       "      <td>strain_0_92</td>\n",
       "      <td>/strain_0_92</td>\n",
       "      <td>/home/ponder/</td>\n",
       "      <td>science/phd/dev/pyiron-virtual-workshop-2020/book/tutorials/demo/murnaghan_automatic/murn_test_hdf5/</td>\n",
       "      <td>2020-08-10 09:32:49.706802</td>\n",
       "      <td>2020-08-10 09:32:50.124566</td>\n",
       "      <td>0.0</td>\n",
       "      <td>pyiron@susan#1</td>\n",
       "      <td>Lammps</td>\n",
       "      <td>0.1</td>\n",
       "      <td>None</td>\n",
       "      <td>523.0</td>\n",
       "    </tr>\n",
       "    <tr>\n",
       "      <th>3</th>\n",
       "      <td>526</td>\n",
       "      <td>finished</td>\n",
       "      <td>Al4</td>\n",
       "      <td>strain_0_94</td>\n",
       "      <td>/strain_0_94</td>\n",
       "      <td>/home/ponder/</td>\n",
       "      <td>science/phd/dev/pyiron-virtual-workshop-2020/book/tutorials/demo/murnaghan_automatic/murn_test_hdf5/</td>\n",
       "      <td>2020-08-10 09:32:50.842040</td>\n",
       "      <td>2020-08-10 09:32:51.218276</td>\n",
       "      <td>0.0</td>\n",
       "      <td>pyiron@susan#1</td>\n",
       "      <td>Lammps</td>\n",
       "      <td>0.1</td>\n",
       "      <td>None</td>\n",
       "      <td>523.0</td>\n",
       "    </tr>\n",
       "    <tr>\n",
       "      <th>4</th>\n",
       "      <td>527</td>\n",
       "      <td>finished</td>\n",
       "      <td>Al4</td>\n",
       "      <td>strain_0_96</td>\n",
       "      <td>/strain_0_96</td>\n",
       "      <td>/home/ponder/</td>\n",
       "      <td>science/phd/dev/pyiron-virtual-workshop-2020/book/tutorials/demo/murnaghan_automatic/murn_test_hdf5/</td>\n",
       "      <td>2020-08-10 09:32:51.947845</td>\n",
       "      <td>2020-08-10 09:32:52.321993</td>\n",
       "      <td>0.0</td>\n",
       "      <td>pyiron@susan#1</td>\n",
       "      <td>Lammps</td>\n",
       "      <td>0.1</td>\n",
       "      <td>None</td>\n",
       "      <td>523.0</td>\n",
       "    </tr>\n",
       "    <tr>\n",
       "      <th>5</th>\n",
       "      <td>528</td>\n",
       "      <td>finished</td>\n",
       "      <td>Al4</td>\n",
       "      <td>strain_0_98</td>\n",
       "      <td>/strain_0_98</td>\n",
       "      <td>/home/ponder/</td>\n",
       "      <td>science/phd/dev/pyiron-virtual-workshop-2020/book/tutorials/demo/murnaghan_automatic/murn_test_hdf5/</td>\n",
       "      <td>2020-08-10 09:32:53.048372</td>\n",
       "      <td>2020-08-10 09:32:53.521272</td>\n",
       "      <td>0.0</td>\n",
       "      <td>pyiron@susan#1</td>\n",
       "      <td>Lammps</td>\n",
       "      <td>0.1</td>\n",
       "      <td>None</td>\n",
       "      <td>523.0</td>\n",
       "    </tr>\n",
       "    <tr>\n",
       "      <th>6</th>\n",
       "      <td>529</td>\n",
       "      <td>finished</td>\n",
       "      <td>Al4</td>\n",
       "      <td>strain_1_0</td>\n",
       "      <td>/strain_1_0</td>\n",
       "      <td>/home/ponder/</td>\n",
       "      <td>science/phd/dev/pyiron-virtual-workshop-2020/book/tutorials/demo/murnaghan_automatic/murn_test_hdf5/</td>\n",
       "      <td>2020-08-10 09:32:54.248300</td>\n",
       "      <td>2020-08-10 09:32:54.589939</td>\n",
       "      <td>0.0</td>\n",
       "      <td>pyiron@susan#1</td>\n",
       "      <td>Lammps</td>\n",
       "      <td>0.1</td>\n",
       "      <td>None</td>\n",
       "      <td>523.0</td>\n",
       "    </tr>\n",
       "    <tr>\n",
       "      <th>7</th>\n",
       "      <td>530</td>\n",
       "      <td>finished</td>\n",
       "      <td>Al4</td>\n",
       "      <td>strain_1_02</td>\n",
       "      <td>/strain_1_02</td>\n",
       "      <td>/home/ponder/</td>\n",
       "      <td>science/phd/dev/pyiron-virtual-workshop-2020/book/tutorials/demo/murnaghan_automatic/murn_test_hdf5/</td>\n",
       "      <td>2020-08-10 09:32:55.250989</td>\n",
       "      <td>2020-08-10 09:32:55.600327</td>\n",
       "      <td>0.0</td>\n",
       "      <td>pyiron@susan#1</td>\n",
       "      <td>Lammps</td>\n",
       "      <td>0.1</td>\n",
       "      <td>None</td>\n",
       "      <td>523.0</td>\n",
       "    </tr>\n",
       "    <tr>\n",
       "      <th>8</th>\n",
       "      <td>531</td>\n",
       "      <td>finished</td>\n",
       "      <td>Al4</td>\n",
       "      <td>strain_1_04</td>\n",
       "      <td>/strain_1_04</td>\n",
       "      <td>/home/ponder/</td>\n",
       "      <td>science/phd/dev/pyiron-virtual-workshop-2020/book/tutorials/demo/murnaghan_automatic/murn_test_hdf5/</td>\n",
       "      <td>2020-08-10 09:32:56.283676</td>\n",
       "      <td>2020-08-10 09:32:56.638992</td>\n",
       "      <td>0.0</td>\n",
       "      <td>pyiron@susan#1</td>\n",
       "      <td>Lammps</td>\n",
       "      <td>0.1</td>\n",
       "      <td>None</td>\n",
       "      <td>523.0</td>\n",
       "    </tr>\n",
       "    <tr>\n",
       "      <th>9</th>\n",
       "      <td>532</td>\n",
       "      <td>finished</td>\n",
       "      <td>Al4</td>\n",
       "      <td>strain_1_06</td>\n",
       "      <td>/strain_1_06</td>\n",
       "      <td>/home/ponder/</td>\n",
       "      <td>science/phd/dev/pyiron-virtual-workshop-2020/book/tutorials/demo/murnaghan_automatic/murn_test_hdf5/</td>\n",
       "      <td>2020-08-10 09:32:57.323763</td>\n",
       "      <td>2020-08-10 09:32:57.721968</td>\n",
       "      <td>0.0</td>\n",
       "      <td>pyiron@susan#1</td>\n",
       "      <td>Lammps</td>\n",
       "      <td>0.1</td>\n",
       "      <td>None</td>\n",
       "      <td>523.0</td>\n",
       "    </tr>\n",
       "    <tr>\n",
       "      <th>10</th>\n",
       "      <td>533</td>\n",
       "      <td>finished</td>\n",
       "      <td>Al4</td>\n",
       "      <td>strain_1_08</td>\n",
       "      <td>/strain_1_08</td>\n",
       "      <td>/home/ponder/</td>\n",
       "      <td>science/phd/dev/pyiron-virtual-workshop-2020/book/tutorials/demo/murnaghan_automatic/murn_test_hdf5/</td>\n",
       "      <td>2020-08-10 09:32:58.395718</td>\n",
       "      <td>2020-08-10 09:32:58.730564</td>\n",
       "      <td>0.0</td>\n",
       "      <td>pyiron@susan#1</td>\n",
       "      <td>Lammps</td>\n",
       "      <td>0.1</td>\n",
       "      <td>None</td>\n",
       "      <td>523.0</td>\n",
       "    </tr>\n",
       "    <tr>\n",
       "      <th>11</th>\n",
       "      <td>534</td>\n",
       "      <td>finished</td>\n",
       "      <td>Al4</td>\n",
       "      <td>strain_1_1</td>\n",
       "      <td>/strain_1_1</td>\n",
       "      <td>/home/ponder/</td>\n",
       "      <td>science/phd/dev/pyiron-virtual-workshop-2020/book/tutorials/demo/murnaghan_automatic/murn_test_hdf5/</td>\n",
       "      <td>2020-08-10 09:32:59.415350</td>\n",
       "      <td>2020-08-10 09:32:59.753678</td>\n",
       "      <td>0.0</td>\n",
       "      <td>pyiron@susan#1</td>\n",
       "      <td>Lammps</td>\n",
       "      <td>0.1</td>\n",
       "      <td>None</td>\n",
       "      <td>523.0</td>\n",
       "    </tr>\n",
       "  </tbody>\n",
       "</table>\n",
       "</div>"
      ],
      "text/plain": [
       "     id    status chemicalformula          job        subjob    projectpath  \\\n",
       "0   523  finished             Al4    murn_test    /murn_test  /home/ponder/   \n",
       "1   524  finished             Al4   strain_0_9   /strain_0_9  /home/ponder/   \n",
       "2   525  finished             Al4  strain_0_92  /strain_0_92  /home/ponder/   \n",
       "3   526  finished             Al4  strain_0_94  /strain_0_94  /home/ponder/   \n",
       "4   527  finished             Al4  strain_0_96  /strain_0_96  /home/ponder/   \n",
       "5   528  finished             Al4  strain_0_98  /strain_0_98  /home/ponder/   \n",
       "6   529  finished             Al4   strain_1_0   /strain_1_0  /home/ponder/   \n",
       "7   530  finished             Al4  strain_1_02  /strain_1_02  /home/ponder/   \n",
       "8   531  finished             Al4  strain_1_04  /strain_1_04  /home/ponder/   \n",
       "9   532  finished             Al4  strain_1_06  /strain_1_06  /home/ponder/   \n",
       "10  533  finished             Al4  strain_1_08  /strain_1_08  /home/ponder/   \n",
       "11  534  finished             Al4   strain_1_1   /strain_1_1  /home/ponder/   \n",
       "\n",
       "                                                                                                 project  \\\n",
       "0                  science/phd/dev/pyiron-virtual-workshop-2020/book/tutorials/demo/murnaghan_automatic/   \n",
       "1   science/phd/dev/pyiron-virtual-workshop-2020/book/tutorials/demo/murnaghan_automatic/murn_test_hdf5/   \n",
       "2   science/phd/dev/pyiron-virtual-workshop-2020/book/tutorials/demo/murnaghan_automatic/murn_test_hdf5/   \n",
       "3   science/phd/dev/pyiron-virtual-workshop-2020/book/tutorials/demo/murnaghan_automatic/murn_test_hdf5/   \n",
       "4   science/phd/dev/pyiron-virtual-workshop-2020/book/tutorials/demo/murnaghan_automatic/murn_test_hdf5/   \n",
       "5   science/phd/dev/pyiron-virtual-workshop-2020/book/tutorials/demo/murnaghan_automatic/murn_test_hdf5/   \n",
       "6   science/phd/dev/pyiron-virtual-workshop-2020/book/tutorials/demo/murnaghan_automatic/murn_test_hdf5/   \n",
       "7   science/phd/dev/pyiron-virtual-workshop-2020/book/tutorials/demo/murnaghan_automatic/murn_test_hdf5/   \n",
       "8   science/phd/dev/pyiron-virtual-workshop-2020/book/tutorials/demo/murnaghan_automatic/murn_test_hdf5/   \n",
       "9   science/phd/dev/pyiron-virtual-workshop-2020/book/tutorials/demo/murnaghan_automatic/murn_test_hdf5/   \n",
       "10  science/phd/dev/pyiron-virtual-workshop-2020/book/tutorials/demo/murnaghan_automatic/murn_test_hdf5/   \n",
       "11  science/phd/dev/pyiron-virtual-workshop-2020/book/tutorials/demo/murnaghan_automatic/murn_test_hdf5/   \n",
       "\n",
       "                    timestart                   timestop  totalcputime  \\\n",
       "0  2020-08-10 09:32:47.835567 2020-08-10 09:33:00.144751          12.0   \n",
       "1  2020-08-10 09:32:48.556631 2020-08-10 09:32:48.940215           0.0   \n",
       "2  2020-08-10 09:32:49.706802 2020-08-10 09:32:50.124566           0.0   \n",
       "3  2020-08-10 09:32:50.842040 2020-08-10 09:32:51.218276           0.0   \n",
       "4  2020-08-10 09:32:51.947845 2020-08-10 09:32:52.321993           0.0   \n",
       "5  2020-08-10 09:32:53.048372 2020-08-10 09:32:53.521272           0.0   \n",
       "6  2020-08-10 09:32:54.248300 2020-08-10 09:32:54.589939           0.0   \n",
       "7  2020-08-10 09:32:55.250989 2020-08-10 09:32:55.600327           0.0   \n",
       "8  2020-08-10 09:32:56.283676 2020-08-10 09:32:56.638992           0.0   \n",
       "9  2020-08-10 09:32:57.323763 2020-08-10 09:32:57.721968           0.0   \n",
       "10 2020-08-10 09:32:58.395718 2020-08-10 09:32:58.730564           0.0   \n",
       "11 2020-08-10 09:32:59.415350 2020-08-10 09:32:59.753678           0.0   \n",
       "\n",
       "                computer   hamilton hamversion parentid  masterid  \n",
       "0   pyiron@susan#1#11/11  Murnaghan      0.3.0     None       NaN  \n",
       "1         pyiron@susan#1     Lammps        0.1     None     523.0  \n",
       "2         pyiron@susan#1     Lammps        0.1     None     523.0  \n",
       "3         pyiron@susan#1     Lammps        0.1     None     523.0  \n",
       "4         pyiron@susan#1     Lammps        0.1     None     523.0  \n",
       "5         pyiron@susan#1     Lammps        0.1     None     523.0  \n",
       "6         pyiron@susan#1     Lammps        0.1     None     523.0  \n",
       "7         pyiron@susan#1     Lammps        0.1     None     523.0  \n",
       "8         pyiron@susan#1     Lammps        0.1     None     523.0  \n",
       "9         pyiron@susan#1     Lammps        0.1     None     523.0  \n",
       "10        pyiron@susan#1     Lammps        0.1     None     523.0  \n",
       "11        pyiron@susan#1     Lammps        0.1     None     523.0  "
      ]
     },
     "execution_count": 47,
     "metadata": {},
     "output_type": "execute_result"
    }
   ],
   "source": [
    "pr.job_table()"
   ]
  },
  {
   "cell_type": "markdown",
   "metadata": {},
   "source": [
    "### Plotting and inspecting the murnaghan output"
   ]
  },
  {
   "cell_type": "code",
   "execution_count": 48,
   "metadata": {},
   "outputs": [
    {
     "data": {
      "image/png": "[encoded data removed]",
      "text/plain": [
       "<Figure size 432x288 with 1 Axes>"
      ]
     },
     "metadata": {
      "needs_background": "light"
     },
     "output_type": "display_data"
    }
   ],
   "source": [
    "murn.plot()"
   ]
  },
  {
   "cell_type": "code",
   "execution_count": 49,
   "metadata": {},
   "outputs": [
    {
     "data": {
      "text/plain": [
       "{'groups': ['structure'], 'nodes': ['energy', 'equilibrium_b_prime', 'equilibrium_bulk_modulus', 'equilibrium_energy', 'equilibrium_volume', 'error', 'id', 'volume']}"
      ]
     },
     "execution_count": 49,
     "metadata": {},
     "output_type": "execute_result"
    }
   ],
   "source": [
    "murn[\"output\"]"
   ]
  },
  {
   "cell_type": "code",
   "execution_count": 50,
   "metadata": {},
   "outputs": [
    {
     "data": {
      "text/plain": [
       "(4.049953713580602, 81.04044546401637)"
      ]
     },
     "execution_count": 50,
     "metadata": {},
     "output_type": "execute_result"
    }
   ],
   "source": [
    "murn[\"output/equilibrium_volume\"] ** (1/3), murn[\"output/equilibrium_bulk_modulus\"]"
   ]
  },
  {
   "cell_type": "code",
   "execution_count": 51,
   "metadata": {},
   "outputs": [
    {
     "data": {
      "text/plain": [
       "{'poly_fit': array([-9.56553731e-05,  2.28697903e-02, -1.77209828e+00,  3.13985247e+01]),\n",
       " 'fit_type': 'polynomial',\n",
       " 'fit_order': 3,\n",
       " 'volume_eq': 66.42784738704796,\n",
       " 'energy_eq': -13.44039661441169,\n",
       " 'bulkmodul_eq': 81.04044546401637,\n",
       " 'b_prime_eq': 4.006907327547067,\n",
       " 'least_square_error': 1.1456196778598103e-07}"
      ]
     },
     "execution_count": 51,
     "metadata": {},
     "output_type": "execute_result"
    }
   ],
   "source": [
    "murn.fit_dict"
   ]
  },
  {
   "cell_type": "code",
   "execution_count": 52,
   "metadata": {},
   "outputs": [],
   "source": [
    "job_child = murn[0]"
   ]
  },
  {
   "cell_type": "markdown",
   "metadata": {},
   "source": [
    "## Energy-volume curves for a variety of Al potentials\n",
    "\n",
    "Since an E-V curve can be calculated quite easily, we can now do this for a range of available Al potentials (keep in mind that some of these potentials might fail)"
   ]
  },
  {
   "cell_type": "code",
   "execution_count": 53,
   "metadata": {},
   "outputs": [],
   "source": [
    "pr = Project(\"demo/potential_scan\")\n",
    "###pr.remove_jobs()"
   ]
  },
  {
   "cell_type": "markdown",
   "metadata": {},
   "source": [
    "### Looping over available potenitals"
   ]
  },
  {
   "cell_type": "code",
   "execution_count": 54,
   "metadata": {},
   "outputs": [],
   "source": [
    "#Chosing only a few potentials since there are lots of Al potentials\n",
    "\n",
    "potential_list = job_child.list_potentials()[0:10]"
   ]
  },
  {
   "cell_type": "code",
   "execution_count": 55,
   "metadata": {},
   "outputs": [
    {
     "name": "stdout",
     "output_type": "stream",
     "text": [
      "The job murn_Al was saved and received the ID: 535\n",
      "The job strain_0_9 was saved and received the ID: 536\n",
      "The job strain_0_92 was saved and received the ID: 537\n",
      "The job strain_0_94 was saved and received the ID: 538\n",
      "The job strain_0_96 was saved and received the ID: 539\n",
      "The job strain_0_98 was saved and received the ID: 540\n",
      "The job strain_1_0 was saved and received the ID: 541\n",
      "The job strain_1_02 was saved and received the ID: 542\n",
      "The job strain_1_04 was saved and received the ID: 543\n",
      "The job strain_1_06 was saved and received the ID: 544\n",
      "The job strain_1_08 was saved and received the ID: 545\n",
      "The job strain_1_1 was saved and received the ID: 546\n",
      "job_id:  536 finished\n",
      "job_id:  537 finished\n",
      "job_id:  538 finished\n",
      "job_id:  539 finished\n",
      "job_id:  540 finished\n",
      "job_id:  541 finished\n",
      "job_id:  542 finished\n",
      "job_id:  543 finished\n",
      "job_id:  544 finished\n",
      "job_id:  545 finished\n",
      "job_id:  546 finished\n",
      "The job murn_Al was saved and received the ID: 547\n",
      "The job strain_0_9 was saved and received the ID: 548\n",
      "The job strain_0_92 was saved and received the ID: 549\n",
      "The job strain_0_94 was saved and received the ID: 550\n",
      "The job strain_0_96 was saved and received the ID: 551\n",
      "The job strain_0_98 was saved and received the ID: 552\n",
      "The job strain_1_0 was saved and received the ID: 553\n",
      "The job strain_1_02 was saved and received the ID: 554\n",
      "The job strain_1_04 was saved and received the ID: 555\n",
      "The job strain_1_06 was saved and received the ID: 556\n",
      "The job strain_1_08 was saved and received the ID: 557\n",
      "The job strain_1_1 was saved and received the ID: 558\n",
      "job_id:  548 finished\n",
      "job_id:  549 finished\n",
      "job_id:  550 finished\n",
      "job_id:  551 finished\n",
      "job_id:  552 finished\n",
      "job_id:  553 finished\n",
      "job_id:  554 finished\n",
      "job_id:  555 finished\n",
      "job_id:  556 finished\n",
      "job_id:  557 finished\n",
      "job_id:  558 finished\n",
      "The job murn_Al was saved and received the ID: 559\n",
      "The job strain_0_9 was saved and received the ID: 560\n",
      "The job strain_0_92 was saved and received the ID: 561\n",
      "The job strain_0_94 was saved and received the ID: 562\n",
      "The job strain_0_96 was saved and received the ID: 563\n",
      "The job strain_0_98 was saved and received the ID: 564\n",
      "The job strain_1_0 was saved and received the ID: 565\n",
      "The job strain_1_02 was saved and received the ID: 566\n",
      "The job strain_1_04 was saved and received the ID: 567\n",
      "The job strain_1_06 was saved and received the ID: 568\n",
      "The job strain_1_08 was saved and received the ID: 569\n",
      "The job strain_1_1 was saved and received the ID: 570\n",
      "job_id:  560 finished\n",
      "job_id:  561 finished\n",
      "job_id:  562 finished\n",
      "job_id:  563 finished\n",
      "job_id:  564 finished\n",
      "job_id:  565 finished\n",
      "job_id:  566 finished\n",
      "job_id:  567 finished\n",
      "job_id:  568 finished\n",
      "job_id:  569 finished\n",
      "job_id:  570 finished\n",
      "The job murn_Al was saved and received the ID: 571\n"
     ]
    },
    {
     "name": "stderr",
     "output_type": "stream",
     "text": [
      "2020-08-10 09:33:43,928 - pyiron_log - WARNING - Job aborted\n",
      "2020-08-10 09:33:43,932 - pyiron_log - WARNING - LAMMPS (3 Mar 2020)\n",
      "Reading data file ...\n",
      "  orthogonal box = (0 0 0) to (3.91023 3.91023 3.91023)\n",
      "  1 by 1 by 1 MPI processor grid\n",
      "  reading atoms ...\n",
      "  4 atoms\n",
      "  read_data CPU = 0.000246048 secs\n",
      "ERROR: MEAM library error 3 (src/USER-MEAMC/pair_meamc.cpp:596)\n",
      "Last command: pair_coeff * * MgAlZn.library.meam Mg Al MgAlZn.parameter.meam Mg Al Zn\n",
      "\n"
     ]
    },
    {
     "name": "stdout",
     "output_type": "stream",
     "text": [
      "The job strain_0_9 was saved and received the ID: 572\n",
      "The job murn_Al was saved and received the ID: 573\n",
      "The job strain_0_9 was saved and received the ID: 574\n",
      "The job strain_0_92 was saved and received the ID: 575\n",
      "The job strain_0_94 was saved and received the ID: 576\n",
      "The job strain_0_96 was saved and received the ID: 577\n",
      "The job strain_0_98 was saved and received the ID: 578\n",
      "The job strain_1_0 was saved and received the ID: 579\n",
      "The job strain_1_02 was saved and received the ID: 580\n",
      "The job strain_1_04 was saved and received the ID: 581\n",
      "The job strain_1_06 was saved and received the ID: 582\n",
      "The job strain_1_08 was saved and received the ID: 583\n",
      "The job strain_1_1 was saved and received the ID: 584\n",
      "job_id:  574 finished\n",
      "job_id:  575 finished\n",
      "job_id:  576 finished\n",
      "job_id:  577 finished\n",
      "job_id:  578 finished\n",
      "job_id:  579 finished\n",
      "job_id:  580 finished\n",
      "job_id:  581 finished\n",
      "job_id:  582 finished\n",
      "job_id:  583 finished\n",
      "job_id:  584 finished\n",
      "The job murn_Al was saved and received the ID: 585\n",
      "The job strain_0_9 was saved and received the ID: 586\n",
      "The job strain_0_92 was saved and received the ID: 587\n",
      "The job strain_0_94 was saved and received the ID: 588\n",
      "The job strain_0_96 was saved and received the ID: 589\n",
      "The job strain_0_98 was saved and received the ID: 590\n",
      "The job strain_1_0 was saved and received the ID: 591\n",
      "The job strain_1_02 was saved and received the ID: 592\n",
      "The job strain_1_04 was saved and received the ID: 593\n",
      "The job strain_1_06 was saved and received the ID: 594\n",
      "The job strain_1_08 was saved and received the ID: 595\n",
      "The job strain_1_1 was saved and received the ID: 596\n",
      "job_id:  586 finished\n",
      "job_id:  587 finished\n",
      "job_id:  588 finished\n",
      "job_id:  589 finished\n",
      "job_id:  590 finished\n",
      "job_id:  591 finished\n",
      "job_id:  592 finished\n",
      "job_id:  593 finished\n",
      "job_id:  594 finished\n",
      "job_id:  595 finished\n",
      "job_id:  596 finished\n",
      "The job murn_Al was saved and received the ID: 597\n",
      "The job strain_0_9 was saved and received the ID: 598\n",
      "The job strain_0_92 was saved and received the ID: 599\n",
      "The job strain_0_94 was saved and received the ID: 600\n",
      "The job strain_0_96 was saved and received the ID: 601\n",
      "The job strain_0_98 was saved and received the ID: 602\n",
      "The job strain_1_0 was saved and received the ID: 603\n",
      "The job strain_1_02 was saved and received the ID: 604\n",
      "The job strain_1_04 was saved and received the ID: 605\n",
      "The job strain_1_06 was saved and received the ID: 606\n",
      "The job strain_1_08 was saved and received the ID: 607\n",
      "The job strain_1_1 was saved and received the ID: 608\n",
      "job_id:  598 finished\n",
      "job_id:  599 finished\n",
      "job_id:  600 finished\n",
      "job_id:  601 finished\n",
      "job_id:  602 finished\n",
      "job_id:  603 finished\n",
      "job_id:  604 finished\n",
      "job_id:  605 finished\n",
      "job_id:  606 finished\n",
      "job_id:  607 finished\n",
      "job_id:  608 finished\n",
      "The job murn_Al was saved and received the ID: 609\n",
      "The job strain_0_9 was saved and received the ID: 610\n",
      "The job strain_0_92 was saved and received the ID: 611\n",
      "The job strain_0_94 was saved and received the ID: 612\n",
      "The job strain_0_96 was saved and received the ID: 613\n",
      "The job strain_0_98 was saved and received the ID: 614\n",
      "The job strain_1_0 was saved and received the ID: 615\n",
      "The job strain_1_02 was saved and received the ID: 616\n",
      "The job strain_1_04 was saved and received the ID: 617\n",
      "The job strain_1_06 was saved and received the ID: 618\n",
      "The job strain_1_08 was saved and received the ID: 619\n",
      "The job strain_1_1 was saved and received the ID: 620\n",
      "job_id:  610 finished\n",
      "job_id:  611 finished\n",
      "job_id:  612 finished\n",
      "job_id:  613 finished\n",
      "job_id:  614 finished\n",
      "job_id:  615 finished\n",
      "job_id:  616 finished\n",
      "job_id:  617 finished\n",
      "job_id:  618 finished\n",
      "job_id:  619 finished\n",
      "job_id:  620 finished\n",
      "The job murn_Al was saved and received the ID: 621\n",
      "The job strain_0_9 was saved and received the ID: 622\n",
      "The job strain_0_92 was saved and received the ID: 623\n",
      "The job strain_0_94 was saved and received the ID: 624\n",
      "The job strain_0_96 was saved and received the ID: 625\n",
      "The job strain_0_98 was saved and received the ID: 626\n",
      "The job strain_1_0 was saved and received the ID: 627\n",
      "The job strain_1_02 was saved and received the ID: 628\n",
      "The job strain_1_04 was saved and received the ID: 629\n",
      "The job strain_1_06 was saved and received the ID: 630\n",
      "The job strain_1_08 was saved and received the ID: 631\n",
      "The job strain_1_1 was saved and received the ID: 632\n",
      "job_id:  622 finished\n",
      "job_id:  623 finished\n",
      "job_id:  624 finished\n",
      "job_id:  625 finished\n",
      "job_id:  626 finished\n",
      "job_id:  627 finished\n",
      "job_id:  628 finished\n",
      "job_id:  629 finished\n",
      "job_id:  630 finished\n",
      "job_id:  631 finished\n",
      "job_id:  632 finished\n",
      "The job murn_Al was saved and received the ID: 633\n",
      "The job strain_0_9 was saved and received the ID: 634\n",
      "The job strain_0_92 was saved and received the ID: 635\n",
      "The job strain_0_94 was saved and received the ID: 636\n",
      "The job strain_0_96 was saved and received the ID: 637\n",
      "The job strain_0_98 was saved and received the ID: 638\n",
      "The job strain_1_0 was saved and received the ID: 639\n",
      "The job strain_1_02 was saved and received the ID: 640\n",
      "The job strain_1_04 was saved and received the ID: 641\n",
      "The job strain_1_06 was saved and received the ID: 642\n",
      "The job strain_1_08 was saved and received the ID: 643\n",
      "The job strain_1_1 was saved and received the ID: 644\n",
      "job_id:  634 finished\n",
      "job_id:  635 finished\n",
      "job_id:  636 finished\n",
      "job_id:  637 finished\n",
      "job_id:  638 finished\n",
      "job_id:  639 finished\n",
      "job_id:  640 finished\n",
      "job_id:  641 finished\n",
      "job_id:  642 finished\n",
      "job_id:  643 finished\n",
      "job_id:  644 finished\n"
     ]
    }
   ],
   "source": [
    "for pot in potential_list:\n",
    "    pot_str = pot.replace(\"-\", \"_\")\n",
    "    # open a subproject within a project\n",
    "    with pr.open(pot_str) as pr_sub:\n",
    "        # no need for unique job name if in different subprojects \n",
    "        job_name = \"murn_Al\"\n",
    "        # Use the subproject to create the jobs\n",
    "        murn = pr_sub.create_job(pr.job_type.Murnaghan, job_name)\n",
    "        job_ref = pr_sub.create_job(pr.job_type.Lammps, \"Al_ref\")\n",
    "        job_ref.structure = pr.create_ase_bulk(\"Al\", cubic=True)\n",
    "        job_ref.potential = pot\n",
    "        job_ref.calc_minimize()\n",
    "        murn.ref_job = job_ref\n",
    "        try:\n",
    "            murn.run()\n",
    "        except RuntimeError:\n",
    "            pass"
   ]
  },
  {
   "cell_type": "code",
   "execution_count": 56,
   "metadata": {},
   "outputs": [
    {
     "data": {
      "text/html": [
       "<div>\n",
       "<style scoped>\n",
       "    .dataframe tbody tr th:only-of-type {\n",
       "        vertical-align: middle;\n",
       "    }\n",
       "\n",
       "    .dataframe tbody tr th {\n",
       "        vertical-align: top;\n",
       "    }\n",
       "\n",
       "    .dataframe thead th {\n",
       "        text-align: right;\n",
       "    }\n",
       "</style>\n",
       "<table border=\"1\" class=\"dataframe\">\n",
       "  <thead>\n",
       "    <tr style=\"text-align: right;\">\n",
       "      <th></th>\n",
       "      <th>id</th>\n",
       "      <th>status</th>\n",
       "      <th>chemicalformula</th>\n",
       "      <th>job</th>\n",
       "      <th>subjob</th>\n",
       "      <th>projectpath</th>\n",
       "      <th>project</th>\n",
       "      <th>timestart</th>\n",
       "      <th>timestop</th>\n",
       "      <th>totalcputime</th>\n",
       "      <th>computer</th>\n",
       "      <th>hamilton</th>\n",
       "      <th>hamversion</th>\n",
       "      <th>parentid</th>\n",
       "      <th>masterid</th>\n",
       "    </tr>\n",
       "  </thead>\n",
       "  <tbody>\n",
       "    <tr>\n",
       "      <th>0</th>\n",
       "      <td>573</td>\n",
       "      <td>finished</td>\n",
       "      <td>Al4</td>\n",
       "      <td>murn_Al</td>\n",
       "      <td>/murn_Al</td>\n",
       "      <td>/home/ponder/</td>\n",
       "      <td>science/phd/dev/pyiron-virtual-workshop-2020/book/tutorials/demo/potential_scan/2000__Landa_A__Al_Pb__LAMMPS__ipr1/</td>\n",
       "      <td>2020-08-10 09:33:44.242878</td>\n",
       "      <td>2020-08-10 09:33:55.660839</td>\n",
       "      <td>11.0</td>\n",
       "      <td>pyiron@susan#1#11/11</td>\n",
       "      <td>Murnaghan</td>\n",
       "      <td>0.3.0</td>\n",
       "      <td>None</td>\n",
       "      <td>NaN</td>\n",
       "    </tr>\n",
       "    <tr>\n",
       "      <th>1</th>\n",
       "      <td>574</td>\n",
       "      <td>finished</td>\n",
       "      <td>Al4</td>\n",
       "      <td>strain_0_9</td>\n",
       "      <td>/strain_0_9</td>\n",
       "      <td>/home/ponder/</td>\n",
       "      <td>science/phd/dev/pyiron-virtual-workshop-2020/book/tutorials/demo/potential_scan/2000__Landa_A__Al_Pb__LAMMPS__ipr1/murn_Al_hdf5/</td>\n",
       "      <td>2020-08-10 09:33:44.945319</td>\n",
       "      <td>2020-08-10 09:33:45.293532</td>\n",
       "      <td>0.0</td>\n",
       "      <td>pyiron@susan#1</td>\n",
       "      <td>Lammps</td>\n",
       "      <td>0.1</td>\n",
       "      <td>None</td>\n",
       "      <td>573.0</td>\n",
       "    </tr>\n",
       "    <tr>\n",
       "      <th>2</th>\n",
       "      <td>575</td>\n",
       "      <td>finished</td>\n",
       "      <td>Al4</td>\n",
       "      <td>strain_0_92</td>\n",
       "      <td>/strain_0_92</td>\n",
       "      <td>/home/ponder/</td>\n",
       "      <td>science/phd/dev/pyiron-virtual-workshop-2020/book/tutorials/demo/potential_scan/2000__Landa_A__Al_Pb__LAMMPS__ipr1/murn_Al_hdf5/</td>\n",
       "      <td>2020-08-10 09:33:45.902598</td>\n",
       "      <td>2020-08-10 09:33:46.239607</td>\n",
       "      <td>0.0</td>\n",
       "      <td>pyiron@susan#1</td>\n",
       "      <td>Lammps</td>\n",
       "      <td>0.1</td>\n",
       "      <td>None</td>\n",
       "      <td>573.0</td>\n",
       "    </tr>\n",
       "    <tr>\n",
       "      <th>3</th>\n",
       "      <td>576</td>\n",
       "      <td>finished</td>\n",
       "      <td>Al4</td>\n",
       "      <td>strain_0_94</td>\n",
       "      <td>/strain_0_94</td>\n",
       "      <td>/home/ponder/</td>\n",
       "      <td>science/phd/dev/pyiron-virtual-workshop-2020/book/tutorials/demo/potential_scan/2000__Landa_A__Al_Pb__LAMMPS__ipr1/murn_Al_hdf5/</td>\n",
       "      <td>2020-08-10 09:33:46.867103</td>\n",
       "      <td>2020-08-10 09:33:47.216269</td>\n",
       "      <td>0.0</td>\n",
       "      <td>pyiron@susan#1</td>\n",
       "      <td>Lammps</td>\n",
       "      <td>0.1</td>\n",
       "      <td>None</td>\n",
       "      <td>573.0</td>\n",
       "    </tr>\n",
       "    <tr>\n",
       "      <th>4</th>\n",
       "      <td>577</td>\n",
       "      <td>finished</td>\n",
       "      <td>Al4</td>\n",
       "      <td>strain_0_96</td>\n",
       "      <td>/strain_0_96</td>\n",
       "      <td>/home/ponder/</td>\n",
       "      <td>science/phd/dev/pyiron-virtual-workshop-2020/book/tutorials/demo/potential_scan/2000__Landa_A__Al_Pb__LAMMPS__ipr1/murn_Al_hdf5/</td>\n",
       "      <td>2020-08-10 09:33:47.831134</td>\n",
       "      <td>2020-08-10 09:33:48.167521</td>\n",
       "      <td>0.0</td>\n",
       "      <td>pyiron@susan#1</td>\n",
       "      <td>Lammps</td>\n",
       "      <td>0.1</td>\n",
       "      <td>None</td>\n",
       "      <td>573.0</td>\n",
       "    </tr>\n",
       "    <tr>\n",
       "      <th>5</th>\n",
       "      <td>578</td>\n",
       "      <td>finished</td>\n",
       "      <td>Al4</td>\n",
       "      <td>strain_0_98</td>\n",
       "      <td>/strain_0_98</td>\n",
       "      <td>/home/ponder/</td>\n",
       "      <td>science/phd/dev/pyiron-virtual-workshop-2020/book/tutorials/demo/potential_scan/2000__Landa_A__Al_Pb__LAMMPS__ipr1/murn_Al_hdf5/</td>\n",
       "      <td>2020-08-10 09:33:48.848455</td>\n",
       "      <td>2020-08-10 09:33:49.187766</td>\n",
       "      <td>0.0</td>\n",
       "      <td>pyiron@susan#1</td>\n",
       "      <td>Lammps</td>\n",
       "      <td>0.1</td>\n",
       "      <td>None</td>\n",
       "      <td>573.0</td>\n",
       "    </tr>\n",
       "    <tr>\n",
       "      <th>6</th>\n",
       "      <td>579</td>\n",
       "      <td>finished</td>\n",
       "      <td>Al4</td>\n",
       "      <td>strain_1_0</td>\n",
       "      <td>/strain_1_0</td>\n",
       "      <td>/home/ponder/</td>\n",
       "      <td>science/phd/dev/pyiron-virtual-workshop-2020/book/tutorials/demo/potential_scan/2000__Landa_A__Al_Pb__LAMMPS__ipr1/murn_Al_hdf5/</td>\n",
       "      <td>2020-08-10 09:33:49.824299</td>\n",
       "      <td>2020-08-10 09:33:50.166694</td>\n",
       "      <td>0.0</td>\n",
       "      <td>pyiron@susan#1</td>\n",
       "      <td>Lammps</td>\n",
       "      <td>0.1</td>\n",
       "      <td>None</td>\n",
       "      <td>573.0</td>\n",
       "    </tr>\n",
       "    <tr>\n",
       "      <th>7</th>\n",
       "      <td>580</td>\n",
       "      <td>finished</td>\n",
       "      <td>Al4</td>\n",
       "      <td>strain_1_02</td>\n",
       "      <td>/strain_1_02</td>\n",
       "      <td>/home/ponder/</td>\n",
       "      <td>science/phd/dev/pyiron-virtual-workshop-2020/book/tutorials/demo/potential_scan/2000__Landa_A__Al_Pb__LAMMPS__ipr1/murn_Al_hdf5/</td>\n",
       "      <td>2020-08-10 09:33:50.808705</td>\n",
       "      <td>2020-08-10 09:33:51.176068</td>\n",
       "      <td>0.0</td>\n",
       "      <td>pyiron@susan#1</td>\n",
       "      <td>Lammps</td>\n",
       "      <td>0.1</td>\n",
       "      <td>None</td>\n",
       "      <td>573.0</td>\n",
       "    </tr>\n",
       "    <tr>\n",
       "      <th>8</th>\n",
       "      <td>581</td>\n",
       "      <td>finished</td>\n",
       "      <td>Al4</td>\n",
       "      <td>strain_1_04</td>\n",
       "      <td>/strain_1_04</td>\n",
       "      <td>/home/ponder/</td>\n",
       "      <td>science/phd/dev/pyiron-virtual-workshop-2020/book/tutorials/demo/potential_scan/2000__Landa_A__Al_Pb__LAMMPS__ipr1/murn_Al_hdf5/</td>\n",
       "      <td>2020-08-10 09:33:51.824512</td>\n",
       "      <td>2020-08-10 09:33:52.193449</td>\n",
       "      <td>0.0</td>\n",
       "      <td>pyiron@susan#1</td>\n",
       "      <td>Lammps</td>\n",
       "      <td>0.1</td>\n",
       "      <td>None</td>\n",
       "      <td>573.0</td>\n",
       "    </tr>\n",
       "    <tr>\n",
       "      <th>9</th>\n",
       "      <td>582</td>\n",
       "      <td>finished</td>\n",
       "      <td>Al4</td>\n",
       "      <td>strain_1_06</td>\n",
       "      <td>/strain_1_06</td>\n",
       "      <td>/home/ponder/</td>\n",
       "      <td>science/phd/dev/pyiron-virtual-workshop-2020/book/tutorials/demo/potential_scan/2000__Landa_A__Al_Pb__LAMMPS__ipr1/murn_Al_hdf5/</td>\n",
       "      <td>2020-08-10 09:33:52.952479</td>\n",
       "      <td>2020-08-10 09:33:53.298574</td>\n",
       "      <td>0.0</td>\n",
       "      <td>pyiron@susan#1</td>\n",
       "      <td>Lammps</td>\n",
       "      <td>0.1</td>\n",
       "      <td>None</td>\n",
       "      <td>573.0</td>\n",
       "    </tr>\n",
       "    <tr>\n",
       "      <th>10</th>\n",
       "      <td>583</td>\n",
       "      <td>finished</td>\n",
       "      <td>Al4</td>\n",
       "      <td>strain_1_08</td>\n",
       "      <td>/strain_1_08</td>\n",
       "      <td>/home/ponder/</td>\n",
       "      <td>science/phd/dev/pyiron-virtual-workshop-2020/book/tutorials/demo/potential_scan/2000__Landa_A__Al_Pb__LAMMPS__ipr1/murn_Al_hdf5/</td>\n",
       "      <td>2020-08-10 09:33:53.929181</td>\n",
       "      <td>2020-08-10 09:33:54.279539</td>\n",
       "      <td>0.0</td>\n",
       "      <td>pyiron@susan#1</td>\n",
       "      <td>Lammps</td>\n",
       "      <td>0.1</td>\n",
       "      <td>None</td>\n",
       "      <td>573.0</td>\n",
       "    </tr>\n",
       "    <tr>\n",
       "      <th>11</th>\n",
       "      <td>584</td>\n",
       "      <td>finished</td>\n",
       "      <td>Al4</td>\n",
       "      <td>strain_1_1</td>\n",
       "      <td>/strain_1_1</td>\n",
       "      <td>/home/ponder/</td>\n",
       "      <td>science/phd/dev/pyiron-virtual-workshop-2020/book/tutorials/demo/potential_scan/2000__Landa_A__Al_Pb__LAMMPS__ipr1/murn_Al_hdf5/</td>\n",
       "      <td>2020-08-10 09:33:54.954389</td>\n",
       "      <td>2020-08-10 09:33:55.319029</td>\n",
       "      <td>0.0</td>\n",
       "      <td>pyiron@susan#1</td>\n",
       "      <td>Lammps</td>\n",
       "      <td>0.1</td>\n",
       "      <td>None</td>\n",
       "      <td>573.0</td>\n",
       "    </tr>\n",
       "  </tbody>\n",
       "</table>\n",
       "</div>"
      ],
      "text/plain": [
       "     id    status chemicalformula          job        subjob    projectpath  \\\n",
       "0   573  finished             Al4      murn_Al      /murn_Al  /home/ponder/   \n",
       "1   574  finished             Al4   strain_0_9   /strain_0_9  /home/ponder/   \n",
       "2   575  finished             Al4  strain_0_92  /strain_0_92  /home/ponder/   \n",
       "3   576  finished             Al4  strain_0_94  /strain_0_94  /home/ponder/   \n",
       "4   577  finished             Al4  strain_0_96  /strain_0_96  /home/ponder/   \n",
       "5   578  finished             Al4  strain_0_98  /strain_0_98  /home/ponder/   \n",
       "6   579  finished             Al4   strain_1_0   /strain_1_0  /home/ponder/   \n",
       "7   580  finished             Al4  strain_1_02  /strain_1_02  /home/ponder/   \n",
       "8   581  finished             Al4  strain_1_04  /strain_1_04  /home/ponder/   \n",
       "9   582  finished             Al4  strain_1_06  /strain_1_06  /home/ponder/   \n",
       "10  583  finished             Al4  strain_1_08  /strain_1_08  /home/ponder/   \n",
       "11  584  finished             Al4   strain_1_1   /strain_1_1  /home/ponder/   \n",
       "\n",
       "                                                                                                                             project  \\\n",
       "0                science/phd/dev/pyiron-virtual-workshop-2020/book/tutorials/demo/potential_scan/2000__Landa_A__Al_Pb__LAMMPS__ipr1/   \n",
       "1   science/phd/dev/pyiron-virtual-workshop-2020/book/tutorials/demo/potential_scan/2000__Landa_A__Al_Pb__LAMMPS__ipr1/murn_Al_hdf5/   \n",
       "2   science/phd/dev/pyiron-virtual-workshop-2020/book/tutorials/demo/potential_scan/2000__Landa_A__Al_Pb__LAMMPS__ipr1/murn_Al_hdf5/   \n",
       "3   science/phd/dev/pyiron-virtual-workshop-2020/book/tutorials/demo/potential_scan/2000__Landa_A__Al_Pb__LAMMPS__ipr1/murn_Al_hdf5/   \n",
       "4   science/phd/dev/pyiron-virtual-workshop-2020/book/tutorials/demo/potential_scan/2000__Landa_A__Al_Pb__LAMMPS__ipr1/murn_Al_hdf5/   \n",
       "5   science/phd/dev/pyiron-virtual-workshop-2020/book/tutorials/demo/potential_scan/2000__Landa_A__Al_Pb__LAMMPS__ipr1/murn_Al_hdf5/   \n",
       "6   science/phd/dev/pyiron-virtual-workshop-2020/book/tutorials/demo/potential_scan/2000__Landa_A__Al_Pb__LAMMPS__ipr1/murn_Al_hdf5/   \n",
       "7   science/phd/dev/pyiron-virtual-workshop-2020/book/tutorials/demo/potential_scan/2000__Landa_A__Al_Pb__LAMMPS__ipr1/murn_Al_hdf5/   \n",
       "8   science/phd/dev/pyiron-virtual-workshop-2020/book/tutorials/demo/potential_scan/2000__Landa_A__Al_Pb__LAMMPS__ipr1/murn_Al_hdf5/   \n",
       "9   science/phd/dev/pyiron-virtual-workshop-2020/book/tutorials/demo/potential_scan/2000__Landa_A__Al_Pb__LAMMPS__ipr1/murn_Al_hdf5/   \n",
       "10  science/phd/dev/pyiron-virtual-workshop-2020/book/tutorials/demo/potential_scan/2000__Landa_A__Al_Pb__LAMMPS__ipr1/murn_Al_hdf5/   \n",
       "11  science/phd/dev/pyiron-virtual-workshop-2020/book/tutorials/demo/potential_scan/2000__Landa_A__Al_Pb__LAMMPS__ipr1/murn_Al_hdf5/   \n",
       "\n",
       "                    timestart                   timestop  totalcputime  \\\n",
       "0  2020-08-10 09:33:44.242878 2020-08-10 09:33:55.660839          11.0   \n",
       "1  2020-08-10 09:33:44.945319 2020-08-10 09:33:45.293532           0.0   \n",
       "2  2020-08-10 09:33:45.902598 2020-08-10 09:33:46.239607           0.0   \n",
       "3  2020-08-10 09:33:46.867103 2020-08-10 09:33:47.216269           0.0   \n",
       "4  2020-08-10 09:33:47.831134 2020-08-10 09:33:48.167521           0.0   \n",
       "5  2020-08-10 09:33:48.848455 2020-08-10 09:33:49.187766           0.0   \n",
       "6  2020-08-10 09:33:49.824299 2020-08-10 09:33:50.166694           0.0   \n",
       "7  2020-08-10 09:33:50.808705 2020-08-10 09:33:51.176068           0.0   \n",
       "8  2020-08-10 09:33:51.824512 2020-08-10 09:33:52.193449           0.0   \n",
       "9  2020-08-10 09:33:52.952479 2020-08-10 09:33:53.298574           0.0   \n",
       "10 2020-08-10 09:33:53.929181 2020-08-10 09:33:54.279539           0.0   \n",
       "11 2020-08-10 09:33:54.954389 2020-08-10 09:33:55.319029           0.0   \n",
       "\n",
       "                computer   hamilton hamversion parentid  masterid  \n",
       "0   pyiron@susan#1#11/11  Murnaghan      0.3.0     None       NaN  \n",
       "1         pyiron@susan#1     Lammps        0.1     None     573.0  \n",
       "2         pyiron@susan#1     Lammps        0.1     None     573.0  \n",
       "3         pyiron@susan#1     Lammps        0.1     None     573.0  \n",
       "4         pyiron@susan#1     Lammps        0.1     None     573.0  \n",
       "5         pyiron@susan#1     Lammps        0.1     None     573.0  \n",
       "6         pyiron@susan#1     Lammps        0.1     None     573.0  \n",
       "7         pyiron@susan#1     Lammps        0.1     None     573.0  \n",
       "8         pyiron@susan#1     Lammps        0.1     None     573.0  \n",
       "9         pyiron@susan#1     Lammps        0.1     None     573.0  \n",
       "10        pyiron@susan#1     Lammps        0.1     None     573.0  \n",
       "11        pyiron@susan#1     Lammps        0.1     None     573.0  "
      ]
     },
     "execution_count": 56,
     "metadata": {},
     "output_type": "execute_result"
    }
   ],
   "source": [
    "pr['2000__Landa_A__Al_Pb__LAMMPS__ipr1'].job_table()"
   ]
  },
  {
   "cell_type": "code",
   "execution_count": 57,
   "metadata": {},
   "outputs": [],
   "source": [
    "pr.job_table();"
   ]
  },
  {
   "cell_type": "markdown",
   "metadata": {},
   "source": [
    "### Analysing over all potentials"
   ]
  },
  {
   "cell_type": "code",
   "execution_count": 58,
   "metadata": {},
   "outputs": [
    {
     "name": "stdout",
     "output_type": "stream",
     "text": [
      "CPU times: user 351 ms, sys: 0 ns, total: 351 ms\n",
      "Wall time: 123 ms\n"
     ]
    }
   ],
   "source": [
    "%%time\n",
    "eq_dict = dict()\n",
    "convert_to_object = False\n",
    "for group in pr.list_groups():\n",
    "    if convert_to_object:\n",
    "        murn = pr[group+\"/murn_Al\"]\n",
    "    else:\n",
    "        murn = pr[group].inspect(\"murn_Al\")\n",
    "    if murn.status == \"finished\":\n",
    "        eq_dict[group] = dict()\n",
    "        eq_dict[group][\"a\"] = murn[\"output/equilibrium_volume\"] ** (1/3)\n",
    "        eq_dict[group][\"bulk_modulus\"] = murn[\"output/equilibrium_bulk_modulus\"]"
   ]
  },
  {
   "cell_type": "code",
   "execution_count": 59,
   "metadata": {},
   "outputs": [
    {
     "data": {
      "text/html": [
       "<div>\n",
       "<style scoped>\n",
       "    .dataframe tbody tr th:only-of-type {\n",
       "        vertical-align: middle;\n",
       "    }\n",
       "\n",
       "    .dataframe tbody tr th {\n",
       "        vertical-align: top;\n",
       "    }\n",
       "\n",
       "    .dataframe thead th {\n",
       "        text-align: right;\n",
       "    }\n",
       "</style>\n",
       "<table border=\"1\" class=\"dataframe\">\n",
       "  <thead>\n",
       "    <tr style=\"text-align: right;\">\n",
       "      <th></th>\n",
       "      <th>a</th>\n",
       "      <th>bulk_modulus</th>\n",
       "    </tr>\n",
       "  </thead>\n",
       "  <tbody>\n",
       "    <tr>\n",
       "      <th>1997__Liu_X_Y__Al_Mg__LAMMPS__ipr1</th>\n",
       "      <td>4.032659</td>\n",
       "      <td>83.498560</td>\n",
       "    </tr>\n",
       "    <tr>\n",
       "      <th>2000__Landa_A__Al_Pb__LAMMPS__ipr1</th>\n",
       "      <td>4.031246</td>\n",
       "      <td>78.213776</td>\n",
       "    </tr>\n",
       "    <tr>\n",
       "      <th>2003__Zope_R_R__Al__LAMMPS__ipr1</th>\n",
       "      <td>4.049946</td>\n",
       "      <td>80.836777</td>\n",
       "    </tr>\n",
       "    <tr>\n",
       "      <th>2004__Zhou_X_W__Al__LAMMPS__ipr1</th>\n",
       "      <td>4.050315</td>\n",
       "      <td>71.546946</td>\n",
       "    </tr>\n",
       "    <tr>\n",
       "      <th>2004__Zhou_X_W__Al__LAMMPS__ipr2</th>\n",
       "      <td>4.050316</td>\n",
       "      <td>71.546634</td>\n",
       "    </tr>\n",
       "    <tr>\n",
       "      <th>2015__Mendelev_M_I__Al_Sm__LAMMPS__ipr1</th>\n",
       "      <td>4.041196</td>\n",
       "      <td>85.017411</td>\n",
       "    </tr>\n",
       "    <tr>\n",
       "      <th>Al_H_Ni_Angelo_eam</th>\n",
       "      <td>4.049954</td>\n",
       "      <td>81.040445</td>\n",
       "    </tr>\n",
       "    <tr>\n",
       "      <th>Al_Mg_Mendelev_eam</th>\n",
       "      <td>4.045415</td>\n",
       "      <td>89.015487</td>\n",
       "    </tr>\n",
       "    <tr>\n",
       "      <th>Zope_Ti_Al_2003_eam</th>\n",
       "      <td>4.049946</td>\n",
       "      <td>80.836779</td>\n",
       "    </tr>\n",
       "  </tbody>\n",
       "</table>\n",
       "</div>"
      ],
      "text/plain": [
       "                                                a  bulk_modulus\n",
       "1997__Liu_X_Y__Al_Mg__LAMMPS__ipr1       4.032659     83.498560\n",
       "2000__Landa_A__Al_Pb__LAMMPS__ipr1       4.031246     78.213776\n",
       "2003__Zope_R_R__Al__LAMMPS__ipr1         4.049946     80.836777\n",
       "2004__Zhou_X_W__Al__LAMMPS__ipr1         4.050315     71.546946\n",
       "2004__Zhou_X_W__Al__LAMMPS__ipr2         4.050316     71.546634\n",
       "2015__Mendelev_M_I__Al_Sm__LAMMPS__ipr1  4.041196     85.017411\n",
       "Al_H_Ni_Angelo_eam                       4.049954     81.040445\n",
       "Al_Mg_Mendelev_eam                       4.045415     89.015487\n",
       "Zope_Ti_Al_2003_eam                      4.049946     80.836779"
      ]
     },
     "execution_count": 59,
     "metadata": {},
     "output_type": "execute_result"
    }
   ],
   "source": [
    "pd.DataFrame(eq_dict).T"
   ]
  }
 ],
 "metadata": {
  "kernelspec": {
   "display_name": "Python 3",
   "language": "python",
   "name": "python3"
  },
  "language_info": {
   "codemirror_mode": {
    "name": "ipython",
    "version": 3
   },
   "file_extension": ".py",
   "mimetype": "text/x-python",
   "name": "python",
   "nbconvert_exporter": "python",
   "pygments_lexer": "ipython3",
   "version": "3.7.6"
  },
  "toc": {
   "base_numbering": 1,
   "nav_menu": {},
   "number_sections": true,
   "sideBar": true,
   "skip_h1_title": false,
   "title_cell": "Table of Contents",
   "title_sidebar": "Contents",
   "toc_cell": false,
   "toc_position": {},
   "toc_section_display": true,
   "toc_window_display": false
  },
  "toc-autonumbering": true,
  "toc-showcode": false,
  "toc-showmarkdowntxt": false,
  "toc-showtags": false
 },
 "nbformat": 4,
 "nbformat_minor": 4
}
