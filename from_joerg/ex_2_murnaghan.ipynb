{
 "cells": [
  {
   "cell_type": "markdown",
   "metadata": {},
   "source": [
    "# Excercise 2: Murnaghan plots using sphinx"
   ]
  },
  {
   "cell_type": "code",
   "execution_count": 1,
   "metadata": {},
   "outputs": [],
   "source": [
    "from pyiron import Project\n",
    "import numpy as np\n",
    "import matplotlib.pylab as plt"
   ]
  },
  {
   "cell_type": "code",
   "execution_count": 2,
   "metadata": {},
   "outputs": [],
   "source": [
    "import pandas as pd\n",
    "from ast import literal_eval"
   ]
  },
  {
   "cell_type": "markdown",
   "metadata": {},
   "source": [
    "## Perform a static energy calculation of bulk Al using DFT (Sphinx as open source DFT code)"
   ]
  },
  {
   "cell_type": "code",
   "execution_count": 3,
   "metadata": {},
   "outputs": [],
   "source": [
    "pr = Project(\"sphinx_demo\")\n",
    "pr.remove_jobs()"
   ]
  },
  {
   "cell_type": "code",
   "execution_count": 4,
   "metadata": {},
   "outputs": [],
   "source": [
    "job_sphinx = pr.create_job(pr.job_type.Sphinx, \"test_sphinx\")"
   ]
  },
  {
   "cell_type": "code",
   "execution_count": 5,
   "metadata": {},
   "outputs": [],
   "source": [
    "job_sphinx.structure = pr.create_ase_bulk(\"Al\")"
   ]
  },
  {
   "cell_type": "code",
   "execution_count": 6,
   "metadata": {},
   "outputs": [
    {
     "data": {
      "text/plain": [
       "340"
      ]
     },
     "execution_count": 6,
     "metadata": {},
     "output_type": "execute_result"
    }
   ],
   "source": [
    "job_sphinx.plane_wave_cutoff"
   ]
  },
  {
   "cell_type": "code",
   "execution_count": 7,
   "metadata": {},
   "outputs": [],
   "source": [
    "job_sphinx.set_kpoints(mesh=[5, 5, 5])"
   ]
  },
  {
   "cell_type": "code",
   "execution_count": 8,
   "metadata": {},
   "outputs": [
    {
     "data": {
      "text/html": [
       "<div>\n",
       "<style scoped>\n",
       "    .dataframe tbody tr th:only-of-type {\n",
       "        vertical-align: middle;\n",
       "    }\n",
       "\n",
       "    .dataframe tbody tr th {\n",
       "        vertical-align: top;\n",
       "    }\n",
       "\n",
       "    .dataframe thead th {\n",
       "        text-align: right;\n",
       "    }\n",
       "</style>\n",
       "<table border=\"1\" class=\"dataframe\">\n",
       "  <thead>\n",
       "    <tr style=\"text-align: right;\">\n",
       "      <th></th>\n",
       "      <th>Parameter</th>\n",
       "      <th>Value</th>\n",
       "      <th>Comment</th>\n",
       "    </tr>\n",
       "  </thead>\n",
       "  <tbody>\n",
       "    <tr>\n",
       "      <th>0</th>\n",
       "      <td>EnCut</td>\n",
       "      <td>340</td>\n",
       "      <td></td>\n",
       "    </tr>\n",
       "    <tr>\n",
       "      <th>1</th>\n",
       "      <td>KpointCoords</td>\n",
       "      <td>[0.5, 0.5, 0.5]</td>\n",
       "      <td></td>\n",
       "    </tr>\n",
       "    <tr>\n",
       "      <th>2</th>\n",
       "      <td>KpointFolding</td>\n",
       "      <td>[5, 5, 5]</td>\n",
       "      <td></td>\n",
       "    </tr>\n",
       "    <tr>\n",
       "      <th>3</th>\n",
       "      <td>EmptyStates</td>\n",
       "      <td>auto</td>\n",
       "      <td></td>\n",
       "    </tr>\n",
       "    <tr>\n",
       "      <th>4</th>\n",
       "      <td>Sigma</td>\n",
       "      <td>0.2</td>\n",
       "      <td></td>\n",
       "    </tr>\n",
       "    <tr>\n",
       "      <th>5</th>\n",
       "      <td>Xcorr</td>\n",
       "      <td>PBE</td>\n",
       "      <td></td>\n",
       "    </tr>\n",
       "    <tr>\n",
       "      <th>6</th>\n",
       "      <td>VaspPot</td>\n",
       "      <td>False</td>\n",
       "      <td></td>\n",
       "    </tr>\n",
       "    <tr>\n",
       "      <th>7</th>\n",
       "      <td>Estep</td>\n",
       "      <td>400</td>\n",
       "      <td></td>\n",
       "    </tr>\n",
       "    <tr>\n",
       "      <th>8</th>\n",
       "      <td>Ediff</td>\n",
       "      <td>1.0e-4</td>\n",
       "      <td></td>\n",
       "    </tr>\n",
       "    <tr>\n",
       "      <th>9</th>\n",
       "      <td>WriteWaves</td>\n",
       "      <td>True</td>\n",
       "      <td></td>\n",
       "    </tr>\n",
       "    <tr>\n",
       "      <th>10</th>\n",
       "      <td>KJxc</td>\n",
       "      <td>False</td>\n",
       "      <td></td>\n",
       "    </tr>\n",
       "    <tr>\n",
       "      <th>11</th>\n",
       "      <td>SaveMemory</td>\n",
       "      <td>True</td>\n",
       "      <td></td>\n",
       "    </tr>\n",
       "    <tr>\n",
       "      <th>12</th>\n",
       "      <td>CoarseRun</td>\n",
       "      <td>False</td>\n",
       "      <td></td>\n",
       "    </tr>\n",
       "    <tr>\n",
       "      <th>13</th>\n",
       "      <td>rhoMixing</td>\n",
       "      <td>1.0</td>\n",
       "      <td></td>\n",
       "    </tr>\n",
       "    <tr>\n",
       "      <th>14</th>\n",
       "      <td>spinMixing</td>\n",
       "      <td>1.0</td>\n",
       "      <td></td>\n",
       "    </tr>\n",
       "    <tr>\n",
       "      <th>15</th>\n",
       "      <td>CheckOverlap</td>\n",
       "      <td>True</td>\n",
       "      <td></td>\n",
       "    </tr>\n",
       "    <tr>\n",
       "      <th>16</th>\n",
       "      <td>THREADS</td>\n",
       "      <td>1</td>\n",
       "      <td></td>\n",
       "    </tr>\n",
       "  </tbody>\n",
       "</table>\n",
       "</div>"
      ],
      "text/plain": [
       "        Parameter            Value Comment\n",
       "0           EnCut              340        \n",
       "1    KpointCoords  [0.5, 0.5, 0.5]        \n",
       "2   KpointFolding        [5, 5, 5]        \n",
       "3     EmptyStates             auto        \n",
       "4           Sigma              0.2        \n",
       "5           Xcorr              PBE        \n",
       "6         VaspPot            False        \n",
       "7           Estep              400        \n",
       "8           Ediff           1.0e-4        \n",
       "9      WriteWaves             True        \n",
       "10           KJxc            False        \n",
       "11     SaveMemory             True        \n",
       "12      CoarseRun            False        \n",
       "13      rhoMixing              1.0        \n",
       "14     spinMixing              1.0        \n",
       "15   CheckOverlap             True        \n",
       "16        THREADS                1        "
      ]
     },
     "execution_count": 8,
     "metadata": {},
     "output_type": "execute_result"
    }
   ],
   "source": [
    "job_sphinx.input"
   ]
  },
  {
   "cell_type": "code",
   "execution_count": 9,
   "metadata": {},
   "outputs": [],
   "source": [
    "job_sphinx.calc_static()"
   ]
  },
  {
   "cell_type": "code",
   "execution_count": 10,
   "metadata": {},
   "outputs": [
    {
     "name": "stdout",
     "output_type": "stream",
     "text": [
      "The job test_sphinx was saved and received the ID: 698\n"
     ]
    }
   ],
   "source": [
    "job_sphinx.run()"
   ]
  },
  {
   "cell_type": "code",
   "execution_count": 11,
   "metadata": {},
   "outputs": [
    {
     "data": {
      "text/plain": [
       "'finished'"
      ]
     },
     "execution_count": 11,
     "metadata": {},
     "output_type": "execute_result"
    }
   ],
   "source": [
    "job_sphinx.status"
   ]
  },
  {
   "cell_type": "code",
   "execution_count": 12,
   "metadata": {},
   "outputs": [
    {
     "data": {
      "text/plain": [
       "{'groups': ['dft'], 'nodes': ['cells', 'computation_time', 'energy_pot', 'energy_tot', 'forces', 'positions', 'volume']}"
      ]
     },
     "execution_count": 12,
     "metadata": {},
     "output_type": "execute_result"
    }
   ],
   "source": [
    "job_sphinx[\"output/generic\"]"
   ]
  },
  {
   "cell_type": "code",
   "execution_count": 13,
   "metadata": {},
   "outputs": [
    {
     "data": {
      "text/plain": [
       "-57.24482925575225"
      ]
     },
     "execution_count": 13,
     "metadata": {},
     "output_type": "execute_result"
    }
   ],
   "source": [
    "job_sphinx[\"output/generic/energy_tot\"][-1]"
   ]
  },
  {
   "cell_type": "code",
   "execution_count": 14,
   "metadata": {},
   "outputs": [],
   "source": [
    "pr = Project(\"murnaghan_Al_dft\")\n",
    "pr.remove_jobs()"
   ]
  },
  {
   "cell_type": "code",
   "execution_count": 15,
   "metadata": {},
   "outputs": [],
   "source": [
    "a_range = np.linspace(3.9, 4.2, 6)\n",
    "encut_list = [350]\n",
    "kpoint_list = [12]"
   ]
  },
  {
   "cell_type": "code",
   "execution_count": 20,
   "metadata": {},
   "outputs": [
    {
     "name": "stdout",
     "output_type": "stream",
     "text": [
      "job_name_a_3_9_encut_350_kpt_12\n",
      "The job job_name_a_3_9_encut_350_kpt_12 was saved and received the ID: 6\n",
      "job_name_a_3_96_encut_350_kpt_12\n",
      "The job job_name_a_3_96_encut_350_kpt_12 was saved and received the ID: 7\n",
      "job_name_a_4_02_encut_350_kpt_12\n",
      "The job job_name_a_4_02_encut_350_kpt_12 was saved and received the ID: 8\n",
      "job_name_a_4_08_encut_350_kpt_12\n",
      "The job job_name_a_4_08_encut_350_kpt_12 was saved and received the ID: 9\n",
      "job_name_a_4_14_encut_350_kpt_12\n",
      "The job job_name_a_4_14_encut_350_kpt_12 was saved and received the ID: 10\n",
      "job_name_a_4_2_encut_350_kpt_12\n",
      "The job job_name_a_4_2_encut_350_kpt_12 was saved and received the ID: 11\n"
     ]
    }
   ],
   "source": [
    "for kpt in kpoint_list:\n",
    "    for encut in encut_list:\n",
    "        for a in a_range:\n",
    "            job_name = \"job_name_a_{:.4}_encut_{}_kpt_{}\".format(a, encut, kpt).replace(\".\", \"_\")\n",
    "            print(job_name)\n",
    "            job = pr.create_job(pr.job_type.Sphinx, job_name)\n",
    "            job.structure = pr.create_ase_bulk(\"Al\", a=a)\n",
    "            job.plane_wave_cutoff = encut\n",
    "            k_mesh = [kpt] * 3\n",
    "            job.set_kpoints(mesh=k_mesh)\n",
    "            job.run()\n",
    "        "
   ]
  },
  {
   "cell_type": "code",
   "execution_count": 22,
   "metadata": {},
   "outputs": [],
   "source": [
    "pr.job_table();"
   ]
  },
  {
   "cell_type": "code",
   "execution_count": 31,
   "metadata": {},
   "outputs": [
    {
     "name": "stdout",
     "output_type": "stream",
     "text": [
      "CPU times: user 0 ns, sys: 0 ns, total: 0 ns\n",
      "Wall time: 16.2 µs\n"
     ]
    },
    {
     "data": {
      "text/plain": [
       "{'groups': ['cell'], 'nodes': ['TYPE', 'dimension', 'indices', 'positions', 'species', 'units']}"
      ]
     },
     "execution_count": 31,
     "metadata": {},
     "output_type": "execute_result"
    }
   ],
   "source": [
    "# Loading a job\n",
    "%time\n",
    "job = pr.load(\"job_name_a_3_9_encut_350_kpt_12\")\n",
    "job[\"input/structure\"]"
   ]
  },
  {
   "cell_type": "markdown",
   "metadata": {},
   "source": [
    "??? inspect is for this example not really faster, skip or show example where it matters"
   ]
  },
  {
   "cell_type": "code",
   "execution_count": 32,
   "metadata": {},
   "outputs": [
    {
     "name": "stdout",
     "output_type": "stream",
     "text": [
      "CPU times: user 0 ns, sys: 0 ns, total: 0 ns\n",
      "Wall time: 16.5 µs\n"
     ]
    },
    {
     "data": {
      "text/plain": [
       "{'groups': ['cell'], 'nodes': ['TYPE', 'dimension', 'indices', 'positions', 'species', 'units']}"
      ]
     },
     "execution_count": 32,
     "metadata": {},
     "output_type": "execute_result"
    }
   ],
   "source": [
    "%time\n",
    "job = pr.inspect(\"job_name_a_3_9_encut_350_kpt_12\")\n",
    "job[\"input/structure\"]"
   ]
  },
  {
   "cell_type": "code",
   "execution_count": 33,
   "metadata": {},
   "outputs": [],
   "source": [
    "def get_lattice_parameter(job):\n",
    "    return job[\"input/structure/cell/cell\"][0, 1] * 2\n",
    "\n",
    "def get_total_energy(job):\n",
    "    return job[\"output/generic/energy_tot\"][-1]\n",
    "\n",
    "def get_encut_kpoints(job):\n",
    "    input_df = pd.DataFrame(job[\"input/data_dict\"])\n",
    "    kpts = literal_eval(input_df[input_df.Parameter == \"KpointFolding\"].Value.tolist()[-1])\n",
    "    encut = input_df[input_df.Parameter == \"EnCut\"].Value.astype(float).tolist()[-1]\n",
    "    return encut, kpts\n",
    "\n",
    "def get_properties(df):\n",
    "    job = pr.inspect(df.id)\n",
    "    df[\"a\"] = get_lattice_parameter(job)\n",
    "    df[\"e_tot\"] = get_total_energy(job)\n",
    "    df[\"encut\"], df[\"kpoints\"] = get_encut_kpoints(job)\n",
    "    return df"
   ]
  },
  {
   "cell_type": "code",
   "execution_count": 34,
   "metadata": {},
   "outputs": [
    {
     "data": {
      "text/plain": [
       "3.9"
      ]
     },
     "execution_count": 34,
     "metadata": {},
     "output_type": "execute_result"
    }
   ],
   "source": [
    "job[\"input/structure/cell/cell\"][0, 1] * 2"
   ]
  },
  {
   "cell_type": "code",
   "execution_count": 35,
   "metadata": {},
   "outputs": [
    {
     "data": {
      "text/plain": [
       "-57.2095753864208"
      ]
     },
     "execution_count": 35,
     "metadata": {},
     "output_type": "execute_result"
    }
   ],
   "source": [
    "job[\"output/generic/energy_tot\"][-1]"
   ]
  },
  {
   "cell_type": "code",
   "execution_count": 36,
   "metadata": {},
   "outputs": [
    {
     "data": {
      "text/html": [
       "<div>\n",
       "<style scoped>\n",
       "    .dataframe tbody tr th:only-of-type {\n",
       "        vertical-align: middle;\n",
       "    }\n",
       "\n",
       "    .dataframe tbody tr th {\n",
       "        vertical-align: top;\n",
       "    }\n",
       "\n",
       "    .dataframe thead th {\n",
       "        text-align: right;\n",
       "    }\n",
       "</style>\n",
       "<table border=\"1\" class=\"dataframe\">\n",
       "  <thead>\n",
       "    <tr style=\"text-align: right;\">\n",
       "      <th></th>\n",
       "      <th>Parameter</th>\n",
       "      <th>Value</th>\n",
       "      <th>Comment</th>\n",
       "    </tr>\n",
       "  </thead>\n",
       "  <tbody>\n",
       "    <tr>\n",
       "      <th>0</th>\n",
       "      <td>EnCut</td>\n",
       "      <td>350</td>\n",
       "      <td></td>\n",
       "    </tr>\n",
       "    <tr>\n",
       "      <th>1</th>\n",
       "      <td>KpointCoords</td>\n",
       "      <td>[0.5, 0.5, 0.5]</td>\n",
       "      <td></td>\n",
       "    </tr>\n",
       "    <tr>\n",
       "      <th>2</th>\n",
       "      <td>KpointFolding</td>\n",
       "      <td>[12, 12, 12]</td>\n",
       "      <td></td>\n",
       "    </tr>\n",
       "    <tr>\n",
       "      <th>3</th>\n",
       "      <td>EmptyStates</td>\n",
       "      <td>auto</td>\n",
       "      <td></td>\n",
       "    </tr>\n",
       "    <tr>\n",
       "      <th>4</th>\n",
       "      <td>Sigma</td>\n",
       "      <td>0.2</td>\n",
       "      <td></td>\n",
       "    </tr>\n",
       "    <tr>\n",
       "      <th>5</th>\n",
       "      <td>Xcorr</td>\n",
       "      <td>PBE</td>\n",
       "      <td></td>\n",
       "    </tr>\n",
       "    <tr>\n",
       "      <th>6</th>\n",
       "      <td>VaspPot</td>\n",
       "      <td>False</td>\n",
       "      <td></td>\n",
       "    </tr>\n",
       "    <tr>\n",
       "      <th>7</th>\n",
       "      <td>Estep</td>\n",
       "      <td>400</td>\n",
       "      <td></td>\n",
       "    </tr>\n",
       "    <tr>\n",
       "      <th>8</th>\n",
       "      <td>Ediff</td>\n",
       "      <td>1.0e-4</td>\n",
       "      <td></td>\n",
       "    </tr>\n",
       "    <tr>\n",
       "      <th>9</th>\n",
       "      <td>WriteWaves</td>\n",
       "      <td>True</td>\n",
       "      <td></td>\n",
       "    </tr>\n",
       "    <tr>\n",
       "      <th>10</th>\n",
       "      <td>KJxc</td>\n",
       "      <td>False</td>\n",
       "      <td></td>\n",
       "    </tr>\n",
       "    <tr>\n",
       "      <th>11</th>\n",
       "      <td>SaveMemory</td>\n",
       "      <td>True</td>\n",
       "      <td></td>\n",
       "    </tr>\n",
       "    <tr>\n",
       "      <th>12</th>\n",
       "      <td>CoarseRun</td>\n",
       "      <td>False</td>\n",
       "      <td></td>\n",
       "    </tr>\n",
       "    <tr>\n",
       "      <th>13</th>\n",
       "      <td>rhoMixing</td>\n",
       "      <td>1.0</td>\n",
       "      <td></td>\n",
       "    </tr>\n",
       "    <tr>\n",
       "      <th>14</th>\n",
       "      <td>spinMixing</td>\n",
       "      <td>1.0</td>\n",
       "      <td></td>\n",
       "    </tr>\n",
       "    <tr>\n",
       "      <th>15</th>\n",
       "      <td>CheckOverlap</td>\n",
       "      <td>True</td>\n",
       "      <td></td>\n",
       "    </tr>\n",
       "    <tr>\n",
       "      <th>16</th>\n",
       "      <td>THREADS</td>\n",
       "      <td>1</td>\n",
       "      <td></td>\n",
       "    </tr>\n",
       "  </tbody>\n",
       "</table>\n",
       "</div>"
      ],
      "text/plain": [
       "        Parameter            Value Comment\n",
       "0           EnCut              350        \n",
       "1    KpointCoords  [0.5, 0.5, 0.5]        \n",
       "2   KpointFolding     [12, 12, 12]        \n",
       "3     EmptyStates             auto        \n",
       "4           Sigma              0.2        \n",
       "5           Xcorr              PBE        \n",
       "6         VaspPot            False        \n",
       "7           Estep              400        \n",
       "8           Ediff           1.0e-4        \n",
       "9      WriteWaves             True        \n",
       "10           KJxc            False        \n",
       "11     SaveMemory             True        \n",
       "12      CoarseRun            False        \n",
       "13      rhoMixing              1.0        \n",
       "14     spinMixing              1.0        \n",
       "15   CheckOverlap             True        \n",
       "16        THREADS                1        "
      ]
     },
     "execution_count": 36,
     "metadata": {},
     "output_type": "execute_result"
    }
   ],
   "source": [
    "input_df = pd.DataFrame(job[\"input/data_dict\"])\n",
    "input_df"
   ]
  },
  {
   "cell_type": "markdown",
   "metadata": {},
   "source": [
    "??? This looks rather cumbersome and should be improved in the future. For a first demo it may be skipped."
   ]
  },
  {
   "cell_type": "code",
   "execution_count": 41,
   "metadata": {},
   "outputs": [
    {
     "data": {
      "text/plain": [
       "350.0"
      ]
     },
     "execution_count": 41,
     "metadata": {},
     "output_type": "execute_result"
    }
   ],
   "source": [
    "input_df[input_df.Parameter == \"EnCut\"].Value.astype(float).tolist()[-1]"
   ]
  },
  {
   "cell_type": "code",
   "execution_count": 16,
   "metadata": {},
   "outputs": [
    {
     "ename": "NameError",
     "evalue": "name 'input_df' is not defined",
     "output_type": "error",
     "traceback": [
      "\u001b[0;31m---------------------------------------------------------------------------\u001b[0m",
      "\u001b[0;31mNameError\u001b[0m                                 Traceback (most recent call last)",
      "\u001b[0;32m<ipython-input-16-742651a872ff>\u001b[0m in \u001b[0;36m<module>\u001b[0;34m\u001b[0m\n\u001b[1;32m      1\u001b[0m \u001b[0;31m#Take it from the name!\u001b[0m\u001b[0;34m\u001b[0m\u001b[0;34m\u001b[0m\u001b[0;34m\u001b[0m\u001b[0m\n\u001b[1;32m      2\u001b[0m \u001b[0;34m\u001b[0m\u001b[0m\n\u001b[0;32m----> 3\u001b[0;31m \u001b[0mliteral_eval\u001b[0m\u001b[0;34m(\u001b[0m\u001b[0minput_df\u001b[0m\u001b[0;34m[\u001b[0m\u001b[0minput_df\u001b[0m\u001b[0;34m.\u001b[0m\u001b[0mParameter\u001b[0m \u001b[0;34m==\u001b[0m \u001b[0;34m\"KpointFolding\"\u001b[0m\u001b[0;34m]\u001b[0m\u001b[0;34m.\u001b[0m\u001b[0mValue\u001b[0m\u001b[0;34m.\u001b[0m\u001b[0mtolist\u001b[0m\u001b[0;34m(\u001b[0m\u001b[0;34m)\u001b[0m\u001b[0;34m[\u001b[0m\u001b[0;34m-\u001b[0m\u001b[0;36m1\u001b[0m\u001b[0;34m]\u001b[0m\u001b[0;34m)\u001b[0m\u001b[0;34m\u001b[0m\u001b[0;34m\u001b[0m\u001b[0m\n\u001b[0m",
      "\u001b[0;31mNameError\u001b[0m: name 'input_df' is not defined"
     ]
    }
   ],
   "source": [
    "#Take it from the name!\n",
    "literal_eval(input_df[input_df.Parameter == \"KpointFolding\"].Value.tolist()[-1])"
   ]
  },
  {
   "cell_type": "code",
   "execution_count": 43,
   "metadata": {},
   "outputs": [
    {
     "name": "stdout",
     "output_type": "stream",
     "text": [
      "3.9 (350.0, [12, 12, 12])\n",
      "3.96 (350.0, [12, 12, 12])\n",
      "4.02 (350.0, [12, 12, 12])\n",
      "4.08 (350.0, [12, 12, 12])\n",
      "4.140000000000001 (350.0, [12, 12, 12])\n",
      "4.2 (350.0, [12, 12, 12])\n",
      "CPU times: user 2.55 s, sys: 938 ms, total: 3.48 s\n",
      "Wall time: 3.77 s\n"
     ]
    }
   ],
   "source": [
    "%%time\n",
    "convert_to_object = True\n",
    "for job in pr.iter_jobs(convert_to_object=convert_to_object):\n",
    "    if job.status == \"finished\":\n",
    "        print(get_lattice_parameter(job), get_encut_kpoints(job))"
   ]
  },
  {
   "cell_type": "markdown",
   "metadata": {},
   "source": [
    "??? The above code is a nice example for the performance gain when changing load to inspect (convert_to_object = True/False)"
   ]
  },
  {
   "cell_type": "code",
   "execution_count": 44,
   "metadata": {},
   "outputs": [
    {
     "data": {
      "text/plain": [
       "pyiron.sphinx.sphinx.Sphinx"
      ]
     },
     "execution_count": 44,
     "metadata": {},
     "output_type": "execute_result"
    }
   ],
   "source": [
    "type(job)"
   ]
  },
  {
   "cell_type": "code",
   "execution_count": 45,
   "metadata": {},
   "outputs": [],
   "source": [
    "df = pr.job_table()"
   ]
  },
  {
   "cell_type": "code",
   "execution_count": 51,
   "metadata": {},
   "outputs": [],
   "source": [
    "df = df[df.status==\"finished\"]\n",
    "df;"
   ]
  },
  {
   "cell_type": "code",
   "execution_count": 47,
   "metadata": {},
   "outputs": [
    {
     "name": "stdout",
     "output_type": "stream",
     "text": [
      "CPU times: user 281 ms, sys: 93.8 ms, total: 375 ms\n",
      "Wall time: 340 ms\n"
     ]
    }
   ],
   "source": [
    "%%time\n",
    "df_result = df.apply(get_properties, axis=1)"
   ]
  },
  {
   "cell_type": "markdown",
   "metadata": {},
   "source": [
    "??? \n",
    "- Why not using pyiron_tables to extract the relevant energies/volumes? \n",
    "- The following plot/fit looks rather complex (-> we should try to make the first examples as easy and intuitive as possible). \n",
    "- In a second step we may also use the Murnaghan module to show that it works the same way as for lammps"
   ]
  },
  {
   "cell_type": "code",
   "execution_count": 52,
   "metadata": {},
   "outputs": [
    {
     "data": {
      "image/png": "[encoded data removed]",
      "text/plain": [
       "<Figure size 432x288 with 1 Axes>"
      ]
     },
     "metadata": {
      "needs_background": "light"
     },
     "output_type": "display_data"
    }
   ],
   "source": [
    "#%%time\n",
    "\n",
    "poly_deg = 3\n",
    "\n",
    "unique_kpts = np.unique(df_result.kpoints.to_list(), axis=0)\n",
    "fig, ax_list = plt.subplots(ncols=len(unique_kpts), sharey=True, sharex=True)\n",
    "\n",
    "concat_list = [df_result]\n",
    "for i, kpt in enumerate(unique_kpts):\n",
    "    if isinstance(ax_list, list):\n",
    "        ax = ax_list[i]\n",
    "        ax_list[0].set_ylabel(\"Energy total [eV]\")\n",
    "    else:\n",
    "        ax = ax_list\n",
    "        ax.set_ylabel(\"Energy total [eV]\")\n",
    "    \n",
    "    kpt = kpt.tolist()\n",
    "    df_kpt = df_result[df_result.kpoints.astype(str) == str(kpt)]\n",
    "    for encut in np.unique(df_kpt.encut.tolist()):\n",
    "        df_encut = df_kpt[df_kpt.encut==encut]\n",
    "        a_array = np.array(df_encut.a.tolist())\n",
    "        args = np.argsort(a_array)\n",
    "        a_array = a_array[args]\n",
    "        energy_array = np.array(df_encut.e_tot.tolist())[args]\n",
    "        poly = np.polyfit(a_array, energy_array, deg=poly_deg)\n",
    "        a_fit = np.linspace(a_array.min(), a_array.max(), 1001)\n",
    "        e_tot_fit = np.poly1d(poly)(a_fit)\n",
    "        e_eq = e_tot_fit[np.argmin(e_tot_fit)]\n",
    "        a_eq = a_fit[np.argmin(e_tot_fit)]\n",
    "        df_encut[\"e_eq\"] = e_eq\n",
    "        df_encut[\"a_eq\"] = a_eq\n",
    "        concat_list.append(df_encut)\n",
    "        ax.plot(a_eq, e_eq, \"rx\")\n",
    "        ax.plot(a_array, energy_array, \"x\")\n",
    "        color = ax.get_lines()[-1].get_color()\n",
    "        ax.plot(a_fit, e_tot_fit, color=color, label=\"{}\".format(encut))\n",
    "        ax.set_xlabel(\"a [$\\mathrm{\\AA}$]\")\n",
    "        ax.set_title(\"kpoints: {}\".format(str(kpt)))\n",
    "plt.legend(ncol=2, title=\"Encut in eV\");"
   ]
  },
  {
   "cell_type": "code",
   "execution_count": 53,
   "metadata": {},
   "outputs": [],
   "source": [
    "erg_lst, vol_lst = [], []\n",
    "for job in pr.iter_jobs(convert_to_object=False):\n",
    "    erg_lst.append(job['output/generic/energy_tot'][-1])\n",
    "    vol_lst.append(job['output/generic/volume'][-1])\n",
    "    "
   ]
  },
  {
   "cell_type": "code",
   "execution_count": 60,
   "metadata": {},
   "outputs": [],
   "source": [
    "erg_fit = np.poly1d(np.polyfit(vol_lst, erg_lst, 3))\n",
    "vol_fit = np.linspace(np.min(vol_lst), np.max(vol_lst), 100)"
   ]
  },
  {
   "cell_type": "code",
   "execution_count": 65,
   "metadata": {},
   "outputs": [
    {
     "data": {
      "image/png": "[encoded data removed]",
      "text/plain": [
       "<Figure size 432x288 with 1 Axes>"
      ]
     },
     "metadata": {
      "needs_background": "light"
     },
     "output_type": "display_data"
    }
   ],
   "source": [
    "plt.plot(vol_lst, erg_lst, 'x')\n",
    "plt.plot(vol_fit, erg_fit(vol_fit), '--', label='fit')\n",
    "plt.legend();"
   ]
  },
  {
   "cell_type": "markdown",
   "metadata": {},
   "source": [
    "Suggestions:\n",
    "- Plot electronic DOS as function of volume\n",
    "- Plot electronic convergence\n",
    "- Plot k-points in 3d space (creating a structure with the k-points as atoms)"
   ]
  }
 ],
 "metadata": {
  "kernelspec": {
   "display_name": "Python 3",
   "language": "python",
   "name": "python3"
  },
  "language_info": {
   "codemirror_mode": {
    "name": "ipython",
    "version": 3
   },
   "file_extension": ".py",
   "mimetype": "text/x-python",
   "name": "python",
   "nbconvert_exporter": "python",
   "pygments_lexer": "ipython3",
   "version": "3.7.7"
  },
  "toc": {
   "base_numbering": 1,
   "nav_menu": {},
   "number_sections": true,
   "sideBar": true,
   "skip_h1_title": false,
   "title_cell": "Table of Contents",
   "title_sidebar": "Contents",
   "toc_cell": false,
   "toc_position": {},
   "toc_section_display": true,
   "toc_window_display": false
  }
 },
 "nbformat": 4,
 "nbformat_minor": 4
}
