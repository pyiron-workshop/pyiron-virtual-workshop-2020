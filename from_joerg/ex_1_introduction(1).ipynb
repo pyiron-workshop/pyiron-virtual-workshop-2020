{
 "cells": [
  {
   "cell_type": "markdown",
   "metadata": {},
   "source": [
    "# Exercise 1: Introduction to pyiron"
   ]
  },
  {
   "cell_type": "markdown",
   "metadata": {},
   "source": [
    "??? Don't collapse headings (they do not show up in the notebook)"
   ]
  },
  {
   "cell_type": "markdown",
   "metadata": {},
   "source": [
    "## Imports and and working with projects"
   ]
  },
  {
   "cell_type": "code",
   "execution_count": 1,
   "metadata": {
    "ExecuteTime": {
     "end_time": "2020-02-21T12:39:35.662902Z",
     "start_time": "2020-02-21T12:39:35.422425Z"
    }
   },
   "outputs": [],
   "source": [
    "import numpy as np\n",
    "import matplotlib.pylab as plt"
   ]
  },
  {
   "cell_type": "code",
   "execution_count": 2,
   "metadata": {
    "ExecuteTime": {
     "end_time": "2020-02-21T12:39:46.781567Z",
     "start_time": "2020-02-21T12:39:44.865270Z"
    }
   },
   "outputs": [],
   "source": [
    "from pyiron import Project"
   ]
  },
  {
   "cell_type": "code",
   "execution_count": 3,
   "metadata": {
    "ExecuteTime": {
     "end_time": "2020-02-21T13:05:38.491431Z",
     "start_time": "2020-02-21T13:05:37.339476Z"
    }
   },
   "outputs": [],
   "source": [
    "pr = Project(\"demo\")\n",
    "pr.remove_jobs()"
   ]
  },
  {
   "cell_type": "code",
   "execution_count": 4,
   "metadata": {},
   "outputs": [
    {
     "data": {
      "text/plain": [
       "'/home/surendralal/notebooks/pyiron-virtual-workshop-2020/tutorials/from_joerg/demo/'"
      ]
     },
     "execution_count": 4,
     "metadata": {},
     "output_type": "execute_result"
    }
   ],
   "source": [
    "pr.path"
   ]
  },
  {
   "cell_type": "markdown",
   "metadata": {},
   "source": [
    "## Creating and manipulating structures"
   ]
  },
  {
   "cell_type": "code",
   "execution_count": 7,
   "metadata": {
    "ExecuteTime": {
     "end_time": "2020-02-21T13:05:43.326193Z",
     "start_time": "2020-02-21T13:05:43.205610Z"
    }
   },
   "outputs": [
    {
     "data": {
      "application/vnd.jupyter.widget-view+json": {
       "model_id": "8da86c6a67d24b63a97e23628a0041e4",
       "version_major": 2,
       "version_minor": 0
      },
      "text/plain": [
       "NGLWidget()"
      ]
     },
     "metadata": {},
     "output_type": "display_data"
    }
   ],
   "source": [
    "# atomistic structures\n",
    "Al_struct = pr.create_ase_bulk(\"Al\", cubic=True).repeat([2, 2, 4])\n",
    "Al_struct.plot3d()"
   ]
  },
  {
   "cell_type": "code",
   "execution_count": 8,
   "metadata": {},
   "outputs": [
    {
     "data": {
      "application/vnd.jupyter.widget-view+json": {
       "model_id": "c4c0bfe68bb74c49874ada147aaf5d0d",
       "version_major": 2,
       "version_minor": 0
      },
      "text/plain": [
       "NGLWidget()"
      ]
     },
     "metadata": {},
     "output_type": "display_data"
    }
   ],
   "source": [
    "Al_struct[36] = \"Cu\"\n",
    "Al_struct.plot3d(particle_size=3)"
   ]
  },
  {
   "cell_type": "code",
   "execution_count": 9,
   "metadata": {},
   "outputs": [
    {
     "data": {
      "application/vnd.jupyter.widget-view+json": {
       "model_id": "fbf08f020769478fadd96689ad70b0a9",
       "version_major": 2,
       "version_minor": 0
      },
      "text/plain": [
       "NGLWidget()"
      ]
     },
     "metadata": {},
     "output_type": "display_data"
    }
   ],
   "source": [
    "del Al_struct[17]\n",
    "Al_struct.plot3d(particle_size=3)"
   ]
  },
  {
   "cell_type": "markdown",
   "metadata": {},
   "source": [
    "### Creating bulk water consisting of several water molecules"
   ]
  },
  {
   "cell_type": "code",
   "execution_count": 10,
   "metadata": {},
   "outputs": [
    {
     "data": {
      "application/vnd.jupyter.widget-view+json": {
       "model_id": "0cbfd08b444947dc87155e247764acf3",
       "version_major": 2,
       "version_minor": 0
      },
      "text/plain": [
       "NGLWidget()"
      ]
     },
     "metadata": {},
     "output_type": "display_data"
    }
   ],
   "source": [
    "cell = np.eye(3) * 10\n",
    "r_O = [0, 0, 0]\n",
    "r_H1 = [0.0, 0.7, 0.7]\n",
    "r_H2 = [0.0, 0.7, -0.7]\n",
    "water_molecule = pr.create_atoms(\"H2O\", positions=[r_H1, r_H2, r_O], cell=cell)\n",
    "water_molecule.center()\n",
    "water_molecule.set_cell(water_molecule.cell * water_molecule.get_density() ** (1/3), scale_atoms=False)\n",
    "water_molecule.get_density()\n",
    "water_box = water_molecule.repeat(3)\n",
    "water_box.center_coordinates_in_unit_cell()\n",
    "water_box.plot3d(spacefill=False)"
   ]
  },
  {
   "cell_type": "markdown",
   "metadata": {},
   "source": [
    "### Creating an Al supercell with interstitial H"
   ]
  },
  {
   "cell_type": "markdown",
   "metadata": {},
   "source": [
    "#### Create Al sublattice"
   ]
  },
  {
   "cell_type": "code",
   "execution_count": 11,
   "metadata": {},
   "outputs": [],
   "source": [
    "Al_struct = pr.create_ase_bulk(\"Al\", cubic=True)"
   ]
  },
  {
   "cell_type": "markdown",
   "metadata": {},
   "source": [
    "#### Create H interstitial sublattice"
   ]
  },
  {
   "cell_type": "code",
   "execution_count": 12,
   "metadata": {},
   "outputs": [],
   "source": [
    "H_int = Al_struct.copy()\n",
    "H_int[:] = \"H\"\n",
    "H_int.scaled_positions += 0.5"
   ]
  },
  {
   "cell_type": "markdown",
   "metadata": {},
   "source": [
    "#### Create a 2x2x4 supercell for both lattices"
   ]
  },
  {
   "cell_type": "code",
   "execution_count": 13,
   "metadata": {},
   "outputs": [],
   "source": [
    "Al_struct.set_repeat([2, 2, 4])\n",
    "H_int.set_repeat([2, 2, 4])"
   ]
  },
  {
   "cell_type": "markdown",
   "metadata": {},
   "source": [
    "#### Occupy the H sublattice randomly with 10 H atoms "
   ]
  },
  {
   "cell_type": "code",
   "execution_count": 14,
   "metadata": {},
   "outputs": [],
   "source": [
    "rand_int = np.arange(0, len(H_int))\n",
    "np.random.shuffle(rand_int)\n",
    "H_int = H_int[rand_int[:10]]"
   ]
  },
  {
   "cell_type": "markdown",
   "metadata": {},
   "source": [
    "#### Combine Al and H sublattice in same supercell"
   ]
  },
  {
   "cell_type": "code",
   "execution_count": 15,
   "metadata": {},
   "outputs": [
    {
     "data": {
      "application/vnd.jupyter.widget-view+json": {
       "model_id": "04197650df194fcf8fe65c5f6bfab8de",
       "version_major": 2,
       "version_minor": 0
      },
      "text/plain": [
       "NGLWidget()"
      ]
     },
     "metadata": {},
     "output_type": "display_data"
    }
   ],
   "source": [
    "AlH_struct = Al_struct + H_int\n",
    "AlH_struct.plot3d(particle_size=3)"
   ]
  },
  {
   "cell_type": "markdown",
   "metadata": {},
   "source": [
    "## Perform a MD simulation of the AlH supercell using LAMMPS"
   ]
  },
  {
   "cell_type": "markdown",
   "metadata": {},
   "source": [
    "### Setup the Lammps calculation"
   ]
  },
  {
   "cell_type": "code",
   "execution_count": 16,
   "metadata": {},
   "outputs": [
    {
     "name": "stdout",
     "output_type": "stream",
     "text": [
      "['Al_H_Ni_Angelo_eam', '1995--Angelo-J-E--Ni-Al-H--LAMMPS--ipr1', '2018--Zhou-X-W--Al-Cu-H--LAMMPS--ipr1', 'EAM_Dynamo_AngeloMoodyBaskes_1995_NiAlH__MO_418978237058_005']\n"
     ]
    }
   ],
   "source": [
    "job_lammps = pr.create_job(job_type=pr.job_type.Lammps, job_name= \"AlH_lammps\")\n",
    "job_lammps.structure = AlH_struct\n",
    "print(job_lammps.list_potentials())\n",
    "job_lammps.potential =  'Al_H_Ni_Angelo_eam'\n",
    "job_lammps.calc_md(temperature=600, n_ionic_steps=10000)"
   ]
  },
  {
   "cell_type": "code",
   "execution_count": 17,
   "metadata": {},
   "outputs": [
    {
     "name": "stdout",
     "output_type": "stream",
     "text": [
      "The job AlH_lammps was saved and received the ID: 696\n"
     ]
    }
   ],
   "source": [
    "job_lammps.run()"
   ]
  },
  {
   "cell_type": "markdown",
   "metadata": {},
   "source": [
    "### Animate MD trajectories"
   ]
  },
  {
   "cell_type": "code",
   "execution_count": 19,
   "metadata": {},
   "outputs": [
    {
     "data": {
      "application/vnd.jupyter.widget-view+json": {
       "model_id": "d85fba47340e446a9f444340dd14c586",
       "version_major": 2,
       "version_minor": 0
      },
      "text/plain": [
       "NGLWidget(max_frame=100)"
      ]
     },
     "metadata": {},
     "output_type": "display_data"
    }
   ],
   "source": [
    "job_lammps.animate_structure(particle_size=1)"
   ]
  },
  {
   "cell_type": "markdown",
   "metadata": {},
   "source": [
    "### Analyze trajectories in more detail"
   ]
  },
  {
   "cell_type": "code",
   "execution_count": 20,
   "metadata": {},
   "outputs": [
    {
     "data": {
      "text/plain": [
       "array([64, 65, 66, 67, 68, 69, 70, 71, 72, 73])"
      ]
     },
     "execution_count": 20,
     "metadata": {},
     "output_type": "execute_result"
    }
   ],
   "source": [
    "H_indices = AlH_struct.select_index(\"H\")\n",
    "Al_indices = AlH_struct.select_index(\"Al\")\n",
    "H_indices"
   ]
  },
  {
   "cell_type": "markdown",
   "metadata": {},
   "source": [
    "#### Plot Al trajectories in grey, H ones in red"
   ]
  },
  {
   "cell_type": "code",
   "execution_count": 21,
   "metadata": {},
   "outputs": [
    {
     "data": {
      "image/png": "[encoded data removed]",
      "text/plain": [
       "<Figure size 432x288 with 1 Axes>"
      ]
     },
     "metadata": {
      "needs_background": "light"
     },
     "output_type": "display_data"
    }
   ],
   "source": [
    "plt.plot(job_lammps.output.unwrapped_positions[:, :, 2], color=\"grey\")\n",
    "plt.plot(job_lammps.output.unwrapped_positions[:, H_indices, 2], color=\"red\")\n",
    "plt.xlabel(\"time [fs]\")\n",
    "plt.ylabel(\"positions [$\\AA$]\");"
   ]
  },
  {
   "cell_type": "markdown",
   "metadata": {},
   "source": [
    "### Visualize the last MD configuration"
   ]
  },
  {
   "cell_type": "code",
   "execution_count": 22,
   "metadata": {},
   "outputs": [
    {
     "data": {
      "application/vnd.jupyter.widget-view+json": {
       "model_id": "c4c2ee394c7f4cba989544e27df62206",
       "version_major": 2,
       "version_minor": 0
      },
      "text/plain": [
       "NGLWidget()"
      ]
     },
     "metadata": {},
     "output_type": "display_data"
    }
   ],
   "source": [
    "md_struct = job_lammps.get_structure(iteration_step=-1)\n",
    "md_struct.plot3d(particle_size=2)"
   ]
  },
  {
   "cell_type": "markdown",
   "metadata": {},
   "source": [
    "### Take the last configuration and perform structure relaxation (including cell relaxation - pressure=0)"
   ]
  },
  {
   "cell_type": "code",
   "execution_count": 23,
   "metadata": {},
   "outputs": [],
   "source": [
    "job_lammps_minimize = pr.create_job(pr.job_type.Lammps, \"AlH_minimize\")\n",
    "job_lammps_minimize.structure = md_struct"
   ]
  },
  {
   "cell_type": "code",
   "execution_count": 24,
   "metadata": {},
   "outputs": [],
   "source": [
    "job_lammps_minimize.potential = job_lammps.potential.copy() # this looks not so nice, could we take a copy of job_lammps?"
   ]
  },
  {
   "cell_type": "code",
   "execution_count": 25,
   "metadata": {},
   "outputs": [
    {
     "name": "stdout",
     "output_type": "stream",
     "text": [
      "The job AlH_minimize was saved and received the ID: 697\n"
     ]
    }
   ],
   "source": [
    "job_lammps_minimize.calc_minimize(pressure=0)\n",
    "job_lammps_minimize.run()"
   ]
  },
  {
   "cell_type": "code",
   "execution_count": 26,
   "metadata": {},
   "outputs": [
    {
     "data": {
      "image/png": "[encoded data removed]",
      "text/plain": [
       "<Figure size 432x288 with 1 Axes>"
      ]
     },
     "metadata": {
      "needs_background": "light"
     },
     "output_type": "display_data"
    }
   ],
   "source": [
    "plt.plot(job_lammps_minimize.output.volume)\n",
    "plt.title('Volume vs iteration')\n",
    "plt.ylabel('Volume [$A^3$]');"
   ]
  },
  {
   "cell_type": "code",
   "execution_count": 33,
   "metadata": {},
   "outputs": [
    {
     "data": {
      "application/vnd.jupyter.widget-view+json": {
       "model_id": "91408a78b0c7413c97cc1460641bfe31",
       "version_major": 2,
       "version_minor": 0
      },
      "text/plain": [
       "NGLWidget(max_frame=82)"
      ]
     },
     "metadata": {},
     "output_type": "display_data"
    }
   ],
   "source": [
    "job_lammps_minimize.animate_structure(particle_size=1)"
   ]
  },
  {
   "cell_type": "code",
   "execution_count": 34,
   "metadata": {},
   "outputs": [
    {
     "data": {
      "application/vnd.jupyter.widget-view+json": {
       "model_id": "06708fd23bfc41e18983e5a799d0961c",
       "version_major": 2,
       "version_minor": 0
      },
      "text/plain": [
       "NGLWidget()"
      ]
     },
     "metadata": {},
     "output_type": "display_data"
    }
   ],
   "source": [
    "job_lammps_minimize.get_structure(-1).plot3d(particle_size=2)"
   ]
  },
  {
   "cell_type": "markdown",
   "metadata": {},
   "source": [
    "Possible discussion point:\n",
    "- Cell remains orthorombic but structure looks sheared\n",
    "- Warning: Animation does not update cell!"
   ]
  },
  {
   "cell_type": "markdown",
   "metadata": {},
   "source": [
    "## Analysis"
   ]
  },
  {
   "cell_type": "markdown",
   "metadata": {},
   "source": [
    "### Plot Al-Al and H-H pair correlation function of the last MD structure"
   ]
  },
  {
   "cell_type": "code",
   "execution_count": 29,
   "metadata": {},
   "outputs": [
    {
     "data": {
      "image/png": "[encoded data removed]",
      "text/plain": [
       "<Figure size 432x288 with 1 Axes>"
      ]
     },
     "metadata": {
      "needs_background": "light"
     },
     "output_type": "display_data"
    }
   ],
   "source": [
    "neighbors_md = md_struct[Al_indices].get_neighbors(num_neighbors=100)\n",
    "plt.hist(neighbors_md.distances.flatten(), bins=50, alpha=0.3, density=True, label=\"Al-Al\")\n",
    "neighbors_md = md_struct[H_indices].get_neighbors(num_neighbors=100)\n",
    "plt.hist(neighbors_md.distances.flatten(), bins=50, alpha=0.3, density=True, label=\"H-H\")\n",
    "plt.xlabel('distance [A]')\n",
    "plt.legend();"
   ]
  },
  {
   "cell_type": "markdown",
   "metadata": {},
   "source": [
    "### Plot Al-Al and H-H pair correlation function after structure and cell relaxation "
   ]
  },
  {
   "cell_type": "code",
   "execution_count": 30,
   "metadata": {},
   "outputs": [
    {
     "data": {
      "image/png": "[encoded data removed]",
      "text/plain": [
       "<Figure size 432x288 with 1 Axes>"
      ]
     },
     "metadata": {
      "needs_background": "light"
     },
     "output_type": "display_data"
    }
   ],
   "source": [
    "min_struct = job_lammps_minimize.get_structure(-1)\n",
    "neighbors_min = min_struct[Al_indices].get_neighbors(num_neighbors=100)\n",
    "plt.hist(neighbors_min.distances.flatten(), bins=50, alpha=0.3, density=True, label=\"Al-Al\")\n",
    "neighbors_min = min_struct[H_indices].get_neighbors(num_neighbors=100)\n",
    "plt.hist(neighbors_min.distances.flatten(), bins=50, alpha=0.3, density=True, label=\"H-H\")\n",
    "plt.xlabel('distance [A]')\n",
    "plt.legend();"
   ]
  },
  {
   "cell_type": "markdown",
   "metadata": {},
   "source": [
    "### Compare Al-Al pair correlation before and after relaxation"
   ]
  },
  {
   "cell_type": "code",
   "execution_count": 35,
   "metadata": {},
   "outputs": [
    {
     "data": {
      "image/png": "[encoded data removed]",
      "text/plain": [
       "<Figure size 432x288 with 1 Axes>"
      ]
     },
     "metadata": {
      "needs_background": "light"
     },
     "output_type": "display_data"
    }
   ],
   "source": [
    "neighbors_min = min_struct[Al_indices].get_neighbors(num_neighbors=100)\n",
    "plt.hist(neighbors_min.distances.flatten(), bins=50, alpha=0.3, density=True, label=\"Al-Al min\")\n",
    "neighbors_md = md_struct[Al_indices].get_neighbors(num_neighbors=100)\n",
    "plt.hist(neighbors_md.distances.flatten(), bins=50, alpha=0.3, density=True, label=\"Al-Al md\")\n",
    "plt.legend();"
   ]
  },
  {
   "cell_type": "markdown",
   "metadata": {},
   "source": [
    "### Utility functions"
   ]
  },
  {
   "cell_type": "code",
   "execution_count": 36,
   "metadata": {},
   "outputs": [
    {
     "data": {
      "text/html": [
       "<div>\n",
       "<style scoped>\n",
       "    .dataframe tbody tr th:only-of-type {\n",
       "        vertical-align: middle;\n",
       "    }\n",
       "\n",
       "    .dataframe tbody tr th {\n",
       "        vertical-align: top;\n",
       "    }\n",
       "\n",
       "    .dataframe thead th {\n",
       "        text-align: right;\n",
       "    }\n",
       "</style>\n",
       "<table border=\"1\" class=\"dataframe\">\n",
       "  <thead>\n",
       "    <tr style=\"text-align: right;\">\n",
       "      <th></th>\n",
       "      <th>id</th>\n",
       "      <th>status</th>\n",
       "      <th>chemicalformula</th>\n",
       "      <th>job</th>\n",
       "      <th>subjob</th>\n",
       "      <th>projectpath</th>\n",
       "      <th>project</th>\n",
       "      <th>timestart</th>\n",
       "      <th>timestop</th>\n",
       "      <th>totalcputime</th>\n",
       "      <th>computer</th>\n",
       "      <th>hamilton</th>\n",
       "      <th>hamversion</th>\n",
       "      <th>parentid</th>\n",
       "      <th>masterid</th>\n",
       "    </tr>\n",
       "  </thead>\n",
       "  <tbody>\n",
       "    <tr>\n",
       "      <th>0</th>\n",
       "      <td>696</td>\n",
       "      <td>finished</td>\n",
       "      <td>Al64H10</td>\n",
       "      <td>AlH_lammps</td>\n",
       "      <td>/AlH_lammps</td>\n",
       "      <td>/home/surendralal/</td>\n",
       "      <td>notebooks/pyiron-virtual-workshop-2020/tutorials/from_joerg/demo/</td>\n",
       "      <td>2020-04-13 20:23:59.360615</td>\n",
       "      <td>2020-04-13 20:24:02.522147</td>\n",
       "      <td>3.0</td>\n",
       "      <td>pyiron@cmdell17#1</td>\n",
       "      <td>Lammps</td>\n",
       "      <td>0.1</td>\n",
       "      <td>None</td>\n",
       "      <td>None</td>\n",
       "    </tr>\n",
       "    <tr>\n",
       "      <th>1</th>\n",
       "      <td>697</td>\n",
       "      <td>finished</td>\n",
       "      <td>Al64H10</td>\n",
       "      <td>AlH_minimize</td>\n",
       "      <td>/AlH_minimize</td>\n",
       "      <td>/home/surendralal/</td>\n",
       "      <td>notebooks/pyiron-virtual-workshop-2020/tutorials/from_joerg/demo/</td>\n",
       "      <td>2020-04-13 20:25:09.050861</td>\n",
       "      <td>2020-04-13 20:25:13.540508</td>\n",
       "      <td>4.0</td>\n",
       "      <td>pyiron@cmdell17#1</td>\n",
       "      <td>Lammps</td>\n",
       "      <td>0.1</td>\n",
       "      <td>None</td>\n",
       "      <td>None</td>\n",
       "    </tr>\n",
       "  </tbody>\n",
       "</table>\n",
       "</div>"
      ],
      "text/plain": [
       "    id    status chemicalformula           job         subjob  \\\n",
       "0  696  finished         Al64H10    AlH_lammps    /AlH_lammps   \n",
       "1  697  finished         Al64H10  AlH_minimize  /AlH_minimize   \n",
       "\n",
       "          projectpath  \\\n",
       "0  /home/surendralal/   \n",
       "1  /home/surendralal/   \n",
       "\n",
       "                                                             project  \\\n",
       "0  notebooks/pyiron-virtual-workshop-2020/tutorials/from_joerg/demo/   \n",
       "1  notebooks/pyiron-virtual-workshop-2020/tutorials/from_joerg/demo/   \n",
       "\n",
       "                   timestart                   timestop  totalcputime  \\\n",
       "0 2020-04-13 20:23:59.360615 2020-04-13 20:24:02.522147           3.0   \n",
       "1 2020-04-13 20:25:09.050861 2020-04-13 20:25:13.540508           4.0   \n",
       "\n",
       "            computer hamilton hamversion parentid masterid  \n",
       "0  pyiron@cmdell17#1   Lammps        0.1     None     None  \n",
       "1  pyiron@cmdell17#1   Lammps        0.1     None     None  "
      ]
     },
     "execution_count": 36,
     "metadata": {},
     "output_type": "execute_result"
    }
   ],
   "source": [
    "pr.job_table()"
   ]
  },
  {
   "cell_type": "code",
   "execution_count": 37,
   "metadata": {},
   "outputs": [],
   "source": [
    "job_md_reloaded = pr.load(\"AlH_lammps\")"
   ]
  },
  {
   "cell_type": "code",
   "execution_count": 38,
   "metadata": {},
   "outputs": [],
   "source": [
    "job_min_reloaded = pr.load(\"AlH_minimize\")"
   ]
  },
  {
   "cell_type": "code",
   "execution_count": 39,
   "metadata": {},
   "outputs": [
    {
     "data": {
      "text/plain": [
       "{'groups': ['input', 'output'], 'nodes': ['NAME', 'TYPE', 'VERSION', 'server', 'status']}"
      ]
     },
     "execution_count": 39,
     "metadata": {},
     "output_type": "execute_result"
    }
   ],
   "source": [
    "job_min_reloaded"
   ]
  },
  {
   "cell_type": "code",
   "execution_count": 40,
   "metadata": {},
   "outputs": [
    {
     "data": {
      "text/plain": [
       "{'groups': [], 'nodes': ['AlH_lammps', 'AlH_minimize']}"
      ]
     },
     "execution_count": 40,
     "metadata": {},
     "output_type": "execute_result"
    }
   ],
   "source": [
    "pr"
   ]
  },
  {
   "cell_type": "code",
   "execution_count": 41,
   "metadata": {},
   "outputs": [
    {
     "data": {
      "text/plain": [
       "{'groups': ['input', 'output'], 'nodes': ['NAME', 'TYPE', 'VERSION', 'server', 'status']}"
      ]
     },
     "execution_count": 41,
     "metadata": {},
     "output_type": "execute_result"
    }
   ],
   "source": [
    "pr[\"AlH_lammps\"]"
   ]
  },
  {
   "cell_type": "code",
   "execution_count": 42,
   "metadata": {},
   "outputs": [
    {
     "data": {
      "text/plain": [
       "{'groups': ['control_inp', 'generic', 'potential', 'potential_inp', 'structure'], 'nodes': ['generic_dict', 'interactive']}"
      ]
     },
     "execution_count": 42,
     "metadata": {},
     "output_type": "execute_result"
    }
   ],
   "source": [
    "pr[\"AlH_lammps/input\"]"
   ]
  },
  {
   "cell_type": "code",
   "execution_count": 43,
   "metadata": {},
   "outputs": [
    {
     "data": {
      "text/plain": [
       "((101, 74, 3), (101,))"
      ]
     },
     "execution_count": 43,
     "metadata": {},
     "output_type": "execute_result"
    }
   ],
   "source": [
    "pr[\"AlH_lammps/output/generic/forces\"].shape,  pr[\"AlH_lammps/output/generic/energy_tot\"].shape"
   ]
  },
  {
   "cell_type": "markdown",
   "metadata": {
    "toc-hr-collapsed": true,
    "toc-nb-collapsed": true
   },
   "source": [
    "## Murnaghan using LAMMPS\n",
    "\n",
    "Hint: use for loops and calc_minimize"
   ]
  },
  {
   "cell_type": "code",
   "execution_count": null,
   "metadata": {},
   "outputs": [],
   "source": []
  }
 ],
 "metadata": {
  "kernelspec": {
   "display_name": "Python 3",
   "language": "python",
   "name": "python3"
  },
  "language_info": {
   "codemirror_mode": {
    "name": "ipython",
    "version": 3
   },
   "file_extension": ".py",
   "mimetype": "text/x-python",
   "name": "python",
   "nbconvert_exporter": "python",
   "pygments_lexer": "ipython3",
   "version": "3.7.7"
  },
  "toc": {
   "base_numbering": 1,
   "nav_menu": {},
   "number_sections": true,
   "sideBar": true,
   "skip_h1_title": false,
   "title_cell": "Table of Contents",
   "title_sidebar": "Contents",
   "toc_cell": false,
   "toc_position": {},
   "toc_section_display": true,
   "toc_window_display": false
  },
  "toc-autonumbering": true,
  "toc-showcode": false,
  "toc-showmarkdowntxt": true,
  "toc-showtags": false
 },
 "nbformat": 4,
 "nbformat_minor": 4
}
